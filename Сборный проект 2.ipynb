{
 "cells": [
  {
   "cell_type": "markdown",
   "metadata": {},
   "source": [
    "<div style=\"border:solid Purple 2px; padding: 40px\">\n",
    "\n",
    "<b>Привет, Иван!👋\n",
    "\n",
    "Меня зовут Эльвира, я буду ревьюером твоего проекта. Предлагаю общаться на «ты», но если это не удобно - дай мне знать, и мы перейдем на «вы».\n",
    "\n",
    "\n",
    "Ты можешь найти мои комментарии, обозначенные <font color='green'>зеленым</font>, <font color='gold'>желтым</font> и <font color='red'>красным</font> цветами, например:\n",
    "\n",
    "\n",
    "<div class=\"alert alert-success\">\n",
    "<h2> Комментарий ревьюера 😊<a class=\"tocSkip\"> </h2>\n",
    "    \n",
    "Такими комментариями я буду помечать отлично проделаную работу😉\n",
    "</div>\n",
    "    \n",
    "<div class=\"alert alert-warning\">\n",
    "<h2> Комментарий ревьюера 🤓<a class=\"tocSkip\"> </h2>\n",
    "        \n",
    "В таких комментариях я постараюсь подсказать тебе более элегантное или легкое решение, некоторые хитрости и фишки. Части проекта, помеченные такими комментариями, можно не исправлять, но рекомендую обратить на них внимание.</div>\n",
    "\n",
    "<div class=\"alert alert-block alert-danger\">\n",
    "<h2> Комментарий ревьюера ⛔️<a class=\"tocSkip\"></h2>\n",
    "    \n",
    "В случае, когда решение на отдельном шаге требует существенной переработки и внесения правок. Если ты видишь такой комментарий, значит здесть есть недочет, который следует исправить.\n",
    "</div>\n",
    "\n",
    "Ты также можешь реагировать на мои комментарии своими, выделяя их цветами и наиболее понравившимся тебе способом оформления, но явно  отличающимся от моих комментариев. Это нужно, чтобы не создавалась путаница🙃\n",
    "    \n",
    "`<div class=\"alert alert-info\"> <b>Комментарий студента:</b> Например, вот так.</div>`\n",
    "\n",
    "Чтобы сделать подобный блок, кликни здесь дважды и скопируй всю предыдущую строку ;)\n",
    "    \n",
    "Пожалуйста, не удаляй и не перемещай мои комментарии, они будут особенно полезны для нашей работы в случае повторной проверки проекта.</div></b>"
   ]
  },
  {
   "cell_type": "markdown",
   "metadata": {},
   "source": [
    "# Анализ поведения пользователей и A/A/B-эксперимент в приложении для покупки продуктов"
   ]
  },
  {
   "cell_type": "markdown",
   "metadata": {},
   "source": [
    "\n",
    "**Общий анализ**\n",
    " \n",
    "В этом проекте мы анализируем поведение пользователей мобильного приложения стартапа, который продает продукты питания. Основная цель - изучить воронку продаж и определить, на каких этапах пользователи задерживаются и где возникают проблемы. Мы хотим понять, сколько пользователей доходят до покупки, а на каких шагах они \"застревают\".\n",
    "\n",
    " **A/A/B-эксперимент**\n",
    "Параллельно с общей аналитикой проводим A/A/B-эксперимент, чтобы оценить влияние изменения шрифтов в приложении на пользовательский опыт. Дизайнеры предложили новые шрифты, но менеджеры обеспокоены возможными негативными реакциями пользователей. Для эксперимента пользователи разбиты на три группы: две контрольные группы со старыми шрифтами (A1 и A2) и одна экспериментальная группа с новыми шрифтами (B).\n",
    "\n",
    "**Цель эксперимента** - определить, есть ли значимые различия в поведении пользователей между группами, чтобы принять обоснованное решение о смене шрифтов.\n",
    "\n",
    "**Важность двух контрольных групп**\n",
    "Наличие двух контрольных групп помогает проверить надежность эксперимента. Равенство значений между A1 и A2 гарантирует точность теста, а их различие может выявить скрытые факторы, влияющие на результаты. Сравнение контрольных групп также помогает определить необходимое количество времени и данных для проведения будущих тестов.\n",
    "\n",
    "**Данные для анализа**\n",
    "Для общей аналитики и A/A/B-эксперимента используются одни и те же данные, отражающие реальное поведение пользователей в приложении.\n",
    "\n",
    "Эта структура позволит нам всесторонне исследовать поведение пользователей и объективно оценить влияние предлагаемых изменений, обеспечив качественное улучшение опыта взаимодействия с приложением."
   ]
  },
  {
   "cell_type": "markdown",
   "metadata": {},
   "source": [
    "**Описание данных**\n",
    "Каждая запись в логе — это действие пользователя, или событие.\n",
    "\n",
    " - EventName — название события;\n",
    "\n",
    " - DeviceIDHash — уникальный идентификатор пользователя;\n",
    "\n",
    " - EventTimestamp — время события;\n",
    "\n",
    " - ExpId — номер эксперимента: 246 и 247 — контрольные группы, а 248 — экспериментальная."
   ]
  },
  {
   "cell_type": "markdown",
   "metadata": {},
   "source": [
    "**Cтруктура проекта**\n",
    "\n",
    "**Шаг 1. Откройте файл с данными и изучите общую информацию**\n",
    "\n",
    "**Шаг 2. Подготовьте данные**\n",
    "\n",
    " - Замените названия столбцов на удобные для вас;\n",
    " \n",
    " - Проверьте пропуски и типы данных. Откорректируйте, если нужно;\n",
    " \n",
    " - Добавьте столбец даты и времени, а также отдельный столбец дат;\n",
    " \n",
    "**Шаг 3. Изучите и проверьте данные**\n",
    "\n",
    " - Сколько всего событий в логе?\n",
    " \n",
    " - Сколько всего пользователей в логе?\n",
    " \n",
    " - Сколько в среднем событий приходится на пользователя?\n",
    "\n",
    " - Данными за какой период вы располагаете? Найдите максимальную и минимальную дату. Изучите, как меняется количество данных: постройте столбчатую диаграмму, которая отобразит количество событий в зависимости от времени в разрезе групп. Можно ли быть уверенным, что у вас одинаково полные данные за весь период? Технически в логи новых дней по некоторым пользователям могут «доезжать» события из прошлого — это может «перекашивать данные». Определите, с какого момента данные полные и отбросьте более старые. Данными за какой период времени вы располагаете на самом деле?\n",
    "\n",
    " - Много ли событий и пользователей вы потеряли, отбросив старые данные?\n",
    "\n",
    " - Проверьте, что у вас есть пользователи из всех трёх экспериментальных групп.\n",
    "\n",
    "**Шаг 4. Изучите воронку событий**\n",
    "\n",
    " - Посмотрите, какие события есть в логах, как часто они встречаются. Отсортируйте события по частоте.\n",
    "\n",
    " - Посчитайте, сколько пользователей совершали каждое из этих событий. Отсортируйте события по числу пользователей. Посчитайте долю пользователей, которые хоть раз совершали событие.\n",
    "\n",
    " - Предположите, в каком порядке происходят события. Все ли они выстраиваются в последовательную цепочку? Их не нужно учитывать при расчёте воронки.\n",
    "\n",
    " - По воронке событий посчитайте, какая доля пользователей проходит на следующий шаг воронки (от числа пользователей на предыдущем). То есть для последовательности событий A → B → C посчитайте отношение числа пользователей с событием B к количеству пользователей с событием A, а также отношение числа пользователей с событием C к количеству пользователей с событием B.\n",
    "\n",
    " - На каком шаге теряете больше всего пользователей?\n",
    "\n",
    " - Какая доля пользователей доходит от первого события до оплаты?\n",
    "\n",
    "**Шаг 5. Изучите результаты эксперимента**\n",
    "\n",
    " - Сколько пользователей в каждой экспериментальной группе?\n",
    "\n",
    " - Есть 2 контрольные группы для А/А-эксперимента, чтобы проверить корректность всех механизмов и расчётов. Проверьте, находят ли статистические критерии разницу между выборками 246 и 247.\n",
    "\n",
    " -  - Выберите самое популярное событие. Посчитайте число пользователей, совершивших это событие в каждой из контрольных групп. Посчитайте долю пользователей, совершивших это событие. Проверьте, будет ли отличие между группами статистически достоверным. Проделайте то же самое для всех других событий (удобно обернуть проверку в отдельную функцию). Можно ли сказать, что разбиение на группы работает корректно?\n",
    "\n",
    " - Аналогично поступите с группой с изменённым шрифтом. Сравните результаты с каждой из контрольных групп в отдельности по каждому событию. Сравните результаты с объединённой контрольной группой. Какие выводы из эксперимента можно сделать?\n",
    "\n",
    " - Какой уровень значимости вы выбрали при проверке статистических гипотез выше? Посчитайте, сколько проверок статистических гипотез вы сделали. При уровне значимости 0.1 в 10% случаев можно ошибочно отклонить нулевую гипотезу при условии, что она верна. Какой уровень значимости стоит применить? Если вы хотите изменить его, проделайте предыдущие пункты и проверьте свои выводы."
   ]
  },
  {
   "cell_type": "markdown",
   "metadata": {},
   "source": [
    "<div class=\"alert alert-success\">\n",
    "<h2> Комментарий ревьюера 😊<a class=\"tocSkip\"> </h2>\n",
    "    \n",
    "Очень здорово, что ты начинаешь проект с такого подробного введения, так держать!\n",
    "</div>"
   ]
  },
  {
   "cell_type": "markdown",
   "metadata": {},
   "source": [
    "## Шаг открываем файл с данными и изучаем общую информацию"
   ]
  },
  {
   "cell_type": "code",
   "execution_count": 1,
   "metadata": {},
   "outputs": [],
   "source": [
    "import pandas as pd\n",
    "import matplotlib.pyplot as plt\n",
    "import numpy as np\n",
    "import seaborn as sns\n",
    "from datetime import datetime, timedelta\n",
    "from scipy import stats as st\n",
    "import math as mth\n",
    "import statsmodels.api as sm"
   ]
  },
  {
   "cell_type": "markdown",
   "metadata": {},
   "source": [
    "<div class=\"alert alert-success\">\n",
    "<h2> Комментарий ревьюера 😊<a class=\"tocSkip\"> </h2>\n",
    "\n",
    "Молодец, что загружаешь все библиотеки в начале проекта. Так сложней случайно удалить ячейку с загрузкой нужной библиотеки и сделать код не работающим. А получатель отчета сразу поймет, какие библиотеки ты используешь и какие ему нужно установить для запуска проекта.\n",
    "\n",
    "</div>"
   ]
  },
  {
   "cell_type": "code",
   "execution_count": 2,
   "metadata": {},
   "outputs": [],
   "source": [
    "#cохраняем данные в переменную proect\n",
    "proect = pd.read_csv('/datasets/logs_exp.csv', sep = '\\t')"
   ]
  },
  {
   "cell_type": "code",
   "execution_count": 3,
   "metadata": {},
   "outputs": [
    {
     "data": {
      "text/html": [
       "<div>\n",
       "<style scoped>\n",
       "    .dataframe tbody tr th:only-of-type {\n",
       "        vertical-align: middle;\n",
       "    }\n",
       "\n",
       "    .dataframe tbody tr th {\n",
       "        vertical-align: top;\n",
       "    }\n",
       "\n",
       "    .dataframe thead th {\n",
       "        text-align: right;\n",
       "    }\n",
       "</style>\n",
       "<table border=\"1\" class=\"dataframe\">\n",
       "  <thead>\n",
       "    <tr style=\"text-align: right;\">\n",
       "      <th></th>\n",
       "      <th>EventName</th>\n",
       "      <th>DeviceIDHash</th>\n",
       "      <th>EventTimestamp</th>\n",
       "      <th>ExpId</th>\n",
       "    </tr>\n",
       "  </thead>\n",
       "  <tbody>\n",
       "    <tr>\n",
       "      <th>0</th>\n",
       "      <td>MainScreenAppear</td>\n",
       "      <td>4575588528974610257</td>\n",
       "      <td>1564029816</td>\n",
       "      <td>246</td>\n",
       "    </tr>\n",
       "    <tr>\n",
       "      <th>1</th>\n",
       "      <td>MainScreenAppear</td>\n",
       "      <td>7416695313311560658</td>\n",
       "      <td>1564053102</td>\n",
       "      <td>246</td>\n",
       "    </tr>\n",
       "    <tr>\n",
       "      <th>2</th>\n",
       "      <td>PaymentScreenSuccessful</td>\n",
       "      <td>3518123091307005509</td>\n",
       "      <td>1564054127</td>\n",
       "      <td>248</td>\n",
       "    </tr>\n",
       "    <tr>\n",
       "      <th>3</th>\n",
       "      <td>CartScreenAppear</td>\n",
       "      <td>3518123091307005509</td>\n",
       "      <td>1564054127</td>\n",
       "      <td>248</td>\n",
       "    </tr>\n",
       "    <tr>\n",
       "      <th>4</th>\n",
       "      <td>PaymentScreenSuccessful</td>\n",
       "      <td>6217807653094995999</td>\n",
       "      <td>1564055322</td>\n",
       "      <td>248</td>\n",
       "    </tr>\n",
       "    <tr>\n",
       "      <th>5</th>\n",
       "      <td>CartScreenAppear</td>\n",
       "      <td>6217807653094995999</td>\n",
       "      <td>1564055323</td>\n",
       "      <td>248</td>\n",
       "    </tr>\n",
       "    <tr>\n",
       "      <th>6</th>\n",
       "      <td>OffersScreenAppear</td>\n",
       "      <td>8351860793733343758</td>\n",
       "      <td>1564066242</td>\n",
       "      <td>246</td>\n",
       "    </tr>\n",
       "    <tr>\n",
       "      <th>7</th>\n",
       "      <td>MainScreenAppear</td>\n",
       "      <td>5682100281902512875</td>\n",
       "      <td>1564085677</td>\n",
       "      <td>246</td>\n",
       "    </tr>\n",
       "    <tr>\n",
       "      <th>8</th>\n",
       "      <td>MainScreenAppear</td>\n",
       "      <td>1850981295691852772</td>\n",
       "      <td>1564086702</td>\n",
       "      <td>247</td>\n",
       "    </tr>\n",
       "    <tr>\n",
       "      <th>9</th>\n",
       "      <td>MainScreenAppear</td>\n",
       "      <td>5407636962369102641</td>\n",
       "      <td>1564112112</td>\n",
       "      <td>246</td>\n",
       "    </tr>\n",
       "  </tbody>\n",
       "</table>\n",
       "</div>"
      ],
      "text/plain": [
       "                 EventName         DeviceIDHash  EventTimestamp  ExpId\n",
       "0         MainScreenAppear  4575588528974610257      1564029816    246\n",
       "1         MainScreenAppear  7416695313311560658      1564053102    246\n",
       "2  PaymentScreenSuccessful  3518123091307005509      1564054127    248\n",
       "3         CartScreenAppear  3518123091307005509      1564054127    248\n",
       "4  PaymentScreenSuccessful  6217807653094995999      1564055322    248\n",
       "5         CartScreenAppear  6217807653094995999      1564055323    248\n",
       "6       OffersScreenAppear  8351860793733343758      1564066242    246\n",
       "7         MainScreenAppear  5682100281902512875      1564085677    246\n",
       "8         MainScreenAppear  1850981295691852772      1564086702    247\n",
       "9         MainScreenAppear  5407636962369102641      1564112112    246"
      ]
     },
     "execution_count": 3,
     "metadata": {},
     "output_type": "execute_result"
    }
   ],
   "source": [
    "# выводим 10 строк данных\n",
    "proect.head(10)"
   ]
  },
  {
   "cell_type": "code",
   "execution_count": 4,
   "metadata": {},
   "outputs": [
    {
     "name": "stdout",
     "output_type": "stream",
     "text": [
      "<class 'pandas.core.frame.DataFrame'>\n",
      "RangeIndex: 244126 entries, 0 to 244125\n",
      "Data columns (total 4 columns):\n",
      " #   Column          Non-Null Count   Dtype \n",
      "---  ------          --------------   ----- \n",
      " 0   EventName       244126 non-null  object\n",
      " 1   DeviceIDHash    244126 non-null  int64 \n",
      " 2   EventTimestamp  244126 non-null  int64 \n",
      " 3   ExpId           244126 non-null  int64 \n",
      "dtypes: int64(3), object(1)\n",
      "memory usage: 7.5+ MB\n"
     ]
    }
   ],
   "source": [
    "# Получим общую информацию\n",
    "proect.info()"
   ]
  },
  {
   "cell_type": "markdown",
   "metadata": {},
   "source": [
    "**Вывод по 1 Шагу**:  данные загружены , получена общая информация"
   ]
  },
  {
   "cell_type": "markdown",
   "metadata": {},
   "source": [
    "<div class=\"alert alert-warning\">\n",
    "<h2> Комментарий ревьюера 🤓<a class=\"tocSkip\"> </h2>\n",
    "    \n",
    "Сразу после получения информации о таблице, будет здорово сформулировать вывод: проверить типы данных, а также важно понять, что по пропущенным значениям.\n",
    "</div>"
   ]
  },
  {
   "cell_type": "markdown",
   "metadata": {},
   "source": [
    "## Шаг. Подготовка данных"
   ]
  },
  {
   "cell_type": "code",
   "execution_count": 5,
   "metadata": {},
   "outputs": [],
   "source": [
    "# Переименовываем столбцы\n",
    "proect.columns = ['event_name', 'user_id', 'date_time', 'group']"
   ]
  },
  {
   "cell_type": "code",
   "execution_count": 6,
   "metadata": {},
   "outputs": [],
   "source": [
    "# Преобразуем данные в столбце date_time\n",
    "proect['date_time'] = pd.to_datetime(proect['date_time'], unit='s')"
   ]
  },
  {
   "cell_type": "code",
   "execution_count": 7,
   "metadata": {},
   "outputs": [],
   "source": [
    "# Добавляем новый столбец 'date', преобразовав 'dt' в формат даты\n",
    "proect['date'] = proect['date_time'].dt.strftime('%Y-%m-%d')"
   ]
  },
  {
   "cell_type": "code",
   "execution_count": 8,
   "metadata": {},
   "outputs": [
    {
     "data": {
      "text/html": [
       "<div>\n",
       "<style scoped>\n",
       "    .dataframe tbody tr th:only-of-type {\n",
       "        vertical-align: middle;\n",
       "    }\n",
       "\n",
       "    .dataframe tbody tr th {\n",
       "        vertical-align: top;\n",
       "    }\n",
       "\n",
       "    .dataframe thead th {\n",
       "        text-align: right;\n",
       "    }\n",
       "</style>\n",
       "<table border=\"1\" class=\"dataframe\">\n",
       "  <thead>\n",
       "    <tr style=\"text-align: right;\">\n",
       "      <th></th>\n",
       "      <th>event_name</th>\n",
       "      <th>user_id</th>\n",
       "      <th>date_time</th>\n",
       "      <th>group</th>\n",
       "      <th>date</th>\n",
       "    </tr>\n",
       "  </thead>\n",
       "  <tbody>\n",
       "    <tr>\n",
       "      <th>0</th>\n",
       "      <td>MainScreenAppear</td>\n",
       "      <td>4575588528974610257</td>\n",
       "      <td>2019-07-25 04:43:36</td>\n",
       "      <td>246</td>\n",
       "      <td>2019-07-25</td>\n",
       "    </tr>\n",
       "    <tr>\n",
       "      <th>1</th>\n",
       "      <td>MainScreenAppear</td>\n",
       "      <td>7416695313311560658</td>\n",
       "      <td>2019-07-25 11:11:42</td>\n",
       "      <td>246</td>\n",
       "      <td>2019-07-25</td>\n",
       "    </tr>\n",
       "    <tr>\n",
       "      <th>2</th>\n",
       "      <td>PaymentScreenSuccessful</td>\n",
       "      <td>3518123091307005509</td>\n",
       "      <td>2019-07-25 11:28:47</td>\n",
       "      <td>248</td>\n",
       "      <td>2019-07-25</td>\n",
       "    </tr>\n",
       "    <tr>\n",
       "      <th>3</th>\n",
       "      <td>CartScreenAppear</td>\n",
       "      <td>3518123091307005509</td>\n",
       "      <td>2019-07-25 11:28:47</td>\n",
       "      <td>248</td>\n",
       "      <td>2019-07-25</td>\n",
       "    </tr>\n",
       "    <tr>\n",
       "      <th>4</th>\n",
       "      <td>PaymentScreenSuccessful</td>\n",
       "      <td>6217807653094995999</td>\n",
       "      <td>2019-07-25 11:48:42</td>\n",
       "      <td>248</td>\n",
       "      <td>2019-07-25</td>\n",
       "    </tr>\n",
       "  </tbody>\n",
       "</table>\n",
       "</div>"
      ],
      "text/plain": [
       "                event_name              user_id           date_time  group  \\\n",
       "0         MainScreenAppear  4575588528974610257 2019-07-25 04:43:36    246   \n",
       "1         MainScreenAppear  7416695313311560658 2019-07-25 11:11:42    246   \n",
       "2  PaymentScreenSuccessful  3518123091307005509 2019-07-25 11:28:47    248   \n",
       "3         CartScreenAppear  3518123091307005509 2019-07-25 11:28:47    248   \n",
       "4  PaymentScreenSuccessful  6217807653094995999 2019-07-25 11:48:42    248   \n",
       "\n",
       "         date  \n",
       "0  2019-07-25  \n",
       "1  2019-07-25  \n",
       "2  2019-07-25  \n",
       "3  2019-07-25  \n",
       "4  2019-07-25  "
      ]
     },
     "execution_count": 8,
     "metadata": {},
     "output_type": "execute_result"
    }
   ],
   "source": [
    "# Выведем первые 5 строк \n",
    "proect.head(5)"
   ]
  },
  {
   "cell_type": "code",
   "execution_count": 9,
   "metadata": {},
   "outputs": [
    {
     "data": {
      "text/plain": [
       "event_name    0\n",
       "user_id       0\n",
       "date_time     0\n",
       "group         0\n",
       "date          0\n",
       "dtype: int64"
      ]
     },
     "execution_count": 9,
     "metadata": {},
     "output_type": "execute_result"
    }
   ],
   "source": [
    "# Проверим кол-во пропущенных значений\n",
    "proect.isna().sum()"
   ]
  },
  {
   "cell_type": "code",
   "execution_count": 10,
   "metadata": {},
   "outputs": [
    {
     "data": {
      "text/plain": [
       "413"
      ]
     },
     "execution_count": 10,
     "metadata": {},
     "output_type": "execute_result"
    }
   ],
   "source": [
    "#Проверка на дубликаты\n",
    "proect.duplicated().sum()"
   ]
  },
  {
   "cell_type": "markdown",
   "metadata": {},
   "source": [
    "<div class=\"alert alert-warning\">\n",
    "<h2> Комментарий ревьюера 🤓<a class=\"tocSkip\"> </h2>\n",
    "\n",
    "Важно посчитать не только количество, но и долю дубликатов, чтобы понимать какую часть данных они занимают. </div>"
   ]
  },
  {
   "cell_type": "code",
   "execution_count": 11,
   "metadata": {},
   "outputs": [],
   "source": [
    "#удалим явные дубликаты:\n",
    "proect = proect.drop_duplicates().reset_index(drop=True)"
   ]
  },
  {
   "cell_type": "code",
   "execution_count": 12,
   "metadata": {},
   "outputs": [
    {
     "data": {
      "text/plain": [
       "0"
      ]
     },
     "execution_count": 12,
     "metadata": {},
     "output_type": "execute_result"
    }
   ],
   "source": [
    "proect.duplicated().sum()"
   ]
  },
  {
   "cell_type": "markdown",
   "metadata": {},
   "source": [
    "**Вывод по 2 Шагу:**  Переименовали столлбцы, преобразованы данные в date_time, добавлен стобец date, произведена проверка на дубликаты и пропуски, явные дубликаты удалены, данные готовы к анализу"
   ]
  },
  {
   "cell_type": "markdown",
   "metadata": {},
   "source": [
    "<div class=\"alert alert-success\">\n",
    "<h2> Комментарий ревьюера 😊 <a class=\"tocSkip\"> </h2>\n",
    "\n",
    "Блок предобработки выполнен хорошо: необходимые столбцы добавлены, названия скорректированы, есть проверка на пропуски и дубликаты, молодец)\n",
    "</div>"
   ]
  },
  {
   "cell_type": "markdown",
   "metadata": {},
   "source": [
    "## Шаг изучаем и проверяем данные"
   ]
  },
  {
   "cell_type": "code",
   "execution_count": 13,
   "metadata": {},
   "outputs": [
    {
     "data": {
      "text/plain": [
       "243713"
      ]
     },
     "execution_count": 13,
     "metadata": {},
     "output_type": "execute_result"
    }
   ],
   "source": [
    "# Сколько всего событий в логе?\n",
    "proect['event_name'].count()"
   ]
  },
  {
   "cell_type": "markdown",
   "metadata": {},
   "source": [
    "Как мы видим, всего событий в логе - 244 126"
   ]
  },
  {
   "cell_type": "code",
   "execution_count": 14,
   "metadata": {},
   "outputs": [
    {
     "data": {
      "text/plain": [
       "7551"
      ]
     },
     "execution_count": 14,
     "metadata": {},
     "output_type": "execute_result"
    }
   ],
   "source": [
    "# Сколько всего пользователей в логе?\n",
    "proect['user_id'].nunique()"
   ]
  },
  {
   "cell_type": "markdown",
   "metadata": {},
   "source": [
    "Пользователей в  логе - 7 551"
   ]
  },
  {
   "cell_type": "code",
   "execution_count": 15,
   "metadata": {},
   "outputs": [
    {
     "data": {
      "text/plain": [
       "20.0"
      ]
     },
     "execution_count": 15,
     "metadata": {},
     "output_type": "execute_result"
    }
   ],
   "source": [
    "# Посчитаем.сколько в среднем, приходится событий на 1 пользователя\n",
    "proect.groupby('user_id')['event_name'].agg('count').median()"
   ]
  },
  {
   "cell_type": "markdown",
   "metadata": {},
   "source": [
    "<div class=\"alert alert-warning\">\n",
    "<h2> Комментарий ревьюера 🤓<a class=\"tocSkip\"> </h2>\n",
    "    \n",
    "Также в качестве дополнительного исследования можно проверить, например, существование аномальных пользователей, которые совершали очень много событий:\n",
    "\n",
    "1. Построить гистограмму\n",
    "2. Использовать метод `describe()`.\n",
    "\n"
   ]
  },
  {
   "cell_type": "code",
   "execution_count": 16,
   "metadata": {},
   "outputs": [
    {
     "name": "stdout",
     "output_type": "stream",
     "text": [
      "2019-07-25\n"
     ]
    }
   ],
   "source": [
    "#минимальная дата:\n",
    "print(proect['date'].min())"
   ]
  },
  {
   "cell_type": "code",
   "execution_count": 17,
   "metadata": {},
   "outputs": [
    {
     "name": "stdout",
     "output_type": "stream",
     "text": [
      "2019-08-07\n"
     ]
    }
   ],
   "source": [
    "#максимальная дата:\n",
    "print(proect['date'].max())"
   ]
  },
  {
   "cell_type": "code",
   "execution_count": 18,
   "metadata": {
    "scrolled": false
   },
   "outputs": [
    {
     "data": {
      "image/png": "[encoded data removed]",
      "text/plain": [
       "<Figure size 1080x720 with 1 Axes>"
      ]
     },
     "metadata": {
      "needs_background": "light"
     },
     "output_type": "display_data"
    }
   ],
   "source": [
    "#построим гистограмму:\n",
    "proect['date'].hist(bins=100,  figsize=(15, 10))\n",
    "plt.title('Распределение событий по дате')\n",
    "plt.ylabel('Количество событий')\n",
    "plt.xlabel('Дата')\n",
    "plt.show()"
   ]
  },
  {
   "cell_type": "code",
   "execution_count": 19,
   "metadata": {},
   "outputs": [
    {
     "data": {
      "image/png": "[encoded data removed]",
      "text/plain": [
       "<Figure size 1080x720 with 1 Axes>"
      ]
     },
     "metadata": {
      "needs_background": "light"
     },
     "output_type": "display_data"
    }
   ],
   "source": [
    "# Теперь группируем данные по датам и группам\n",
    "grouped = proect.groupby(['date', 'group']).size().unstack(fill_value=0)\n",
    "\n",
    "# Строим столбчатую диаграмму\n",
    "grouped.plot(kind='bar', stacked=True, figsize=(15, 10))\n",
    "\n",
    "# Добавляем заголовок и подписи осей\n",
    "plt.title('Распределение событий по датам с разбивкой по группам')\n",
    "plt.ylabel('Количество событий')\n",
    "plt.xlabel('Дата')\n",
    "\n",
    "# Отображаем диаграмму\n",
    "plt.show()"
   ]
  },
  {
   "cell_type": "markdown",
   "metadata": {},
   "source": [
    "<div class=\"alert alert-block alert-danger\">\n",
    "<h2> Комментарий ревьюера ⛔️<a class=\"tocSkip\"></h2>\n",
    "   <s>\n",
    "Только нам нужно построить распределение кол-ва событий через столбчатую диаграмму с разбивкой по группам. Давай дополним)"
   ]
  },
  {
   "cell_type": "markdown",
   "metadata": {},
   "source": [
    "<div class=\"alert alert-info\"> <b>Комментарий студента:</b> Сделал)</div>"
   ]
  },
  {
   "cell_type": "markdown",
   "metadata": {},
   "source": [
    "<div class=\"alert alert-success\">\n",
    "<h2> Комментарий ревьюера 😊 v_2 <a class=\"tocSkip\"> </h2>\n",
    "\n",
    "Верно)"
   ]
  },
  {
   "cell_type": "markdown",
   "metadata": {},
   "source": [
    "Исходя из гистаграммы, можем предположить,что полные данные начинаются с 01.08.2019"
   ]
  },
  {
   "cell_type": "code",
   "execution_count": 20,
   "metadata": {},
   "outputs": [],
   "source": [
    "#отбросим период с неполными датами:\n",
    "proect_gd= proect.query('date >= \"2019-08-01\"')"
   ]
  },
  {
   "cell_type": "markdown",
   "metadata": {},
   "source": [
    "<div class=\"alert alert-success\">\n",
    "<h2> Комментарий ревьюера 😊<a class=\"tocSkip\"> </h2>\n",
    "    \n",
    "Верно)"
   ]
  },
  {
   "cell_type": "code",
   "execution_count": 21,
   "metadata": {},
   "outputs": [
    {
     "data": {
      "text/plain": [
       "2826"
      ]
     },
     "execution_count": 21,
     "metadata": {},
     "output_type": "execute_result"
    }
   ],
   "source": [
    "#посчитаем потерю событий:\n",
    "len(proect) - len(proect_gd)"
   ]
  },
  {
   "cell_type": "code",
   "execution_count": 22,
   "metadata": {},
   "outputs": [
    {
     "name": "stdout",
     "output_type": "stream",
     "text": [
      "доля потерянных событий 1.2%\n"
     ]
    }
   ],
   "source": [
    "print(f\"доля потерянных событий {(len(proect) - len(proect_gd))/len(proect):.1%}\")"
   ]
  },
  {
   "cell_type": "code",
   "execution_count": 23,
   "metadata": {},
   "outputs": [
    {
     "data": {
      "text/plain": [
       "17"
      ]
     },
     "execution_count": 23,
     "metadata": {},
     "output_type": "execute_result"
    }
   ],
   "source": [
    "#посчитаем потерю пользователей:\n",
    "proect['user_id'].nunique()-proect_gd['user_id'].nunique()"
   ]
  },
  {
   "cell_type": "code",
   "execution_count": 24,
   "metadata": {
    "scrolled": true
   },
   "outputs": [
    {
     "data": {
      "text/html": [
       "<div>\n",
       "<style scoped>\n",
       "    .dataframe tbody tr th:only-of-type {\n",
       "        vertical-align: middle;\n",
       "    }\n",
       "\n",
       "    .dataframe tbody tr th {\n",
       "        vertical-align: top;\n",
       "    }\n",
       "\n",
       "    .dataframe thead th {\n",
       "        text-align: right;\n",
       "    }\n",
       "</style>\n",
       "<table border=\"1\" class=\"dataframe\">\n",
       "  <thead>\n",
       "    <tr style=\"text-align: right;\">\n",
       "      <th></th>\n",
       "      <th>user_id</th>\n",
       "    </tr>\n",
       "    <tr>\n",
       "      <th>group</th>\n",
       "      <th></th>\n",
       "    </tr>\n",
       "  </thead>\n",
       "  <tbody>\n",
       "    <tr>\n",
       "      <th>246</th>\n",
       "      <td>79302</td>\n",
       "    </tr>\n",
       "    <tr>\n",
       "      <th>247</th>\n",
       "      <td>77022</td>\n",
       "    </tr>\n",
       "    <tr>\n",
       "      <th>248</th>\n",
       "      <td>84563</td>\n",
       "    </tr>\n",
       "  </tbody>\n",
       "</table>\n",
       "</div>"
      ],
      "text/plain": [
       "       user_id\n",
       "group         \n",
       "246      79302\n",
       "247      77022\n",
       "248      84563"
      ]
     },
     "execution_count": 24,
     "metadata": {},
     "output_type": "execute_result"
    }
   ],
   "source": [
    "#проверим, есть ли пользователи из всех трёх экспериментальных групп.\n",
    "proect_gd.pivot_table(index = 'group', values = 'user_id', aggfunc = 'count')"
   ]
  },
  {
   "cell_type": "code",
   "execution_count": 25,
   "metadata": {
    "scrolled": true
   },
   "outputs": [
    {
     "name": "stdout",
     "output_type": "stream",
     "text": [
      "доля потерянных пользователей 0.2%\n"
     ]
    }
   ],
   "source": [
    "print(f\"доля потерянных пользователей {(proect['user_id'].nunique()-proect_gd['user_id'].nunique())/proect['user_id'].nunique():.1%}\")"
   ]
  },
  {
   "cell_type": "code",
   "execution_count": 26,
   "metadata": {
    "scrolled": true
   },
   "outputs": [
    {
     "data": {
      "text/html": [
       "<div>\n",
       "<style scoped>\n",
       "    .dataframe tbody tr th:only-of-type {\n",
       "        vertical-align: middle;\n",
       "    }\n",
       "\n",
       "    .dataframe tbody tr th {\n",
       "        vertical-align: top;\n",
       "    }\n",
       "\n",
       "    .dataframe thead th {\n",
       "        text-align: right;\n",
       "    }\n",
       "</style>\n",
       "<table border=\"1\" class=\"dataframe\">\n",
       "  <thead>\n",
       "    <tr style=\"text-align: right;\">\n",
       "      <th></th>\n",
       "      <th>user_id</th>\n",
       "    </tr>\n",
       "    <tr>\n",
       "      <th>group</th>\n",
       "      <th></th>\n",
       "    </tr>\n",
       "  </thead>\n",
       "  <tbody>\n",
       "    <tr>\n",
       "      <th>246</th>\n",
       "      <td>79302</td>\n",
       "    </tr>\n",
       "    <tr>\n",
       "      <th>247</th>\n",
       "      <td>77022</td>\n",
       "    </tr>\n",
       "    <tr>\n",
       "      <th>248</th>\n",
       "      <td>84563</td>\n",
       "    </tr>\n",
       "  </tbody>\n",
       "</table>\n",
       "</div>"
      ],
      "text/plain": [
       "       user_id\n",
       "group         \n",
       "246      79302\n",
       "247      77022\n",
       "248      84563"
      ]
     },
     "execution_count": 26,
     "metadata": {},
     "output_type": "execute_result"
    }
   ],
   "source": [
    "#проверим, есть ли пользователи из всех трёх экспериментальных групп.\n",
    "proect_gd.pivot_table(index = 'group', values = 'user_id', aggfunc = 'count')"
   ]
  },
  {
   "cell_type": "code",
   "execution_count": 27,
   "metadata": {},
   "outputs": [
    {
     "name": "stdout",
     "output_type": "stream",
     "text": [
      "Нет пользователей, участвующих одновременно в группах 246 и 247.\n",
      "Нет пользователей, участвующих одновременно в группах 246 и 248.\n",
      "Нет пользователей, участвующих одновременно в группах 247 и 248.\n"
     ]
    }
   ],
   "source": [
    "# Создание массивов пользователей для каждой группы\n",
    "users_246 = set(proect_gd[proect_gd['group'] == 246]['user_id'])\n",
    "users_247 = set(proect_gd[proect_gd['group'] == 247]['user_id'])\n",
    "users_248 = set(proect_gd[proect_gd['group'] == 248]['user_id'])\n",
    "\n",
    "# Проверка пересечения пользователей между группами\n",
    "intersect_246_247 = users_246.intersection(users_247)\n",
    "intersect_246_248 = users_246.intersection(users_248)\n",
    "intersect_247_248 = users_247.intersection(users_248)\n",
    "\n",
    "# Проверка на наличие пересечений и вывод результата\n",
    "if len(intersect_246_247) > 0:\n",
    "    print(f\"Есть {len(intersect_246_247)} пользователей, участвующих в группах 246 и 247.\")\n",
    "else:\n",
    "    print(\"Нет пользователей, участвующих одновременно в группах 246 и 247.\")\n",
    "\n",
    "if len(intersect_246_248) > 0:\n",
    "    print(f\"Есть {len(intersect_246_248)} пользователей, участвующих в группах 246 и 248.\")\n",
    "else:\n",
    "    print(\"Нет пользователей, участвующих одновременно в группах 246 и 248.\")\n",
    "\n",
    "if len(intersect_247_248) > 0:\n",
    "    print(f\"Есть {len(intersect_247_248)} пользователей, участвующих в группах 247 и 248.\")\n",
    "else:\n",
    "    print(\"Нет пользователей, участвующих одновременно в группах 247 и 248.\")"
   ]
  },
  {
   "cell_type": "markdown",
   "metadata": {},
   "source": [
    "<div class=\"alert alert-block alert-danger\">\n",
    "<h2> Комментарий ревьюера ⛔️<a class=\"tocSkip\"></h2>\n",
    "   <s>\n",
    " Необходимо также проверить пересечение пользователей между группами, чтобы у нас не было пользователей которые участвовали в обеих группах.\n",
    "    \n",
    "</div>"
   ]
  },
  {
   "cell_type": "markdown",
   "metadata": {},
   "source": [
    "<div class=\"alert alert-info\"> <b>Комментарий студента:</b> Проверил,спасибо)</div>"
   ]
  },
  {
   "cell_type": "markdown",
   "metadata": {},
   "source": [
    "<div class=\"alert alert-success\">\n",
    "<h2> Комментарий ревьюера 😊 v_2 <a class=\"tocSkip\"> </h2>\n",
    "\n",
    "Хорошо)"
   ]
  },
  {
   "cell_type": "markdown",
   "metadata": {},
   "source": [
    "**Общий вывод по 3 Шагу:** \n",
    " - Посчитано кол-во событий в логе\n",
    " - Посчитано кол-во пользователей\n",
    " - Посчитано,сколько событий приходится на пользователя\n",
    " - Определна максимальная и минимальная дата событий\n",
    " - Почистили датафрейм от неполных данных\n",
    " - Посчитали потери"
   ]
  },
  {
   "cell_type": "markdown",
   "metadata": {},
   "source": [
    "<div class=\"alert alert-success\">\n",
    "<h2> Комментарий ревьюера 😊<a class=\"tocSkip\"> </h2>\n",
    "    \n",
    "Хорошая работа по исследовательскому анализу. В промежуточном выводе будет хорошо указать полученные результаты)"
   ]
  },
  {
   "cell_type": "markdown",
   "metadata": {},
   "source": [
    "## Шаг изучаем воронку событий"
   ]
  },
  {
   "cell_type": "code",
   "execution_count": 28,
   "metadata": {
    "scrolled": true
   },
   "outputs": [
    {
     "data": {
      "text/html": [
       "<div>\n",
       "<style scoped>\n",
       "    .dataframe tbody tr th:only-of-type {\n",
       "        vertical-align: middle;\n",
       "    }\n",
       "\n",
       "    .dataframe tbody tr th {\n",
       "        vertical-align: top;\n",
       "    }\n",
       "\n",
       "    .dataframe thead th {\n",
       "        text-align: right;\n",
       "    }\n",
       "</style>\n",
       "<table border=\"1\" class=\"dataframe\">\n",
       "  <thead>\n",
       "    <tr style=\"text-align: right;\">\n",
       "      <th></th>\n",
       "      <th>count</th>\n",
       "    </tr>\n",
       "    <tr>\n",
       "      <th>event_name</th>\n",
       "      <th></th>\n",
       "    </tr>\n",
       "  </thead>\n",
       "  <tbody>\n",
       "    <tr>\n",
       "      <th>MainScreenAppear</th>\n",
       "      <td>117328</td>\n",
       "    </tr>\n",
       "    <tr>\n",
       "      <th>OffersScreenAppear</th>\n",
       "      <td>46333</td>\n",
       "    </tr>\n",
       "    <tr>\n",
       "      <th>CartScreenAppear</th>\n",
       "      <td>42303</td>\n",
       "    </tr>\n",
       "    <tr>\n",
       "      <th>PaymentScreenSuccessful</th>\n",
       "      <td>33918</td>\n",
       "    </tr>\n",
       "    <tr>\n",
       "      <th>Tutorial</th>\n",
       "      <td>1005</td>\n",
       "    </tr>\n",
       "  </tbody>\n",
       "</table>\n",
       "</div>"
      ],
      "text/plain": [
       "                          count\n",
       "event_name                     \n",
       "MainScreenAppear         117328\n",
       "OffersScreenAppear        46333\n",
       "CartScreenAppear          42303\n",
       "PaymentScreenSuccessful   33918\n",
       "Tutorial                   1005"
      ]
     },
     "execution_count": 28,
     "metadata": {},
     "output_type": "execute_result"
    }
   ],
   "source": [
    "# Смотрим события и как часто они встречаются\n",
    "proect_gd.groupby('event_name').agg(count = ('user_id', 'count')).sort_values(by = 'count', ascending=False)"
   ]
  },
  {
   "cell_type": "code",
   "execution_count": 29,
   "metadata": {},
   "outputs": [
    {
     "data": {
      "text/html": [
       "<div>\n",
       "<style scoped>\n",
       "    .dataframe tbody tr th:only-of-type {\n",
       "        vertical-align: middle;\n",
       "    }\n",
       "\n",
       "    .dataframe tbody tr th {\n",
       "        vertical-align: top;\n",
       "    }\n",
       "\n",
       "    .dataframe thead th {\n",
       "        text-align: right;\n",
       "    }\n",
       "</style>\n",
       "<table border=\"1\" class=\"dataframe\">\n",
       "  <thead>\n",
       "    <tr style=\"text-align: right;\">\n",
       "      <th></th>\n",
       "      <th>users</th>\n",
       "      <th>ratio</th>\n",
       "    </tr>\n",
       "    <tr>\n",
       "      <th>event_name</th>\n",
       "      <th></th>\n",
       "      <th></th>\n",
       "    </tr>\n",
       "  </thead>\n",
       "  <tbody>\n",
       "    <tr>\n",
       "      <th>MainScreenAppear</th>\n",
       "      <td>7419</td>\n",
       "      <td>98.47</td>\n",
       "    </tr>\n",
       "    <tr>\n",
       "      <th>OffersScreenAppear</th>\n",
       "      <td>4593</td>\n",
       "      <td>60.96</td>\n",
       "    </tr>\n",
       "    <tr>\n",
       "      <th>CartScreenAppear</th>\n",
       "      <td>3734</td>\n",
       "      <td>49.56</td>\n",
       "    </tr>\n",
       "    <tr>\n",
       "      <th>PaymentScreenSuccessful</th>\n",
       "      <td>3539</td>\n",
       "      <td>46.97</td>\n",
       "    </tr>\n",
       "    <tr>\n",
       "      <th>Tutorial</th>\n",
       "      <td>840</td>\n",
       "      <td>11.15</td>\n",
       "    </tr>\n",
       "  </tbody>\n",
       "</table>\n",
       "</div>"
      ],
      "text/plain": [
       "                         users  ratio\n",
       "event_name                           \n",
       "MainScreenAppear          7419  98.47\n",
       "OffersScreenAppear        4593  60.96\n",
       "CartScreenAppear          3734  49.56\n",
       "PaymentScreenSuccessful   3539  46.97\n",
       "Tutorial                   840  11.15"
      ]
     },
     "execution_count": 29,
     "metadata": {},
     "output_type": "execute_result"
    }
   ],
   "source": [
    "user_proect = proect_gd.groupby('event_name').agg(users=('user_id','nunique')).sort_values('users', ascending=False)\n",
    "user_proect['ratio'] = round(user_proect['users']/proect_gd['user_id'].nunique() * 100, 2)\n",
    "user_proect"
   ]
  },
  {
   "cell_type": "markdown",
   "metadata": {},
   "source": [
    "Скорее всего, в последовательную цепочку  не будет вписываться Tutorial, отсюда предположим следующие действия:\n",
    "\n",
    "  MainScreenAppear - OffersScreenAppear - CartScreenAppear - PaymentScreenSuccessful"
   ]
  },
  {
   "cell_type": "markdown",
   "metadata": {},
   "source": [
    "<div class=\"alert alert-success\">\n",
    "<h2> Комментарий ревьюера 😊<a class=\"tocSkip\"> </h2>\n",
    "\n",
    "Важное замечание, молодец! Переход на страницу документации не встраивается в последовательную цепочку, и это событие можно не учитывать при расчете воронки.\n",
    "\n",
    "</div>"
   ]
  },
  {
   "cell_type": "code",
   "execution_count": 30,
   "metadata": {
    "scrolled": false
   },
   "outputs": [
    {
     "data": {
      "text/html": [
       "<div>\n",
       "<style scoped>\n",
       "    .dataframe tbody tr th:only-of-type {\n",
       "        vertical-align: middle;\n",
       "    }\n",
       "\n",
       "    .dataframe tbody tr th {\n",
       "        vertical-align: top;\n",
       "    }\n",
       "\n",
       "    .dataframe thead th {\n",
       "        text-align: right;\n",
       "    }\n",
       "</style>\n",
       "<table border=\"1\" class=\"dataframe\">\n",
       "  <thead>\n",
       "    <tr style=\"text-align: right;\">\n",
       "      <th></th>\n",
       "      <th>user_id</th>\n",
       "      <th>conversion</th>\n",
       "    </tr>\n",
       "    <tr>\n",
       "      <th>event_name</th>\n",
       "      <th></th>\n",
       "      <th></th>\n",
       "    </tr>\n",
       "  </thead>\n",
       "  <tbody>\n",
       "    <tr>\n",
       "      <th>MainScreenAppear</th>\n",
       "      <td>7439</td>\n",
       "      <td>100.0</td>\n",
       "    </tr>\n",
       "    <tr>\n",
       "      <th>OffersScreenAppear</th>\n",
       "      <td>4613</td>\n",
       "      <td>62.0</td>\n",
       "    </tr>\n",
       "    <tr>\n",
       "      <th>CartScreenAppear</th>\n",
       "      <td>3749</td>\n",
       "      <td>81.3</td>\n",
       "    </tr>\n",
       "    <tr>\n",
       "      <th>PaymentScreenSuccessful</th>\n",
       "      <td>3547</td>\n",
       "      <td>94.6</td>\n",
       "    </tr>\n",
       "  </tbody>\n",
       "</table>\n",
       "</div>"
      ],
      "text/plain": [
       "                         user_id  conversion\n",
       "event_name                                  \n",
       "MainScreenAppear            7439       100.0\n",
       "OffersScreenAppear          4613        62.0\n",
       "CartScreenAppear            3749        81.3\n",
       "PaymentScreenSuccessful     3547        94.6"
      ]
     },
     "execution_count": 30,
     "metadata": {},
     "output_type": "execute_result"
    }
   ],
   "source": [
    "#создадим сводную таблицу с количеством уникальных пользователей совершавших каждое из событий\n",
    "user_proect = proect.query('event_name != \"Tutorial\"').pivot_table(index = 'event_name', values = 'user_id', aggfunc = 'nunique').sort_values(by = 'user_id', ascending = False)\n",
    "#добавим столбец со смещенными значениями количества пользователей методом shift\n",
    "#недостающее значение заполним первым значением столбца параметром fill_value\n",
    "user_proect['shift'] = user_proect['user_id'].shift(1, fill_value = user_proect['user_id'].loc[user_proect.index[0]])\n",
    "#посчитаем и добавим столбец с конверсией округленной до 1 десятка\n",
    "user_proect['conversion'] = round(user_proect['user_id']/user_proect['shift']*100, 1)\n",
    "#в итоговой таблице оставим только количество уникальных пользователей и конверсией\n",
    "user_proect = user_proect[['user_id', 'conversion']]\n",
    "user_proect"
   ]
  },
  {
   "cell_type": "markdown",
   "metadata": {},
   "source": [
    "<div class=\"alert alert-success\">\n",
    "<h2> Комментарий ревьюера 😊<a class=\"tocSkip\"> </h2>\n",
    "\n",
    "Здорово, что используешь shift для расчета доли от предыдущего шага)"
   ]
  },
  {
   "cell_type": "code",
   "execution_count": 31,
   "metadata": {},
   "outputs": [
    {
     "data": {
      "image/png": "[encoded data removed]",
      "text/plain": [
       "<Figure size 720x432 with 1 Axes>"
      ]
     },
     "metadata": {
      "needs_background": "light"
     },
     "output_type": "display_data"
    }
   ],
   "source": [
    "# Делаем выборку по данным и pivot таблицу\n",
    "user_proect = proect.query('event_name != \"Tutorial\"').pivot_table(index='event_name', values='user_id', aggfunc='nunique').sort_values(by='user_id', ascending=False)\n",
    "\n",
    "# Построение графика\n",
    "fig, ax = plt.subplots(figsize=(10, 6))\n",
    "\n",
    "user_proect['user_id'].plot(kind='bar', ax=ax, color='skyblue', edgecolor='black')\n",
    "\n",
    "# Добавление подписей и заголовка\n",
    "ax.set_xlabel('Названия событий')\n",
    "ax.set_ylabel('Количество уникальных пользователей')\n",
    "ax.set_title('Количество уникальных пользователей по событиям')\n",
    "ax.grid(True, linestyle='--', alpha=0.7)\n",
    "ax.set_xticklabels(user_proect.index, rotation=45, ha='right')\n",
    "\n",
    "# Отображение графика\n",
    "plt.tight_layout()\n",
    "plt.show()"
   ]
  },
  {
   "cell_type": "markdown",
   "metadata": {},
   "source": [
    "<div class=\"alert alert-block alert-danger\">\n",
    "<h2> Комментарий ревьюера ⛔️<a class=\"tocSkip\"></h2>\n",
    "   <s>\n",
    "Нужно скорректировать ячейку)"
   ]
  },
  {
   "cell_type": "markdown",
   "metadata": {},
   "source": [
    "<div class=\"alert alert-info\"> <b>Комментарий студента:</b> Скорректировал, хотел сделать более наглядно, а получилось хуже,вернул стандар))</div>"
   ]
  },
  {
   "cell_type": "markdown",
   "metadata": {},
   "source": [
    "<div class=\"alert alert-success\">\n",
    "<h2> Комментарий ревьюера 😊 v_2 <a class=\"tocSkip\"> </h2>\n",
    "\n",
    "👍"
   ]
  },
  {
   "cell_type": "markdown",
   "metadata": {},
   "source": [
    "Как мы видим,самая большая потеря пользователей  происходит на первом этапе - 38%, далее значение уменьшается, можем предположить,что есть некие проблемы с удержанием пользователей на первом этапе"
   ]
  },
  {
   "cell_type": "code",
   "execution_count": 32,
   "metadata": {},
   "outputs": [
    {
     "name": "stdout",
     "output_type": "stream",
     "text": [
      "Доля пользователей прошедших весь цикл 47.7%\n"
     ]
    }
   ],
   "source": [
    "print(f\"Доля пользователей прошедших весь цикл {user_proect['user_id'].loc[user_proect.index[-1]]/user_proect['user_id'].loc[user_proect.index[0]]:.1%}\")"
   ]
  },
  {
   "cell_type": "markdown",
   "metadata": {},
   "source": [
    "**Вывод по 4 шагу**:\n",
    " - Найдено кол-во событий в логе\n",
    " - Найдено кол-во пользователей на каждом событии\n",
    " - Сформировали предположение о цепочке событий, так же в события не попал Tutorial\n",
    " - По воронке событий ответили на вопрос,сколько пользователей доходят до следующего события\n",
    " - Найдена доля пользователей, которые доходят от первого события до оплаты"
   ]
  },
  {
   "cell_type": "markdown",
   "metadata": {},
   "source": [
    "<div class=\"alert alert-success\">\n",
    "<h2> Комментарий ревьюера 😊<a class=\"tocSkip\"> </h2>\n",
    "\n",
    "Изучение воронки проведено на высоком уровне. Отлично справился с расчетами конверсии и графиком воронки)"
   ]
  },
  {
   "cell_type": "markdown",
   "metadata": {},
   "source": [
    "## Шаг изучаем результаты эксперимента"
   ]
  },
  {
   "cell_type": "code",
   "execution_count": 33,
   "metadata": {
    "scrolled": true
   },
   "outputs": [
    {
     "data": {
      "text/html": [
       "<div>\n",
       "<style scoped>\n",
       "    .dataframe tbody tr th:only-of-type {\n",
       "        vertical-align: middle;\n",
       "    }\n",
       "\n",
       "    .dataframe tbody tr th {\n",
       "        vertical-align: top;\n",
       "    }\n",
       "\n",
       "    .dataframe thead th {\n",
       "        text-align: right;\n",
       "    }\n",
       "</style>\n",
       "<table border=\"1\" class=\"dataframe\">\n",
       "  <thead>\n",
       "    <tr style=\"text-align: right;\">\n",
       "      <th></th>\n",
       "      <th>user_id</th>\n",
       "    </tr>\n",
       "    <tr>\n",
       "      <th>group</th>\n",
       "      <th></th>\n",
       "    </tr>\n",
       "  </thead>\n",
       "  <tbody>\n",
       "    <tr>\n",
       "      <th>246</th>\n",
       "      <td>2489</td>\n",
       "    </tr>\n",
       "    <tr>\n",
       "      <th>247</th>\n",
       "      <td>2520</td>\n",
       "    </tr>\n",
       "    <tr>\n",
       "      <th>248</th>\n",
       "      <td>2542</td>\n",
       "    </tr>\n",
       "  </tbody>\n",
       "</table>\n",
       "</div>"
      ],
      "text/plain": [
       "       user_id\n",
       "group         \n",
       "246       2489\n",
       "247       2520\n",
       "248       2542"
      ]
     },
     "execution_count": 33,
     "metadata": {},
     "output_type": "execute_result"
    }
   ],
   "source": [
    "proect.pivot_table(index = 'group', values = 'user_id', aggfunc = 'nunique')"
   ]
  },
  {
   "cell_type": "code",
   "execution_count": 34,
   "metadata": {},
   "outputs": [],
   "source": [
    "#Создадим отдельные датасеты с группами\n",
    "g_246 = proect_gd.query('group == 246')\n",
    "g_247 = proect_gd.query('group == 247')\n",
    "g_248 = proect_gd.query('group == 248')"
   ]
  },
  {
   "cell_type": "code",
   "execution_count": 35,
   "metadata": {},
   "outputs": [
    {
     "name": "stdout",
     "output_type": "stream",
     "text": [
      "CartScreenAppear p-значение: 0.22883372237997213\n",
      "Для события \"CartScreenAppear\" различие статистически НЕ значимо\n",
      "MainScreenAppear p-значение: 0.7570597232046099\n",
      "Для события \"MainScreenAppear\" различие статистически НЕ значимо\n",
      "OffersScreenAppear p-значение: 0.2480954578522181\n",
      "Для события \"OffersScreenAppear\" различие статистически НЕ значимо\n",
      "PaymentScreenSuccessful p-значение: 0.11456679313141849\n",
      "Для события \"PaymentScreenSuccessful\" различие статистически НЕ значимо\n",
      "Tutorial p-значение: 0.9376996189257114\n",
      "Для события \"Tutorial\" различие статистически НЕ значимо\n"
     ]
    }
   ],
   "source": [
    "unique_events = pd.concat([g_246['event_name'], g_247['event_name']]).unique()\n",
    "\n",
    "# Количество пользователей в каждой группе\n",
    "n_users_246 = g_246['user_id'].nunique()\n",
    "n_users_247 = g_247['user_id'].nunique()\n",
    "\n",
    "# Агрегируем данные по группам и событиям\n",
    "agg_246 = g_246.groupby('event_name')['user_id'].nunique().reset_index()\n",
    "agg_247 = g_247.groupby('event_name')['user_id'].nunique().reset_index()\n",
    "\n",
    "# Переименовываем колонки для удобства\n",
    "agg_246.columns = ['event_name', 'user_count_246']\n",
    "agg_247.columns = ['event_name', 'user_count_247']\n",
    "\n",
    "# Объединяем данные\n",
    "simple_funnel = pd.merge(agg_246, agg_247, on='event_name', how='outer').fillna(0)\n",
    "\n",
    "# Функция для проведения Z-теста\n",
    "def z_value_diff(first_group, second_group, alpha):\n",
    "    for i in simple_funnel.index:\n",
    "        event_name = simple_funnel.loc[i, 'event_name']\n",
    "        p1 = simple_funnel.loc[i, first_group] / n_users_246 \n",
    "        p2 = simple_funnel.loc[i, second_group] / n_users_247 \n",
    "        p_combined = (simple_funnel.loc[i, first_group] + simple_funnel.loc[i, second_group]) / (n_users_246 + n_users_247)\n",
    "        difference = p1 - p2\n",
    "        z_value = difference / mth.sqrt(p_combined * (1 - p_combined) * (1/n_users_246 + 1/n_users_247))\n",
    "        distr = st.norm(0, 1)\n",
    "\n",
    "        p_value = (1 - distr.cdf(abs(z_value))) * 2\n",
    "        print(f'{event_name} p-значение: {p_value}')\n",
    "\n",
    "        if p_value < alpha:\n",
    "            print(f'Для события \"{event_name}\" различие статистически значимо')\n",
    "        else:\n",
    "            print(f'Для события \"{event_name}\" различие статистически НЕ значимо')\n",
    "\n",
    "# Проведение Z-теста\n",
    "alpha = 0.05\n",
    "z_value_diff('user_count_246', 'user_count_247', alpha)"
   ]
  },
  {
   "cell_type": "markdown",
   "metadata": {},
   "source": [
    "<div class=\"alert alert-success\">\n",
    "<h2> Комментарий ревьюера 😊<a class=\"tocSkip\"> </h2>\n",
    "\n",
    "Статистический расчет проведен верно, молодец!)"
   ]
  },
  {
   "cell_type": "code",
   "execution_count": 36,
   "metadata": {},
   "outputs": [
    {
     "data": {
      "text/html": [
       "<div>\n",
       "<style scoped>\n",
       "    .dataframe tbody tr th:only-of-type {\n",
       "        vertical-align: middle;\n",
       "    }\n",
       "\n",
       "    .dataframe tbody tr th {\n",
       "        vertical-align: top;\n",
       "    }\n",
       "\n",
       "    .dataframe thead th {\n",
       "        text-align: right;\n",
       "    }\n",
       "</style>\n",
       "<table border=\"1\" class=\"dataframe\">\n",
       "  <thead>\n",
       "    <tr style=\"text-align: right;\">\n",
       "      <th></th>\n",
       "      <th>user_id</th>\n",
       "    </tr>\n",
       "    <tr>\n",
       "      <th>event_name</th>\n",
       "      <th></th>\n",
       "    </tr>\n",
       "  </thead>\n",
       "  <tbody>\n",
       "    <tr>\n",
       "      <th>MainScreenAppear</th>\n",
       "      <td>2450</td>\n",
       "    </tr>\n",
       "    <tr>\n",
       "      <th>OffersScreenAppear</th>\n",
       "      <td>1542</td>\n",
       "    </tr>\n",
       "    <tr>\n",
       "      <th>CartScreenAppear</th>\n",
       "      <td>1266</td>\n",
       "    </tr>\n",
       "    <tr>\n",
       "      <th>PaymentScreenSuccessful</th>\n",
       "      <td>1200</td>\n",
       "    </tr>\n",
       "    <tr>\n",
       "      <th>Tutorial</th>\n",
       "      <td>278</td>\n",
       "    </tr>\n",
       "  </tbody>\n",
       "</table>\n",
       "</div>"
      ],
      "text/plain": [
       "                         user_id\n",
       "event_name                      \n",
       "MainScreenAppear            2450\n",
       "OffersScreenAppear          1542\n",
       "CartScreenAppear            1266\n",
       "PaymentScreenSuccessful     1200\n",
       "Tutorial                     278"
      ]
     },
     "execution_count": 36,
     "metadata": {},
     "output_type": "execute_result"
    }
   ],
   "source": [
    "# Популярность событий в 246 группе\n",
    "g_246.pivot_table(index = 'event_name', values = 'user_id', aggfunc = 'nunique').sort_values(by = 'user_id', ascending = False)"
   ]
  },
  {
   "cell_type": "code",
   "execution_count": 37,
   "metadata": {
    "scrolled": false
   },
   "outputs": [
    {
     "data": {
      "text/html": [
       "<div>\n",
       "<style scoped>\n",
       "    .dataframe tbody tr th:only-of-type {\n",
       "        vertical-align: middle;\n",
       "    }\n",
       "\n",
       "    .dataframe tbody tr th {\n",
       "        vertical-align: top;\n",
       "    }\n",
       "\n",
       "    .dataframe thead th {\n",
       "        text-align: right;\n",
       "    }\n",
       "</style>\n",
       "<table border=\"1\" class=\"dataframe\">\n",
       "  <thead>\n",
       "    <tr style=\"text-align: right;\">\n",
       "      <th></th>\n",
       "      <th>user_id</th>\n",
       "    </tr>\n",
       "    <tr>\n",
       "      <th>event_name</th>\n",
       "      <th></th>\n",
       "    </tr>\n",
       "  </thead>\n",
       "  <tbody>\n",
       "    <tr>\n",
       "      <th>MainScreenAppear</th>\n",
       "      <td>2476</td>\n",
       "    </tr>\n",
       "    <tr>\n",
       "      <th>OffersScreenAppear</th>\n",
       "      <td>1520</td>\n",
       "    </tr>\n",
       "    <tr>\n",
       "      <th>CartScreenAppear</th>\n",
       "      <td>1238</td>\n",
       "    </tr>\n",
       "    <tr>\n",
       "      <th>PaymentScreenSuccessful</th>\n",
       "      <td>1158</td>\n",
       "    </tr>\n",
       "    <tr>\n",
       "      <th>Tutorial</th>\n",
       "      <td>283</td>\n",
       "    </tr>\n",
       "  </tbody>\n",
       "</table>\n",
       "</div>"
      ],
      "text/plain": [
       "                         user_id\n",
       "event_name                      \n",
       "MainScreenAppear            2476\n",
       "OffersScreenAppear          1520\n",
       "CartScreenAppear            1238\n",
       "PaymentScreenSuccessful     1158\n",
       "Tutorial                     283"
      ]
     },
     "execution_count": 37,
     "metadata": {},
     "output_type": "execute_result"
    }
   ],
   "source": [
    "#Популярность событий в 247 группе\n",
    "g_247.pivot_table(index = 'event_name', values = 'user_id', aggfunc = 'nunique').sort_values(by = 'user_id', ascending = False)"
   ]
  },
  {
   "cell_type": "markdown",
   "metadata": {},
   "source": [
    "Самое популярное событие - MainScreenAppear"
   ]
  },
  {
   "cell_type": "markdown",
   "metadata": {},
   "source": [
    "Сформируем гипотезу, критерий проверки гипотезы: **z-критерий**\n",
    "\n",
    "H0:Между долями статистической значимой разницы нет, поведение групп не отличается;\n",
    "\n",
    "H1:Между долями статистическая значимая разница есть, поведение групп отличается."
   ]
  },
  {
   "cell_type": "markdown",
   "metadata": {},
   "source": [
    "<div class=\"alert alert-success\">\n",
    "<h2> Комментарий ревьюера 😊<a class=\"tocSkip\"> </h2>\n",
    "\n",
    "Гипотезы составлены верно"
   ]
  },
  {
   "cell_type": "code",
   "execution_count": 38,
   "metadata": {},
   "outputs": [
    {
     "name": "stdout",
     "output_type": "stream",
     "text": [
      "p-значение:  0.7570597232046099\n",
      "Не получилось отвергнуть нулевую гипотезу, нет оснований считать доли разными\n"
     ]
    }
   ],
   "source": [
    "# Критический уровень статистической значимости\n",
    "alpha = 0.05\n",
    "    \n",
    "# Количество уникальных пользователей, совершивших событие в каждой группе \n",
    "un_users_event = np.array([\n",
    "    g_246[g_246['event_name'] == 'MainScreenAppear']['user_id'].nunique(), \n",
    "    g_247[g_247['event_name'] == 'MainScreenAppear']['user_id'].nunique()\n",
    "])\n",
    "        \n",
    "# Количество уникальных пользователей в группах\n",
    "un_users_group = np.array([\n",
    "    g_246['user_id'].nunique(), \n",
    "    g_247['user_id'].nunique()\n",
    "])\n",
    "    \n",
    "# Пропорция успехов в первой группе:\n",
    "p1 = un_users_event[0] / un_users_group[0]\n",
    "# Пропорция успехов во второй группе:\n",
    "p2 = un_users_event[1] / un_users_group[1]\n",
    "    \n",
    "# Пропорция успехов в комбинированном датасете:\n",
    "p_combined = (un_users_event[0] + un_users_event[1]) / (un_users_group[0] + un_users_group[1])\n",
    "    \n",
    "# Разница пропорций\n",
    "difference = p1 - p2\n",
    "    \n",
    "# Считаем статистику z\n",
    "# Вместо un_users_event используем un_users_group\n",
    "z_value = difference / mth.sqrt(p_combined * (1 - p_combined) * (1/un_users_group[0] + 1/un_users_group[1]))\n",
    "    \n",
    "# Задаем стандартное нормальное распределение (среднее 0, стандартное отклонение 1)\n",
    "distr = st.norm(0, 1)  \n",
    "    \n",
    "# Так как распределение статистики нормальное, вызывает метод cdf()\n",
    "# Абсолютное значение z_value (для двустороннего теста), удваиваем результат:\n",
    "p_value = (1 - distr.cdf(abs(z_value))) * 2\n",
    "          \n",
    "print('p-значение: ', p_value)\n",
    "\n",
    "if p_value < alpha:\n",
    "    print('Отвергаем нулевую гипотезу: между долями есть значимая разница')\n",
    "else:\n",
    "    print('Не получилось отвергнуть нулевую гипотезу, нет оснований считать доли разными')"
   ]
  },
  {
   "cell_type": "markdown",
   "metadata": {},
   "source": [
    "<div class=\"alert alert-block alert-danger\">\n",
    "<h2> Комментарий ревьюера ⛔️<a class=\"tocSkip\"></h2>\n",
    "<s>\n",
    "У нас ошибка в расчете z_value, так как мы используем кол-во успехов, а нам нужно кол-во попыток, т.е. un_users_event нужно заменить.  Ранее уже создали функцию для расчета, почему не используем ее? "
   ]
  },
  {
   "cell_type": "markdown",
   "metadata": {},
   "source": [
    "<div class=\"alert alert-info\"> <b>Комментарий студента:</b> Исправил, хотел посчитать именно к 1 поплуярному событию </div> "
   ]
  },
  {
   "cell_type": "code",
   "execution_count": 39,
   "metadata": {},
   "outputs": [],
   "source": [
    "def test(g1, g2, event_name):\n",
    "    \n",
    "    # Критический уровень статистической значимости\n",
    "    alpha = 0.05\n",
    "    \n",
    "    # Количество уникальных пользователей, совершивших событие в каждой группе\n",
    "    un_users_event = np.array([g1[g1['event_name'] == event_name]['user_id'].nunique(), \n",
    "                               g2[g2['event_name'] == event_name]['user_id'].nunique()])\n",
    "    \n",
    "    # Количество уникальных пользователей в группах\n",
    "    un_users_group = np.array([g1['user_id'].nunique(), g2['user_id'].nunique()])\n",
    "    \n",
    "    # Пропорция успехов в первой группе\n",
    "    p1 = un_users_event[0] / un_users_group[0]\n",
    "    # Пропорция успехов во второй группе\n",
    "    p2 = un_users_event[1] / un_users_group[1]\n",
    "    \n",
    "    # Пропорция успехов в комбинированном датасете\n",
    "    p_combined = (un_users_event[0] + un_users_event[1]) / (un_users_group[0] + un_users_group[1])\n",
    "    \n",
    "    # Разница пропорций в датасетах\n",
    "    difference = p1 - p2\n",
    "    \n",
    "    # Считаем статистику в ст.отклонениях стандартного нормального распределения\n",
    "    z_value = difference / mth.sqrt(p_combined * (1 - p_combined) * (1/un_users_group[0] + 1/un_users_group[1]))\n",
    "    \n",
    "    # Задаем стандартное нормальное распределение (среднее 0, ст.отклонение 1)\n",
    "    distr = st.norm(0, 1)  \n",
    "    \n",
    "    # Так как распределение статистики нормальное, вызовем метод cdf()\n",
    "    # Саму статистику возьмём по модулю методом abs() — чтобы получить правильный результат независимо от её знака.\n",
    "    # Это возможно, потому что тест двусторонний. По этой же причине удваиваем результат:\n",
    "    p_value = (1 - distr.cdf(abs(z_value))) * 2\n",
    "    \n",
    "    print(event_name)\n",
    "          \n",
    "    print('p-значение: ', p_value)\n",
    "\n",
    "    if p_value < alpha:\n",
    "        print('Отвергаем нулевую гипотезу: между долями есть значимая разница')\n",
    "    else:\n",
    "        print('Не получилось отвергнуть нулевую гипотезу, нет оснований считать доли разными')\n",
    "    print()"
   ]
  },
  {
   "cell_type": "markdown",
   "metadata": {},
   "source": [
    "<div class=\"alert alert-block alert-danger\">\n",
    "<h2> Комментарий ревьюера ⛔️<a class=\"tocSkip\"></h2>\n",
    "<s>\n",
    " И здесь ошибка в расчете."
   ]
  },
  {
   "cell_type": "markdown",
   "metadata": {},
   "source": [
    "<div class=\"alert alert-info\"> <b>Комментарий студента:</b> Ошибку понял, исправил </div>"
   ]
  },
  {
   "cell_type": "markdown",
   "metadata": {},
   "source": [
    "<div class=\"alert alert-success\">\n",
    "<h2> Комментарий ревьюера 😊 v_2 <a class=\"tocSkip\"> </h2>\n",
    "\n",
    "👍"
   ]
  },
  {
   "cell_type": "code",
   "execution_count": 40,
   "metadata": {
    "scrolled": true
   },
   "outputs": [
    {
     "name": "stdout",
     "output_type": "stream",
     "text": [
      "MainScreenAppear\n",
      "p-значение:  0.7570597232046099\n",
      "Не получилось отвергнуть нулевую гипотезу, нет оснований считать доли разными\n",
      "\n",
      "PaymentScreenSuccessful\n",
      "p-значение:  0.11456679313141849\n",
      "Не получилось отвергнуть нулевую гипотезу, нет оснований считать доли разными\n",
      "\n",
      "CartScreenAppear\n",
      "p-значение:  0.22883372237997213\n",
      "Не получилось отвергнуть нулевую гипотезу, нет оснований считать доли разными\n",
      "\n",
      "OffersScreenAppear\n",
      "p-значение:  0.2480954578522181\n",
      "Не получилось отвергнуть нулевую гипотезу, нет оснований считать доли разными\n",
      "\n",
      "Tutorial\n",
      "p-значение:  0.9376996189257114\n",
      "Не получилось отвергнуть нулевую гипотезу, нет оснований считать доли разными\n",
      "\n"
     ]
    }
   ],
   "source": [
    "#создадим список с уникальными событиями:\n",
    "event_name_array = proect['event_name'].unique()\n",
    "#создадим цикл, который будет подставлять в функцию уникальные значения собитый:\n",
    "for event_name in event_name_array:\n",
    "    test(g_246, g_247, event_name)"
   ]
  },
  {
   "cell_type": "code",
   "execution_count": 41,
   "metadata": {},
   "outputs": [
    {
     "name": "stdout",
     "output_type": "stream",
     "text": [
      "MainScreenAppear\n",
      "p-значение:  0.2949721933554552\n",
      "Не получилось отвергнуть нулевую гипотезу, нет оснований считать доли разными\n",
      "\n",
      "PaymentScreenSuccessful\n",
      "p-значение:  0.2122553275697796\n",
      "Не получилось отвергнуть нулевую гипотезу, нет оснований считать доли разными\n",
      "\n",
      "CartScreenAppear\n",
      "p-значение:  0.07842923237520116\n",
      "Не получилось отвергнуть нулевую гипотезу, нет оснований считать доли разными\n",
      "\n",
      "OffersScreenAppear\n",
      "p-значение:  0.20836205402738917\n",
      "Не получилось отвергнуть нулевую гипотезу, нет оснований считать доли разными\n",
      "\n",
      "Tutorial\n",
      "p-значение:  0.8264294010087645\n",
      "Не получилось отвергнуть нулевую гипотезу, нет оснований считать доли разными\n",
      "\n"
     ]
    }
   ],
   "source": [
    "#Аналогично проверим 1 контрольную группу 246 с группой с изменным шрифтом 248\n",
    "for event_name in event_name_array:\n",
    "    test(g_246, g_248, event_name)"
   ]
  },
  {
   "cell_type": "code",
   "execution_count": 42,
   "metadata": {},
   "outputs": [
    {
     "name": "stdout",
     "output_type": "stream",
     "text": [
      "MainScreenAppear\n",
      "p-значение:  0.2949721933554552\n",
      "Не получилось отвергнуть нулевую гипотезу, нет оснований считать доли разными\n",
      "\n",
      "PaymentScreenSuccessful\n",
      "p-значение:  0.2122553275697796\n",
      "Не получилось отвергнуть нулевую гипотезу, нет оснований считать доли разными\n",
      "\n",
      "CartScreenAppear\n",
      "p-значение:  0.07842923237520116\n",
      "Не получилось отвергнуть нулевую гипотезу, нет оснований считать доли разными\n",
      "\n",
      "OffersScreenAppear\n",
      "p-значение:  0.20836205402738917\n",
      "Не получилось отвергнуть нулевую гипотезу, нет оснований считать доли разными\n",
      "\n",
      "Tutorial\n",
      "p-значение:  0.8264294010087645\n",
      "Не получилось отвергнуть нулевую гипотезу, нет оснований считать доли разными\n",
      "\n"
     ]
    }
   ],
   "source": [
    "#Проверим 2 контрольную группу 247 с группой с изменным шрифтом 248\n",
    "for event_name in event_name_array:\n",
    "    test(g_246, g_248, event_name)"
   ]
  },
  {
   "cell_type": "code",
   "execution_count": 43,
   "metadata": {},
   "outputs": [],
   "source": [
    "#объеденим группы методом pd.concat\n",
    "g_246_and_247 = pd.concat([g_246, g_247])"
   ]
  },
  {
   "cell_type": "code",
   "execution_count": 44,
   "metadata": {},
   "outputs": [
    {
     "name": "stdout",
     "output_type": "stream",
     "text": [
      "MainScreenAppear\n",
      "p-значение:  0.29424526837179577\n",
      "Не получилось отвергнуть нулевую гипотезу, нет оснований считать доли разными\n",
      "\n",
      "PaymentScreenSuccessful\n",
      "p-значение:  0.6004294282308704\n",
      "Не получилось отвергнуть нулевую гипотезу, нет оснований считать доли разными\n",
      "\n",
      "CartScreenAppear\n",
      "p-значение:  0.18175875284404386\n",
      "Не получилось отвергнуть нулевую гипотезу, нет оснований считать доли разными\n",
      "\n",
      "OffersScreenAppear\n",
      "p-значение:  0.43425549655188256\n",
      "Не получилось отвергнуть нулевую гипотезу, нет оснований считать доли разными\n",
      "\n",
      "Tutorial\n",
      "p-значение:  0.764862472531507\n",
      "Не получилось отвергнуть нулевую гипотезу, нет оснований считать доли разными\n",
      "\n"
     ]
    }
   ],
   "source": [
    "#Проверим объедененную контрольную группу с группой с изменным шрифтом 248\n",
    "for event_name in event_name_array:\n",
    "    test(g_246_and_247 , g_248, event_name)"
   ]
  },
  {
   "cell_type": "markdown",
   "metadata": {},
   "source": [
    "Исходя из проведенных выше тестов, мы можем с уверенностью сказать, что изменение шрифтов не повлияло на пользователей, все три исследуемой группы не имеют существенной разницы между собой в поведении пользователей"
   ]
  },
  {
   "cell_type": "markdown",
   "metadata": {},
   "source": [
    "Изначально выбрали уровень значимости 0.05, что является стандартной практикой в статистике.Если наша область требует большей чувствительности к обнаружению различий, можно использовать 0.1, что увеличивает вероятность отвергнуть нулевую гипотезу.В нашем случае, при применеии значимости 0.1, 2 раза мог быть получен ложный результат, т.к. мы провели 20 проведенных экспериментов,а значит,  изначальный выбор в 0.05 в данном случае верный"
   ]
  },
  {
   "cell_type": "markdown",
   "metadata": {},
   "source": [
    "Для начала вычислим корректированный уровень значимости \n",
    "𝛼\n",
    "корректированный\n",
    " с использованием метода Бонферрони:\n",
    "\n",
    "𝛼\n",
    "корректированный\n",
    "=\n",
    "𝛼\n",
    "𝑚\n",
    "=\n",
    "0.05\n",
    "20\n",
    "=\n",
    "0.0025\n",
    "FWER (Family-Wise Error Rate)\n",
    "Затем посчитаем FWER:\n",
    "\n",
    "FWER\n",
    "=\n",
    "1\n",
    "−\n",
    "(\n",
    "1\n",
    "−\n",
    "𝛼\n",
    "корректированный\n",
    ")\n",
    "𝑚\n",
    "Подставим \n",
    "𝛼\n",
    "корректированный\n",
    "=\n",
    "0.0025\n",
    " и \n",
    "𝑚\n",
    "=\n",
    "20\n",
    ":\n",
    "\n",
    "FWER\n",
    "=\n",
    "1\n",
    "−\n",
    "(\n",
    "1\n",
    "−\n",
    "0.0025\n",
    ")\n",
    "20\n",
    "Для точного вычисления используем:\n",
    "\n",
    "(\n",
    "1\n",
    "−\n",
    "0.0025\n",
    ")\n",
    "20\n",
    "≈\n",
    "0.9512\n",
    "Таким образом:\n",
    "\n",
    "FWER\n",
    "=\n",
    "1\n",
    "−\n",
    "0.9512\n",
    "≈\n",
    "0.0488\n",
    "\n",
    "Таким образом, даже при проведении 20 тестов, наш скорректированный уровень значимости гарантирует, что риск ошибки первого рода останется около 0.0488, что близко к желаемым 5%. А значит, уровень значимости оставляем"
   ]
  },
  {
   "cell_type": "markdown",
   "metadata": {},
   "source": [
    "<div class=\"alert alert-block alert-danger\">\n",
    "<h2> Комментарий ревьюера ⛔️<a class=\"tocSkip\"></h2>\n",
    "<s>\n",
    "В расчетах мы никак не учитываем, что при множественной проверке гипотез увеличивается риск ложноположительного результата, найти различия там, где их на самом деле нет:\n",
    "    \n",
    "    \n",
    "**Спринт: Принятие решений в бизнесе - Тема: Подготовка к проведению A/B-теста - Урок: Множественные сравнения: A/B и A/B/n-тесты**\n",
    "\n",
    "Как ты думаешь нужно ли корректировать имеющийся уровень значимости с помощью поправки?"
   ]
  },
  {
   "cell_type": "markdown",
   "metadata": {},
   "source": [
    "<div class=\"alert alert-info\"> <b>Комментарий студента:</b> Совсем забыл, спасибо за ссылку, почитал, подставил наше значение, ответ расписал) </div>"
   ]
  },
  {
   "cell_type": "markdown",
   "metadata": {},
   "source": [
    "<div class=\"alert alert-success\">\n",
    "<h2> Комментарий ревьюера 😊 v_2 <a class=\"tocSkip\"> </h2>\n",
    "\n",
    "Все верно, молодец)"
   ]
  },
  {
   "cell_type": "markdown",
   "metadata": {},
   "source": [
    "**Общий вывод 5 Шаг:**\n",
    " - Нашли уникальных пользователей в каждой группе\n",
    " - Проверили 246 и 247 группы, по итогу теста , статистической значимой разницы между ними нет\n",
    " - Выявили самое популярное событие, посчитали число пользователей из каждой подконтрольной группы,а так же по аналогии сделали со всеми остальными событиями,по итогу теста , статистической значимой разницы между группами выявлено не было\n",
    " - Перепроверили уровень статистической значимости в 0.05 , выбор был верен"
   ]
  },
  {
   "cell_type": "markdown",
   "metadata": {},
   "source": [
    "## Общий вывод по проекту:\n",
    "\n",
    "**Шаг 1: Импорт данных и начальная подготовка**\n",
    "\n",
    "На первом шаге мы:\n",
    "- импортировали необходимые библиотеки;\n",
    "- загрузили данные в датафрейм;\n",
    "- изучили общую информацию о полученном датафрейме.\n",
    "\n",
    "**Шаг 2: Подготовка данных**\n",
    "\n",
    "На шаге подготовки данных мы:\n",
    "- переименовали названия столбцов для удобства;\n",
    "- проверили датафреймы на наличие пропусков и дубликатов;\n",
    "- добавили новые столбцы с типом данных `datetime`;\n",
    "- убедились в отсутствии пересечения пользователей в группах: пересечений не найдено.\n",
    "\n",
    "**Шаг 3: Изучение данных**\n",
    "\n",
    "На шаге изучения данных мы:\n",
    "- Посчитали количество событий в логе: 243713;\n",
    "- Посчитали количество уникальных пользователей: 7551;\n",
    "- Вычислили среднее количество событий на пользователя: 20;\n",
    "- Определили минимальную и максимальную даты событий:\n",
    "- Отбросили неполные данные и посчитали потери:\n",
    "  - потеря событий: 2826 из 243713 (1,2%);\n",
    "  - потеря пользователей: 17 из 7551 (0,2%).\n",
    "\n",
    "**Шаг 4: Изучение воронки событий**\n",
    "\n",
    "На шаге изучения воронки событий мы:\n",
    "- Посмотрели, как часто встречаются события в логе:\n",
    "  - MainScreenAppear: 117328 раз;\n",
    "  - OffersScreenAppear: 46333 раз;\n",
    "  - CartScreenAppear: 42303 раз;\n",
    "  - PaymentScreenSuccessful: 33918 раз;\n",
    "  - Tutorial: 1005 раз.\n",
    "- Посчитали, сколько пользователей совершали каждое из этих событий и долю пользователей, которые хоть раз совершали событие:\n",
    "  - MainScreenAppear: 7419 пользователей (98.47%);\n",
    "  - OffersScreenAppear: 4593 пользователей (60.96%);\n",
    "  - CartScreenAppear: 3734 пользователей (49.56%);\n",
    "  - PaymentScreenSuccessful: 3539 пользователей (46.97%);\n",
    "  - Tutorial: 840 пользователей (11.15%).\n",
    "- Предположили порядок событий:\n",
    "  1. MainScreenAppear\n",
    "  2. OffersScreenAppear\n",
    "  3. CartScreenAppear\n",
    "  4. PaymentScreenSuccessful\n",
    "\n",
    "- Исключили событие Tutorial, так как руководство не входит в основную цепочку.\n",
    "- По воронке событий посчитали долю пользователей, проходящих на следующий шаг воронки:\n",
    "  - 7419 пользователей на первом шаге;\n",
    "  - 4613 пользователей доходит до второго шага (62.0%);\n",
    "  - 3749 пользователей доходит до третьего шага (81.3%);\n",
    "  - 3547 пользователей доходит до четвертого шага (94.6%).\n",
    "- Посчитали, что доля пользователей, прошедших от первого события до оплаты, составляет 47.7%.\n",
    "\n",
    "**Шаг 5: Изучение результатов эксперимента**\n",
    "\n",
    "На шаге изучения результатов эксперимента мы:\n",
    "\n",
    "\n",
    "- Определили количество уникальных пользователей в каждой группе:\n",
    "  - в группе 246: 2489 уникальных пользователей;\n",
    "  - в группе 247: 2520 уникальных пользователей;\n",
    "  - в группе 248: 2542 уникальных пользователей.\n",
    "- Выбрали самое популярное событие и посчитали число пользователей, совершивших это событие, а также долю таких пользователей. Проверили статистическую достоверность отличий между группами. Аналогичную процедуру провели для всех других событий.\n",
    "- Создали функцию для тестирования статистических различий между группами по каждому событию.\n",
    "\n",
    "Аналогично поступили с группой с изменённым шрифтом:\n",
    "- Сравнили результаты с каждой из контрольных групп по каждому событию;\n",
    "- Сравнили результаты с объединённой контрольной группой.\n",
    "\n",
    "Полученные выводы:\n",
    "1. Сравнение групп 246 и 247:\n",
    "    - Статистическая значимость отличий отсутствует, обе группы можно считать контрольными. Разбиение на группы корректно.\n",
    "2. Сравнение групп 246 и 248:\n",
    "    - Значимой разницы в поведении пользователей нет.\n",
    "3. Сравнение групп 247 и 248:\n",
    "    - Значимой разницы в поведении пользователей нет.\n",
    "4. Сравнение групп 246+247 и 248:\n",
    "    - Значимой разницы в поведении пользователей нет.\n",
    "5. Мы использовали уровень значимости 0.05, что означает риск ошибки первого рода в одном из 20 случаев. Провели 20 экспериментов.\n",
    "\n",
    "**Заключение**\n",
    "\n",
    "Исходя из результатов эксперимента и проведение анализа, мы можем сказать, что изменение шрифта никак не повдлияет на поведение подконтрольной группы, если данное изменение, вызвано технической необходимостью, его применение будет логично,если же данное изменение в планах было введено с точки зрения повышения результативности - данный метод не подходит"
   ]
  },
  {
   "cell_type": "markdown",
   "metadata": {},
   "source": [
    "<div class=\"alert alert-success\">\n",
    "<h2> Комментарий ревьюера 😊<a class=\"tocSkip\"> </h2>\n",
    "\n",
    "Содержательный вывод по проделанной работе!)"
   ]
  },
  {
   "cell_type": "markdown",
   "metadata": {},
   "source": [
    "<div class=\"alert alert-info\"> <b>Комментарий студента:</b> Спасибо что проверяешь мою работу и оставляешь материал для изучения, вроде бы все недочеты исправил </div>"
   ]
  },
  {
   "cell_type": "markdown",
   "metadata": {},
   "source": [
    "<div style=\"border:solid Purple 2px; padding: 40px\">\n",
    "\n",
    "<h2> Общий комментарий ревьюера 😊 v_2<a class=\"tocSkip\"> </h2>\n",
    "    <br/>\n",
    "Иван, спасибо за проект! Успехов в дальнейшем обучении!)\n",
    "    "
   ]
  },
  {
   "cell_type": "markdown",
   "metadata": {},
   "source": [
    "<div style=\"border:solid Purple 2px; padding: 40px\">\n",
    "\n",
    "<h2> Общий комментарий ревьюера 😊<a class=\"tocSkip\"> </h2>\n",
    "    <br/>\n",
    "Иван, ты отлично справился с проектом, особенно хочу отметить расчеты конверсии и исследовательский анализ)\n",
    "    \n",
    "Необходимо доработать:\n",
    "    \n",
    "* Пересечение по группам\n",
    "* Статистический анализ\n",
    "* Остальные комментарии ты найдешь в работе\n",
    "    \n",
    " \n",
    "**Желаю удачи и жду твой проект на повторное ревью! Если вдруг у тебя возникнут вопросы, то я с радостью отвечу на них.    😊**\n",
    "    \n",
    "  \n",
    "<br>   \n",
    "             \n",
    "**Дополнительные материалы:**\n",
    " \n",
    "[Вебинары под эгидой Практикума](https://vk.com/yandex.praktikum?w=wall-176471180_2144), \n",
    "    \n",
    "[Лекции Анатолия Карпова 1](https://www.youtube.com/watch?v=jnFVmtaeSA0&list=WL&index=19&t=2s) [2](https://www.youtube.com/watch?v=gljfGAkgX_o&list=WL&index=4)\n",
    "    \n",
    "Материалы [gopractice](https://gopractice.ru/summary/)\n",
    "\n",
    "Лекцию Карта статистических методов [Смотреть видео](https://www.youtube.com/watch?v=-zps6hm0nX8&t=1269s)\n",
    "        \n",
    "Статья «Множественные эксперименты: теория и практика» [Читать статью](https://habr.com/ru/company/yandex/blog/476826/)\n",
    "    \n",
    "Статья «Как не надо анализировать A/B тесты. Проблема подглядывания» [Читать статью](https://gopractice.ru/how-not-to-analyze-abtests/)\n",
    "    \n",
    "Видеодоклад «Дешёвые и дорогие тесты гипотез», Светлана Аюпова из Skyeng [Смотреть видео](https://youtu.be/MD6ysrdI4Ro)"
   ]
  },
  {
   "cell_type": "code",
   "execution_count": null,
   "metadata": {},
   "outputs": [],
   "source": []
  }
 ],
 "metadata": {
  "ExecuteTimeLog": [
   {
    "duration": 1365,
    "start_time": "2024-08-26T11:12:27.005Z"
   },
   {
    "duration": 157,
    "start_time": "2024-08-26T11:13:30.157Z"
   },
   {
    "duration": 975,
    "start_time": "2024-08-26T11:13:51.676Z"
   },
   {
    "duration": 196,
    "start_time": "2024-08-26T11:14:10.383Z"
   },
   {
    "duration": 12,
    "start_time": "2024-08-26T11:14:29.117Z"
   },
   {
    "duration": 21,
    "start_time": "2024-08-26T11:14:38.693Z"
   },
   {
    "duration": 20,
    "start_time": "2024-08-26T11:15:34.290Z"
   },
   {
    "duration": 4,
    "start_time": "2024-08-26T11:17:54.935Z"
   },
   {
    "duration": 2,
    "start_time": "2024-08-26T11:19:15.922Z"
   },
   {
    "duration": 1031,
    "start_time": "2024-08-26T11:19:51.746Z"
   },
   {
    "duration": 992,
    "start_time": "2024-08-26T11:20:01.786Z"
   },
   {
    "duration": 987,
    "start_time": "2024-08-26T11:20:40.766Z"
   },
   {
    "duration": 10,
    "start_time": "2024-08-26T11:20:50.548Z"
   },
   {
    "duration": 8,
    "start_time": "2024-08-26T11:20:57.806Z"
   },
   {
    "duration": 2,
    "start_time": "2024-08-26T11:20:59.564Z"
   },
   {
    "duration": 192,
    "start_time": "2024-08-26T11:20:59.568Z"
   },
   {
    "duration": 7,
    "start_time": "2024-08-26T11:20:59.761Z"
   },
   {
    "duration": 19,
    "start_time": "2024-08-26T11:20:59.770Z"
   },
   {
    "duration": 10,
    "start_time": "2024-08-26T11:20:59.791Z"
   },
   {
    "duration": 10,
    "start_time": "2024-08-26T11:20:59.802Z"
   },
   {
    "duration": 9,
    "start_time": "2024-08-26T11:21:17.229Z"
   },
   {
    "duration": 12,
    "start_time": "2024-08-26T11:21:43.833Z"
   },
   {
    "duration": 979,
    "start_time": "2024-08-26T11:23:36.996Z"
   },
   {
    "duration": 982,
    "start_time": "2024-08-26T11:23:42.037Z"
   },
   {
    "duration": 1210,
    "start_time": "2024-08-26T11:24:00.209Z"
   },
   {
    "duration": 972,
    "start_time": "2024-08-26T11:25:03.795Z"
   },
   {
    "duration": 965,
    "start_time": "2024-08-26T11:26:02.159Z"
   },
   {
    "duration": 1038,
    "start_time": "2024-08-26T11:26:27.528Z"
   },
   {
    "duration": 1016,
    "start_time": "2024-08-26T11:26:56.780Z"
   },
   {
    "duration": 3,
    "start_time": "2024-08-26T11:27:02.484Z"
   },
   {
    "duration": 184,
    "start_time": "2024-08-26T11:27:02.489Z"
   },
   {
    "duration": 9,
    "start_time": "2024-08-26T11:27:02.674Z"
   },
   {
    "duration": 21,
    "start_time": "2024-08-26T11:27:02.685Z"
   },
   {
    "duration": 4,
    "start_time": "2024-08-26T11:27:02.726Z"
   },
   {
    "duration": 16,
    "start_time": "2024-08-26T11:27:02.732Z"
   },
   {
    "duration": 1003,
    "start_time": "2024-08-26T11:27:02.750Z"
   },
   {
    "duration": 8,
    "start_time": "2024-08-26T11:27:18.432Z"
   },
   {
    "duration": 21,
    "start_time": "2024-08-26T11:27:26.552Z"
   },
   {
    "duration": 974,
    "start_time": "2024-08-26T11:37:56.899Z"
   },
   {
    "duration": 8,
    "start_time": "2024-08-26T11:38:03.182Z"
   },
   {
    "duration": 982,
    "start_time": "2024-08-26T11:38:09.214Z"
   },
   {
    "duration": 32,
    "start_time": "2024-08-26T11:38:21.740Z"
   },
   {
    "duration": 9,
    "start_time": "2024-08-26T11:38:32.094Z"
   },
   {
    "duration": 47,
    "start_time": "2024-08-27T08:49:22.314Z"
   },
   {
    "duration": 1242,
    "start_time": "2024-08-27T08:49:25.749Z"
   },
   {
    "duration": 665,
    "start_time": "2024-08-27T08:49:26.993Z"
   },
   {
    "duration": 10,
    "start_time": "2024-08-27T08:49:27.660Z"
   },
   {
    "duration": 62,
    "start_time": "2024-08-27T08:49:27.671Z"
   },
   {
    "duration": 22,
    "start_time": "2024-08-27T08:49:27.735Z"
   },
   {
    "duration": 13,
    "start_time": "2024-08-27T08:49:27.759Z"
   },
   {
    "duration": 963,
    "start_time": "2024-08-27T08:49:27.773Z"
   },
   {
    "duration": 8,
    "start_time": "2024-08-27T08:49:28.737Z"
   },
   {
    "duration": 85,
    "start_time": "2024-08-27T08:49:28.746Z"
   },
   {
    "duration": 82,
    "start_time": "2024-08-27T08:49:43.720Z"
   },
   {
    "duration": 35,
    "start_time": "2024-08-27T08:51:00.332Z"
   },
   {
    "duration": 11,
    "start_time": "2024-08-27T08:52:31.827Z"
   },
   {
    "duration": 8,
    "start_time": "2024-08-27T08:52:39.758Z"
   },
   {
    "duration": 17,
    "start_time": "2024-08-27T08:52:54.317Z"
   },
   {
    "duration": 916,
    "start_time": "2024-08-27T08:54:31.340Z"
   },
   {
    "duration": 832,
    "start_time": "2024-08-27T08:54:38.401Z"
   },
   {
    "duration": 16,
    "start_time": "2024-08-27T08:54:46.802Z"
   },
   {
    "duration": 14,
    "start_time": "2024-08-27T08:55:04.199Z"
   },
   {
    "duration": 973,
    "start_time": "2024-08-27T09:28:54.371Z"
   },
   {
    "duration": 377,
    "start_time": "2024-08-27T09:29:02.639Z"
   },
   {
    "duration": 8,
    "start_time": "2024-08-27T10:36:49.718Z"
   },
   {
    "duration": 25,
    "start_time": "2024-08-27T10:36:54.880Z"
   },
   {
    "duration": 44,
    "start_time": "2024-08-27T11:03:30.128Z"
   },
   {
    "duration": 58,
    "start_time": "2024-08-27T11:44:04.975Z"
   },
   {
    "duration": 59,
    "start_time": "2024-08-27T11:44:14.970Z"
   },
   {
    "duration": 61,
    "start_time": "2024-08-27T11:44:35.000Z"
   },
   {
    "duration": 53,
    "start_time": "2024-08-28T10:30:39.465Z"
   },
   {
    "duration": 8,
    "start_time": "2024-08-28T10:30:48.323Z"
   },
   {
    "duration": 1752,
    "start_time": "2024-08-28T10:30:51.994Z"
   },
   {
    "duration": 893,
    "start_time": "2024-08-28T10:30:53.748Z"
   },
   {
    "duration": 11,
    "start_time": "2024-08-28T10:30:54.643Z"
   },
   {
    "duration": 33,
    "start_time": "2024-08-28T10:30:54.656Z"
   },
   {
    "duration": 3,
    "start_time": "2024-08-28T10:30:54.691Z"
   },
   {
    "duration": 26,
    "start_time": "2024-08-28T10:30:54.695Z"
   },
   {
    "duration": 1015,
    "start_time": "2024-08-28T10:30:54.723Z"
   },
   {
    "duration": 9,
    "start_time": "2024-08-28T10:30:55.739Z"
   },
   {
    "duration": 28,
    "start_time": "2024-08-28T10:30:55.750Z"
   },
   {
    "duration": 104,
    "start_time": "2024-08-28T10:30:55.780Z"
   },
   {
    "duration": 24,
    "start_time": "2024-08-28T10:30:55.886Z"
   },
   {
    "duration": 9,
    "start_time": "2024-08-28T10:30:55.912Z"
   },
   {
    "duration": 21,
    "start_time": "2024-08-28T10:30:55.922Z"
   },
   {
    "duration": 20,
    "start_time": "2024-08-28T10:30:55.946Z"
   },
   {
    "duration": 53,
    "start_time": "2024-08-28T10:30:55.968Z"
   },
   {
    "duration": 460,
    "start_time": "2024-08-28T10:30:56.023Z"
   },
   {
    "duration": 52,
    "start_time": "2024-08-28T10:30:56.485Z"
   },
   {
    "duration": 47,
    "start_time": "2024-08-28T10:30:56.538Z"
   },
   {
    "duration": 82,
    "start_time": "2024-08-28T10:30:56.586Z"
   },
   {
    "duration": 107,
    "start_time": "2024-08-28T10:30:56.669Z"
   },
   {
    "duration": 95,
    "start_time": "2024-08-28T10:32:05.976Z"
   },
   {
    "duration": 4,
    "start_time": "2024-08-28T10:38:33.021Z"
   },
   {
    "duration": 69,
    "start_time": "2024-08-28T12:09:29.514Z"
   },
   {
    "duration": 18,
    "start_time": "2024-08-28T12:09:39.038Z"
   },
   {
    "duration": 49,
    "start_time": "2024-08-28T12:09:51.741Z"
   },
   {
    "duration": 11,
    "start_time": "2024-08-28T12:12:02.074Z"
   },
   {
    "duration": 210,
    "start_time": "2024-08-28T12:12:18.973Z"
   },
   {
    "duration": 43,
    "start_time": "2024-08-28T12:12:21.492Z"
   },
   {
    "duration": 4,
    "start_time": "2024-08-28T12:12:29.442Z"
   },
   {
    "duration": 207,
    "start_time": "2024-08-28T12:12:29.449Z"
   },
   {
    "duration": 10,
    "start_time": "2024-08-28T12:12:29.658Z"
   },
   {
    "duration": 35,
    "start_time": "2024-08-28T12:12:29.670Z"
   },
   {
    "duration": 3,
    "start_time": "2024-08-28T12:12:29.707Z"
   },
   {
    "duration": 9,
    "start_time": "2024-08-28T12:12:29.712Z"
   },
   {
    "duration": 1049,
    "start_time": "2024-08-28T12:12:29.723Z"
   },
   {
    "duration": 10,
    "start_time": "2024-08-28T12:12:30.773Z"
   },
   {
    "duration": 45,
    "start_time": "2024-08-28T12:12:30.785Z"
   },
   {
    "duration": 93,
    "start_time": "2024-08-28T12:12:30.832Z"
   },
   {
    "duration": 16,
    "start_time": "2024-08-28T12:12:30.927Z"
   },
   {
    "duration": 18,
    "start_time": "2024-08-28T12:12:30.945Z"
   },
   {
    "duration": 23,
    "start_time": "2024-08-28T12:12:30.964Z"
   },
   {
    "duration": 21,
    "start_time": "2024-08-28T12:12:31.007Z"
   },
   {
    "duration": 23,
    "start_time": "2024-08-28T12:12:31.029Z"
   },
   {
    "duration": 558,
    "start_time": "2024-08-28T12:12:31.054Z"
   },
   {
    "duration": 39,
    "start_time": "2024-08-28T12:12:31.614Z"
   },
   {
    "duration": 58,
    "start_time": "2024-08-28T12:12:31.654Z"
   },
   {
    "duration": 67,
    "start_time": "2024-08-28T12:12:31.714Z"
   },
   {
    "duration": 127,
    "start_time": "2024-08-28T12:12:31.783Z"
   },
   {
    "duration": 4,
    "start_time": "2024-08-28T12:12:31.912Z"
   },
   {
    "duration": 64,
    "start_time": "2024-08-28T12:12:31.918Z"
   },
   {
    "duration": 12,
    "start_time": "2024-08-28T12:12:31.984Z"
   },
   {
    "duration": 11,
    "start_time": "2024-08-28T12:13:12.582Z"
   },
   {
    "duration": 10,
    "start_time": "2024-08-28T12:14:30.380Z"
   },
   {
    "duration": 23,
    "start_time": "2024-08-28T12:16:31.448Z"
   },
   {
    "duration": 38,
    "start_time": "2024-08-28T12:22:33.377Z"
   },
   {
    "duration": 41,
    "start_time": "2024-08-28T12:22:37.943Z"
   },
   {
    "duration": 1069,
    "start_time": "2024-08-28T12:23:43.106Z"
   },
   {
    "duration": 5,
    "start_time": "2024-08-28T12:25:11.264Z"
   },
   {
    "duration": 14,
    "start_time": "2024-08-28T12:30:59.916Z"
   },
   {
    "duration": 13,
    "start_time": "2024-08-28T12:31:33.330Z"
   },
   {
    "duration": 12,
    "start_time": "2024-08-28T12:34:05.565Z"
   },
   {
    "duration": 11,
    "start_time": "2024-08-28T12:34:41.644Z"
   },
   {
    "duration": 11,
    "start_time": "2024-08-28T12:41:34.793Z"
   },
   {
    "duration": 4,
    "start_time": "2024-08-28T12:41:47.508Z"
   },
   {
    "duration": 185,
    "start_time": "2024-08-28T12:41:47.514Z"
   },
   {
    "duration": 10,
    "start_time": "2024-08-28T12:41:47.700Z"
   },
   {
    "duration": 22,
    "start_time": "2024-08-28T12:41:47.712Z"
   },
   {
    "duration": 3,
    "start_time": "2024-08-28T12:41:47.736Z"
   },
   {
    "duration": 22,
    "start_time": "2024-08-28T12:41:47.741Z"
   },
   {
    "duration": 1019,
    "start_time": "2024-08-28T12:41:47.765Z"
   },
   {
    "duration": 8,
    "start_time": "2024-08-28T12:41:48.786Z"
   },
   {
    "duration": 48,
    "start_time": "2024-08-28T12:41:48.796Z"
   },
   {
    "duration": 79,
    "start_time": "2024-08-28T12:41:48.846Z"
   },
   {
    "duration": 16,
    "start_time": "2024-08-28T12:41:48.927Z"
   },
   {
    "duration": 29,
    "start_time": "2024-08-28T12:41:48.944Z"
   },
   {
    "duration": 32,
    "start_time": "2024-08-28T12:41:48.974Z"
   },
   {
    "duration": 21,
    "start_time": "2024-08-28T12:41:49.008Z"
   },
   {
    "duration": 23,
    "start_time": "2024-08-28T12:41:49.031Z"
   },
   {
    "duration": 499,
    "start_time": "2024-08-28T12:41:49.056Z"
   },
   {
    "duration": 59,
    "start_time": "2024-08-28T12:41:49.557Z"
   },
   {
    "duration": 37,
    "start_time": "2024-08-28T12:41:49.618Z"
   },
   {
    "duration": 84,
    "start_time": "2024-08-28T12:41:49.657Z"
   },
   {
    "duration": 102,
    "start_time": "2024-08-28T12:41:49.742Z"
   },
   {
    "duration": 4,
    "start_time": "2024-08-28T12:41:49.845Z"
   },
   {
    "duration": 128,
    "start_time": "2024-08-28T12:41:49.850Z"
   },
   {
    "duration": 10,
    "start_time": "2024-08-28T12:41:49.979Z"
   },
   {
    "duration": 60,
    "start_time": "2024-08-28T12:44:10.717Z"
   },
   {
    "duration": 25,
    "start_time": "2024-08-28T12:44:22.756Z"
   },
   {
    "duration": 10,
    "start_time": "2024-08-28T12:44:41.823Z"
   },
   {
    "duration": 10,
    "start_time": "2024-08-28T12:44:46.989Z"
   },
   {
    "duration": 0,
    "start_time": "2024-08-28T12:45:02.474Z"
   },
   {
    "duration": 0,
    "start_time": "2024-08-28T12:45:02.475Z"
   },
   {
    "duration": 0,
    "start_time": "2024-08-28T12:45:02.476Z"
   },
   {
    "duration": 0,
    "start_time": "2024-08-28T12:45:02.478Z"
   },
   {
    "duration": 0,
    "start_time": "2024-08-28T12:45:02.479Z"
   },
   {
    "duration": 0,
    "start_time": "2024-08-28T12:45:02.480Z"
   },
   {
    "duration": 0,
    "start_time": "2024-08-28T12:45:02.481Z"
   },
   {
    "duration": 0,
    "start_time": "2024-08-28T12:45:02.482Z"
   },
   {
    "duration": 0,
    "start_time": "2024-08-28T12:45:02.483Z"
   },
   {
    "duration": 0,
    "start_time": "2024-08-28T12:45:02.484Z"
   },
   {
    "duration": 0,
    "start_time": "2024-08-28T12:45:02.485Z"
   },
   {
    "duration": 0,
    "start_time": "2024-08-28T12:45:02.505Z"
   },
   {
    "duration": 0,
    "start_time": "2024-08-28T12:45:02.508Z"
   },
   {
    "duration": 0,
    "start_time": "2024-08-28T12:45:02.509Z"
   },
   {
    "duration": 0,
    "start_time": "2024-08-28T12:45:02.511Z"
   },
   {
    "duration": 0,
    "start_time": "2024-08-28T12:45:02.513Z"
   },
   {
    "duration": 0,
    "start_time": "2024-08-28T12:45:02.515Z"
   },
   {
    "duration": 0,
    "start_time": "2024-08-28T12:45:02.516Z"
   },
   {
    "duration": 0,
    "start_time": "2024-08-28T12:45:02.518Z"
   },
   {
    "duration": 0,
    "start_time": "2024-08-28T12:45:02.519Z"
   },
   {
    "duration": 0,
    "start_time": "2024-08-28T12:45:02.521Z"
   },
   {
    "duration": 0,
    "start_time": "2024-08-28T12:45:02.522Z"
   },
   {
    "duration": 0,
    "start_time": "2024-08-28T12:45:02.524Z"
   },
   {
    "duration": 0,
    "start_time": "2024-08-28T12:45:02.525Z"
   },
   {
    "duration": 1035,
    "start_time": "2024-08-28T12:45:44.113Z"
   },
   {
    "duration": 39,
    "start_time": "2024-08-28T12:46:05.321Z"
   },
   {
    "duration": 153,
    "start_time": "2024-08-28T12:46:39.812Z"
   },
   {
    "duration": 24,
    "start_time": "2024-08-28T12:48:25.535Z"
   },
   {
    "duration": 14,
    "start_time": "2024-08-28T12:48:51.139Z"
   },
   {
    "duration": 57,
    "start_time": "2024-08-28T12:49:02.571Z"
   },
   {
    "duration": 28,
    "start_time": "2024-08-28T12:49:02.885Z"
   },
   {
    "duration": 25,
    "start_time": "2024-08-28T12:49:04.111Z"
   },
   {
    "duration": 25,
    "start_time": "2024-08-28T12:50:03.339Z"
   },
   {
    "duration": 27,
    "start_time": "2024-08-28T12:50:16.913Z"
   },
   {
    "duration": 54,
    "start_time": "2024-08-28T12:51:34.900Z"
   },
   {
    "duration": 28,
    "start_time": "2024-08-28T12:55:08.667Z"
   },
   {
    "duration": 31,
    "start_time": "2024-08-28T13:52:32.911Z"
   },
   {
    "duration": 6,
    "start_time": "2024-08-28T13:53:08.039Z"
   },
   {
    "duration": 13,
    "start_time": "2024-08-28T13:53:13.414Z"
   },
   {
    "duration": 127,
    "start_time": "2024-08-28T13:53:28.112Z"
   },
   {
    "duration": 101,
    "start_time": "2024-08-28T13:53:51.170Z"
   },
   {
    "duration": 105,
    "start_time": "2024-08-28T13:54:31.831Z"
   },
   {
    "duration": 1718,
    "start_time": "2024-08-29T09:25:36.475Z"
   },
   {
    "duration": 887,
    "start_time": "2024-08-29T09:25:38.195Z"
   },
   {
    "duration": 13,
    "start_time": "2024-08-29T09:25:39.084Z"
   },
   {
    "duration": 54,
    "start_time": "2024-08-29T09:25:39.098Z"
   },
   {
    "duration": 3,
    "start_time": "2024-08-29T09:25:39.154Z"
   },
   {
    "duration": 16,
    "start_time": "2024-08-29T09:25:39.159Z"
   },
   {
    "duration": 1084,
    "start_time": "2024-08-29T09:25:39.177Z"
   },
   {
    "duration": 11,
    "start_time": "2024-08-29T09:25:40.263Z"
   },
   {
    "duration": 45,
    "start_time": "2024-08-29T09:25:40.276Z"
   },
   {
    "duration": 101,
    "start_time": "2024-08-29T09:25:40.323Z"
   },
   {
    "duration": 15,
    "start_time": "2024-08-29T09:25:40.426Z"
   },
   {
    "duration": 12,
    "start_time": "2024-08-29T09:25:40.443Z"
   },
   {
    "duration": 25,
    "start_time": "2024-08-29T09:25:40.457Z"
   },
   {
    "duration": 37,
    "start_time": "2024-08-29T09:25:40.486Z"
   },
   {
    "duration": 35,
    "start_time": "2024-08-29T09:25:40.525Z"
   },
   {
    "duration": 468,
    "start_time": "2024-08-29T09:25:40.562Z"
   },
   {
    "duration": 47,
    "start_time": "2024-08-29T09:25:41.033Z"
   },
   {
    "duration": 81,
    "start_time": "2024-08-29T09:25:41.081Z"
   },
   {
    "duration": 145,
    "start_time": "2024-08-29T09:25:41.164Z"
   },
   {
    "duration": 225,
    "start_time": "2024-08-29T09:25:41.310Z"
   },
   {
    "duration": 0,
    "start_time": "2024-08-29T09:25:41.537Z"
   },
   {
    "duration": 1,
    "start_time": "2024-08-29T09:25:41.538Z"
   },
   {
    "duration": 0,
    "start_time": "2024-08-29T09:25:41.540Z"
   },
   {
    "duration": 0,
    "start_time": "2024-08-29T09:25:41.542Z"
   },
   {
    "duration": 0,
    "start_time": "2024-08-29T09:25:41.543Z"
   },
   {
    "duration": 0,
    "start_time": "2024-08-29T09:25:41.544Z"
   },
   {
    "duration": 0,
    "start_time": "2024-08-29T09:25:41.546Z"
   },
   {
    "duration": 0,
    "start_time": "2024-08-29T09:25:41.547Z"
   },
   {
    "duration": 0,
    "start_time": "2024-08-29T09:25:41.549Z"
   },
   {
    "duration": 0,
    "start_time": "2024-08-29T09:25:41.550Z"
   },
   {
    "duration": 0,
    "start_time": "2024-08-29T09:25:41.552Z"
   },
   {
    "duration": 94,
    "start_time": "2024-08-29T09:26:45.575Z"
   },
   {
    "duration": 75,
    "start_time": "2024-08-29T09:26:50.684Z"
   },
   {
    "duration": 75,
    "start_time": "2024-08-29T09:27:02.977Z"
   },
   {
    "duration": 9,
    "start_time": "2024-08-29T09:33:01.933Z"
   },
   {
    "duration": 34,
    "start_time": "2024-08-29T09:33:34.537Z"
   },
   {
    "duration": 98,
    "start_time": "2024-08-29T09:36:31.342Z"
   },
   {
    "duration": 3,
    "start_time": "2024-08-29T09:36:49.474Z"
   },
   {
    "duration": 27,
    "start_time": "2024-08-29T09:42:47.332Z"
   },
   {
    "duration": 4,
    "start_time": "2024-08-29T09:46:35.245Z"
   },
   {
    "duration": 3,
    "start_time": "2024-08-29T09:47:10.169Z"
   },
   {
    "duration": 12,
    "start_time": "2024-08-29T09:47:53.999Z"
   },
   {
    "duration": 13,
    "start_time": "2024-08-29T09:48:43.393Z"
   },
   {
    "duration": 18,
    "start_time": "2024-08-29T09:49:21.682Z"
   },
   {
    "duration": 32,
    "start_time": "2024-08-29T09:56:09.419Z"
   },
   {
    "duration": 1215,
    "start_time": "2024-08-29T09:58:20.596Z"
   },
   {
    "duration": 1107,
    "start_time": "2024-08-29T09:58:26.259Z"
   },
   {
    "duration": 1011,
    "start_time": "2024-08-29T09:58:37.211Z"
   },
   {
    "duration": 1064,
    "start_time": "2024-08-29T09:58:39.871Z"
   },
   {
    "duration": 64,
    "start_time": "2024-08-29T09:58:46.783Z"
   },
   {
    "duration": 99,
    "start_time": "2024-08-29T09:58:54.486Z"
   },
   {
    "duration": 561,
    "start_time": "2024-08-29T10:00:15.729Z"
   },
   {
    "duration": 366,
    "start_time": "2024-08-29T10:00:38.139Z"
   },
   {
    "duration": 4,
    "start_time": "2024-08-29T10:04:30.418Z"
   },
   {
    "duration": 201,
    "start_time": "2024-08-29T10:04:30.424Z"
   },
   {
    "duration": 8,
    "start_time": "2024-08-29T10:04:30.627Z"
   },
   {
    "duration": 23,
    "start_time": "2024-08-29T10:04:30.637Z"
   },
   {
    "duration": 3,
    "start_time": "2024-08-29T10:04:30.662Z"
   },
   {
    "duration": 15,
    "start_time": "2024-08-29T10:04:30.667Z"
   },
   {
    "duration": 1092,
    "start_time": "2024-08-29T10:04:30.684Z"
   },
   {
    "duration": 9,
    "start_time": "2024-08-29T10:04:31.778Z"
   },
   {
    "duration": 54,
    "start_time": "2024-08-29T10:04:31.788Z"
   },
   {
    "duration": 84,
    "start_time": "2024-08-29T10:04:31.844Z"
   },
   {
    "duration": 129,
    "start_time": "2024-08-29T10:04:31.930Z"
   },
   {
    "duration": 85,
    "start_time": "2024-08-29T10:04:32.061Z"
   },
   {
    "duration": 14,
    "start_time": "2024-08-29T10:04:32.148Z"
   },
   {
    "duration": 8,
    "start_time": "2024-08-29T10:04:32.166Z"
   },
   {
    "duration": 47,
    "start_time": "2024-08-29T10:04:32.175Z"
   },
   {
    "duration": 22,
    "start_time": "2024-08-29T10:04:32.223Z"
   },
   {
    "duration": 21,
    "start_time": "2024-08-29T10:04:32.247Z"
   },
   {
    "duration": 472,
    "start_time": "2024-08-29T10:04:32.270Z"
   },
   {
    "duration": 29,
    "start_time": "2024-08-29T10:04:32.744Z"
   },
   {
    "duration": 3,
    "start_time": "2024-08-29T10:04:32.775Z"
   },
   {
    "duration": 13,
    "start_time": "2024-08-29T10:04:32.780Z"
   },
   {
    "duration": 11,
    "start_time": "2024-08-29T10:04:32.806Z"
   },
   {
    "duration": 14,
    "start_time": "2024-08-29T10:04:32.819Z"
   },
   {
    "duration": 30,
    "start_time": "2024-08-29T10:04:32.835Z"
   },
   {
    "duration": 52,
    "start_time": "2024-08-29T10:04:32.867Z"
   },
   {
    "duration": 69,
    "start_time": "2024-08-29T10:04:32.921Z"
   },
   {
    "duration": 119,
    "start_time": "2024-08-29T10:04:33.006Z"
   },
   {
    "duration": 431,
    "start_time": "2024-08-29T10:04:33.127Z"
   },
   {
    "duration": 3,
    "start_time": "2024-08-29T10:04:33.560Z"
   },
   {
    "duration": 71,
    "start_time": "2024-08-29T10:04:33.565Z"
   },
   {
    "duration": 25,
    "start_time": "2024-08-29T10:04:33.638Z"
   },
   {
    "duration": 82,
    "start_time": "2024-08-29T10:04:33.665Z"
   },
   {
    "duration": 28,
    "start_time": "2024-08-29T10:04:33.749Z"
   },
   {
    "duration": 75,
    "start_time": "2024-08-29T10:04:33.779Z"
   },
   {
    "duration": 30,
    "start_time": "2024-08-29T10:04:33.856Z"
   },
   {
    "duration": 7,
    "start_time": "2024-08-29T10:04:33.887Z"
   },
   {
    "duration": 113,
    "start_time": "2024-08-29T10:04:33.895Z"
   },
   {
    "duration": 112,
    "start_time": "2024-08-29T10:04:34.010Z"
   },
   {
    "duration": 111,
    "start_time": "2024-08-29T10:04:34.124Z"
   },
   {
    "duration": 7,
    "start_time": "2024-08-29T10:07:22.077Z"
   },
   {
    "duration": 124,
    "start_time": "2024-08-29T10:07:28.718Z"
   },
   {
    "duration": 17,
    "start_time": "2024-08-29T10:08:47.715Z"
   },
   {
    "duration": 154,
    "start_time": "2024-08-29T10:09:06.829Z"
   },
   {
    "duration": 1441,
    "start_time": "2024-08-29T15:31:56.635Z"
   },
   {
    "duration": 187,
    "start_time": "2024-08-29T15:31:58.078Z"
   },
   {
    "duration": 11,
    "start_time": "2024-08-29T15:31:58.266Z"
   },
   {
    "duration": 24,
    "start_time": "2024-08-29T15:31:58.279Z"
   },
   {
    "duration": 3,
    "start_time": "2024-08-29T15:31:58.305Z"
   },
   {
    "duration": 30,
    "start_time": "2024-08-29T15:31:58.309Z"
   },
   {
    "duration": 1009,
    "start_time": "2024-08-29T15:31:58.345Z"
   },
   {
    "duration": 10,
    "start_time": "2024-08-29T15:31:59.355Z"
   },
   {
    "duration": 32,
    "start_time": "2024-08-29T15:31:59.366Z"
   },
   {
    "duration": 113,
    "start_time": "2024-08-29T15:31:59.401Z"
   },
   {
    "duration": 127,
    "start_time": "2024-08-29T15:31:59.516Z"
   },
   {
    "duration": 73,
    "start_time": "2024-08-29T15:31:59.645Z"
   },
   {
    "duration": 26,
    "start_time": "2024-08-29T15:31:59.719Z"
   },
   {
    "duration": 7,
    "start_time": "2024-08-29T15:31:59.748Z"
   },
   {
    "duration": 23,
    "start_time": "2024-08-29T15:31:59.757Z"
   },
   {
    "duration": 22,
    "start_time": "2024-08-29T15:31:59.781Z"
   },
   {
    "duration": 51,
    "start_time": "2024-08-29T15:31:59.805Z"
   },
   {
    "duration": 455,
    "start_time": "2024-08-29T15:31:59.857Z"
   },
   {
    "duration": 38,
    "start_time": "2024-08-29T15:32:00.313Z"
   },
   {
    "duration": 4,
    "start_time": "2024-08-29T15:32:00.353Z"
   },
   {
    "duration": 51,
    "start_time": "2024-08-29T15:32:00.358Z"
   },
   {
    "duration": 33,
    "start_time": "2024-08-29T15:32:00.410Z"
   },
   {
    "duration": 14,
    "start_time": "2024-08-29T15:32:00.444Z"
   },
   {
    "duration": 108,
    "start_time": "2024-08-29T15:32:00.459Z"
   },
   {
    "duration": 44,
    "start_time": "2024-08-29T15:32:00.570Z"
   },
   {
    "duration": 77,
    "start_time": "2024-08-29T15:32:00.616Z"
   },
   {
    "duration": 112,
    "start_time": "2024-08-29T15:32:00.695Z"
   },
   {
    "duration": 541,
    "start_time": "2024-08-29T15:32:00.810Z"
   },
   {
    "duration": 0,
    "start_time": "2024-08-29T15:32:01.353Z"
   },
   {
    "duration": 0,
    "start_time": "2024-08-29T15:32:01.354Z"
   },
   {
    "duration": 0,
    "start_time": "2024-08-29T15:32:01.355Z"
   },
   {
    "duration": 0,
    "start_time": "2024-08-29T15:32:01.356Z"
   },
   {
    "duration": 0,
    "start_time": "2024-08-29T15:32:01.357Z"
   },
   {
    "duration": 0,
    "start_time": "2024-08-29T15:32:01.358Z"
   },
   {
    "duration": 0,
    "start_time": "2024-08-29T15:32:01.359Z"
   },
   {
    "duration": 0,
    "start_time": "2024-08-29T15:32:01.360Z"
   },
   {
    "duration": 0,
    "start_time": "2024-08-29T15:32:01.361Z"
   },
   {
    "duration": 0,
    "start_time": "2024-08-29T15:32:01.362Z"
   },
   {
    "duration": 0,
    "start_time": "2024-08-29T15:32:01.363Z"
   },
   {
    "duration": 0,
    "start_time": "2024-08-29T15:32:01.364Z"
   },
   {
    "duration": 1,
    "start_time": "2024-08-29T15:32:01.365Z"
   },
   {
    "duration": 1419,
    "start_time": "2024-08-29T18:21:59.356Z"
   },
   {
    "duration": 186,
    "start_time": "2024-08-29T18:22:00.776Z"
   },
   {
    "duration": 11,
    "start_time": "2024-08-29T18:22:00.964Z"
   },
   {
    "duration": 50,
    "start_time": "2024-08-29T18:22:00.977Z"
   },
   {
    "duration": 3,
    "start_time": "2024-08-29T18:22:01.029Z"
   },
   {
    "duration": 32,
    "start_time": "2024-08-29T18:22:01.034Z"
   },
   {
    "duration": 960,
    "start_time": "2024-08-29T18:22:01.068Z"
   },
   {
    "duration": 8,
    "start_time": "2024-08-29T18:22:02.030Z"
   },
   {
    "duration": 36,
    "start_time": "2024-08-29T18:22:02.046Z"
   },
   {
    "duration": 92,
    "start_time": "2024-08-29T18:22:02.084Z"
   },
   {
    "duration": 129,
    "start_time": "2024-08-29T18:22:02.178Z"
   },
   {
    "duration": 78,
    "start_time": "2024-08-29T18:22:02.309Z"
   },
   {
    "duration": 15,
    "start_time": "2024-08-29T18:22:02.389Z"
   },
   {
    "duration": 16,
    "start_time": "2024-08-29T18:22:02.405Z"
   },
   {
    "duration": 31,
    "start_time": "2024-08-29T18:22:02.423Z"
   },
   {
    "duration": 22,
    "start_time": "2024-08-29T18:22:02.456Z"
   },
   {
    "duration": 24,
    "start_time": "2024-08-29T18:22:02.480Z"
   },
   {
    "duration": 504,
    "start_time": "2024-08-29T18:22:02.506Z"
   },
   {
    "duration": 37,
    "start_time": "2024-08-29T18:22:03.011Z"
   },
   {
    "duration": 4,
    "start_time": "2024-08-29T18:22:03.050Z"
   },
   {
    "duration": 9,
    "start_time": "2024-08-29T18:22:03.056Z"
   },
   {
    "duration": 16,
    "start_time": "2024-08-29T18:22:03.066Z"
   },
   {
    "duration": 11,
    "start_time": "2024-08-29T18:22:03.083Z"
   },
   {
    "duration": 113,
    "start_time": "2024-08-29T18:22:03.096Z"
   },
   {
    "duration": 73,
    "start_time": "2024-08-29T18:22:03.211Z"
   },
   {
    "duration": 77,
    "start_time": "2024-08-29T18:22:03.285Z"
   },
   {
    "duration": 103,
    "start_time": "2024-08-29T18:22:03.363Z"
   },
   {
    "duration": 484,
    "start_time": "2024-08-29T18:22:03.469Z"
   },
   {
    "duration": 1,
    "start_time": "2024-08-29T18:22:03.954Z"
   },
   {
    "duration": 0,
    "start_time": "2024-08-29T18:22:03.956Z"
   },
   {
    "duration": 0,
    "start_time": "2024-08-29T18:22:03.957Z"
   },
   {
    "duration": 0,
    "start_time": "2024-08-29T18:22:03.958Z"
   },
   {
    "duration": 0,
    "start_time": "2024-08-29T18:22:03.959Z"
   },
   {
    "duration": 0,
    "start_time": "2024-08-29T18:22:03.960Z"
   },
   {
    "duration": 0,
    "start_time": "2024-08-29T18:22:03.961Z"
   },
   {
    "duration": 0,
    "start_time": "2024-08-29T18:22:03.962Z"
   },
   {
    "duration": 0,
    "start_time": "2024-08-29T18:22:03.963Z"
   },
   {
    "duration": 0,
    "start_time": "2024-08-29T18:22:03.965Z"
   },
   {
    "duration": 0,
    "start_time": "2024-08-29T18:22:03.965Z"
   },
   {
    "duration": 0,
    "start_time": "2024-08-29T18:22:03.966Z"
   },
   {
    "duration": 0,
    "start_time": "2024-08-29T18:22:03.968Z"
   },
   {
    "duration": 1448,
    "start_time": "2024-08-29T18:53:57.016Z"
   },
   {
    "duration": 230,
    "start_time": "2024-08-29T18:53:58.466Z"
   },
   {
    "duration": 16,
    "start_time": "2024-08-29T18:53:58.698Z"
   },
   {
    "duration": 39,
    "start_time": "2024-08-29T18:53:58.717Z"
   },
   {
    "duration": 4,
    "start_time": "2024-08-29T18:53:58.757Z"
   },
   {
    "duration": 21,
    "start_time": "2024-08-29T18:53:58.762Z"
   },
   {
    "duration": 1003,
    "start_time": "2024-08-29T18:53:58.784Z"
   },
   {
    "duration": 9,
    "start_time": "2024-08-29T18:53:59.788Z"
   },
   {
    "duration": 52,
    "start_time": "2024-08-29T18:53:59.798Z"
   },
   {
    "duration": 84,
    "start_time": "2024-08-29T18:53:59.852Z"
   },
   {
    "duration": 127,
    "start_time": "2024-08-29T18:53:59.937Z"
   },
   {
    "duration": 72,
    "start_time": "2024-08-29T18:54:00.065Z"
   },
   {
    "duration": 74,
    "start_time": "2024-08-29T18:54:00.146Z"
   },
   {
    "duration": 31,
    "start_time": "2024-08-29T18:54:00.222Z"
   },
   {
    "duration": 49,
    "start_time": "2024-08-29T18:54:00.254Z"
   },
   {
    "duration": 124,
    "start_time": "2024-08-29T18:54:00.305Z"
   },
   {
    "duration": 62,
    "start_time": "2024-08-29T18:54:00.431Z"
   },
   {
    "duration": 520,
    "start_time": "2024-08-29T18:54:00.495Z"
   },
   {
    "duration": 35,
    "start_time": "2024-08-29T18:54:01.016Z"
   },
   {
    "duration": 20,
    "start_time": "2024-08-29T18:54:01.052Z"
   },
   {
    "duration": 24,
    "start_time": "2024-08-29T18:54:01.074Z"
   },
   {
    "duration": 22,
    "start_time": "2024-08-29T18:54:01.100Z"
   },
   {
    "duration": 38,
    "start_time": "2024-08-29T18:54:01.123Z"
   },
   {
    "duration": 105,
    "start_time": "2024-08-29T18:54:01.163Z"
   },
   {
    "duration": 42,
    "start_time": "2024-08-29T18:54:01.270Z"
   },
   {
    "duration": 87,
    "start_time": "2024-08-29T18:54:01.314Z"
   },
   {
    "duration": 112,
    "start_time": "2024-08-29T18:54:01.403Z"
   },
   {
    "duration": 510,
    "start_time": "2024-08-29T18:54:01.519Z"
   },
   {
    "duration": 0,
    "start_time": "2024-08-29T18:54:02.031Z"
   },
   {
    "duration": 0,
    "start_time": "2024-08-29T18:54:02.032Z"
   },
   {
    "duration": 0,
    "start_time": "2024-08-29T18:54:02.033Z"
   },
   {
    "duration": 0,
    "start_time": "2024-08-29T18:54:02.034Z"
   },
   {
    "duration": 0,
    "start_time": "2024-08-29T18:54:02.034Z"
   },
   {
    "duration": 0,
    "start_time": "2024-08-29T18:54:02.035Z"
   },
   {
    "duration": 0,
    "start_time": "2024-08-29T18:54:02.036Z"
   },
   {
    "duration": 0,
    "start_time": "2024-08-29T18:54:02.037Z"
   },
   {
    "duration": 0,
    "start_time": "2024-08-29T18:54:02.038Z"
   },
   {
    "duration": 0,
    "start_time": "2024-08-29T18:54:02.046Z"
   },
   {
    "duration": 0,
    "start_time": "2024-08-29T18:54:02.047Z"
   },
   {
    "duration": 0,
    "start_time": "2024-08-29T18:54:02.048Z"
   },
   {
    "duration": 0,
    "start_time": "2024-08-29T18:54:02.049Z"
   },
   {
    "duration": 4,
    "start_time": "2024-08-29T19:02:00.892Z"
   },
   {
    "duration": 46,
    "start_time": "2024-08-29T19:02:03.947Z"
   },
   {
    "duration": 32,
    "start_time": "2024-08-29T19:02:03.995Z"
   },
   {
    "duration": 67,
    "start_time": "2024-08-29T19:02:04.046Z"
   },
   {
    "duration": 45,
    "start_time": "2024-08-29T19:02:04.115Z"
   },
   {
    "duration": 31,
    "start_time": "2024-08-29T19:02:04.162Z"
   },
   {
    "duration": 28,
    "start_time": "2024-08-29T19:02:04.195Z"
   },
   {
    "duration": 26,
    "start_time": "2024-08-29T19:02:04.225Z"
   },
   {
    "duration": 119,
    "start_time": "2024-08-29T19:02:04.253Z"
   },
   {
    "duration": 110,
    "start_time": "2024-08-29T19:02:04.374Z"
   },
   {
    "duration": 108,
    "start_time": "2024-08-29T19:02:04.486Z"
   },
   {
    "duration": 15,
    "start_time": "2024-08-29T19:02:04.596Z"
   },
   {
    "duration": 164,
    "start_time": "2024-08-29T19:02:04.613Z"
   },
   {
    "duration": 63,
    "start_time": "2024-08-29T19:14:07.630Z"
   },
   {
    "duration": 11,
    "start_time": "2024-08-29T19:29:21.746Z"
   },
   {
    "duration": 1454,
    "start_time": "2024-09-01T11:52:38.131Z"
   },
   {
    "duration": 964,
    "start_time": "2024-09-01T11:52:39.586Z"
   },
   {
    "duration": 11,
    "start_time": "2024-09-01T11:52:40.552Z"
   },
   {
    "duration": 21,
    "start_time": "2024-09-01T11:52:40.564Z"
   },
   {
    "duration": 3,
    "start_time": "2024-09-01T11:52:40.587Z"
   },
   {
    "duration": 18,
    "start_time": "2024-09-01T11:52:40.591Z"
   },
   {
    "duration": 896,
    "start_time": "2024-09-01T11:52:40.611Z"
   },
   {
    "duration": 8,
    "start_time": "2024-09-01T11:52:41.508Z"
   },
   {
    "duration": 35,
    "start_time": "2024-09-01T11:52:41.518Z"
   },
   {
    "duration": 91,
    "start_time": "2024-09-01T11:52:41.555Z"
   },
   {
    "duration": 126,
    "start_time": "2024-09-01T11:52:41.648Z"
   },
   {
    "duration": 69,
    "start_time": "2024-09-01T11:52:41.776Z"
   },
   {
    "duration": 13,
    "start_time": "2024-09-01T11:52:41.846Z"
   },
   {
    "duration": 28,
    "start_time": "2024-09-01T11:52:41.862Z"
   },
   {
    "duration": 19,
    "start_time": "2024-09-01T11:52:41.892Z"
   },
   {
    "duration": 19,
    "start_time": "2024-09-01T11:52:41.913Z"
   },
   {
    "duration": 31,
    "start_time": "2024-09-01T11:52:41.933Z"
   },
   {
    "duration": 416,
    "start_time": "2024-09-01T11:52:41.966Z"
   },
   {
    "duration": 385,
    "start_time": "2024-09-01T11:52:42.384Z"
   },
   {
    "duration": 33,
    "start_time": "2024-09-01T11:52:42.771Z"
   },
   {
    "duration": 4,
    "start_time": "2024-09-01T11:52:42.806Z"
   },
   {
    "duration": 26,
    "start_time": "2024-09-01T11:52:42.811Z"
   },
   {
    "duration": 17,
    "start_time": "2024-09-01T11:52:42.839Z"
   },
   {
    "duration": 12,
    "start_time": "2024-09-01T11:52:42.858Z"
   },
   {
    "duration": 18,
    "start_time": "2024-09-01T11:52:42.872Z"
   },
   {
    "duration": 35,
    "start_time": "2024-09-01T11:52:42.891Z"
   },
   {
    "duration": 71,
    "start_time": "2024-09-01T11:52:42.927Z"
   },
   {
    "duration": 96,
    "start_time": "2024-09-01T11:52:43.000Z"
   },
   {
    "duration": 498,
    "start_time": "2024-09-01T11:52:43.097Z"
   },
   {
    "duration": 0,
    "start_time": "2024-09-01T11:52:43.597Z"
   },
   {
    "duration": 0,
    "start_time": "2024-09-01T11:52:43.598Z"
   },
   {
    "duration": 0,
    "start_time": "2024-09-01T11:52:43.599Z"
   },
   {
    "duration": 0,
    "start_time": "2024-09-01T11:52:43.599Z"
   },
   {
    "duration": 0,
    "start_time": "2024-09-01T11:52:43.601Z"
   },
   {
    "duration": 0,
    "start_time": "2024-09-01T11:52:43.602Z"
   },
   {
    "duration": 0,
    "start_time": "2024-09-01T11:52:43.603Z"
   },
   {
    "duration": 0,
    "start_time": "2024-09-01T11:52:43.604Z"
   },
   {
    "duration": 0,
    "start_time": "2024-09-01T11:52:43.605Z"
   },
   {
    "duration": 0,
    "start_time": "2024-09-01T11:52:43.606Z"
   },
   {
    "duration": 0,
    "start_time": "2024-09-01T11:52:43.607Z"
   },
   {
    "duration": 0,
    "start_time": "2024-09-01T11:52:43.608Z"
   },
   {
    "duration": 0,
    "start_time": "2024-09-01T11:52:43.609Z"
   },
   {
    "duration": 19,
    "start_time": "2024-09-01T11:55:59.093Z"
   },
   {
    "duration": 51,
    "start_time": "2024-09-01T11:56:08.753Z"
   },
   {
    "duration": 49,
    "start_time": "2024-09-01T11:57:32.751Z"
   },
   {
    "duration": 322,
    "start_time": "2024-09-01T11:58:24.142Z"
   },
   {
    "duration": 377,
    "start_time": "2024-09-01T11:58:27.267Z"
   },
   {
    "duration": 435,
    "start_time": "2024-09-01T11:59:14.609Z"
   },
   {
    "duration": 371,
    "start_time": "2024-09-01T12:00:04.182Z"
   },
   {
    "duration": 12,
    "start_time": "2024-09-01T12:01:23.150Z"
   },
   {
    "duration": 4,
    "start_time": "2024-09-01T12:01:27.255Z"
   },
   {
    "duration": 190,
    "start_time": "2024-09-01T12:01:27.261Z"
   },
   {
    "duration": 7,
    "start_time": "2024-09-01T12:01:27.453Z"
   },
   {
    "duration": 20,
    "start_time": "2024-09-01T12:01:27.462Z"
   },
   {
    "duration": 2,
    "start_time": "2024-09-01T12:01:27.490Z"
   },
   {
    "duration": 7,
    "start_time": "2024-09-01T12:01:27.494Z"
   },
   {
    "duration": 910,
    "start_time": "2024-09-01T12:01:27.503Z"
   },
   {
    "duration": 8,
    "start_time": "2024-09-01T12:01:28.415Z"
   },
   {
    "duration": 27,
    "start_time": "2024-09-01T12:01:28.424Z"
   },
   {
    "duration": 89,
    "start_time": "2024-09-01T12:01:28.453Z"
   },
   {
    "duration": 104,
    "start_time": "2024-09-01T12:01:28.544Z"
   },
   {
    "duration": 79,
    "start_time": "2024-09-01T12:01:28.649Z"
   },
   {
    "duration": 14,
    "start_time": "2024-09-01T12:01:28.730Z"
   },
   {
    "duration": 12,
    "start_time": "2024-09-01T12:01:28.748Z"
   },
   {
    "duration": 36,
    "start_time": "2024-09-01T12:01:28.762Z"
   },
   {
    "duration": 20,
    "start_time": "2024-09-01T12:01:28.800Z"
   },
   {
    "duration": 22,
    "start_time": "2024-09-01T12:01:28.822Z"
   },
   {
    "duration": 401,
    "start_time": "2024-09-01T12:01:28.846Z"
   },
   {
    "duration": 311,
    "start_time": "2024-09-01T12:01:29.249Z"
   },
   {
    "duration": 35,
    "start_time": "2024-09-01T12:01:29.562Z"
   },
   {
    "duration": 8,
    "start_time": "2024-09-01T12:01:29.599Z"
   },
   {
    "duration": 4,
    "start_time": "2024-09-01T12:01:29.609Z"
   },
   {
    "duration": 12,
    "start_time": "2024-09-01T12:01:29.614Z"
   },
   {
    "duration": 14,
    "start_time": "2024-09-01T12:01:29.627Z"
   },
   {
    "duration": 14,
    "start_time": "2024-09-01T12:01:29.643Z"
   },
   {
    "duration": 43,
    "start_time": "2024-09-01T12:01:29.658Z"
   },
   {
    "duration": 145,
    "start_time": "2024-09-01T12:01:29.702Z"
   },
   {
    "duration": 46,
    "start_time": "2024-09-01T12:01:29.848Z"
   },
   {
    "duration": 60,
    "start_time": "2024-09-01T12:01:29.896Z"
   },
   {
    "duration": 101,
    "start_time": "2024-09-01T12:01:29.957Z"
   },
   {
    "duration": 390,
    "start_time": "2024-09-01T12:01:30.059Z"
   },
   {
    "duration": 3,
    "start_time": "2024-09-01T12:01:30.451Z"
   },
   {
    "duration": 43,
    "start_time": "2024-09-01T12:01:30.456Z"
   },
   {
    "duration": 21,
    "start_time": "2024-09-01T12:01:30.501Z"
   },
   {
    "duration": 70,
    "start_time": "2024-09-01T12:01:30.524Z"
   },
   {
    "duration": 24,
    "start_time": "2024-09-01T12:01:30.595Z"
   },
   {
    "duration": 23,
    "start_time": "2024-09-01T12:01:30.621Z"
   },
   {
    "duration": 53,
    "start_time": "2024-09-01T12:01:30.646Z"
   },
   {
    "duration": 7,
    "start_time": "2024-09-01T12:01:30.700Z"
   },
   {
    "duration": 111,
    "start_time": "2024-09-01T12:01:30.708Z"
   },
   {
    "duration": 98,
    "start_time": "2024-09-01T12:01:30.822Z"
   },
   {
    "duration": 98,
    "start_time": "2024-09-01T12:01:30.922Z"
   },
   {
    "duration": 12,
    "start_time": "2024-09-01T12:01:31.022Z"
   },
   {
    "duration": 144,
    "start_time": "2024-09-01T12:01:31.035Z"
   },
   {
    "duration": 17,
    "start_time": "2024-09-01T12:02:51.749Z"
   },
   {
    "duration": 19,
    "start_time": "2024-09-01T12:05:01.842Z"
   },
   {
    "duration": 7,
    "start_time": "2024-09-01T12:05:57.337Z"
   },
   {
    "duration": 28,
    "start_time": "2024-09-01T12:09:40.884Z"
   },
   {
    "duration": 26,
    "start_time": "2024-09-01T12:09:50.339Z"
   },
   {
    "duration": 26,
    "start_time": "2024-09-01T12:10:02.726Z"
   },
   {
    "duration": 30,
    "start_time": "2024-09-01T12:10:08.998Z"
   },
   {
    "duration": 27,
    "start_time": "2024-09-01T12:10:50.293Z"
   },
   {
    "duration": 37,
    "start_time": "2024-09-01T12:11:26.856Z"
   },
   {
    "duration": 27,
    "start_time": "2024-09-01T12:11:30.142Z"
   },
   {
    "duration": 38,
    "start_time": "2024-09-01T12:11:44.931Z"
   },
   {
    "duration": 3,
    "start_time": "2024-09-01T12:13:20.157Z"
   },
   {
    "duration": 18,
    "start_time": "2024-09-01T12:13:57.355Z"
   },
   {
    "duration": 42,
    "start_time": "2024-09-01T12:14:53.418Z"
   },
   {
    "duration": 33,
    "start_time": "2024-09-01T12:20:40.503Z"
   },
   {
    "duration": 27,
    "start_time": "2024-09-01T12:20:44.441Z"
   },
   {
    "duration": 27,
    "start_time": "2024-09-01T12:22:46.589Z"
   },
   {
    "duration": 12,
    "start_time": "2024-09-01T12:24:43.357Z"
   },
   {
    "duration": 1045,
    "start_time": "2024-09-01T12:25:04.521Z"
   },
   {
    "duration": 33,
    "start_time": "2024-09-01T12:25:20.714Z"
   },
   {
    "duration": 65,
    "start_time": "2024-09-01T12:25:22.309Z"
   },
   {
    "duration": 26,
    "start_time": "2024-09-01T12:25:22.926Z"
   },
   {
    "duration": 37,
    "start_time": "2024-09-01T12:25:23.212Z"
   },
   {
    "duration": 28,
    "start_time": "2024-09-01T12:25:25.423Z"
   },
   {
    "duration": 5,
    "start_time": "2024-09-01T12:25:25.777Z"
   },
   {
    "duration": 998,
    "start_time": "2024-09-01T12:25:26.621Z"
   },
   {
    "duration": 950,
    "start_time": "2024-09-01T12:26:46.621Z"
   },
   {
    "duration": 987,
    "start_time": "2024-09-01T12:27:28.085Z"
   },
   {
    "duration": 998,
    "start_time": "2024-09-01T12:27:36.000Z"
   },
   {
    "duration": 57,
    "start_time": "2024-09-01T12:37:33.087Z"
   },
   {
    "duration": 29,
    "start_time": "2024-09-01T12:37:41.126Z"
   },
   {
    "duration": 38,
    "start_time": "2024-09-01T12:38:26.072Z"
   },
   {
    "duration": 57,
    "start_time": "2024-09-01T12:39:25.810Z"
   },
   {
    "duration": 12,
    "start_time": "2024-09-01T12:39:30.690Z"
   },
   {
    "duration": 102,
    "start_time": "2024-09-01T12:39:43.327Z"
   },
   {
    "duration": 29,
    "start_time": "2024-09-01T12:40:12.618Z"
   },
   {
    "duration": 6,
    "start_time": "2024-09-01T12:40:13.637Z"
   },
   {
    "duration": 101,
    "start_time": "2024-09-01T12:40:14.867Z"
   },
   {
    "duration": 101,
    "start_time": "2024-09-01T12:40:18.742Z"
   },
   {
    "duration": 94,
    "start_time": "2024-09-01T12:40:21.670Z"
   },
   {
    "duration": 20,
    "start_time": "2024-09-01T12:40:22.377Z"
   },
   {
    "duration": 151,
    "start_time": "2024-09-01T12:40:22.869Z"
   },
   {
    "duration": 32,
    "start_time": "2024-09-01T13:08:03.235Z"
   },
   {
    "duration": 1412,
    "start_time": "2024-09-01T13:29:32.694Z"
   },
   {
    "duration": 805,
    "start_time": "2024-09-01T13:29:34.108Z"
   },
   {
    "duration": 11,
    "start_time": "2024-09-01T13:29:34.915Z"
   },
   {
    "duration": 21,
    "start_time": "2024-09-01T13:29:34.928Z"
   },
   {
    "duration": 3,
    "start_time": "2024-09-01T13:29:34.951Z"
   },
   {
    "duration": 23,
    "start_time": "2024-09-01T13:29:34.955Z"
   },
   {
    "duration": 1018,
    "start_time": "2024-09-01T13:29:34.980Z"
   },
   {
    "duration": 9,
    "start_time": "2024-09-01T13:29:35.999Z"
   },
   {
    "duration": 53,
    "start_time": "2024-09-01T13:29:36.009Z"
   },
   {
    "duration": 88,
    "start_time": "2024-09-01T13:29:36.065Z"
   },
   {
    "duration": 152,
    "start_time": "2024-09-01T13:29:36.155Z"
   },
   {
    "duration": 82,
    "start_time": "2024-09-01T13:29:36.309Z"
   },
   {
    "duration": 14,
    "start_time": "2024-09-01T13:29:36.393Z"
   },
   {
    "duration": 17,
    "start_time": "2024-09-01T13:29:36.409Z"
   },
   {
    "duration": 20,
    "start_time": "2024-09-01T13:29:36.428Z"
   },
   {
    "duration": 44,
    "start_time": "2024-09-01T13:29:36.449Z"
   },
   {
    "duration": 48,
    "start_time": "2024-09-01T13:29:36.495Z"
   },
   {
    "duration": 497,
    "start_time": "2024-09-01T13:29:36.544Z"
   },
   {
    "duration": 416,
    "start_time": "2024-09-01T13:29:37.043Z"
   },
   {
    "duration": 36,
    "start_time": "2024-09-01T13:29:37.460Z"
   },
   {
    "duration": 4,
    "start_time": "2024-09-01T13:29:37.497Z"
   },
   {
    "duration": 8,
    "start_time": "2024-09-01T13:29:37.502Z"
   },
   {
    "duration": 21,
    "start_time": "2024-09-01T13:29:37.511Z"
   },
   {
    "duration": 18,
    "start_time": "2024-09-01T13:29:37.534Z"
   },
   {
    "duration": 13,
    "start_time": "2024-09-01T13:29:37.571Z"
   },
   {
    "duration": 22,
    "start_time": "2024-09-01T13:29:37.586Z"
   },
   {
    "duration": 66,
    "start_time": "2024-09-01T13:29:37.610Z"
   },
   {
    "duration": 39,
    "start_time": "2024-09-01T13:29:37.682Z"
   },
   {
    "duration": 83,
    "start_time": "2024-09-01T13:29:37.722Z"
   },
   {
    "duration": 103,
    "start_time": "2024-09-01T13:29:37.806Z"
   },
   {
    "duration": 415,
    "start_time": "2024-09-01T13:29:37.910Z"
   },
   {
    "duration": 4,
    "start_time": "2024-09-01T13:29:38.327Z"
   },
   {
    "duration": 64,
    "start_time": "2024-09-01T13:29:38.333Z"
   },
   {
    "duration": 30,
    "start_time": "2024-09-01T13:29:38.399Z"
   },
   {
    "duration": 88,
    "start_time": "2024-09-01T13:29:38.431Z"
   },
   {
    "duration": 29,
    "start_time": "2024-09-01T13:29:38.521Z"
   },
   {
    "duration": 32,
    "start_time": "2024-09-01T13:29:38.567Z"
   },
   {
    "duration": 28,
    "start_time": "2024-09-01T13:29:38.601Z"
   },
   {
    "duration": 8,
    "start_time": "2024-09-01T13:29:38.631Z"
   },
   {
    "duration": 156,
    "start_time": "2024-09-01T13:29:38.641Z"
   },
   {
    "duration": 112,
    "start_time": "2024-09-01T13:29:38.799Z"
   },
   {
    "duration": 94,
    "start_time": "2024-09-01T13:29:38.913Z"
   },
   {
    "duration": 14,
    "start_time": "2024-09-01T13:29:39.008Z"
   },
   {
    "duration": 163,
    "start_time": "2024-09-01T13:29:39.024Z"
   }
  ],
  "kernelspec": {
   "display_name": "Python 3 (ipykernel)",
   "language": "python",
   "name": "python3"
  },
  "language_info": {
   "codemirror_mode": {
    "name": "ipython",
    "version": 3
   },
   "file_extension": ".py",
   "mimetype": "text/x-python",
   "name": "python",
   "nbconvert_exporter": "python",
   "pygments_lexer": "ipython3",
   "version": "3.9.5"
  },
  "toc": {
   "base_numbering": 1,
   "nav_menu": {},
   "number_sections": true,
   "sideBar": true,
   "skip_h1_title": true,
   "title_cell": "Table of Contents",
   "title_sidebar": "Contents",
   "toc_cell": false,
   "toc_position": {},
   "toc_section_display": true,
   "toc_window_display": false
  }
 },
 "nbformat": 4,
 "nbformat_minor": 2
}
