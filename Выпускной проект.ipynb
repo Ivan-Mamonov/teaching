{
 "cells": [
  {
   "cell_type": "markdown",
   "metadata": {},
   "source": [
    "<div style=\"border:solid green 2px; padding: 20px\">\n",
    "    \n",
    "<b>Иван, привет! Это Александр</b> Я рад тебя видеть на финальном спринте (Основной проект).\n",
    "\n",
    "---\n",
    "\n",
    "Я буду красить комментарии цветом, пожалуйста, не удаляй их:\n",
    "\n",
    "<div class=\"alert alert-block alert-danger\">✍\n",
    "    \n",
    "\n",
    "__Комментарий от тимлида №1__\n",
    "\n",
    "Такой комментарий нужно исправить обязательно, он критически влияет на удачное выполнение проекта.\n",
    "</div>\n",
    "    \n",
    "---\n",
    "\n",
    "<div class=\"alert alert-block alert-warning\">📝\n",
    "    \n",
    "\n",
    "__Комментарий от тимлида №1__\n",
    "\n",
    "\n",
    "Такой комментарий является рекомендацией или советом. Можешь использовать их на своё усмотрение.\n",
    "</div>\n",
    "\n",
    "---\n",
    "\n",
    "<div class=\"alert alert-block alert-success\">✔️\n",
    "    \n",
    "\n",
    "__Комментарий от тимлида №1__\n",
    "\n",
    "Такой комментарий  говорит о том, что было сделано что-то качественное и правильное =)\n",
    "</div>\n",
    "    \n",
    "---\n",
    "    \n",
    "Предлагаю работать над проектом в диалоге: если у тебя возникают вопросы — пиши об этом в слаке, не стесняйся. Так же, мне будет легче отследить изменения, если ты выделишь свои комментарии:   \n",
    "    \n",
    "<div class=\"alert alert-info\"> <b>Комментарии студента №1 :</b> Например, вот так.</div>\n",
    "    \n",
    "    \n",
    "---"
   ]
  },
  {
   "cell_type": "markdown",
   "metadata": {},
   "source": [
    "# Анализ оттока клиентов \"Метанпромбанк\""
   ]
  },
  {
   "cell_type": "markdown",
   "metadata": {},
   "source": [
    "**Заказчик**  -  отдел маркетинга \"Метанпромбанка\"\n",
    "\n",
    "**Цель работы** - в банке повысился отток и с этим нужно что-то делать\n",
    "\n",
    "**Конечный результат** - выделены отточные сегменты, даны рекомендации по его снижению"
   ]
  },
  {
   "cell_type": "markdown",
   "metadata": {},
   "source": [
    "# Данные\n",
    "\n",
    "**Userid** - идентификатор пользователя\n",
    "\n",
    "**Score** - баллы кредитного скоринга\n",
    "\n",
    "**City** - город\n",
    "\n",
    "**Gender** - пол\n",
    "\n",
    "**Age** - возраст\n",
    "\n",
    "**Balance** - баланс на счете\n",
    "\n",
    "**Products** - колличество продуктов, которыми пользуется клиент\n",
    "\n",
    "**СreditCart** - имеется ли кредитная карта\n",
    "\n",
    "**Last_activity** - активный ли клиент\n",
    "\n",
    "**Estimated_salary** - заработная плата клиента\n",
    "\n",
    "**Churn** - ушел или нет\n",
    "\n",
    "**Equilty** - кол-во баллов собственности"
   ]
  },
  {
   "cell_type": "markdown",
   "metadata": {},
   "source": [
    "# План работы\n",
    "\n",
    "**1) Загрузка и описание данных.**\n",
    "\n",
    "**2) Подготовка данных:**\n",
    "\n",
    "**2.1) Анализ природы пропусков и их разумная обработка.**\n",
    "\n",
    "**2.2) Кодирование для использования в анализе корреляций.**\n",
    "\n",
    "**3) EDA (Exploratory Data Analysis):**\n",
    "\n",
    "**3.1)Анализ распределения признаков, включая оттоки, с исследованием значений для непрерывных и категориальных переменных.**\n",
    "\n",
    "**3.2)Корреляционный анализ.**\n",
    "\n",
    "**4) Проверка статистических гипотез: минимум две гипотезы для обоснования инструмента.**\n",
    "\n",
    "**5)Подведение промежуточных итогов: выводы по результатам EDA, корреляционного анализа и гипотез.**\n",
    "\n",
    "**6)Сегментация: анализ узких сегментов (менее 500 клиентов и их отток).**\n",
    "\n",
    "**7)Приоритизация сегментов.**\n",
    "\n",
    "**8)Формирование рекомендаций для работы с сегментами и правдивые рекомендации.**"
   ]
  },
  {
   "cell_type": "markdown",
   "metadata": {},
   "source": [
    "<div class=\"alert alert-block alert-success\">✔️\n",
    "    \n",
    "\n",
    "__Комментарий от тимлида №1__\n",
    "\n",
    "\n",
    "Отличная практика - расписывать цель и основные этапы перед началом проекта"
   ]
  },
  {
   "cell_type": "markdown",
   "metadata": {},
   "source": [
    "##  Загрузка и описание данных"
   ]
  },
  {
   "cell_type": "code",
   "execution_count": 150,
   "metadata": {},
   "outputs": [
    {
     "name": "stdout",
     "output_type": "stream",
     "text": [
      "Requirement already satisfied: phik in /opt/conda/lib/python3.9/site-packages (0.12.4)\n",
      "Requirement already satisfied: joblib>=0.14.1 in /opt/conda/lib/python3.9/site-packages (from phik) (1.1.0)\n",
      "Requirement already satisfied: scipy>=1.5.2 in /opt/conda/lib/python3.9/site-packages (from phik) (1.9.1)\n",
      "Requirement already satisfied: numpy>=1.18.0 in /opt/conda/lib/python3.9/site-packages (from phik) (1.21.1)\n",
      "Requirement already satisfied: matplotlib>=2.2.3 in /opt/conda/lib/python3.9/site-packages (from phik) (3.3.4)\n",
      "Requirement already satisfied: pandas>=0.25.1 in /opt/conda/lib/python3.9/site-packages (from phik) (1.2.4)\n",
      "Requirement already satisfied: pyparsing!=2.0.4,!=2.1.2,!=2.1.6,>=2.0.3 in /opt/conda/lib/python3.9/site-packages (from matplotlib>=2.2.3->phik) (2.4.7)\n",
      "Requirement already satisfied: cycler>=0.10 in /opt/conda/lib/python3.9/site-packages (from matplotlib>=2.2.3->phik) (0.11.0)\n",
      "Requirement already satisfied: pillow>=6.2.0 in /opt/conda/lib/python3.9/site-packages (from matplotlib>=2.2.3->phik) (8.4.0)\n",
      "Requirement already satisfied: python-dateutil>=2.1 in /opt/conda/lib/python3.9/site-packages (from matplotlib>=2.2.3->phik) (2.8.1)\n",
      "Requirement already satisfied: kiwisolver>=1.0.1 in /opt/conda/lib/python3.9/site-packages (from matplotlib>=2.2.3->phik) (1.4.4)\n",
      "Requirement already satisfied: pytz>=2017.3 in /opt/conda/lib/python3.9/site-packages (from pandas>=0.25.1->phik) (2021.1)\n",
      "Requirement already satisfied: six>=1.5 in /opt/conda/lib/python3.9/site-packages (from python-dateutil>=2.1->matplotlib>=2.2.3->phik) (1.16.0)\n"
     ]
    }
   ],
   "source": [
    "!pip install phik"
   ]
  },
  {
   "cell_type": "code",
   "execution_count": 151,
   "metadata": {},
   "outputs": [],
   "source": [
    "# Загружаем необходимые библиотеки\n",
    "import pandas as pd\n",
    "import scipy.stats as stats\n",
    "from scipy import stats as st\n",
    "import math as mth\n",
    "import numpy as np\n",
    "import matplotlib.pyplot as plt \n",
    "import seaborn as sns\n",
    "import statsmodels.api as sm\n",
    "from phik import phik_matrix\n",
    "from sklearn.cluster import KMeans\n",
    "from sklearn.preprocessing import StandardScaler"
   ]
  },
  {
   "cell_type": "code",
   "execution_count": 152,
   "metadata": {},
   "outputs": [],
   "source": [
    "#Подгружаем файл\n",
    "proect = pd.read_csv('/datasets/bank_scrooge.csv')"
   ]
  },
  {
   "cell_type": "code",
   "execution_count": 153,
   "metadata": {},
   "outputs": [
    {
     "data": {
      "text/plain": [
       "<bound method DataFrame.info of       USERID  score       city gender   age  equity     balance  products  \\\n",
       "0     183012  850.0    Рыбинск      Ж  25.0       1    59214.82         2   \n",
       "1     146556  861.0    Рыбинск      Ж  37.0       5   850594.33         3   \n",
       "2     120722  892.0    Рыбинск      Ж  30.0       0         NaN         1   \n",
       "3     225363  866.0  Ярославль      Ж  51.0       5  1524746.26         2   \n",
       "4     157978  730.0  Ярославль      М  34.0       5      174.00         1   \n",
       "...      ...    ...        ...    ...   ...     ...         ...       ...   \n",
       "9995  120553  814.0    Рыбинск      М  27.0       1    78144.65         1   \n",
       "9996  139170  894.0  Ярославль      М  46.0       0         NaN         1   \n",
       "9997  115639  903.0  Ярославль      М  24.0       0         NaN         2   \n",
       "9998  148700  777.0  Ярославль      Ж  68.0       3   865457.97         3   \n",
       "9999   96267  828.0    Рыбинск      Ж  58.0       3  1180886.70         4   \n",
       "\n",
       "      credit_card  last_activity  EST_SALARY  churn  \n",
       "0               0              1    75719.14      1  \n",
       "1               1              0    86621.77      0  \n",
       "2               1              1   107683.34      0  \n",
       "3               0              1   174423.53      1  \n",
       "4               1              0    67353.16      1  \n",
       "...           ...            ...         ...    ...  \n",
       "9995            0              1    18943.64      0  \n",
       "9996            1              0   196898.29      0  \n",
       "9997            1              1   108905.09      0  \n",
       "9998            0              1    86874.90      0  \n",
       "9999            0              1    21422.37      0  \n",
       "\n",
       "[10000 rows x 12 columns]>"
      ]
     },
     "execution_count": 153,
     "metadata": {},
     "output_type": "execute_result"
    }
   ],
   "source": [
    "#Смотрим информацию о датасете\n",
    "proect.info"
   ]
  },
  {
   "cell_type": "code",
   "execution_count": 154,
   "metadata": {},
   "outputs": [
    {
     "data": {
      "text/plain": [
       "(10000, 12)"
      ]
     },
     "execution_count": 154,
     "metadata": {},
     "output_type": "execute_result"
    }
   ],
   "source": [
    "proect.shape"
   ]
  },
  {
   "cell_type": "code",
   "execution_count": 155,
   "metadata": {},
   "outputs": [
    {
     "data": {
      "text/html": [
       "<div>\n",
       "<style scoped>\n",
       "    .dataframe tbody tr th:only-of-type {\n",
       "        vertical-align: middle;\n",
       "    }\n",
       "\n",
       "    .dataframe tbody tr th {\n",
       "        vertical-align: top;\n",
       "    }\n",
       "\n",
       "    .dataframe thead th {\n",
       "        text-align: right;\n",
       "    }\n",
       "</style>\n",
       "<table border=\"1\" class=\"dataframe\">\n",
       "  <thead>\n",
       "    <tr style=\"text-align: right;\">\n",
       "      <th></th>\n",
       "      <th>USERID</th>\n",
       "      <th>score</th>\n",
       "      <th>city</th>\n",
       "      <th>gender</th>\n",
       "      <th>age</th>\n",
       "      <th>equity</th>\n",
       "      <th>balance</th>\n",
       "      <th>products</th>\n",
       "      <th>credit_card</th>\n",
       "      <th>last_activity</th>\n",
       "      <th>EST_SALARY</th>\n",
       "      <th>churn</th>\n",
       "    </tr>\n",
       "  </thead>\n",
       "  <tbody>\n",
       "    <tr>\n",
       "      <th>0</th>\n",
       "      <td>183012</td>\n",
       "      <td>850.0</td>\n",
       "      <td>Рыбинск</td>\n",
       "      <td>Ж</td>\n",
       "      <td>25.0</td>\n",
       "      <td>1</td>\n",
       "      <td>59214.82</td>\n",
       "      <td>2</td>\n",
       "      <td>0</td>\n",
       "      <td>1</td>\n",
       "      <td>75719.14</td>\n",
       "      <td>1</td>\n",
       "    </tr>\n",
       "    <tr>\n",
       "      <th>1</th>\n",
       "      <td>146556</td>\n",
       "      <td>861.0</td>\n",
       "      <td>Рыбинск</td>\n",
       "      <td>Ж</td>\n",
       "      <td>37.0</td>\n",
       "      <td>5</td>\n",
       "      <td>850594.33</td>\n",
       "      <td>3</td>\n",
       "      <td>1</td>\n",
       "      <td>0</td>\n",
       "      <td>86621.77</td>\n",
       "      <td>0</td>\n",
       "    </tr>\n",
       "    <tr>\n",
       "      <th>2</th>\n",
       "      <td>120722</td>\n",
       "      <td>892.0</td>\n",
       "      <td>Рыбинск</td>\n",
       "      <td>Ж</td>\n",
       "      <td>30.0</td>\n",
       "      <td>0</td>\n",
       "      <td>NaN</td>\n",
       "      <td>1</td>\n",
       "      <td>1</td>\n",
       "      <td>1</td>\n",
       "      <td>107683.34</td>\n",
       "      <td>0</td>\n",
       "    </tr>\n",
       "    <tr>\n",
       "      <th>3</th>\n",
       "      <td>225363</td>\n",
       "      <td>866.0</td>\n",
       "      <td>Ярославль</td>\n",
       "      <td>Ж</td>\n",
       "      <td>51.0</td>\n",
       "      <td>5</td>\n",
       "      <td>1524746.26</td>\n",
       "      <td>2</td>\n",
       "      <td>0</td>\n",
       "      <td>1</td>\n",
       "      <td>174423.53</td>\n",
       "      <td>1</td>\n",
       "    </tr>\n",
       "    <tr>\n",
       "      <th>4</th>\n",
       "      <td>157978</td>\n",
       "      <td>730.0</td>\n",
       "      <td>Ярославль</td>\n",
       "      <td>М</td>\n",
       "      <td>34.0</td>\n",
       "      <td>5</td>\n",
       "      <td>174.00</td>\n",
       "      <td>1</td>\n",
       "      <td>1</td>\n",
       "      <td>0</td>\n",
       "      <td>67353.16</td>\n",
       "      <td>1</td>\n",
       "    </tr>\n",
       "    <tr>\n",
       "      <th>5</th>\n",
       "      <td>202305</td>\n",
       "      <td>856.0</td>\n",
       "      <td>Рыбинск</td>\n",
       "      <td>М</td>\n",
       "      <td>56.0</td>\n",
       "      <td>4</td>\n",
       "      <td>863687.24</td>\n",
       "      <td>3</td>\n",
       "      <td>1</td>\n",
       "      <td>0</td>\n",
       "      <td>156619.80</td>\n",
       "      <td>0</td>\n",
       "    </tr>\n",
       "    <tr>\n",
       "      <th>6</th>\n",
       "      <td>177259</td>\n",
       "      <td>807.0</td>\n",
       "      <td>Ярославль</td>\n",
       "      <td>Ж</td>\n",
       "      <td>39.0</td>\n",
       "      <td>3</td>\n",
       "      <td>405042.44</td>\n",
       "      <td>3</td>\n",
       "      <td>0</td>\n",
       "      <td>1</td>\n",
       "      <td>103838.32</td>\n",
       "      <td>0</td>\n",
       "    </tr>\n",
       "    <tr>\n",
       "      <th>7</th>\n",
       "      <td>218868</td>\n",
       "      <td>825.0</td>\n",
       "      <td>Ярославль</td>\n",
       "      <td>Ж</td>\n",
       "      <td>38.0</td>\n",
       "      <td>4</td>\n",
       "      <td>458145.40</td>\n",
       "      <td>2</td>\n",
       "      <td>1</td>\n",
       "      <td>1</td>\n",
       "      <td>68085.48</td>\n",
       "      <td>0</td>\n",
       "    </tr>\n",
       "    <tr>\n",
       "      <th>8</th>\n",
       "      <td>211686</td>\n",
       "      <td>923.0</td>\n",
       "      <td>Ярославль</td>\n",
       "      <td>М</td>\n",
       "      <td>54.0</td>\n",
       "      <td>5</td>\n",
       "      <td>1206337.87</td>\n",
       "      <td>2</td>\n",
       "      <td>1</td>\n",
       "      <td>0</td>\n",
       "      <td>155371.79</td>\n",
       "      <td>0</td>\n",
       "    </tr>\n",
       "    <tr>\n",
       "      <th>9</th>\n",
       "      <td>133130</td>\n",
       "      <td>906.0</td>\n",
       "      <td>Ярославль</td>\n",
       "      <td>Ж</td>\n",
       "      <td>67.0</td>\n",
       "      <td>0</td>\n",
       "      <td>NaN</td>\n",
       "      <td>1</td>\n",
       "      <td>0</td>\n",
       "      <td>1</td>\n",
       "      <td>238055.53</td>\n",
       "      <td>0</td>\n",
       "    </tr>\n",
       "  </tbody>\n",
       "</table>\n",
       "</div>"
      ],
      "text/plain": [
       "   USERID  score       city gender   age  equity     balance  products  \\\n",
       "0  183012  850.0    Рыбинск      Ж  25.0       1    59214.82         2   \n",
       "1  146556  861.0    Рыбинск      Ж  37.0       5   850594.33         3   \n",
       "2  120722  892.0    Рыбинск      Ж  30.0       0         NaN         1   \n",
       "3  225363  866.0  Ярославль      Ж  51.0       5  1524746.26         2   \n",
       "4  157978  730.0  Ярославль      М  34.0       5      174.00         1   \n",
       "5  202305  856.0    Рыбинск      М  56.0       4   863687.24         3   \n",
       "6  177259  807.0  Ярославль      Ж  39.0       3   405042.44         3   \n",
       "7  218868  825.0  Ярославль      Ж  38.0       4   458145.40         2   \n",
       "8  211686  923.0  Ярославль      М  54.0       5  1206337.87         2   \n",
       "9  133130  906.0  Ярославль      Ж  67.0       0         NaN         1   \n",
       "\n",
       "   credit_card  last_activity  EST_SALARY  churn  \n",
       "0            0              1    75719.14      1  \n",
       "1            1              0    86621.77      0  \n",
       "2            1              1   107683.34      0  \n",
       "3            0              1   174423.53      1  \n",
       "4            1              0    67353.16      1  \n",
       "5            1              0   156619.80      0  \n",
       "6            0              1   103838.32      0  \n",
       "7            1              1    68085.48      0  \n",
       "8            1              0   155371.79      0  \n",
       "9            0              1   238055.53      0  "
      ]
     },
     "execution_count": 155,
     "metadata": {},
     "output_type": "execute_result"
    }
   ],
   "source": [
    "proect.head(10)"
   ]
  },
  {
   "cell_type": "markdown",
   "metadata": {},
   "source": [
    "Необходимые библиотеки загружены, файл с данными сохранен в пременную proect, все корректно отображается,переходим к 2 шагу"
   ]
  },
  {
   "cell_type": "markdown",
   "metadata": {},
   "source": [
    "<div class=\"alert alert-block alert-success\">✔️\n",
    "    \n",
    "\n",
    "__Комментарий от тимлида №1__\n",
    "\n",
    "    \n",
    "Отлично! Первый взгляд на данные есть"
   ]
  },
  {
   "cell_type": "markdown",
   "metadata": {},
   "source": [
    "##  Подготовка данных"
   ]
  },
  {
   "cell_type": "markdown",
   "metadata": {},
   "source": [
    "приведем название колонок к общему формату"
   ]
  },
  {
   "cell_type": "code",
   "execution_count": 156,
   "metadata": {},
   "outputs": [
    {
     "data": {
      "text/html": [
       "<div>\n",
       "<style scoped>\n",
       "    .dataframe tbody tr th:only-of-type {\n",
       "        vertical-align: middle;\n",
       "    }\n",
       "\n",
       "    .dataframe tbody tr th {\n",
       "        vertical-align: top;\n",
       "    }\n",
       "\n",
       "    .dataframe thead th {\n",
       "        text-align: right;\n",
       "    }\n",
       "</style>\n",
       "<table border=\"1\" class=\"dataframe\">\n",
       "  <thead>\n",
       "    <tr style=\"text-align: right;\">\n",
       "      <th></th>\n",
       "      <th>user_id</th>\n",
       "      <th>score</th>\n",
       "      <th>city</th>\n",
       "      <th>gender</th>\n",
       "      <th>age</th>\n",
       "      <th>equity</th>\n",
       "      <th>balance</th>\n",
       "      <th>products</th>\n",
       "      <th>credit_card</th>\n",
       "      <th>last_activity</th>\n",
       "      <th>est_salary</th>\n",
       "      <th>churn</th>\n",
       "    </tr>\n",
       "  </thead>\n",
       "  <tbody>\n",
       "    <tr>\n",
       "      <th>0</th>\n",
       "      <td>183012</td>\n",
       "      <td>850.0</td>\n",
       "      <td>Рыбинск</td>\n",
       "      <td>Ж</td>\n",
       "      <td>25.0</td>\n",
       "      <td>1</td>\n",
       "      <td>59214.82</td>\n",
       "      <td>2</td>\n",
       "      <td>0</td>\n",
       "      <td>1</td>\n",
       "      <td>75719.14</td>\n",
       "      <td>1</td>\n",
       "    </tr>\n",
       "    <tr>\n",
       "      <th>1</th>\n",
       "      <td>146556</td>\n",
       "      <td>861.0</td>\n",
       "      <td>Рыбинск</td>\n",
       "      <td>Ж</td>\n",
       "      <td>37.0</td>\n",
       "      <td>5</td>\n",
       "      <td>850594.33</td>\n",
       "      <td>3</td>\n",
       "      <td>1</td>\n",
       "      <td>0</td>\n",
       "      <td>86621.77</td>\n",
       "      <td>0</td>\n",
       "    </tr>\n",
       "    <tr>\n",
       "      <th>2</th>\n",
       "      <td>120722</td>\n",
       "      <td>892.0</td>\n",
       "      <td>Рыбинск</td>\n",
       "      <td>Ж</td>\n",
       "      <td>30.0</td>\n",
       "      <td>0</td>\n",
       "      <td>NaN</td>\n",
       "      <td>1</td>\n",
       "      <td>1</td>\n",
       "      <td>1</td>\n",
       "      <td>107683.34</td>\n",
       "      <td>0</td>\n",
       "    </tr>\n",
       "    <tr>\n",
       "      <th>3</th>\n",
       "      <td>225363</td>\n",
       "      <td>866.0</td>\n",
       "      <td>Ярославль</td>\n",
       "      <td>Ж</td>\n",
       "      <td>51.0</td>\n",
       "      <td>5</td>\n",
       "      <td>1524746.26</td>\n",
       "      <td>2</td>\n",
       "      <td>0</td>\n",
       "      <td>1</td>\n",
       "      <td>174423.53</td>\n",
       "      <td>1</td>\n",
       "    </tr>\n",
       "    <tr>\n",
       "      <th>4</th>\n",
       "      <td>157978</td>\n",
       "      <td>730.0</td>\n",
       "      <td>Ярославль</td>\n",
       "      <td>М</td>\n",
       "      <td>34.0</td>\n",
       "      <td>5</td>\n",
       "      <td>174.00</td>\n",
       "      <td>1</td>\n",
       "      <td>1</td>\n",
       "      <td>0</td>\n",
       "      <td>67353.16</td>\n",
       "      <td>1</td>\n",
       "    </tr>\n",
       "  </tbody>\n",
       "</table>\n",
       "</div>"
      ],
      "text/plain": [
       "   user_id  score       city gender   age  equity     balance  products  \\\n",
       "0   183012  850.0    Рыбинск      Ж  25.0       1    59214.82         2   \n",
       "1   146556  861.0    Рыбинск      Ж  37.0       5   850594.33         3   \n",
       "2   120722  892.0    Рыбинск      Ж  30.0       0         NaN         1   \n",
       "3   225363  866.0  Ярославль      Ж  51.0       5  1524746.26         2   \n",
       "4   157978  730.0  Ярославль      М  34.0       5      174.00         1   \n",
       "\n",
       "   credit_card  last_activity  est_salary  churn  \n",
       "0            0              1    75719.14      1  \n",
       "1            1              0    86621.77      0  \n",
       "2            1              1   107683.34      0  \n",
       "3            0              1   174423.53      1  \n",
       "4            1              0    67353.16      1  "
      ]
     },
     "execution_count": 156,
     "metadata": {},
     "output_type": "execute_result"
    }
   ],
   "source": [
    "proect = proect.rename (columns = {'USERID':'user_id', 'EST_SALARY':'est_salary'})\n",
    "proect.head()"
   ]
  },
  {
   "cell_type": "markdown",
   "metadata": {},
   "source": [
    "### Анализ природы пропусков и их разумная обработка"
   ]
  },
  {
   "cell_type": "markdown",
   "metadata": {},
   "source": [
    "Проверим на пропуски"
   ]
  },
  {
   "cell_type": "code",
   "execution_count": 157,
   "metadata": {
    "scrolled": false
   },
   "outputs": [
    {
     "data": {
      "text/plain": [
       "user_id             0\n",
       "score               0\n",
       "city                0\n",
       "gender              0\n",
       "age                26\n",
       "equity              0\n",
       "balance          2295\n",
       "products            0\n",
       "credit_card         0\n",
       "last_activity       0\n",
       "est_salary          0\n",
       "churn               0\n",
       "dtype: int64"
      ]
     },
     "execution_count": 157,
     "metadata": {},
     "output_type": "execute_result"
    }
   ],
   "source": [
    "proect.isnull().sum()"
   ]
  },
  {
   "cell_type": "markdown",
   "metadata": {},
   "source": [
    "в колонке возраста 26 пропущенных значений, в колонке,которая показывает баланс клиента - 2295 значений,рассмотрим пропуски по отдельности"
   ]
  },
  {
   "cell_type": "markdown",
   "metadata": {},
   "source": [
    "Проанализируем наши пропуски в возрасте"
   ]
  },
  {
   "cell_type": "code",
   "execution_count": 158,
   "metadata": {},
   "outputs": [
    {
     "data": {
      "text/html": [
       "<div>\n",
       "<style scoped>\n",
       "    .dataframe tbody tr th:only-of-type {\n",
       "        vertical-align: middle;\n",
       "    }\n",
       "\n",
       "    .dataframe tbody tr th {\n",
       "        vertical-align: top;\n",
       "    }\n",
       "\n",
       "    .dataframe thead th {\n",
       "        text-align: right;\n",
       "    }\n",
       "</style>\n",
       "<table border=\"1\" class=\"dataframe\">\n",
       "  <thead>\n",
       "    <tr style=\"text-align: right;\">\n",
       "      <th></th>\n",
       "      <th>user_id</th>\n",
       "      <th>score</th>\n",
       "      <th>age</th>\n",
       "      <th>equity</th>\n",
       "      <th>balance</th>\n",
       "      <th>products</th>\n",
       "      <th>credit_card</th>\n",
       "      <th>last_activity</th>\n",
       "      <th>est_salary</th>\n",
       "      <th>churn</th>\n",
       "    </tr>\n",
       "  </thead>\n",
       "  <tbody>\n",
       "    <tr>\n",
       "      <th>count</th>\n",
       "      <td>26.00000</td>\n",
       "      <td>26.000000</td>\n",
       "      <td>0.0</td>\n",
       "      <td>26.000000</td>\n",
       "      <td>1.000000e+01</td>\n",
       "      <td>26.000000</td>\n",
       "      <td>26.000000</td>\n",
       "      <td>26.000000</td>\n",
       "      <td>26.000000</td>\n",
       "      <td>26.000000</td>\n",
       "    </tr>\n",
       "    <tr>\n",
       "      <th>mean</th>\n",
       "      <td>194637.50000</td>\n",
       "      <td>855.153846</td>\n",
       "      <td>NaN</td>\n",
       "      <td>1.384615</td>\n",
       "      <td>1.250034e+06</td>\n",
       "      <td>1.346154</td>\n",
       "      <td>0.769231</td>\n",
       "      <td>0.769231</td>\n",
       "      <td>178585.199231</td>\n",
       "      <td>0.038462</td>\n",
       "    </tr>\n",
       "    <tr>\n",
       "      <th>std</th>\n",
       "      <td>31310.54801</td>\n",
       "      <td>83.418316</td>\n",
       "      <td>NaN</td>\n",
       "      <td>1.961161</td>\n",
       "      <td>2.265235e+06</td>\n",
       "      <td>0.561591</td>\n",
       "      <td>0.429669</td>\n",
       "      <td>0.429669</td>\n",
       "      <td>175135.552768</td>\n",
       "      <td>0.196116</td>\n",
       "    </tr>\n",
       "    <tr>\n",
       "      <th>min</th>\n",
       "      <td>127440.00000</td>\n",
       "      <td>663.000000</td>\n",
       "      <td>NaN</td>\n",
       "      <td>0.000000</td>\n",
       "      <td>1.715102e+05</td>\n",
       "      <td>1.000000</td>\n",
       "      <td>0.000000</td>\n",
       "      <td>0.000000</td>\n",
       "      <td>55073.630000</td>\n",
       "      <td>0.000000</td>\n",
       "    </tr>\n",
       "    <tr>\n",
       "      <th>25%</th>\n",
       "      <td>185142.00000</td>\n",
       "      <td>827.500000</td>\n",
       "      <td>NaN</td>\n",
       "      <td>0.000000</td>\n",
       "      <td>2.523268e+05</td>\n",
       "      <td>1.000000</td>\n",
       "      <td>1.000000</td>\n",
       "      <td>1.000000</td>\n",
       "      <td>77807.760000</td>\n",
       "      <td>0.000000</td>\n",
       "    </tr>\n",
       "    <tr>\n",
       "      <th>50%</th>\n",
       "      <td>208447.00000</td>\n",
       "      <td>888.500000</td>\n",
       "      <td>NaN</td>\n",
       "      <td>0.000000</td>\n",
       "      <td>4.173611e+05</td>\n",
       "      <td>1.000000</td>\n",
       "      <td>1.000000</td>\n",
       "      <td>1.000000</td>\n",
       "      <td>142598.860000</td>\n",
       "      <td>0.000000</td>\n",
       "    </tr>\n",
       "    <tr>\n",
       "      <th>75%</th>\n",
       "      <td>219224.25000</td>\n",
       "      <td>919.250000</td>\n",
       "      <td>NaN</td>\n",
       "      <td>3.000000</td>\n",
       "      <td>1.039439e+06</td>\n",
       "      <td>2.000000</td>\n",
       "      <td>1.000000</td>\n",
       "      <td>1.000000</td>\n",
       "      <td>176991.690000</td>\n",
       "      <td>0.000000</td>\n",
       "    </tr>\n",
       "    <tr>\n",
       "      <th>max</th>\n",
       "      <td>228075.00000</td>\n",
       "      <td>942.000000</td>\n",
       "      <td>NaN</td>\n",
       "      <td>5.000000</td>\n",
       "      <td>7.601719e+06</td>\n",
       "      <td>3.000000</td>\n",
       "      <td>1.000000</td>\n",
       "      <td>1.000000</td>\n",
       "      <td>922080.250000</td>\n",
       "      <td>1.000000</td>\n",
       "    </tr>\n",
       "  </tbody>\n",
       "</table>\n",
       "</div>"
      ],
      "text/plain": [
       "            user_id       score  age     equity       balance   products  \\\n",
       "count      26.00000   26.000000  0.0  26.000000  1.000000e+01  26.000000   \n",
       "mean   194637.50000  855.153846  NaN   1.384615  1.250034e+06   1.346154   \n",
       "std     31310.54801   83.418316  NaN   1.961161  2.265235e+06   0.561591   \n",
       "min    127440.00000  663.000000  NaN   0.000000  1.715102e+05   1.000000   \n",
       "25%    185142.00000  827.500000  NaN   0.000000  2.523268e+05   1.000000   \n",
       "50%    208447.00000  888.500000  NaN   0.000000  4.173611e+05   1.000000   \n",
       "75%    219224.25000  919.250000  NaN   3.000000  1.039439e+06   2.000000   \n",
       "max    228075.00000  942.000000  NaN   5.000000  7.601719e+06   3.000000   \n",
       "\n",
       "       credit_card  last_activity     est_salary      churn  \n",
       "count    26.000000      26.000000      26.000000  26.000000  \n",
       "mean      0.769231       0.769231  178585.199231   0.038462  \n",
       "std       0.429669       0.429669  175135.552768   0.196116  \n",
       "min       0.000000       0.000000   55073.630000   0.000000  \n",
       "25%       1.000000       1.000000   77807.760000   0.000000  \n",
       "50%       1.000000       1.000000  142598.860000   0.000000  \n",
       "75%       1.000000       1.000000  176991.690000   0.000000  \n",
       "max       1.000000       1.000000  922080.250000   1.000000  "
      ]
     },
     "metadata": {},
     "output_type": "display_data"
    }
   ],
   "source": [
    "display (proect[proect['age'].isna()].describe())"
   ]
  },
  {
   "cell_type": "markdown",
   "metadata": {},
   "source": [
    "Мы видим,что у пропущенных значений в возрасте высокая цифра скоринга, а так же что 3.8% из них уже покинули банк"
   ]
  },
  {
   "cell_type": "code",
   "execution_count": 159,
   "metadata": {},
   "outputs": [
    {
     "data": {
      "text/html": [
       "<div>\n",
       "<style scoped>\n",
       "    .dataframe tbody tr th:only-of-type {\n",
       "        vertical-align: middle;\n",
       "    }\n",
       "\n",
       "    .dataframe tbody tr th {\n",
       "        vertical-align: top;\n",
       "    }\n",
       "\n",
       "    .dataframe thead th {\n",
       "        text-align: right;\n",
       "    }\n",
       "</style>\n",
       "<table border=\"1\" class=\"dataframe\">\n",
       "  <thead>\n",
       "    <tr style=\"text-align: right;\">\n",
       "      <th></th>\n",
       "      <th>user_id</th>\n",
       "      <th>score</th>\n",
       "      <th>city</th>\n",
       "      <th>gender</th>\n",
       "      <th>age</th>\n",
       "      <th>equity</th>\n",
       "      <th>balance</th>\n",
       "      <th>products</th>\n",
       "      <th>credit_card</th>\n",
       "      <th>last_activity</th>\n",
       "      <th>est_salary</th>\n",
       "      <th>churn</th>\n",
       "    </tr>\n",
       "  </thead>\n",
       "  <tbody>\n",
       "    <tr>\n",
       "      <th>1247</th>\n",
       "      <td>228075</td>\n",
       "      <td>932.0</td>\n",
       "      <td>Ярославль</td>\n",
       "      <td>М</td>\n",
       "      <td>NaN</td>\n",
       "      <td>5</td>\n",
       "      <td>7601719.20</td>\n",
       "      <td>2</td>\n",
       "      <td>1</td>\n",
       "      <td>1</td>\n",
       "      <td>408121.16</td>\n",
       "      <td>0</td>\n",
       "    </tr>\n",
       "    <tr>\n",
       "      <th>2165</th>\n",
       "      <td>187635</td>\n",
       "      <td>692.0</td>\n",
       "      <td>Рыбинск</td>\n",
       "      <td>Ж</td>\n",
       "      <td>NaN</td>\n",
       "      <td>0</td>\n",
       "      <td>NaN</td>\n",
       "      <td>1</td>\n",
       "      <td>1</td>\n",
       "      <td>1</td>\n",
       "      <td>160368.82</td>\n",
       "      <td>0</td>\n",
       "    </tr>\n",
       "    <tr>\n",
       "      <th>2444</th>\n",
       "      <td>221156</td>\n",
       "      <td>913.0</td>\n",
       "      <td>Ярославль</td>\n",
       "      <td>М</td>\n",
       "      <td>NaN</td>\n",
       "      <td>0</td>\n",
       "      <td>NaN</td>\n",
       "      <td>1</td>\n",
       "      <td>1</td>\n",
       "      <td>1</td>\n",
       "      <td>135693.24</td>\n",
       "      <td>0</td>\n",
       "    </tr>\n",
       "    <tr>\n",
       "      <th>3091</th>\n",
       "      <td>138660</td>\n",
       "      <td>836.0</td>\n",
       "      <td>Ростов</td>\n",
       "      <td>Ж</td>\n",
       "      <td>NaN</td>\n",
       "      <td>5</td>\n",
       "      <td>294315.53</td>\n",
       "      <td>2</td>\n",
       "      <td>0</td>\n",
       "      <td>1</td>\n",
       "      <td>63310.22</td>\n",
       "      <td>1</td>\n",
       "    </tr>\n",
       "    <tr>\n",
       "      <th>4912</th>\n",
       "      <td>210674</td>\n",
       "      <td>834.0</td>\n",
       "      <td>Рыбинск</td>\n",
       "      <td>М</td>\n",
       "      <td>NaN</td>\n",
       "      <td>1</td>\n",
       "      <td>238330.52</td>\n",
       "      <td>2</td>\n",
       "      <td>0</td>\n",
       "      <td>1</td>\n",
       "      <td>93775.06</td>\n",
       "      <td>0</td>\n",
       "    </tr>\n",
       "    <tr>\n",
       "      <th>5470</th>\n",
       "      <td>218868</td>\n",
       "      <td>827.0</td>\n",
       "      <td>Рыбинск</td>\n",
       "      <td>Ж</td>\n",
       "      <td>NaN</td>\n",
       "      <td>4</td>\n",
       "      <td>448959.07</td>\n",
       "      <td>2</td>\n",
       "      <td>1</td>\n",
       "      <td>1</td>\n",
       "      <td>67835.95</td>\n",
       "      <td>0</td>\n",
       "    </tr>\n",
       "    <tr>\n",
       "      <th>5495</th>\n",
       "      <td>151662</td>\n",
       "      <td>884.0</td>\n",
       "      <td>Рыбинск</td>\n",
       "      <td>Ж</td>\n",
       "      <td>NaN</td>\n",
       "      <td>0</td>\n",
       "      <td>NaN</td>\n",
       "      <td>1</td>\n",
       "      <td>1</td>\n",
       "      <td>1</td>\n",
       "      <td>137500.77</td>\n",
       "      <td>0</td>\n",
       "    </tr>\n",
       "    <tr>\n",
       "      <th>7236</th>\n",
       "      <td>210135</td>\n",
       "      <td>908.0</td>\n",
       "      <td>Рыбинск</td>\n",
       "      <td>Ж</td>\n",
       "      <td>NaN</td>\n",
       "      <td>4</td>\n",
       "      <td>1120340.31</td>\n",
       "      <td>3</td>\n",
       "      <td>1</td>\n",
       "      <td>1</td>\n",
       "      <td>85002.15</td>\n",
       "      <td>0</td>\n",
       "    </tr>\n",
       "    <tr>\n",
       "      <th>7248</th>\n",
       "      <td>219343</td>\n",
       "      <td>920.0</td>\n",
       "      <td>Рыбинск</td>\n",
       "      <td>Ж</td>\n",
       "      <td>NaN</td>\n",
       "      <td>0</td>\n",
       "      <td>NaN</td>\n",
       "      <td>1</td>\n",
       "      <td>1</td>\n",
       "      <td>0</td>\n",
       "      <td>159248.67</td>\n",
       "      <td>0</td>\n",
       "    </tr>\n",
       "    <tr>\n",
       "      <th>7345</th>\n",
       "      <td>184913</td>\n",
       "      <td>829.0</td>\n",
       "      <td>Ярославль</td>\n",
       "      <td>Ж</td>\n",
       "      <td>NaN</td>\n",
       "      <td>3</td>\n",
       "      <td>188648.77</td>\n",
       "      <td>2</td>\n",
       "      <td>0</td>\n",
       "      <td>1</td>\n",
       "      <td>75206.90</td>\n",
       "      <td>0</td>\n",
       "    </tr>\n",
       "    <tr>\n",
       "      <th>7409</th>\n",
       "      <td>214031</td>\n",
       "      <td>777.0</td>\n",
       "      <td>Ярославль</td>\n",
       "      <td>М</td>\n",
       "      <td>NaN</td>\n",
       "      <td>2</td>\n",
       "      <td>171510.23</td>\n",
       "      <td>1</td>\n",
       "      <td>1</td>\n",
       "      <td>1</td>\n",
       "      <td>75409.63</td>\n",
       "      <td>0</td>\n",
       "    </tr>\n",
       "    <tr>\n",
       "      <th>8015</th>\n",
       "      <td>198635</td>\n",
       "      <td>670.0</td>\n",
       "      <td>Ярославль</td>\n",
       "      <td>Ж</td>\n",
       "      <td>NaN</td>\n",
       "      <td>0</td>\n",
       "      <td>NaN</td>\n",
       "      <td>1</td>\n",
       "      <td>1</td>\n",
       "      <td>1</td>\n",
       "      <td>168699.33</td>\n",
       "      <td>0</td>\n",
       "    </tr>\n",
       "    <tr>\n",
       "      <th>8070</th>\n",
       "      <td>226550</td>\n",
       "      <td>940.0</td>\n",
       "      <td>Рыбинск</td>\n",
       "      <td>М</td>\n",
       "      <td>NaN</td>\n",
       "      <td>0</td>\n",
       "      <td>NaN</td>\n",
       "      <td>1</td>\n",
       "      <td>0</td>\n",
       "      <td>1</td>\n",
       "      <td>147696.95</td>\n",
       "      <td>0</td>\n",
       "    </tr>\n",
       "    <tr>\n",
       "      <th>8293</th>\n",
       "      <td>216848</td>\n",
       "      <td>930.0</td>\n",
       "      <td>Ярославль</td>\n",
       "      <td>М</td>\n",
       "      <td>NaN</td>\n",
       "      <td>0</td>\n",
       "      <td>NaN</td>\n",
       "      <td>1</td>\n",
       "      <td>1</td>\n",
       "      <td>1</td>\n",
       "      <td>199542.51</td>\n",
       "      <td>0</td>\n",
       "    </tr>\n",
       "    <tr>\n",
       "      <th>8385</th>\n",
       "      <td>206759</td>\n",
       "      <td>915.0</td>\n",
       "      <td>Рыбинск</td>\n",
       "      <td>М</td>\n",
       "      <td>NaN</td>\n",
       "      <td>0</td>\n",
       "      <td>NaN</td>\n",
       "      <td>1</td>\n",
       "      <td>1</td>\n",
       "      <td>0</td>\n",
       "      <td>71179.53</td>\n",
       "      <td>0</td>\n",
       "    </tr>\n",
       "    <tr>\n",
       "      <th>8449</th>\n",
       "      <td>210898</td>\n",
       "      <td>805.0</td>\n",
       "      <td>Ярославль</td>\n",
       "      <td>Ж</td>\n",
       "      <td>NaN</td>\n",
       "      <td>0</td>\n",
       "      <td>NaN</td>\n",
       "      <td>1</td>\n",
       "      <td>0</td>\n",
       "      <td>1</td>\n",
       "      <td>922080.25</td>\n",
       "      <td>0</td>\n",
       "    </tr>\n",
       "    <tr>\n",
       "      <th>8632</th>\n",
       "      <td>221197</td>\n",
       "      <td>893.0</td>\n",
       "      <td>Ярославль</td>\n",
       "      <td>М</td>\n",
       "      <td>NaN</td>\n",
       "      <td>0</td>\n",
       "      <td>NaN</td>\n",
       "      <td>1</td>\n",
       "      <td>1</td>\n",
       "      <td>0</td>\n",
       "      <td>173929.92</td>\n",
       "      <td>0</td>\n",
       "    </tr>\n",
       "    <tr>\n",
       "      <th>8785</th>\n",
       "      <td>127440</td>\n",
       "      <td>663.0</td>\n",
       "      <td>Ярославль</td>\n",
       "      <td>М</td>\n",
       "      <td>NaN</td>\n",
       "      <td>0</td>\n",
       "      <td>NaN</td>\n",
       "      <td>1</td>\n",
       "      <td>1</td>\n",
       "      <td>1</td>\n",
       "      <td>117197.56</td>\n",
       "      <td>0</td>\n",
       "    </tr>\n",
       "    <tr>\n",
       "      <th>9104</th>\n",
       "      <td>222480</td>\n",
       "      <td>776.0</td>\n",
       "      <td>Рыбинск</td>\n",
       "      <td>Ж</td>\n",
       "      <td>NaN</td>\n",
       "      <td>5</td>\n",
       "      <td>796735.09</td>\n",
       "      <td>1</td>\n",
       "      <td>1</td>\n",
       "      <td>1</td>\n",
       "      <td>55073.63</td>\n",
       "      <td>0</td>\n",
       "    </tr>\n",
       "    <tr>\n",
       "      <th>9301</th>\n",
       "      <td>202983</td>\n",
       "      <td>942.0</td>\n",
       "      <td>Рыбинск</td>\n",
       "      <td>Ж</td>\n",
       "      <td>NaN</td>\n",
       "      <td>0</td>\n",
       "      <td>NaN</td>\n",
       "      <td>1</td>\n",
       "      <td>1</td>\n",
       "      <td>1</td>\n",
       "      <td>163804.73</td>\n",
       "      <td>0</td>\n",
       "    </tr>\n",
       "    <tr>\n",
       "      <th>9380</th>\n",
       "      <td>187459</td>\n",
       "      <td>894.0</td>\n",
       "      <td>Рыбинск</td>\n",
       "      <td>М</td>\n",
       "      <td>NaN</td>\n",
       "      <td>0</td>\n",
       "      <td>NaN</td>\n",
       "      <td>1</td>\n",
       "      <td>1</td>\n",
       "      <td>0</td>\n",
       "      <td>178012.28</td>\n",
       "      <td>0</td>\n",
       "    </tr>\n",
       "    <tr>\n",
       "      <th>9457</th>\n",
       "      <td>141945</td>\n",
       "      <td>929.0</td>\n",
       "      <td>Ярославль</td>\n",
       "      <td>М</td>\n",
       "      <td>NaN</td>\n",
       "      <td>0</td>\n",
       "      <td>NaN</td>\n",
       "      <td>1</td>\n",
       "      <td>1</td>\n",
       "      <td>0</td>\n",
       "      <td>381868.89</td>\n",
       "      <td>0</td>\n",
       "    </tr>\n",
       "    <tr>\n",
       "      <th>9632</th>\n",
       "      <td>185829</td>\n",
       "      <td>927.0</td>\n",
       "      <td>Ярославль</td>\n",
       "      <td>М</td>\n",
       "      <td>NaN</td>\n",
       "      <td>0</td>\n",
       "      <td>NaN</td>\n",
       "      <td>1</td>\n",
       "      <td>1</td>\n",
       "      <td>0</td>\n",
       "      <td>231254.86</td>\n",
       "      <td>0</td>\n",
       "    </tr>\n",
       "    <tr>\n",
       "      <th>9634</th>\n",
       "      <td>221809</td>\n",
       "      <td>917.0</td>\n",
       "      <td>Ярославль</td>\n",
       "      <td>М</td>\n",
       "      <td>NaN</td>\n",
       "      <td>0</td>\n",
       "      <td>NaN</td>\n",
       "      <td>1</td>\n",
       "      <td>1</td>\n",
       "      <td>1</td>\n",
       "      <td>192644.15</td>\n",
       "      <td>0</td>\n",
       "    </tr>\n",
       "    <tr>\n",
       "      <th>9667</th>\n",
       "      <td>163657</td>\n",
       "      <td>849.0</td>\n",
       "      <td>Ярославль</td>\n",
       "      <td>М</td>\n",
       "      <td>NaN</td>\n",
       "      <td>4</td>\n",
       "      <td>1254013.85</td>\n",
       "      <td>2</td>\n",
       "      <td>1</td>\n",
       "      <td>1</td>\n",
       "      <td>119106.67</td>\n",
       "      <td>0</td>\n",
       "    </tr>\n",
       "    <tr>\n",
       "      <th>9819</th>\n",
       "      <td>140934</td>\n",
       "      <td>832.0</td>\n",
       "      <td>Рыбинск</td>\n",
       "      <td>Ж</td>\n",
       "      <td>NaN</td>\n",
       "      <td>3</td>\n",
       "      <td>385763.16</td>\n",
       "      <td>2</td>\n",
       "      <td>0</td>\n",
       "      <td>1</td>\n",
       "      <td>59651.35</td>\n",
       "      <td>0</td>\n",
       "    </tr>\n",
       "  </tbody>\n",
       "</table>\n",
       "</div>"
      ],
      "text/plain": [
       "      user_id  score       city gender  age  equity     balance  products  \\\n",
       "1247   228075  932.0  Ярославль      М  NaN       5  7601719.20         2   \n",
       "2165   187635  692.0    Рыбинск      Ж  NaN       0         NaN         1   \n",
       "2444   221156  913.0  Ярославль      М  NaN       0         NaN         1   \n",
       "3091   138660  836.0     Ростов      Ж  NaN       5   294315.53         2   \n",
       "4912   210674  834.0    Рыбинск      М  NaN       1   238330.52         2   \n",
       "5470   218868  827.0    Рыбинск      Ж  NaN       4   448959.07         2   \n",
       "5495   151662  884.0    Рыбинск      Ж  NaN       0         NaN         1   \n",
       "7236   210135  908.0    Рыбинск      Ж  NaN       4  1120340.31         3   \n",
       "7248   219343  920.0    Рыбинск      Ж  NaN       0         NaN         1   \n",
       "7345   184913  829.0  Ярославль      Ж  NaN       3   188648.77         2   \n",
       "7409   214031  777.0  Ярославль      М  NaN       2   171510.23         1   \n",
       "8015   198635  670.0  Ярославль      Ж  NaN       0         NaN         1   \n",
       "8070   226550  940.0    Рыбинск      М  NaN       0         NaN         1   \n",
       "8293   216848  930.0  Ярославль      М  NaN       0         NaN         1   \n",
       "8385   206759  915.0    Рыбинск      М  NaN       0         NaN         1   \n",
       "8449   210898  805.0  Ярославль      Ж  NaN       0         NaN         1   \n",
       "8632   221197  893.0  Ярославль      М  NaN       0         NaN         1   \n",
       "8785   127440  663.0  Ярославль      М  NaN       0         NaN         1   \n",
       "9104   222480  776.0    Рыбинск      Ж  NaN       5   796735.09         1   \n",
       "9301   202983  942.0    Рыбинск      Ж  NaN       0         NaN         1   \n",
       "9380   187459  894.0    Рыбинск      М  NaN       0         NaN         1   \n",
       "9457   141945  929.0  Ярославль      М  NaN       0         NaN         1   \n",
       "9632   185829  927.0  Ярославль      М  NaN       0         NaN         1   \n",
       "9634   221809  917.0  Ярославль      М  NaN       0         NaN         1   \n",
       "9667   163657  849.0  Ярославль      М  NaN       4  1254013.85         2   \n",
       "9819   140934  832.0    Рыбинск      Ж  NaN       3   385763.16         2   \n",
       "\n",
       "      credit_card  last_activity  est_salary  churn  \n",
       "1247            1              1   408121.16      0  \n",
       "2165            1              1   160368.82      0  \n",
       "2444            1              1   135693.24      0  \n",
       "3091            0              1    63310.22      1  \n",
       "4912            0              1    93775.06      0  \n",
       "5470            1              1    67835.95      0  \n",
       "5495            1              1   137500.77      0  \n",
       "7236            1              1    85002.15      0  \n",
       "7248            1              0   159248.67      0  \n",
       "7345            0              1    75206.90      0  \n",
       "7409            1              1    75409.63      0  \n",
       "8015            1              1   168699.33      0  \n",
       "8070            0              1   147696.95      0  \n",
       "8293            1              1   199542.51      0  \n",
       "8385            1              0    71179.53      0  \n",
       "8449            0              1   922080.25      0  \n",
       "8632            1              0   173929.92      0  \n",
       "8785            1              1   117197.56      0  \n",
       "9104            1              1    55073.63      0  \n",
       "9301            1              1   163804.73      0  \n",
       "9380            1              0   178012.28      0  \n",
       "9457            1              0   381868.89      0  \n",
       "9632            1              0   231254.86      0  \n",
       "9634            1              1   192644.15      0  \n",
       "9667            1              1   119106.67      0  \n",
       "9819            0              1    59651.35      0  "
      ]
     },
     "execution_count": 159,
     "metadata": {},
     "output_type": "execute_result"
    }
   ],
   "source": [
    "missing_age = proect[proect['age'].isna()]\n",
    "missing_age"
   ]
  },
  {
   "cell_type": "markdown",
   "metadata": {},
   "source": [
    "видим следующее: 1 из этих 26 уже покинул банк, только 1 человек с пропущенным возрастом из Ростова, у 16 из общего числа так же есть пропуск в строке balance, принимаю решение удалить эти 26 строк, на общее исследование это не повлияет, т.к. потеря данных составит 0.26%"
   ]
  },
  {
   "cell_type": "code",
   "execution_count": 160,
   "metadata": {},
   "outputs": [],
   "source": [
    "proect.dropna(subset=['age'], inplace=True)"
   ]
  },
  {
   "cell_type": "markdown",
   "metadata": {},
   "source": [
    "<div class=\"alert alert-block alert-success\">✔️\n",
    "    \n",
    "\n",
    "__Комментарий от тимлида №1__\n",
    "\n",
    "С возрастом корректно - за малочисленностью можно смело отбросить."
   ]
  },
  {
   "cell_type": "code",
   "execution_count": 161,
   "metadata": {
    "scrolled": true
   },
   "outputs": [
    {
     "data": {
      "text/plain": [
       "user_id             0\n",
       "score               0\n",
       "city                0\n",
       "gender              0\n",
       "age                 0\n",
       "equity              0\n",
       "balance          2279\n",
       "products            0\n",
       "credit_card         0\n",
       "last_activity       0\n",
       "est_salary          0\n",
       "churn               0\n",
       "dtype: int64"
      ]
     },
     "execution_count": 161,
     "metadata": {},
     "output_type": "execute_result"
    }
   ],
   "source": [
    "proect.isnull().sum()"
   ]
  },
  {
   "cell_type": "markdown",
   "metadata": {},
   "source": [
    "видим 2279 пропущенных значений,попробуем разобраться в их природе"
   ]
  },
  {
   "cell_type": "code",
   "execution_count": 162,
   "metadata": {},
   "outputs": [
    {
     "data": {
      "text/html": [
       "<div>\n",
       "<style scoped>\n",
       "    .dataframe tbody tr th:only-of-type {\n",
       "        vertical-align: middle;\n",
       "    }\n",
       "\n",
       "    .dataframe tbody tr th {\n",
       "        vertical-align: top;\n",
       "    }\n",
       "\n",
       "    .dataframe thead th {\n",
       "        text-align: right;\n",
       "    }\n",
       "</style>\n",
       "<table border=\"1\" class=\"dataframe\">\n",
       "  <thead>\n",
       "    <tr style=\"text-align: right;\">\n",
       "      <th></th>\n",
       "      <th>user_id</th>\n",
       "      <th>score</th>\n",
       "      <th>age</th>\n",
       "      <th>equity</th>\n",
       "      <th>balance</th>\n",
       "      <th>products</th>\n",
       "      <th>credit_card</th>\n",
       "      <th>last_activity</th>\n",
       "      <th>est_salary</th>\n",
       "      <th>churn</th>\n",
       "    </tr>\n",
       "  </thead>\n",
       "  <tbody>\n",
       "    <tr>\n",
       "      <th>count</th>\n",
       "      <td>2279.000000</td>\n",
       "      <td>2279.000000</td>\n",
       "      <td>2279.000000</td>\n",
       "      <td>2279.000000</td>\n",
       "      <td>0.0</td>\n",
       "      <td>2279.000000</td>\n",
       "      <td>2279.000000</td>\n",
       "      <td>2279.000000</td>\n",
       "      <td>2.279000e+03</td>\n",
       "      <td>2279.000000</td>\n",
       "    </tr>\n",
       "    <tr>\n",
       "      <th>mean</th>\n",
       "      <td>171904.885915</td>\n",
       "      <td>865.357174</td>\n",
       "      <td>42.093023</td>\n",
       "      <td>0.051338</td>\n",
       "      <td>NaN</td>\n",
       "      <td>1.163229</td>\n",
       "      <td>0.815270</td>\n",
       "      <td>0.548925</td>\n",
       "      <td>2.263454e+05</td>\n",
       "      <td>0.005704</td>\n",
       "    </tr>\n",
       "    <tr>\n",
       "      <th>std</th>\n",
       "      <td>33303.215270</td>\n",
       "      <td>89.553735</td>\n",
       "      <td>11.941551</td>\n",
       "      <td>0.226623</td>\n",
       "      <td>NaN</td>\n",
       "      <td>0.403713</td>\n",
       "      <td>0.388164</td>\n",
       "      <td>0.497710</td>\n",
       "      <td>1.998256e+05</td>\n",
       "      <td>0.075327</td>\n",
       "    </tr>\n",
       "    <tr>\n",
       "      <th>min</th>\n",
       "      <td>114182.000000</td>\n",
       "      <td>642.000000</td>\n",
       "      <td>18.000000</td>\n",
       "      <td>0.000000</td>\n",
       "      <td>NaN</td>\n",
       "      <td>0.000000</td>\n",
       "      <td>0.000000</td>\n",
       "      <td>0.000000</td>\n",
       "      <td>2.027403e+04</td>\n",
       "      <td>0.000000</td>\n",
       "    </tr>\n",
       "    <tr>\n",
       "      <th>25%</th>\n",
       "      <td>142992.500000</td>\n",
       "      <td>871.000000</td>\n",
       "      <td>33.000000</td>\n",
       "      <td>0.000000</td>\n",
       "      <td>NaN</td>\n",
       "      <td>1.000000</td>\n",
       "      <td>1.000000</td>\n",
       "      <td>0.000000</td>\n",
       "      <td>1.202174e+05</td>\n",
       "      <td>0.000000</td>\n",
       "    </tr>\n",
       "    <tr>\n",
       "      <th>50%</th>\n",
       "      <td>172304.000000</td>\n",
       "      <td>903.000000</td>\n",
       "      <td>40.000000</td>\n",
       "      <td>0.000000</td>\n",
       "      <td>NaN</td>\n",
       "      <td>1.000000</td>\n",
       "      <td>1.000000</td>\n",
       "      <td>1.000000</td>\n",
       "      <td>1.743479e+05</td>\n",
       "      <td>0.000000</td>\n",
       "    </tr>\n",
       "    <tr>\n",
       "      <th>75%</th>\n",
       "      <td>201257.000000</td>\n",
       "      <td>922.000000</td>\n",
       "      <td>49.000000</td>\n",
       "      <td>0.000000</td>\n",
       "      <td>NaN</td>\n",
       "      <td>1.000000</td>\n",
       "      <td>1.000000</td>\n",
       "      <td>1.000000</td>\n",
       "      <td>2.403728e+05</td>\n",
       "      <td>0.000000</td>\n",
       "    </tr>\n",
       "    <tr>\n",
       "      <th>max</th>\n",
       "      <td>229145.000000</td>\n",
       "      <td>990.000000</td>\n",
       "      <td>86.000000</td>\n",
       "      <td>3.000000</td>\n",
       "      <td>NaN</td>\n",
       "      <td>3.000000</td>\n",
       "      <td>1.000000</td>\n",
       "      <td>1.000000</td>\n",
       "      <td>1.333687e+06</td>\n",
       "      <td>1.000000</td>\n",
       "    </tr>\n",
       "  </tbody>\n",
       "</table>\n",
       "</div>"
      ],
      "text/plain": [
       "             user_id        score          age       equity  balance  \\\n",
       "count    2279.000000  2279.000000  2279.000000  2279.000000      0.0   \n",
       "mean   171904.885915   865.357174    42.093023     0.051338      NaN   \n",
       "std     33303.215270    89.553735    11.941551     0.226623      NaN   \n",
       "min    114182.000000   642.000000    18.000000     0.000000      NaN   \n",
       "25%    142992.500000   871.000000    33.000000     0.000000      NaN   \n",
       "50%    172304.000000   903.000000    40.000000     0.000000      NaN   \n",
       "75%    201257.000000   922.000000    49.000000     0.000000      NaN   \n",
       "max    229145.000000   990.000000    86.000000     3.000000      NaN   \n",
       "\n",
       "          products  credit_card  last_activity    est_salary        churn  \n",
       "count  2279.000000  2279.000000    2279.000000  2.279000e+03  2279.000000  \n",
       "mean      1.163229     0.815270       0.548925  2.263454e+05     0.005704  \n",
       "std       0.403713     0.388164       0.497710  1.998256e+05     0.075327  \n",
       "min       0.000000     0.000000       0.000000  2.027403e+04     0.000000  \n",
       "25%       1.000000     1.000000       0.000000  1.202174e+05     0.000000  \n",
       "50%       1.000000     1.000000       1.000000  1.743479e+05     0.000000  \n",
       "75%       1.000000     1.000000       1.000000  2.403728e+05     0.000000  \n",
       "max       3.000000     1.000000       1.000000  1.333687e+06     1.000000  "
      ]
     },
     "metadata": {},
     "output_type": "display_data"
    }
   ],
   "source": [
    "display (proect[proect['balance'].isna()].describe())"
   ]
  },
  {
   "cell_type": "code",
   "execution_count": 163,
   "metadata": {
    "scrolled": true
   },
   "outputs": [
    {
     "name": "stdout",
     "output_type": "stream",
     "text": [
      "user_id          0.005479\n",
      "score            0.235283\n",
      "age              0.069745\n",
      "equity           0.163793\n",
      "balance          1.000000\n",
      "products         0.075716\n",
      "credit_card     -0.059850\n",
      "last_activity    0.024770\n",
      "est_salary       0.338800\n",
      "churn            0.085915\n",
      "Name: balance, dtype: float64\n"
     ]
    }
   ],
   "source": [
    "correlation_matrix = proect.corr()\n",
    "print(correlation_matrix['balance'])"
   ]
  },
  {
   "cell_type": "markdown",
   "metadata": {},
   "source": [
    "видим,что пропуски в большей части зависят от наличия кредитных карт"
   ]
  },
  {
   "cell_type": "code",
   "execution_count": 164,
   "metadata": {},
   "outputs": [
    {
     "data": {
      "text/plain": [
       "1    1858\n",
       "0     421\n",
       "Name: credit_card, dtype: int64"
      ]
     },
     "execution_count": 164,
     "metadata": {},
     "output_type": "execute_result"
    }
   ],
   "source": [
    "proect[proect['balance'].isna()]['credit_card'].value_counts()"
   ]
  },
  {
   "cell_type": "markdown",
   "metadata": {},
   "source": [
    "в 1858 случаях, кредитка была у клиентов , чей баланс не занесен в данные"
   ]
  },
  {
   "cell_type": "code",
   "execution_count": 165,
   "metadata": {
    "scrolled": true
   },
   "outputs": [
    {
     "data": {
      "text/plain": [
       "1    1934\n",
       "2     315\n",
       "3      29\n",
       "0       1\n",
       "Name: products, dtype: int64"
      ]
     },
     "execution_count": 165,
     "metadata": {},
     "output_type": "execute_result"
    }
   ],
   "source": [
    "proect[proect['balance'].isna()]['products'].value_counts()"
   ]
  },
  {
   "cell_type": "markdown",
   "metadata": {},
   "source": [
    "так же интересный момент,что у большинства пропусков (1934) всего 1 продукт"
   ]
  },
  {
   "cell_type": "code",
   "execution_count": 166,
   "metadata": {},
   "outputs": [
    {
     "data": {
      "text/plain": [
       "0    2266\n",
       "1      13\n",
       "Name: churn, dtype: int64"
      ]
     },
     "execution_count": 166,
     "metadata": {},
     "output_type": "execute_result"
    }
   ],
   "source": [
    "proect[proect['balance'].isna()]['churn'].value_counts()"
   ]
  },
  {
   "cell_type": "markdown",
   "metadata": {},
   "source": [
    "ушли из всех наблюдаемых клиентов только 13, теория по поводу пропусков из-за ухода не подтвердилась"
   ]
  },
  {
   "cell_type": "code",
   "execution_count": 167,
   "metadata": {},
   "outputs": [
    {
     "data": {
      "text/plain": [
       "0    2164\n",
       "1     114\n",
       "3       1\n",
       "Name: equity, dtype: int64"
      ]
     },
     "execution_count": 167,
     "metadata": {},
     "output_type": "execute_result"
    }
   ],
   "source": [
    "proect[proect['balance'].isna()]['equity'].value_counts()"
   ]
  },
  {
   "cell_type": "markdown",
   "metadata": {},
   "source": [
    "наблюдаем,что собственность у подавляющего большинства клиентов с пропуском так же, по сути, не заполнена"
   ]
  },
  {
   "cell_type": "code",
   "execution_count": 168,
   "metadata": {},
   "outputs": [
    {
     "data": {
      "text/plain": [
       "Ярославль    1458\n",
       "Рыбинск       586\n",
       "Ростов        235\n",
       "Name: city, dtype: int64"
      ]
     },
     "execution_count": 168,
     "metadata": {},
     "output_type": "execute_result"
    }
   ],
   "source": [
    "proect[proect['balance'].isna()]['city'].value_counts()"
   ]
  },
  {
   "cell_type": "markdown",
   "metadata": {},
   "source": [
    "больше всего пропусков у клиентов из Ярославля"
   ]
  },
  {
   "cell_type": "code",
   "execution_count": 169,
   "metadata": {},
   "outputs": [],
   "source": [
    "proect['balance_missing'] = proect['balance'].isnull().astype(int)"
   ]
  },
  {
   "cell_type": "markdown",
   "metadata": {},
   "source": [
    "для дальнейшей работы создадим balance_missing"
   ]
  },
  {
   "cell_type": "code",
   "execution_count": 170,
   "metadata": {},
   "outputs": [
    {
     "data": {
      "text/html": [
       "<div>\n",
       "<style scoped>\n",
       "    .dataframe tbody tr th:only-of-type {\n",
       "        vertical-align: middle;\n",
       "    }\n",
       "\n",
       "    .dataframe tbody tr th {\n",
       "        vertical-align: top;\n",
       "    }\n",
       "\n",
       "    .dataframe thead th {\n",
       "        text-align: right;\n",
       "    }\n",
       "</style>\n",
       "<table border=\"1\" class=\"dataframe\">\n",
       "  <thead>\n",
       "    <tr style=\"text-align: right;\">\n",
       "      <th></th>\n",
       "      <th>score</th>\n",
       "      <th>age</th>\n",
       "      <th>est_salary</th>\n",
       "      <th>products</th>\n",
       "      <th>equity</th>\n",
       "      <th>gender</th>\n",
       "      <th>city</th>\n",
       "      <th>credit_card</th>\n",
       "      <th>last_activity</th>\n",
       "      <th>churn</th>\n",
       "    </tr>\n",
       "    <tr>\n",
       "      <th>balance_missing</th>\n",
       "      <th></th>\n",
       "      <th></th>\n",
       "      <th></th>\n",
       "      <th></th>\n",
       "      <th></th>\n",
       "      <th></th>\n",
       "      <th></th>\n",
       "      <th></th>\n",
       "      <th></th>\n",
       "      <th></th>\n",
       "    </tr>\n",
       "  </thead>\n",
       "  <tbody>\n",
       "    <tr>\n",
       "      <th>0</th>\n",
       "      <td>843.744120</td>\n",
       "      <td>42.924366</td>\n",
       "      <td>124520.394264</td>\n",
       "      <td>2.081222</td>\n",
       "      <td>3.394802</td>\n",
       "      <td>Ж</td>\n",
       "      <td>Ярославль</td>\n",
       "      <td>1</td>\n",
       "      <td>1</td>\n",
       "      <td>0.234698</td>\n",
       "    </tr>\n",
       "    <tr>\n",
       "      <th>1</th>\n",
       "      <td>865.357174</td>\n",
       "      <td>42.093023</td>\n",
       "      <td>226345.417464</td>\n",
       "      <td>1.163229</td>\n",
       "      <td>0.051338</td>\n",
       "      <td>М</td>\n",
       "      <td>Ярославль</td>\n",
       "      <td>1</td>\n",
       "      <td>1</td>\n",
       "      <td>0.005704</td>\n",
       "    </tr>\n",
       "  </tbody>\n",
       "</table>\n",
       "</div>"
      ],
      "text/plain": [
       "                      score        age     est_salary  products    equity  \\\n",
       "balance_missing                                                             \n",
       "0                843.744120  42.924366  124520.394264  2.081222  3.394802   \n",
       "1                865.357174  42.093023  226345.417464  1.163229  0.051338   \n",
       "\n",
       "                gender       city  credit_card  last_activity     churn  \n",
       "balance_missing                                                          \n",
       "0                    Ж  Ярославль            1              1  0.234698  \n",
       "1                    М  Ярославль            1              1  0.005704  "
      ]
     },
     "metadata": {},
     "output_type": "display_data"
    }
   ],
   "source": [
    "pivot_table = proect.groupby('balance_missing').agg({\n",
    "       'score': 'mean',\n",
    "       'age': 'mean',\n",
    "       'est_salary': 'mean',\n",
    "       'products': 'mean',\n",
    "       'equity': 'mean',\n",
    "       'gender': lambda x: x.value_counts().idxmax(),  # наиболее частый пол\n",
    "       'city': lambda x: x.value_counts().idxmax(),    # наиболее частый город\n",
    "       'credit_card': lambda x: x.value_counts().idxmax(), # наиболее частый статус кредитной карты\n",
    "       'last_activity': lambda x: x.value_counts().idxmax(), # наиболее частый статус активности\n",
    "       'churn': 'mean'  # доля ушедших клиентов\n",
    "   })\n",
    "\n",
    "display(pivot_table)"
   ]
  },
  {
   "cell_type": "markdown",
   "metadata": {},
   "source": [
    "<div class=\"alert alert-block alert-danger\">✍\n",
    "    \n",
    "\n",
    "__Комментарий от тимлида №1__\n",
    "\n",
    "Для вывода датафрейм объекта лучше использовать display(), а не print(). Так будет нагляднее"
   ]
  },
  {
   "cell_type": "markdown",
   "metadata": {},
   "source": [
    "<div class=\"alert alert-info\"> <b>Комментарии студента №1 :</b> Исправил,спасибо,намного приятнее выглядит </div>"
   ]
  },
  {
   "cell_type": "markdown",
   "metadata": {},
   "source": [
    "<div class=\"alert alert-block alert-success\">✔️\n",
    "    \n",
    "\n",
    "__Комментарий от тимлида №2__\n",
    "Да, теперь корреткно"
   ]
  },
  {
   "cell_type": "markdown",
   "metadata": {},
   "source": [
    "средний возраст у клиентов с пропуском почти не отличается от других клиентов, но есть большая разница с кол-вом продуктов и собственностью"
   ]
  },
  {
   "cell_type": "code",
   "execution_count": 171,
   "metadata": {},
   "outputs": [
    {
     "data": {
      "image/png": "[encoded data removed]",
      "text/plain": [
       "<Figure size 864x432 with 1 Axes>"
      ]
     },
     "metadata": {
      "needs_background": "light"
     },
     "output_type": "display_data"
    }
   ],
   "source": [
    "plt.figure(figsize=(12, 6))\n",
    "sns.countplot(data=proect, x='balance_missing', hue='churn')\n",
    "plt.title('Зависимость пропусков в balance от статуса ухода')\n",
    "plt.xlabel('Пропуски в balance (0 - нет, 1 - да)')\n",
    "plt.ylabel('Количество наблюдений')\n",
    "plt.legend(title='Ушел', loc='upper right', labels=['Нет', 'Да'])\n",
    "plt.show()"
   ]
  },
  {
   "cell_type": "markdown",
   "metadata": {},
   "source": [
    "Визуально проиллюстрировал, что наличие пропуска в балансе, не зависело от ухода"
   ]
  },
  {
   "cell_type": "code",
   "execution_count": 172,
   "metadata": {},
   "outputs": [
    {
     "data": {
      "image/png": "[encoded data removed]",
      "text/plain": [
       "<Figure size 864x432 with 1 Axes>"
      ]
     },
     "metadata": {
      "needs_background": "light"
     },
     "output_type": "display_data"
    }
   ],
   "source": [
    "plt.figure(figsize=(12, 6))\n",
    "sns.countplot(data=proect, x='balance_missing', hue='credit_card')\n",
    "plt.title('Зависимость пропусков в Balance от наличия кредитной карточки')\n",
    "plt.xlabel('Пропуски в balance (0 - нет, 1 - да)')\n",
    "plt.ylabel('Количество наблюдений')\n",
    "plt.legend(title='Кредитка', loc='upper right', labels=['Нет', 'Да'])\n",
    "plt.show()"
   ]
  },
  {
   "cell_type": "markdown",
   "metadata": {},
   "source": [
    "еще раз подтвердается факт,что на пропуск так или иначе влияет наличие кредитки"
   ]
  },
  {
   "cell_type": "markdown",
   "metadata": {},
   "source": [
    "По итогу анализа. удалось найти некую зависимость пропусков к наличию кредитки, так же есть зависимость и по заявленному имуществу,у большинства пропусков - 0, т.е. общая картина следующая:\n",
    "\n",
    "у 1858 клиентов, у кого пропущены значения в balance имеют кредитку , так же у 2164 в графе собственности 0 значение, т.е. у этих клиентов есть кредитка и у них пропущенное значение в балансе и отсутствие заявленной собственности, просто эти клиенты не хотят предоставлять информацию банку и пользуются только одной картой, т.к. у 1934 только один продукт- и это кредитка\n",
    "\n",
    "\n",
    "**Вывод** могу предположить,что данные пропуски относятся к типу MNAR (Missing Not At Random / Отсутствует не случайно) а значит, без дополнительного обоснования их нельзя отбрасывать или заполнять одним значением, т.к. это приведёт к заметным искажениям."
   ]
  },
  {
   "cell_type": "markdown",
   "metadata": {},
   "source": [
    "<div class=\"alert alert-block alert-success\">✔️\n",
    "    \n",
    "\n",
    "__Комментарий от тимлида №1__\n",
    "\n",
    "Тип пропуска определен корректно"
   ]
  },
  {
   "cell_type": "code",
   "execution_count": 173,
   "metadata": {},
   "outputs": [
    {
     "data": {
      "text/plain": [
       "0"
      ]
     },
     "execution_count": 173,
     "metadata": {},
     "output_type": "execute_result"
    }
   ],
   "source": [
    "proect.duplicated().sum()"
   ]
  },
  {
   "cell_type": "markdown",
   "metadata": {},
   "source": []
  },
  {
   "cell_type": "code",
   "execution_count": 174,
   "metadata": {},
   "outputs": [
    {
     "name": "stdout",
     "output_type": "stream",
     "text": [
      "50\n"
     ]
    }
   ],
   "source": [
    "print (proect['user_id'].duplicated().sum())"
   ]
  },
  {
   "cell_type": "markdown",
   "metadata": {},
   "source": [
    "нашли 50 дубликатов по user_id, начинаем работать по этому направлению"
   ]
  },
  {
   "cell_type": "code",
   "execution_count": 175,
   "metadata": {},
   "outputs": [
    {
     "data": {
      "text/plain": [
       "162053    2\n",
       "208738    2\n",
       "170312    2\n",
       "160075    2\n",
       "208081    2\n",
       "227795    2\n",
       "183510    2\n",
       "140377    2\n",
       "148826    2\n",
       "131419    2\n",
       "155872    2\n",
       "217826    2\n",
       "210662    2\n",
       "199312    2\n",
       "171751    2\n",
       "210792    2\n",
       "141265    2\n",
       "217412    2\n",
       "172142    2\n",
       "175730    2\n",
       "197364    2\n",
       "149365    2\n",
       "126368    2\n",
       "200863    2\n",
       "123461    2\n",
       "164676    2\n",
       "210627    2\n",
       "120258    2\n",
       "150667    2\n",
       "163207    2\n",
       "220816    2\n",
       "217619    2\n",
       "185748    2\n",
       "181526    2\n",
       "155765    2\n",
       "188957    2\n",
       "152479    2\n",
       "191520    2\n",
       "124450    2\n",
       "168998    2\n",
       "217643    2\n",
       "195884    2\n",
       "190253    2\n",
       "208815    2\n",
       "226719    2\n",
       "117943    2\n",
       "211130    2\n",
       "116540    2\n",
       "143592    2\n",
       "129785    2\n",
       "Name: user_id, dtype: int64"
      ]
     },
     "metadata": {},
     "output_type": "display_data"
    }
   ],
   "source": [
    "# дубликаты\n",
    "duplicates = proect[proect['user_id'].duplicated(keep=False)]\n",
    "\n",
    "# Дополнительно, можно вывести уникальные user_id с дубликатами и их количество\n",
    "duplicate_counts = duplicates['user_id'].value_counts()\n",
    "display(duplicate_counts)"
   ]
  },
  {
   "cell_type": "markdown",
   "metadata": {},
   "source": [
    "<div class=\"alert alert-block alert-warning\">📝\n",
    "    \n",
    "\n",
    "__Комментарий от тимлида №1__\n",
    "\n",
    "\n",
    "В единственной или последней строке ячейки кода Юпитера, метод print() не обязателен, в отличии от тренажера"
   ]
  },
  {
   "cell_type": "code",
   "execution_count": 176,
   "metadata": {},
   "outputs": [
    {
     "data": {
      "text/html": [
       "<div>\n",
       "<style scoped>\n",
       "    .dataframe tbody tr th:only-of-type {\n",
       "        vertical-align: middle;\n",
       "    }\n",
       "\n",
       "    .dataframe tbody tr th {\n",
       "        vertical-align: top;\n",
       "    }\n",
       "\n",
       "    .dataframe thead th {\n",
       "        text-align: right;\n",
       "    }\n",
       "</style>\n",
       "<table border=\"1\" class=\"dataframe\">\n",
       "  <thead>\n",
       "    <tr style=\"text-align: right;\">\n",
       "      <th></th>\n",
       "      <th>user_id</th>\n",
       "      <th>score</th>\n",
       "      <th>city</th>\n",
       "      <th>gender</th>\n",
       "      <th>age</th>\n",
       "      <th>equity</th>\n",
       "      <th>balance</th>\n",
       "      <th>products</th>\n",
       "      <th>credit_card</th>\n",
       "      <th>last_activity</th>\n",
       "      <th>est_salary</th>\n",
       "      <th>churn</th>\n",
       "      <th>balance_missing</th>\n",
       "    </tr>\n",
       "  </thead>\n",
       "  <tbody>\n",
       "    <tr>\n",
       "      <th>5629</th>\n",
       "      <td>162053</td>\n",
       "      <td>921.0</td>\n",
       "      <td>Рыбинск</td>\n",
       "      <td>М</td>\n",
       "      <td>33.0</td>\n",
       "      <td>3</td>\n",
       "      <td>857011.13</td>\n",
       "      <td>2</td>\n",
       "      <td>1</td>\n",
       "      <td>1</td>\n",
       "      <td>113512.57</td>\n",
       "      <td>1</td>\n",
       "      <td>0</td>\n",
       "    </tr>\n",
       "    <tr>\n",
       "      <th>8733</th>\n",
       "      <td>162053</td>\n",
       "      <td>786.0</td>\n",
       "      <td>Ярославль</td>\n",
       "      <td>М</td>\n",
       "      <td>29.0</td>\n",
       "      <td>4</td>\n",
       "      <td>205824.97</td>\n",
       "      <td>3</td>\n",
       "      <td>1</td>\n",
       "      <td>0</td>\n",
       "      <td>121371.73</td>\n",
       "      <td>0</td>\n",
       "      <td>0</td>\n",
       "    </tr>\n",
       "  </tbody>\n",
       "</table>\n",
       "</div>"
      ],
      "text/plain": [
       "      user_id  score       city gender   age  equity    balance  products  \\\n",
       "5629   162053  921.0    Рыбинск      М  33.0       3  857011.13         2   \n",
       "8733   162053  786.0  Ярославль      М  29.0       4  205824.97         3   \n",
       "\n",
       "      credit_card  last_activity  est_salary  churn  balance_missing  \n",
       "5629            1              1   113512.57      1                0  \n",
       "8733            1              0   121371.73      0                0  "
      ]
     },
     "execution_count": 176,
     "metadata": {},
     "output_type": "execute_result"
    }
   ],
   "source": [
    "proect[proect['user_id'] == 162053]"
   ]
  },
  {
   "cell_type": "code",
   "execution_count": 177,
   "metadata": {},
   "outputs": [
    {
     "data": {
      "text/html": [
       "<div>\n",
       "<style scoped>\n",
       "    .dataframe tbody tr th:only-of-type {\n",
       "        vertical-align: middle;\n",
       "    }\n",
       "\n",
       "    .dataframe tbody tr th {\n",
       "        vertical-align: top;\n",
       "    }\n",
       "\n",
       "    .dataframe thead th {\n",
       "        text-align: right;\n",
       "    }\n",
       "</style>\n",
       "<table border=\"1\" class=\"dataframe\">\n",
       "  <thead>\n",
       "    <tr style=\"text-align: right;\">\n",
       "      <th></th>\n",
       "      <th>user_id</th>\n",
       "      <th>score</th>\n",
       "      <th>city</th>\n",
       "      <th>gender</th>\n",
       "      <th>age</th>\n",
       "      <th>equity</th>\n",
       "      <th>balance</th>\n",
       "      <th>products</th>\n",
       "      <th>credit_card</th>\n",
       "      <th>last_activity</th>\n",
       "      <th>est_salary</th>\n",
       "      <th>churn</th>\n",
       "      <th>balance_missing</th>\n",
       "    </tr>\n",
       "  </thead>\n",
       "  <tbody>\n",
       "    <tr>\n",
       "      <th>1580</th>\n",
       "      <td>208738</td>\n",
       "      <td>897.0</td>\n",
       "      <td>Рыбинск</td>\n",
       "      <td>Ж</td>\n",
       "      <td>45.0</td>\n",
       "      <td>5</td>\n",
       "      <td>859018.19</td>\n",
       "      <td>2</td>\n",
       "      <td>1</td>\n",
       "      <td>1</td>\n",
       "      <td>145510.08</td>\n",
       "      <td>1</td>\n",
       "      <td>0</td>\n",
       "    </tr>\n",
       "    <tr>\n",
       "      <th>5840</th>\n",
       "      <td>208738</td>\n",
       "      <td>839.0</td>\n",
       "      <td>Ярославль</td>\n",
       "      <td>М</td>\n",
       "      <td>60.0</td>\n",
       "      <td>5</td>\n",
       "      <td>1102438.37</td>\n",
       "      <td>2</td>\n",
       "      <td>0</td>\n",
       "      <td>1</td>\n",
       "      <td>116500.81</td>\n",
       "      <td>0</td>\n",
       "      <td>0</td>\n",
       "    </tr>\n",
       "  </tbody>\n",
       "</table>\n",
       "</div>"
      ],
      "text/plain": [
       "      user_id  score       city gender   age  equity     balance  products  \\\n",
       "1580   208738  897.0    Рыбинск      Ж  45.0       5   859018.19         2   \n",
       "5840   208738  839.0  Ярославль      М  60.0       5  1102438.37         2   \n",
       "\n",
       "      credit_card  last_activity  est_salary  churn  balance_missing  \n",
       "1580            1              1   145510.08      1                0  \n",
       "5840            0              1   116500.81      0                0  "
      ]
     },
     "execution_count": 177,
     "metadata": {},
     "output_type": "execute_result"
    }
   ],
   "source": [
    "proect[proect['user_id'] == 208738]"
   ]
  },
  {
   "cell_type": "code",
   "execution_count": 178,
   "metadata": {
    "scrolled": true
   },
   "outputs": [
    {
     "data": {
      "text/html": [
       "<div>\n",
       "<style scoped>\n",
       "    .dataframe tbody tr th:only-of-type {\n",
       "        vertical-align: middle;\n",
       "    }\n",
       "\n",
       "    .dataframe tbody tr th {\n",
       "        vertical-align: top;\n",
       "    }\n",
       "\n",
       "    .dataframe thead th {\n",
       "        text-align: right;\n",
       "    }\n",
       "</style>\n",
       "<table border=\"1\" class=\"dataframe\">\n",
       "  <thead>\n",
       "    <tr style=\"text-align: right;\">\n",
       "      <th></th>\n",
       "      <th>user_id</th>\n",
       "      <th>score</th>\n",
       "      <th>city</th>\n",
       "      <th>gender</th>\n",
       "      <th>age</th>\n",
       "      <th>equity</th>\n",
       "      <th>balance</th>\n",
       "      <th>products</th>\n",
       "      <th>credit_card</th>\n",
       "      <th>last_activity</th>\n",
       "      <th>est_salary</th>\n",
       "      <th>churn</th>\n",
       "      <th>balance_missing</th>\n",
       "    </tr>\n",
       "  </thead>\n",
       "  <tbody>\n",
       "    <tr>\n",
       "      <th>790</th>\n",
       "      <td>170312</td>\n",
       "      <td>901.0</td>\n",
       "      <td>Ярославль</td>\n",
       "      <td>М</td>\n",
       "      <td>33.0</td>\n",
       "      <td>4</td>\n",
       "      <td>3276783.93</td>\n",
       "      <td>3</td>\n",
       "      <td>0</td>\n",
       "      <td>1</td>\n",
       "      <td>358700.96</td>\n",
       "      <td>1</td>\n",
       "      <td>0</td>\n",
       "    </tr>\n",
       "    <tr>\n",
       "      <th>3039</th>\n",
       "      <td>170312</td>\n",
       "      <td>813.0</td>\n",
       "      <td>Рыбинск</td>\n",
       "      <td>Ж</td>\n",
       "      <td>47.0</td>\n",
       "      <td>3</td>\n",
       "      <td>370027.67</td>\n",
       "      <td>2</td>\n",
       "      <td>0</td>\n",
       "      <td>0</td>\n",
       "      <td>129835.56</td>\n",
       "      <td>0</td>\n",
       "      <td>0</td>\n",
       "    </tr>\n",
       "  </tbody>\n",
       "</table>\n",
       "</div>"
      ],
      "text/plain": [
       "      user_id  score       city gender   age  equity     balance  products  \\\n",
       "790    170312  901.0  Ярославль      М  33.0       4  3276783.93         3   \n",
       "3039   170312  813.0    Рыбинск      Ж  47.0       3   370027.67         2   \n",
       "\n",
       "      credit_card  last_activity  est_salary  churn  balance_missing  \n",
       "790             0              1   358700.96      1                0  \n",
       "3039            0              0   129835.56      0                0  "
      ]
     },
     "execution_count": 178,
     "metadata": {},
     "output_type": "execute_result"
    }
   ],
   "source": [
    "proect[proect['user_id'] == 170312]"
   ]
  },
  {
   "cell_type": "markdown",
   "metadata": {},
   "source": [
    "выборочно взял три айди, есть закономерность:\n",
    "дубликаты вызваны тем,что первый клиент ушел из банка, и его айди \"освободилась\" и далее новому клиенту выдается тот же айди, принимаю решение удалить тех клиентов.которые остались , выборка не велика 25 строк, но ушедшие клиенты нужны нам для дальнейшего анализа, можно было бы сгенерировать им новые айди, но потеря данных не существенна"
   ]
  },
  {
   "cell_type": "code",
   "execution_count": 179,
   "metadata": {},
   "outputs": [
    {
     "name": "stdout",
     "output_type": "stream",
     "text": [
      "0\n"
     ]
    }
   ],
   "source": [
    "proect = proect[~(proect['user_id'].duplicated(keep=False) & (proect['churn'] == 0))]\n",
    "print (proect['user_id'].duplicated().sum())"
   ]
  },
  {
   "cell_type": "code",
   "execution_count": 180,
   "metadata": {
    "scrolled": true
   },
   "outputs": [
    {
     "data": {
      "text/html": [
       "<div>\n",
       "<style scoped>\n",
       "    .dataframe tbody tr th:only-of-type {\n",
       "        vertical-align: middle;\n",
       "    }\n",
       "\n",
       "    .dataframe tbody tr th {\n",
       "        vertical-align: top;\n",
       "    }\n",
       "\n",
       "    .dataframe thead th {\n",
       "        text-align: right;\n",
       "    }\n",
       "</style>\n",
       "<table border=\"1\" class=\"dataframe\">\n",
       "  <thead>\n",
       "    <tr style=\"text-align: right;\">\n",
       "      <th></th>\n",
       "      <th>user_id</th>\n",
       "      <th>score</th>\n",
       "      <th>city</th>\n",
       "      <th>gender</th>\n",
       "      <th>age</th>\n",
       "      <th>equity</th>\n",
       "      <th>balance</th>\n",
       "      <th>products</th>\n",
       "      <th>credit_card</th>\n",
       "      <th>last_activity</th>\n",
       "      <th>est_salary</th>\n",
       "      <th>churn</th>\n",
       "      <th>balance_missing</th>\n",
       "    </tr>\n",
       "  </thead>\n",
       "  <tbody>\n",
       "    <tr>\n",
       "      <th>5629</th>\n",
       "      <td>162053</td>\n",
       "      <td>921.0</td>\n",
       "      <td>Рыбинск</td>\n",
       "      <td>М</td>\n",
       "      <td>33.0</td>\n",
       "      <td>3</td>\n",
       "      <td>857011.13</td>\n",
       "      <td>2</td>\n",
       "      <td>1</td>\n",
       "      <td>1</td>\n",
       "      <td>113512.57</td>\n",
       "      <td>1</td>\n",
       "      <td>0</td>\n",
       "    </tr>\n",
       "  </tbody>\n",
       "</table>\n",
       "</div>"
      ],
      "text/plain": [
       "      user_id  score     city gender   age  equity    balance  products  \\\n",
       "5629   162053  921.0  Рыбинск      М  33.0       3  857011.13         2   \n",
       "\n",
       "      credit_card  last_activity  est_salary  churn  balance_missing  \n",
       "5629            1              1   113512.57      1                0  "
      ]
     },
     "execution_count": 180,
     "metadata": {},
     "output_type": "execute_result"
    }
   ],
   "source": [
    "proect[proect['user_id'] == 162053]"
   ]
  },
  {
   "cell_type": "markdown",
   "metadata": {},
   "source": [
    "проверяю,остались ли \"нужные\" нам для исследования клиенты"
   ]
  },
  {
   "cell_type": "markdown",
   "metadata": {},
   "source": [
    "### Кодирование для использования в анализе корреляций."
   ]
  },
  {
   "cell_type": "code",
   "execution_count": 181,
   "metadata": {},
   "outputs": [
    {
     "data": {
      "text/html": [
       "<div>\n",
       "<style scoped>\n",
       "    .dataframe tbody tr th:only-of-type {\n",
       "        vertical-align: middle;\n",
       "    }\n",
       "\n",
       "    .dataframe tbody tr th {\n",
       "        vertical-align: top;\n",
       "    }\n",
       "\n",
       "    .dataframe thead th {\n",
       "        text-align: right;\n",
       "    }\n",
       "</style>\n",
       "<table border=\"1\" class=\"dataframe\">\n",
       "  <thead>\n",
       "    <tr style=\"text-align: right;\">\n",
       "      <th></th>\n",
       "      <th>user_id</th>\n",
       "      <th>score</th>\n",
       "      <th>city</th>\n",
       "      <th>gender</th>\n",
       "      <th>age</th>\n",
       "      <th>equity</th>\n",
       "      <th>balance</th>\n",
       "      <th>products</th>\n",
       "      <th>credit_card</th>\n",
       "      <th>last_activity</th>\n",
       "      <th>est_salary</th>\n",
       "      <th>churn</th>\n",
       "      <th>balance_missing</th>\n",
       "      <th>gender_Ж</th>\n",
       "      <th>gender_М</th>\n",
       "      <th>city_Ростов</th>\n",
       "      <th>city_Рыбинск</th>\n",
       "      <th>city_Ярославль</th>\n",
       "    </tr>\n",
       "  </thead>\n",
       "  <tbody>\n",
       "    <tr>\n",
       "      <th>0</th>\n",
       "      <td>183012</td>\n",
       "      <td>850.0</td>\n",
       "      <td>Рыбинск</td>\n",
       "      <td>Ж</td>\n",
       "      <td>25.0</td>\n",
       "      <td>1</td>\n",
       "      <td>59214.82</td>\n",
       "      <td>2</td>\n",
       "      <td>0</td>\n",
       "      <td>1</td>\n",
       "      <td>75719.14</td>\n",
       "      <td>1</td>\n",
       "      <td>0</td>\n",
       "      <td>1</td>\n",
       "      <td>0</td>\n",
       "      <td>0</td>\n",
       "      <td>1</td>\n",
       "      <td>0</td>\n",
       "    </tr>\n",
       "    <tr>\n",
       "      <th>1</th>\n",
       "      <td>146556</td>\n",
       "      <td>861.0</td>\n",
       "      <td>Рыбинск</td>\n",
       "      <td>Ж</td>\n",
       "      <td>37.0</td>\n",
       "      <td>5</td>\n",
       "      <td>850594.33</td>\n",
       "      <td>3</td>\n",
       "      <td>1</td>\n",
       "      <td>0</td>\n",
       "      <td>86621.77</td>\n",
       "      <td>0</td>\n",
       "      <td>0</td>\n",
       "      <td>1</td>\n",
       "      <td>0</td>\n",
       "      <td>0</td>\n",
       "      <td>1</td>\n",
       "      <td>0</td>\n",
       "    </tr>\n",
       "    <tr>\n",
       "      <th>2</th>\n",
       "      <td>120722</td>\n",
       "      <td>892.0</td>\n",
       "      <td>Рыбинск</td>\n",
       "      <td>Ж</td>\n",
       "      <td>30.0</td>\n",
       "      <td>0</td>\n",
       "      <td>NaN</td>\n",
       "      <td>1</td>\n",
       "      <td>1</td>\n",
       "      <td>1</td>\n",
       "      <td>107683.34</td>\n",
       "      <td>0</td>\n",
       "      <td>1</td>\n",
       "      <td>1</td>\n",
       "      <td>0</td>\n",
       "      <td>0</td>\n",
       "      <td>1</td>\n",
       "      <td>0</td>\n",
       "    </tr>\n",
       "    <tr>\n",
       "      <th>3</th>\n",
       "      <td>225363</td>\n",
       "      <td>866.0</td>\n",
       "      <td>Ярославль</td>\n",
       "      <td>Ж</td>\n",
       "      <td>51.0</td>\n",
       "      <td>5</td>\n",
       "      <td>1524746.26</td>\n",
       "      <td>2</td>\n",
       "      <td>0</td>\n",
       "      <td>1</td>\n",
       "      <td>174423.53</td>\n",
       "      <td>1</td>\n",
       "      <td>0</td>\n",
       "      <td>1</td>\n",
       "      <td>0</td>\n",
       "      <td>0</td>\n",
       "      <td>0</td>\n",
       "      <td>1</td>\n",
       "    </tr>\n",
       "    <tr>\n",
       "      <th>4</th>\n",
       "      <td>157978</td>\n",
       "      <td>730.0</td>\n",
       "      <td>Ярославль</td>\n",
       "      <td>М</td>\n",
       "      <td>34.0</td>\n",
       "      <td>5</td>\n",
       "      <td>174.00</td>\n",
       "      <td>1</td>\n",
       "      <td>1</td>\n",
       "      <td>0</td>\n",
       "      <td>67353.16</td>\n",
       "      <td>1</td>\n",
       "      <td>0</td>\n",
       "      <td>0</td>\n",
       "      <td>1</td>\n",
       "      <td>0</td>\n",
       "      <td>0</td>\n",
       "      <td>1</td>\n",
       "    </tr>\n",
       "  </tbody>\n",
       "</table>\n",
       "</div>"
      ],
      "text/plain": [
       "   user_id  score       city gender   age  equity     balance  products  \\\n",
       "0   183012  850.0    Рыбинск      Ж  25.0       1    59214.82         2   \n",
       "1   146556  861.0    Рыбинск      Ж  37.0       5   850594.33         3   \n",
       "2   120722  892.0    Рыбинск      Ж  30.0       0         NaN         1   \n",
       "3   225363  866.0  Ярославль      Ж  51.0       5  1524746.26         2   \n",
       "4   157978  730.0  Ярославль      М  34.0       5      174.00         1   \n",
       "\n",
       "   credit_card  last_activity  est_salary  churn  balance_missing  gender_Ж  \\\n",
       "0            0              1    75719.14      1                0         1   \n",
       "1            1              0    86621.77      0                0         1   \n",
       "2            1              1   107683.34      0                1         1   \n",
       "3            0              1   174423.53      1                0         1   \n",
       "4            1              0    67353.16      1                0         0   \n",
       "\n",
       "   gender_М  city_Ростов  city_Рыбинск  city_Ярославль  \n",
       "0         0            0             1               0  \n",
       "1         0            0             1               0  \n",
       "2         0            0             1               0  \n",
       "3         0            0             0               1  \n",
       "4         1            0             0               1  "
      ]
     },
     "metadata": {},
     "output_type": "display_data"
    }
   ],
   "source": [
    "# Применяем one-hot кодирование к колонке 'gender'\n",
    "gender_dummies = pd.get_dummies(proect['gender'], prefix='gender')\n",
    "\n",
    "# Применяем one-hot кодирование к колонке 'city'\n",
    "city_dummies = pd.get_dummies(proect['city'], prefix='city')\n",
    "\n",
    "# Объединяем оригинальный датафрейм с созданными dummies\n",
    "proect = pd.concat([proect, gender_dummies, city_dummies], axis=1)\n",
    "\n",
    "\n",
    "# Выводим измененный датафрейм\n",
    "display(proect.head())"
   ]
  },
  {
   "cell_type": "code",
   "execution_count": 182,
   "metadata": {
    "scrolled": true
   },
   "outputs": [
    {
     "data": {
      "text/html": [
       "<div>\n",
       "<style scoped>\n",
       "    .dataframe tbody tr th:only-of-type {\n",
       "        vertical-align: middle;\n",
       "    }\n",
       "\n",
       "    .dataframe tbody tr th {\n",
       "        vertical-align: top;\n",
       "    }\n",
       "\n",
       "    .dataframe thead th {\n",
       "        text-align: right;\n",
       "    }\n",
       "</style>\n",
       "<table border=\"1\" class=\"dataframe\">\n",
       "  <thead>\n",
       "    <tr style=\"text-align: right;\">\n",
       "      <th></th>\n",
       "      <th>user_id</th>\n",
       "      <th>score</th>\n",
       "      <th>city</th>\n",
       "      <th>gender</th>\n",
       "      <th>age</th>\n",
       "      <th>equity</th>\n",
       "      <th>balance</th>\n",
       "      <th>products</th>\n",
       "      <th>credit_card</th>\n",
       "      <th>last_activity</th>\n",
       "      <th>est_salary</th>\n",
       "      <th>churn</th>\n",
       "      <th>balance_missing</th>\n",
       "      <th>gender_Ж</th>\n",
       "      <th>gender_М</th>\n",
       "      <th>city_Ростов</th>\n",
       "      <th>city_Рыбинск</th>\n",
       "      <th>city_Ярославль</th>\n",
       "    </tr>\n",
       "  </thead>\n",
       "  <tbody>\n",
       "    <tr>\n",
       "      <th>0</th>\n",
       "      <td>183012</td>\n",
       "      <td>850.0</td>\n",
       "      <td>Рыбинск</td>\n",
       "      <td>Ж</td>\n",
       "      <td>25.0</td>\n",
       "      <td>1</td>\n",
       "      <td>59214.82</td>\n",
       "      <td>2</td>\n",
       "      <td>0</td>\n",
       "      <td>1</td>\n",
       "      <td>75719.14</td>\n",
       "      <td>1</td>\n",
       "      <td>0</td>\n",
       "      <td>1</td>\n",
       "      <td>0</td>\n",
       "      <td>0</td>\n",
       "      <td>1</td>\n",
       "      <td>0</td>\n",
       "    </tr>\n",
       "    <tr>\n",
       "      <th>1</th>\n",
       "      <td>146556</td>\n",
       "      <td>861.0</td>\n",
       "      <td>Рыбинск</td>\n",
       "      <td>Ж</td>\n",
       "      <td>37.0</td>\n",
       "      <td>5</td>\n",
       "      <td>850594.33</td>\n",
       "      <td>3</td>\n",
       "      <td>1</td>\n",
       "      <td>0</td>\n",
       "      <td>86621.77</td>\n",
       "      <td>0</td>\n",
       "      <td>0</td>\n",
       "      <td>1</td>\n",
       "      <td>0</td>\n",
       "      <td>0</td>\n",
       "      <td>1</td>\n",
       "      <td>0</td>\n",
       "    </tr>\n",
       "    <tr>\n",
       "      <th>2</th>\n",
       "      <td>120722</td>\n",
       "      <td>892.0</td>\n",
       "      <td>Рыбинск</td>\n",
       "      <td>Ж</td>\n",
       "      <td>30.0</td>\n",
       "      <td>0</td>\n",
       "      <td>NaN</td>\n",
       "      <td>1</td>\n",
       "      <td>1</td>\n",
       "      <td>1</td>\n",
       "      <td>107683.34</td>\n",
       "      <td>0</td>\n",
       "      <td>1</td>\n",
       "      <td>1</td>\n",
       "      <td>0</td>\n",
       "      <td>0</td>\n",
       "      <td>1</td>\n",
       "      <td>0</td>\n",
       "    </tr>\n",
       "    <tr>\n",
       "      <th>3</th>\n",
       "      <td>225363</td>\n",
       "      <td>866.0</td>\n",
       "      <td>Ярославль</td>\n",
       "      <td>Ж</td>\n",
       "      <td>51.0</td>\n",
       "      <td>5</td>\n",
       "      <td>1524746.26</td>\n",
       "      <td>2</td>\n",
       "      <td>0</td>\n",
       "      <td>1</td>\n",
       "      <td>174423.53</td>\n",
       "      <td>1</td>\n",
       "      <td>0</td>\n",
       "      <td>1</td>\n",
       "      <td>0</td>\n",
       "      <td>0</td>\n",
       "      <td>0</td>\n",
       "      <td>1</td>\n",
       "    </tr>\n",
       "    <tr>\n",
       "      <th>4</th>\n",
       "      <td>157978</td>\n",
       "      <td>730.0</td>\n",
       "      <td>Ярославль</td>\n",
       "      <td>М</td>\n",
       "      <td>34.0</td>\n",
       "      <td>5</td>\n",
       "      <td>174.00</td>\n",
       "      <td>1</td>\n",
       "      <td>1</td>\n",
       "      <td>0</td>\n",
       "      <td>67353.16</td>\n",
       "      <td>1</td>\n",
       "      <td>0</td>\n",
       "      <td>0</td>\n",
       "      <td>1</td>\n",
       "      <td>0</td>\n",
       "      <td>0</td>\n",
       "      <td>1</td>\n",
       "    </tr>\n",
       "  </tbody>\n",
       "</table>\n",
       "</div>"
      ],
      "text/plain": [
       "   user_id  score       city gender   age  equity     balance  products  \\\n",
       "0   183012  850.0    Рыбинск      Ж  25.0       1    59214.82         2   \n",
       "1   146556  861.0    Рыбинск      Ж  37.0       5   850594.33         3   \n",
       "2   120722  892.0    Рыбинск      Ж  30.0       0         NaN         1   \n",
       "3   225363  866.0  Ярославль      Ж  51.0       5  1524746.26         2   \n",
       "4   157978  730.0  Ярославль      М  34.0       5      174.00         1   \n",
       "\n",
       "   credit_card  last_activity  est_salary  churn  balance_missing  gender_Ж  \\\n",
       "0            0              1    75719.14      1                0         1   \n",
       "1            1              0    86621.77      0                0         1   \n",
       "2            1              1   107683.34      0                1         1   \n",
       "3            0              1   174423.53      1                0         1   \n",
       "4            1              0    67353.16      1                0         0   \n",
       "\n",
       "   gender_М  city_Ростов  city_Рыбинск  city_Ярославль  \n",
       "0         0            0             1               0  \n",
       "1         0            0             1               0  \n",
       "2         0            0             1               0  \n",
       "3         0            0             0               1  \n",
       "4         1            0             0               1  "
      ]
     },
     "execution_count": 182,
     "metadata": {},
     "output_type": "execute_result"
    }
   ],
   "source": [
    "proect.head()"
   ]
  },
  {
   "cell_type": "markdown",
   "metadata": {},
   "source": [
    "кодировка прошла успешно, все необходимые данные переведены в необходимый формат для дальнейшей работы"
   ]
  },
  {
   "cell_type": "markdown",
   "metadata": {},
   "source": [
    "<div class=\"alert alert-block alert-success\">✔️\n",
    "    \n",
    "\n",
    "__Комментарий от тимлида №1__\n",
    "\n",
    "Кодирование проведено успешно"
   ]
  },
  {
   "cell_type": "markdown",
   "metadata": {},
   "source": [
    "**Вывод по данной главе**:\n",
    "\n",
    " 1) Привели имена колонок к общему формату\n",
    " \n",
    " 2) Избавились от дубликатов и пропущенных значений там, где это было возможно\n",
    " \n",
    " 3) Провели кодировку в gender и city "
   ]
  },
  {
   "cell_type": "markdown",
   "metadata": {},
   "source": [
    "<div class=\"alert alert-block alert-success\">✔️\n",
    "    \n",
    "\n",
    "__Комментарий от тимлида №1__\n",
    "\n",
    "На этом этапе всё хорошо. Ты корректно выгрузил данные и посмотрел их содержимое. Выполнил первичную проверку на пропуски и дубликаты. Можно приступать к следующему шагу\n",
    "</div>"
   ]
  },
  {
   "cell_type": "markdown",
   "metadata": {},
   "source": [
    "## EDA (Exploratory Data Analysis):"
   ]
  },
  {
   "cell_type": "markdown",
   "metadata": {},
   "source": [
    "### Анализ распределения признаков, включая оттоки, с исследованием значений для непрерывных и категориальных переменных."
   ]
  },
  {
   "cell_type": "markdown",
   "metadata": {},
   "source": [
    "т.к. клиентов банка не может быть с 0 продуктов,а такой клиент 1, удалю его"
   ]
  },
  {
   "cell_type": "code",
   "execution_count": 183,
   "metadata": {},
   "outputs": [],
   "source": [
    "proect = proect[proect['products'] != 0]"
   ]
  },
  {
   "cell_type": "code",
   "execution_count": 184,
   "metadata": {},
   "outputs": [
    {
     "data": {
      "image/png": "[encoded data removed]",
      "text/plain": [
       "<Figure size 1080x720 with 6 Axes>"
      ]
     },
     "metadata": {
      "needs_background": "light"
     },
     "output_type": "display_data"
    }
   ],
   "source": [
    "# Функция для создания барплота по заданной категории\n",
    "def create_churn_plot(ax, category):\n",
    "    # Вычисляем средний уровень оттока\n",
    "    average_churn_rate = proect['churn'].mean()\n",
    "\n",
    "    # Создаем барплот для оттока по одной из категорий на заданной оси\n",
    "    sns.barplot(x=category, y='churn', data=proect, estimator=lambda x: sum(x) / len(x), ci=None, ax=ax)\n",
    "\n",
    "    # Добавляем линию среднего уровня оттока\n",
    "    ax.axhline(average_churn_rate, color='red', linestyle='--', label='Средний уровень оттока')\n",
    "\n",
    "    # Настройки элементов графика\n",
    "    ax.set_title(f'Отток клиентов по {category}')\n",
    "    ax.set_xlabel(category)\n",
    "    ax.set_ylabel('Уровень оттока')\n",
    "    ax.legend()\n",
    "\n",
    "# Список категорий для графиков\n",
    "categories = ['gender', 'city', 'credit_card', 'last_activity', 'equity', 'products']\n",
    "\n",
    "# Определяем количество строк и столбцов для подграфиков\n",
    "n_cols = 3\n",
    "n_rows = (len(categories) + n_cols - 1) // n_cols  # вычисляем количество строк\n",
    "\n",
    "fig, axes = plt.subplots(n_rows, n_cols, figsize=(15, 5 * n_rows))\n",
    "\n",
    "# Генерация графиков для всех заданных категорий\n",
    "for i, cat in enumerate(categories):\n",
    "    ax = axes[i // n_cols, i % n_cols]  # получаем ось для текущего графика\n",
    "    create_churn_plot(ax, cat)\n",
    "\n",
    "# Убираем пустые подграфики, если они есть\n",
    "for j in range(i + 1, n_rows * n_cols):\n",
    "    fig.delaxes(axes[j // n_cols, j % n_cols])\n",
    "\n",
    "plt.tight_layout()\n",
    "plt.show()"
   ]
  },
  {
   "cell_type": "markdown",
   "metadata": {},
   "source": [
    "<div class=\"alert alert-block alert-danger\">✍\n",
    "    \n",
    "\n",
    "__Комментарий от тимлида №1__\n",
    "\n",
    "Дискретные продукты через  барплот и акслайн со средним уровнем оттока. (в декомпозиции подробно описывал этот момент)"
   ]
  },
  {
   "cell_type": "markdown",
   "metadata": {},
   "source": [
    "<div class=\"alert alert-info\"> <b>Комментарии студента №1 :</b> Разобрался, поменял, выводы дополнил на основе графиков </div>"
   ]
  },
  {
   "cell_type": "markdown",
   "metadata": {},
   "source": [
    "<div class=\"alert alert-block alert-danger\">✍\n",
    "    \n",
    "\n",
    "__Комментарий от тимлида №1__\n",
    "\n",
    "Ноль продуктов - аномалия, предлагаю подумать, все ли значения адекватны"
   ]
  },
  {
   "cell_type": "markdown",
   "metadata": {},
   "source": [
    "<div class=\"alert alert-info\"> <b>Комментарии студента №1 :</b> Пересмотрел еще раз встречу, там была подсказка, что с 0 продуктов клиентов не может быть, такой был 1, удалил) </div>"
   ]
  },
  {
   "cell_type": "markdown",
   "metadata": {},
   "source": [
    "<div class=\"alert alert-block alert-success\">✔️\n",
    "    \n",
    "\n",
    "__Комментарий от тимлида №2__\n",
    "\n",
    "Верно, нельзя быть клиентом банка, не имея его продуктов"
   ]
  },
  {
   "cell_type": "markdown",
   "metadata": {},
   "source": [
    "Из графиков видим следующее:\n",
    "\n",
    " - мужчины чаще подвержены оттоку\n",
    " \n",
    " - больший отток мы наблюдаем в Ярославле и Ростове,относительно среднебанковского\n",
    " \n",
    " - клиенты,начиная от  двух продуктов становятся наиболее подвержены оттоку,пик \"риска\" приходит на клиентов с 4 продуктами\n",
    " - клиенты с кредиткой чаще уходят из банка\n",
    " \n",
    " - активные клиенты уходят чаще \"спящих\"\n",
    " \n",
    " - клиенты, начиная с 3 баллов собственности начинают чаще уходить, пик видим на 9 продуктак"
   ]
  },
  {
   "cell_type": "code",
   "execution_count": 185,
   "metadata": {
    "scrolled": false
   },
   "outputs": [
    {
     "data": {
      "image/png": "[encoded data removed]",
      "text/plain": [
       "<Figure size 1440x720 with 4 Axes>"
      ]
     },
     "metadata": {
      "needs_background": "light"
     },
     "output_type": "display_data"
    }
   ],
   "source": [
    "# Задаем параметры графиков\n",
    "plt.figure(figsize=(20, 10))\n",
    "\n",
    "# График 1: Возраст vs Отток\n",
    "plt.subplot(2, 2, 1)\n",
    "sns.histplot(data=proect, x='age', hue='churn', stat='density', common_norm=False, \n",
    "             alpha=0.5, bins=30, discrete=True)\n",
    "plt.title('Возраст vs Отток')\n",
    "\n",
    "# График 2: Оценка vs Отток\n",
    "plt.subplot(2, 2, 2)\n",
    "sns.histplot(data=proect, x='score', hue='churn', stat='density', common_norm=False, alpha=0.5, bins=30)\n",
    "plt.title('Оценка vs Отток')\n",
    "\n",
    "# График 3: Оцененная зарплата vs Отток\n",
    "plt.subplot(2, 2, 3)\n",
    "sns.histplot(data=proect, x='est_salary', hue='churn', stat='density', common_norm=False, alpha=0.5, bins=30)\n",
    "plt.title('Оцененная зарплата vs Отток')\n",
    "\n",
    "# Находим 25-й и 75-й процентиль\n",
    "lower_bound = proect['balance'].quantile(0.15)\n",
    "upper_bound = proect['balance'].quantile(0.75)\n",
    "\n",
    "# Фильтруем данные на основе процентилей\n",
    "filtered_data = proect[(proect['balance'] >= lower_bound) & (proect['balance'] <= upper_bound)]\n",
    "\n",
    "# График 4: Баланс vs Отток\n",
    "plt.subplot(2, 2, 4)\n",
    "sns.histplot(data=filtered_data, x='balance', hue='churn', stat='density', common_norm=False, \n",
    "             alpha=0.6, bins=60)  # Увеличиваем количество бинов для лучшего отображения\n",
    "\n",
    "plt.title('Баланс против Оттока (25-75% процентиля)')\n",
    "plt.xlabel('Баланс (логарифмическая шкала)')\n",
    "plt.ylabel('Плотность')\n",
    "plt.xscale('log')  # Применяем логарифмическую шкалу к оси X\n",
    "\n",
    "\n",
    "\n",
    "# Показываем график\n",
    "plt.tight_layout()  # Оптимизация размещения субграфиков\n",
    "plt.show()"
   ]
  },
  {
   "cell_type": "code",
   "execution_count": 186,
   "metadata": {},
   "outputs": [
    {
     "data": {
      "text/plain": [
       "count    7.664000e+03\n",
       "mean     8.282063e+05\n",
       "std      1.984122e+06\n",
       "min      0.000000e+00\n",
       "25%      2.955266e+05\n",
       "50%      5.249277e+05\n",
       "75%      9.807537e+05\n",
       "max      1.191136e+08\n",
       "Name: balance, dtype: float64"
      ]
     },
     "execution_count": 186,
     "metadata": {},
     "output_type": "execute_result"
    }
   ],
   "source": [
    "proect['balance'].describe()"
   ]
  },
  {
   "cell_type": "markdown",
   "metadata": {},
   "source": [
    "<div class=\"alert alert-block alert-danger\">✍\n",
    "    \n",
    "\n",
    "__Комментарий от тимлида №1__\n",
    "\n",
    "Тут несколько моментов, на которые стоит обратить внимание:    \n",
    "    \n",
    "1. Некорректны корзины возраста (они нецелочисленные и на графике возникают провалы)\n",
    "\n",
    "2. Отсутствует график по балансу. Добавь, пожалуйста\n",
    "    \n",
    "\n",
    "    "
   ]
  },
  {
   "cell_type": "markdown",
   "metadata": {},
   "source": [
    "<div class=\"alert alert-info\"> <b>Комментарии студента №1 :</b> Корзины возраста настроил с помощью discrete=True. График по балансу добавил,но если честно, возникли трудности, я не понимаю как загуглить корректно проблему построения графика с большим разбросом, придумал \"костыль\" отобрав 25-75 процентили,словил какой-то брейн лаг либо забыл как это делать </div>"
   ]
  },
  {
   "cell_type": "markdown",
   "metadata": {},
   "source": [
    "<div class=\"alert alert-block alert-success\">✔️\n",
    "    \n",
    "\n",
    "__Комментарий от тимлида №2__\n",
    "Отличная реализация. Молодец"
   ]
  },
  {
   "cell_type": "markdown",
   "metadata": {},
   "source": [
    "Из графиков выше следует:\n",
    "\n",
    "- самый подверженый к уходу возраст 26-28 лет, далее 56-58\n",
    "\n",
    "- клиенты чаще уходят при диапозоне от 830 до 900 баллов скоринга \n",
    "\n",
    "- с ростом заработной платы клиенты больше подвержены оттоку"
   ]
  },
  {
   "cell_type": "code",
   "execution_count": 187,
   "metadata": {},
   "outputs": [
    {
     "data": {
      "text/plain": [
       "'Уровень оттока по городам (в процентах):'"
      ]
     },
     "metadata": {},
     "output_type": "display_data"
    },
    {
     "data": {
      "text/html": [
       "<div>\n",
       "<style scoped>\n",
       "    .dataframe tbody tr th:only-of-type {\n",
       "        vertical-align: middle;\n",
       "    }\n",
       "\n",
       "    .dataframe tbody tr th {\n",
       "        vertical-align: top;\n",
       "    }\n",
       "\n",
       "    .dataframe thead th {\n",
       "        text-align: right;\n",
       "    }\n",
       "</style>\n",
       "<table border=\"1\" class=\"dataframe\">\n",
       "  <thead>\n",
       "    <tr style=\"text-align: right;\">\n",
       "      <th></th>\n",
       "      <th>total_clients</th>\n",
       "      <th>churned_clients</th>\n",
       "      <th>churn_rate</th>\n",
       "    </tr>\n",
       "    <tr>\n",
       "      <th>city</th>\n",
       "      <th></th>\n",
       "      <th></th>\n",
       "      <th></th>\n",
       "    </tr>\n",
       "  </thead>\n",
       "  <tbody>\n",
       "    <tr>\n",
       "      <th>Ростов</th>\n",
       "      <td>1416</td>\n",
       "      <td>265</td>\n",
       "      <td>18.714689</td>\n",
       "    </tr>\n",
       "    <tr>\n",
       "      <th>Рыбинск</th>\n",
       "      <td>2653</td>\n",
       "      <td>436</td>\n",
       "      <td>16.434225</td>\n",
       "    </tr>\n",
       "    <tr>\n",
       "      <th>Ярославль</th>\n",
       "      <td>5854</td>\n",
       "      <td>1117</td>\n",
       "      <td>19.080970</td>\n",
       "    </tr>\n",
       "  </tbody>\n",
       "</table>\n",
       "</div>"
      ],
      "text/plain": [
       "           total_clients  churned_clients  churn_rate\n",
       "city                                                 \n",
       "Ростов              1416              265   18.714689\n",
       "Рыбинск             2653              436   16.434225\n",
       "Ярославль           5854             1117   19.080970"
      ]
     },
     "metadata": {},
     "output_type": "display_data"
    }
   ],
   "source": [
    "# Фильтрация данных по интересующим нас городам\n",
    "cities_of_interest = ['Ростов', 'Рыбинск', 'Ярославль']\n",
    "filtered_df = proect[proect['city'].isin(cities_of_interest)]\n",
    "\n",
    "# Группировка данных по городу и подсчет количества всех клиентов и ушедших\n",
    "grouped_data = filtered_df.groupby('city').agg(\n",
    "    total_clients=('churn', 'size'),           # Общее количество клиентов\n",
    "    churned_clients=('churn', 'sum')           # Количество ушедших клиентов\n",
    ")\n",
    "\n",
    "# Вычисление уровня оттока\n",
    "grouped_data['churn_rate'] = grouped_data['churned_clients'] / grouped_data['total_clients'] * 100\n",
    "\n",
    "# Печать результатов\n",
    "display(\"Уровень оттока по городам (в процентах):\")\n",
    "display(grouped_data[['total_clients', 'churned_clients', 'churn_rate']])"
   ]
  },
  {
   "cell_type": "markdown",
   "metadata": {},
   "source": [
    "как уже замечалось ранее - клиенты из Ярославля уходят чаще остальных"
   ]
  },
  {
   "cell_type": "code",
   "execution_count": 188,
   "metadata": {},
   "outputs": [
    {
     "data": {
      "text/plain": [
       "'Уровень оттока по полу (в процентах):'"
      ]
     },
     "metadata": {},
     "output_type": "display_data"
    },
    {
     "data": {
      "text/html": [
       "<div>\n",
       "<style scoped>\n",
       "    .dataframe tbody tr th:only-of-type {\n",
       "        vertical-align: middle;\n",
       "    }\n",
       "\n",
       "    .dataframe tbody tr th {\n",
       "        vertical-align: top;\n",
       "    }\n",
       "\n",
       "    .dataframe thead th {\n",
       "        text-align: right;\n",
       "    }\n",
       "</style>\n",
       "<table border=\"1\" class=\"dataframe\">\n",
       "  <thead>\n",
       "    <tr style=\"text-align: right;\">\n",
       "      <th></th>\n",
       "      <th>total_clients</th>\n",
       "      <th>churned_clients</th>\n",
       "      <th>churn_rate</th>\n",
       "    </tr>\n",
       "    <tr>\n",
       "      <th>gender</th>\n",
       "      <th></th>\n",
       "      <th></th>\n",
       "      <th></th>\n",
       "    </tr>\n",
       "  </thead>\n",
       "  <tbody>\n",
       "    <tr>\n",
       "      <th>Ж</th>\n",
       "      <td>4952</td>\n",
       "      <td>635</td>\n",
       "      <td>12.823102</td>\n",
       "    </tr>\n",
       "    <tr>\n",
       "      <th>М</th>\n",
       "      <td>4971</td>\n",
       "      <td>1183</td>\n",
       "      <td>23.798029</td>\n",
       "    </tr>\n",
       "  </tbody>\n",
       "</table>\n",
       "</div>"
      ],
      "text/plain": [
       "        total_clients  churned_clients  churn_rate\n",
       "gender                                            \n",
       "Ж                4952              635   12.823102\n",
       "М                4971             1183   23.798029"
      ]
     },
     "metadata": {},
     "output_type": "display_data"
    }
   ],
   "source": [
    "# Группировка данных по полу и подсчет количества всех клиентов и ушедших\n",
    "grouped_gender_data = proect.groupby('gender').agg(\n",
    "    total_clients=('churn', 'size'),           # Общее количество клиентов\n",
    "    churned_clients=('churn', 'sum')           # Количество ушедших клиентов\n",
    ")\n",
    "\n",
    "# Вычисление уровня оттока\n",
    "grouped_gender_data['churn_rate'] = grouped_gender_data['churned_clients'] / grouped_gender_data['total_clients'] * 100\n",
    "\n",
    "# Печать результатов\n",
    "display(\"Уровень оттока по полу (в процентах):\")\n",
    "display(grouped_gender_data[['total_clients', 'churned_clients', 'churn_rate']])"
   ]
  },
  {
   "cell_type": "markdown",
   "metadata": {},
   "source": [
    "еще раз подтвердили наблюдение, что мужчины подвержены уходу больше"
   ]
  },
  {
   "cell_type": "code",
   "execution_count": 189,
   "metadata": {
    "scrolled": true
   },
   "outputs": [
    {
     "data": {
      "text/html": [
       "<div>\n",
       "<style scoped>\n",
       "    .dataframe tbody tr th:only-of-type {\n",
       "        vertical-align: middle;\n",
       "    }\n",
       "\n",
       "    .dataframe tbody tr th {\n",
       "        vertical-align: top;\n",
       "    }\n",
       "\n",
       "    .dataframe thead th {\n",
       "        text-align: right;\n",
       "    }\n",
       "</style>\n",
       "<table border=\"1\" class=\"dataframe\">\n",
       "  <thead>\n",
       "    <tr style=\"text-align: right;\">\n",
       "      <th></th>\n",
       "      <th>Признак</th>\n",
       "      <th>Отток</th>\n",
       "      <th>Не отток</th>\n",
       "      <th>Относительная разница</th>\n",
       "    </tr>\n",
       "  </thead>\n",
       "  <tbody>\n",
       "    <tr>\n",
       "      <th>0</th>\n",
       "      <td>Средняя зарплата</td>\n",
       "      <td>148357.483157</td>\n",
       "      <td>147788.268353</td>\n",
       "      <td>-0.383678</td>\n",
       "    </tr>\n",
       "    <tr>\n",
       "      <th>1</th>\n",
       "      <td>Средний возраст</td>\n",
       "      <td>41.429593</td>\n",
       "      <td>43.015793</td>\n",
       "      <td>3.828664</td>\n",
       "    </tr>\n",
       "    <tr>\n",
       "      <th>2</th>\n",
       "      <td>Медианное количество продуктов</td>\n",
       "      <td>2.0</td>\n",
       "      <td>2.0</td>\n",
       "      <td>0.000000</td>\n",
       "    </tr>\n",
       "    <tr>\n",
       "      <th>3</th>\n",
       "      <td>Медианное количество собственности</td>\n",
       "      <td>4.0</td>\n",
       "      <td>3.0</td>\n",
       "      <td>-25.000000</td>\n",
       "    </tr>\n",
       "    <tr>\n",
       "      <th>4</th>\n",
       "      <td>Мода по городу</td>\n",
       "      <td>Ярославль</td>\n",
       "      <td>Ярославль</td>\n",
       "      <td>NaN</td>\n",
       "    </tr>\n",
       "    <tr>\n",
       "      <th>5</th>\n",
       "      <td>Мода по полу</td>\n",
       "      <td>М</td>\n",
       "      <td>Ж</td>\n",
       "      <td>NaN</td>\n",
       "    </tr>\n",
       "  </tbody>\n",
       "</table>\n",
       "</div>"
      ],
      "text/plain": [
       "                              Признак          Отток       Не отток  \\\n",
       "0                    Средняя зарплата  148357.483157  147788.268353   \n",
       "1                     Средний возраст      41.429593      43.015793   \n",
       "2      Медианное количество продуктов            2.0            2.0   \n",
       "3  Медианное количество собственности            4.0            3.0   \n",
       "4                      Мода по городу      Ярославль      Ярославль   \n",
       "5                        Мода по полу              М              Ж   \n",
       "\n",
       "   Относительная разница  \n",
       "0              -0.383678  \n",
       "1               3.828664  \n",
       "2               0.000000  \n",
       "3             -25.000000  \n",
       "4                    NaN  \n",
       "5                    NaN  "
      ]
     },
     "metadata": {},
     "output_type": "display_data"
    }
   ],
   "source": [
    "# Фильтрация данных по сегментам\n",
    "churned = proect[proect['churn'] == 1]\n",
    "not_churned = proect[proect['churn'] == 0]\n",
    "\n",
    "# Расчет необходимых статистик\n",
    "result = {\n",
    "    \"Признак\": [],\n",
    "    \"Отток\": [],\n",
    "    \"Не отток\": [],\n",
    "    \"Относительная разница\": []\n",
    "}\n",
    "\n",
    "# Средние значения\n",
    "result[\"Признак\"].append(\"Средняя зарплата\")\n",
    "result[\"Отток\"].append(churned['est_salary'].mean())\n",
    "result[\"Не отток\"].append(not_churned['est_salary'].mean())\n",
    "result[\"Относительная разница\"].append((result[\"Не отток\"][-1] - result[\"Отток\"][-1]) / result[\"Отток\"][-1] * 100)\n",
    "\n",
    "result[\"Признак\"].append(\"Средний возраст\")\n",
    "result[\"Отток\"].append(churned['age'].mean())\n",
    "result[\"Не отток\"].append(not_churned['age'].mean())\n",
    "result[\"Относительная разница\"].append((result[\"Не отток\"][-1] - result[\"Отток\"][-1]) / result[\"Отток\"][-1] * 100)\n",
    "\n",
    "# Медианные значения\n",
    "result[\"Признак\"].append(\"Медианное количество продуктов\")\n",
    "result[\"Отток\"].append(churned['products'].median())\n",
    "result[\"Не отток\"].append(not_churned['products'].median())\n",
    "result[\"Относительная разница\"].append((result[\"Не отток\"][-1] - result[\"Отток\"][-1]) / result[\"Отток\"][-1] * 100)\n",
    "\n",
    "result[\"Признак\"].append(\"Медианное количество собственности\")\n",
    "result[\"Отток\"].append(churned['equity'].median())\n",
    "result[\"Не отток\"].append(not_churned['equity'].median())\n",
    "result[\"Относительная разница\"].append((result[\"Не отток\"][-1] - result[\"Отток\"][-1]) / result[\"Отток\"][-1] * 100)\n",
    "\n",
    "# Моды по категориальным переменным\n",
    "result[\"Признак\"].append(\"Мода по городу\")\n",
    "result[\"Отток\"].append(churned['city'].mode().iloc[0])\n",
    "result[\"Не отток\"].append(not_churned['city'].mode().iloc[0])\n",
    "result[\"Относительная разница\"].append(None) \n",
    "\n",
    "result[\"Признак\"].append(\"Мода по полу\")\n",
    "result[\"Отток\"].append(churned['gender'].mode().iloc[0])\n",
    "result[\"Не отток\"].append(not_churned['gender'].mode().iloc[0])\n",
    "result[\"Относительная разница\"].append(None)\n",
    "\n",
    "\n",
    "# Преобразование результата в DataFrame\n",
    "result_df = pd.DataFrame(result)\n",
    "\n",
    "# Вывод результата\n",
    "display(result_df)"
   ]
  },
  {
   "cell_type": "markdown",
   "metadata": {},
   "source": [
    "Средняя запрлата у ушедших клиентов выше, при этом, средний возраст ниже, есть существенная разница по кол-ву собственности,и в очередной раз видим , что чаще уходят мужчины"
   ]
  },
  {
   "cell_type": "markdown",
   "metadata": {},
   "source": [
    "<div class=\"alert alert-block alert-danger\">✍\n",
    "    \n",
    "\n",
    "__Комментарий от тимлида №1__\n",
    "\n",
    "А откуда взято это задание? "
   ]
  },
  {
   "cell_type": "markdown",
   "metadata": {},
   "source": [
    "<div class=\"alert alert-info\"> <b>Комментарии студента №1 :</b> Не совсем понял вопрос. Сделал задание исходя из рекомендации при проверке декомпозиции. Если вопрос как я его сделал, то я не заимствовал этот код, а сделал с помощью гпт чата</div>"
   ]
  },
  {
   "cell_type": "markdown",
   "metadata": {},
   "source": [
    "<div class=\"alert alert-block alert-success\">✔️\n",
    "    \n",
    "\n",
    "__Комментарий от тимлида №2__\n",
    "Понял) Спасибо, что подсветил) Но лучше самому)\n",
    "    "
   ]
  },
  {
   "cell_type": "markdown",
   "metadata": {},
   "source": [
    "### Корреляционный анализ."
   ]
  },
  {
   "cell_type": "code",
   "execution_count": 190,
   "metadata": {
    "scrolled": false
   },
   "outputs": [
    {
     "data": {
      "text/html": [
       "<div>\n",
       "<style scoped>\n",
       "    .dataframe tbody tr th:only-of-type {\n",
       "        vertical-align: middle;\n",
       "    }\n",
       "\n",
       "    .dataframe tbody tr th {\n",
       "        vertical-align: top;\n",
       "    }\n",
       "\n",
       "    .dataframe thead th {\n",
       "        text-align: right;\n",
       "    }\n",
       "</style>\n",
       "<table border=\"1\" class=\"dataframe\">\n",
       "  <thead>\n",
       "    <tr style=\"text-align: right;\">\n",
       "      <th></th>\n",
       "      <th>user_id</th>\n",
       "      <th>score</th>\n",
       "      <th>age</th>\n",
       "      <th>equity</th>\n",
       "      <th>balance</th>\n",
       "      <th>products</th>\n",
       "      <th>credit_card</th>\n",
       "      <th>last_activity</th>\n",
       "      <th>est_salary</th>\n",
       "      <th>churn</th>\n",
       "      <th>balance_missing</th>\n",
       "      <th>gender_Ж</th>\n",
       "      <th>gender_М</th>\n",
       "      <th>city_Ростов</th>\n",
       "      <th>city_Рыбинск</th>\n",
       "      <th>city_Ярославль</th>\n",
       "    </tr>\n",
       "  </thead>\n",
       "  <tbody>\n",
       "    <tr>\n",
       "      <th>user_id</th>\n",
       "      <td>1.000000</td>\n",
       "      <td>0.009227</td>\n",
       "      <td>0.016599</td>\n",
       "      <td>0.004665</td>\n",
       "      <td>0.005661</td>\n",
       "      <td>-0.004306</td>\n",
       "      <td>0.003694</td>\n",
       "      <td>-0.031866</td>\n",
       "      <td>-0.001113</td>\n",
       "      <td>-0.010495</td>\n",
       "      <td>0.003975</td>\n",
       "      <td>-0.029941</td>\n",
       "      <td>0.029941</td>\n",
       "      <td>-0.032635</td>\n",
       "      <td>0.013422</td>\n",
       "      <td>0.011130</td>\n",
       "    </tr>\n",
       "    <tr>\n",
       "      <th>score</th>\n",
       "      <td>0.009227</td>\n",
       "      <td>1.000000</td>\n",
       "      <td>-0.012065</td>\n",
       "      <td>0.065541</td>\n",
       "      <td>0.235192</td>\n",
       "      <td>-0.003484</td>\n",
       "      <td>-0.095677</td>\n",
       "      <td>-0.030495</td>\n",
       "      <td>0.164665</td>\n",
       "      <td>0.106055</td>\n",
       "      <td>0.137600</td>\n",
       "      <td>-0.010727</td>\n",
       "      <td>0.010727</td>\n",
       "      <td>-0.037924</td>\n",
       "      <td>-0.000648</td>\n",
       "      <td>0.027552</td>\n",
       "    </tr>\n",
       "    <tr>\n",
       "      <th>age</th>\n",
       "      <td>0.016599</td>\n",
       "      <td>-0.012065</td>\n",
       "      <td>1.000000</td>\n",
       "      <td>0.019679</td>\n",
       "      <td>0.070081</td>\n",
       "      <td>0.017537</td>\n",
       "      <td>-0.122684</td>\n",
       "      <td>-0.008415</td>\n",
       "      <td>-0.039112</td>\n",
       "      <td>-0.050415</td>\n",
       "      <td>-0.027471</td>\n",
       "      <td>0.212132</td>\n",
       "      <td>-0.212132</td>\n",
       "      <td>0.047468</td>\n",
       "      <td>0.027971</td>\n",
       "      <td>-0.058925</td>\n",
       "    </tr>\n",
       "    <tr>\n",
       "      <th>equity</th>\n",
       "      <td>0.004665</td>\n",
       "      <td>0.065541</td>\n",
       "      <td>0.019679</td>\n",
       "      <td>1.000000</td>\n",
       "      <td>0.163678</td>\n",
       "      <td>0.431361</td>\n",
       "      <td>-0.167597</td>\n",
       "      <td>-0.001378</td>\n",
       "      <td>-0.171406</td>\n",
       "      <td>0.270137</td>\n",
       "      <td>-0.708761</td>\n",
       "      <td>0.020877</td>\n",
       "      <td>-0.020877</td>\n",
       "      <td>0.034727</td>\n",
       "      <td>-0.003369</td>\n",
       "      <td>-0.021663</td>\n",
       "    </tr>\n",
       "    <tr>\n",
       "      <th>balance</th>\n",
       "      <td>0.005661</td>\n",
       "      <td>0.235192</td>\n",
       "      <td>0.070081</td>\n",
       "      <td>0.163678</td>\n",
       "      <td>1.000000</td>\n",
       "      <td>0.075796</td>\n",
       "      <td>-0.059835</td>\n",
       "      <td>0.024745</td>\n",
       "      <td>0.338843</td>\n",
       "      <td>0.085708</td>\n",
       "      <td>NaN</td>\n",
       "      <td>-0.051447</td>\n",
       "      <td>0.051447</td>\n",
       "      <td>-0.035858</td>\n",
       "      <td>-0.034084</td>\n",
       "      <td>0.056836</td>\n",
       "    </tr>\n",
       "    <tr>\n",
       "      <th>products</th>\n",
       "      <td>-0.004306</td>\n",
       "      <td>-0.003484</td>\n",
       "      <td>0.017537</td>\n",
       "      <td>0.431361</td>\n",
       "      <td>0.075796</td>\n",
       "      <td>1.000000</td>\n",
       "      <td>-0.252298</td>\n",
       "      <td>0.038374</td>\n",
       "      <td>-0.117372</td>\n",
       "      <td>0.301946</td>\n",
       "      <td>-0.485992</td>\n",
       "      <td>0.022059</td>\n",
       "      <td>-0.022059</td>\n",
       "      <td>-0.007081</td>\n",
       "      <td>-0.043626</td>\n",
       "      <td>0.044292</td>\n",
       "    </tr>\n",
       "    <tr>\n",
       "      <th>credit_card</th>\n",
       "      <td>0.003694</td>\n",
       "      <td>-0.095677</td>\n",
       "      <td>-0.122684</td>\n",
       "      <td>-0.167597</td>\n",
       "      <td>-0.059835</td>\n",
       "      <td>-0.252298</td>\n",
       "      <td>1.000000</td>\n",
       "      <td>-0.033787</td>\n",
       "      <td>0.036121</td>\n",
       "      <td>-0.130297</td>\n",
       "      <td>0.158070</td>\n",
       "      <td>-0.125971</td>\n",
       "      <td>0.125971</td>\n",
       "      <td>-0.098169</td>\n",
       "      <td>-0.050833</td>\n",
       "      <td>0.115553</td>\n",
       "    </tr>\n",
       "    <tr>\n",
       "      <th>last_activity</th>\n",
       "      <td>-0.031866</td>\n",
       "      <td>-0.030495</td>\n",
       "      <td>-0.008415</td>\n",
       "      <td>-0.001378</td>\n",
       "      <td>0.024745</td>\n",
       "      <td>0.038374</td>\n",
       "      <td>-0.033787</td>\n",
       "      <td>1.000000</td>\n",
       "      <td>0.002171</td>\n",
       "      <td>0.169729</td>\n",
       "      <td>0.028184</td>\n",
       "      <td>0.013306</td>\n",
       "      <td>-0.013306</td>\n",
       "      <td>0.006820</td>\n",
       "      <td>0.049848</td>\n",
       "      <td>-0.049705</td>\n",
       "    </tr>\n",
       "    <tr>\n",
       "      <th>est_salary</th>\n",
       "      <td>-0.001113</td>\n",
       "      <td>0.164665</td>\n",
       "      <td>-0.039112</td>\n",
       "      <td>-0.171406</td>\n",
       "      <td>0.338843</td>\n",
       "      <td>-0.117372</td>\n",
       "      <td>0.036121</td>\n",
       "      <td>0.002171</td>\n",
       "      <td>1.000000</td>\n",
       "      <td>0.001580</td>\n",
       "      <td>0.307381</td>\n",
       "      <td>-0.081191</td>\n",
       "      <td>0.081191</td>\n",
       "      <td>-0.106493</td>\n",
       "      <td>-0.055320</td>\n",
       "      <td>0.125509</td>\n",
       "    </tr>\n",
       "    <tr>\n",
       "      <th>churn</th>\n",
       "      <td>-0.010495</td>\n",
       "      <td>0.106055</td>\n",
       "      <td>-0.050415</td>\n",
       "      <td>0.270137</td>\n",
       "      <td>0.085708</td>\n",
       "      <td>0.301946</td>\n",
       "      <td>-0.130297</td>\n",
       "      <td>0.169729</td>\n",
       "      <td>0.001580</td>\n",
       "      <td>1.000000</td>\n",
       "      <td>-0.249674</td>\n",
       "      <td>-0.141854</td>\n",
       "      <td>0.141854</td>\n",
       "      <td>0.004151</td>\n",
       "      <td>-0.029465</td>\n",
       "      <td>0.023562</td>\n",
       "    </tr>\n",
       "    <tr>\n",
       "      <th>balance_missing</th>\n",
       "      <td>0.003975</td>\n",
       "      <td>0.137600</td>\n",
       "      <td>-0.027471</td>\n",
       "      <td>-0.708761</td>\n",
       "      <td>NaN</td>\n",
       "      <td>-0.485992</td>\n",
       "      <td>0.158070</td>\n",
       "      <td>0.028184</td>\n",
       "      <td>0.307381</td>\n",
       "      <td>-0.249674</td>\n",
       "      <td>1.000000</td>\n",
       "      <td>-0.063130</td>\n",
       "      <td>0.063130</td>\n",
       "      <td>-0.060025</td>\n",
       "      <td>-0.015728</td>\n",
       "      <td>0.056838</td>\n",
       "    </tr>\n",
       "    <tr>\n",
       "      <th>gender_Ж</th>\n",
       "      <td>-0.029941</td>\n",
       "      <td>-0.010727</td>\n",
       "      <td>0.212132</td>\n",
       "      <td>0.020877</td>\n",
       "      <td>-0.051447</td>\n",
       "      <td>0.022059</td>\n",
       "      <td>-0.125971</td>\n",
       "      <td>0.013306</td>\n",
       "      <td>-0.081191</td>\n",
       "      <td>-0.141854</td>\n",
       "      <td>-0.063130</td>\n",
       "      <td>1.000000</td>\n",
       "      <td>-1.000000</td>\n",
       "      <td>0.015187</td>\n",
       "      <td>0.011859</td>\n",
       "      <td>-0.021471</td>\n",
       "    </tr>\n",
       "    <tr>\n",
       "      <th>gender_М</th>\n",
       "      <td>0.029941</td>\n",
       "      <td>0.010727</td>\n",
       "      <td>-0.212132</td>\n",
       "      <td>-0.020877</td>\n",
       "      <td>0.051447</td>\n",
       "      <td>-0.022059</td>\n",
       "      <td>0.125971</td>\n",
       "      <td>-0.013306</td>\n",
       "      <td>0.081191</td>\n",
       "      <td>0.141854</td>\n",
       "      <td>0.063130</td>\n",
       "      <td>-1.000000</td>\n",
       "      <td>1.000000</td>\n",
       "      <td>-0.015187</td>\n",
       "      <td>-0.011859</td>\n",
       "      <td>0.021471</td>\n",
       "    </tr>\n",
       "    <tr>\n",
       "      <th>city_Ростов</th>\n",
       "      <td>-0.032635</td>\n",
       "      <td>-0.037924</td>\n",
       "      <td>0.047468</td>\n",
       "      <td>0.034727</td>\n",
       "      <td>-0.035858</td>\n",
       "      <td>-0.007081</td>\n",
       "      <td>-0.098169</td>\n",
       "      <td>0.006820</td>\n",
       "      <td>-0.106493</td>\n",
       "      <td>0.004151</td>\n",
       "      <td>-0.060025</td>\n",
       "      <td>0.015187</td>\n",
       "      <td>-0.015187</td>\n",
       "      <td>1.000000</td>\n",
       "      <td>-0.246459</td>\n",
       "      <td>-0.489357</td>\n",
       "    </tr>\n",
       "    <tr>\n",
       "      <th>city_Рыбинск</th>\n",
       "      <td>0.013422</td>\n",
       "      <td>-0.000648</td>\n",
       "      <td>0.027971</td>\n",
       "      <td>-0.003369</td>\n",
       "      <td>-0.034084</td>\n",
       "      <td>-0.043626</td>\n",
       "      <td>-0.050833</td>\n",
       "      <td>0.049848</td>\n",
       "      <td>-0.055320</td>\n",
       "      <td>-0.029465</td>\n",
       "      <td>-0.015728</td>\n",
       "      <td>0.011859</td>\n",
       "      <td>-0.011859</td>\n",
       "      <td>-0.246459</td>\n",
       "      <td>1.000000</td>\n",
       "      <td>-0.724576</td>\n",
       "    </tr>\n",
       "    <tr>\n",
       "      <th>city_Ярославль</th>\n",
       "      <td>0.011130</td>\n",
       "      <td>0.027552</td>\n",
       "      <td>-0.058925</td>\n",
       "      <td>-0.021663</td>\n",
       "      <td>0.056836</td>\n",
       "      <td>0.044292</td>\n",
       "      <td>0.115553</td>\n",
       "      <td>-0.049705</td>\n",
       "      <td>0.125509</td>\n",
       "      <td>0.023562</td>\n",
       "      <td>0.056838</td>\n",
       "      <td>-0.021471</td>\n",
       "      <td>0.021471</td>\n",
       "      <td>-0.489357</td>\n",
       "      <td>-0.724576</td>\n",
       "      <td>1.000000</td>\n",
       "    </tr>\n",
       "  </tbody>\n",
       "</table>\n",
       "</div>"
      ],
      "text/plain": [
       "                  user_id     score       age    equity   balance  products  \\\n",
       "user_id          1.000000  0.009227  0.016599  0.004665  0.005661 -0.004306   \n",
       "score            0.009227  1.000000 -0.012065  0.065541  0.235192 -0.003484   \n",
       "age              0.016599 -0.012065  1.000000  0.019679  0.070081  0.017537   \n",
       "equity           0.004665  0.065541  0.019679  1.000000  0.163678  0.431361   \n",
       "balance          0.005661  0.235192  0.070081  0.163678  1.000000  0.075796   \n",
       "products        -0.004306 -0.003484  0.017537  0.431361  0.075796  1.000000   \n",
       "credit_card      0.003694 -0.095677 -0.122684 -0.167597 -0.059835 -0.252298   \n",
       "last_activity   -0.031866 -0.030495 -0.008415 -0.001378  0.024745  0.038374   \n",
       "est_salary      -0.001113  0.164665 -0.039112 -0.171406  0.338843 -0.117372   \n",
       "churn           -0.010495  0.106055 -0.050415  0.270137  0.085708  0.301946   \n",
       "balance_missing  0.003975  0.137600 -0.027471 -0.708761       NaN -0.485992   \n",
       "gender_Ж        -0.029941 -0.010727  0.212132  0.020877 -0.051447  0.022059   \n",
       "gender_М         0.029941  0.010727 -0.212132 -0.020877  0.051447 -0.022059   \n",
       "city_Ростов     -0.032635 -0.037924  0.047468  0.034727 -0.035858 -0.007081   \n",
       "city_Рыбинск     0.013422 -0.000648  0.027971 -0.003369 -0.034084 -0.043626   \n",
       "city_Ярославль   0.011130  0.027552 -0.058925 -0.021663  0.056836  0.044292   \n",
       "\n",
       "                 credit_card  last_activity  est_salary     churn  \\\n",
       "user_id             0.003694      -0.031866   -0.001113 -0.010495   \n",
       "score              -0.095677      -0.030495    0.164665  0.106055   \n",
       "age                -0.122684      -0.008415   -0.039112 -0.050415   \n",
       "equity             -0.167597      -0.001378   -0.171406  0.270137   \n",
       "balance            -0.059835       0.024745    0.338843  0.085708   \n",
       "products           -0.252298       0.038374   -0.117372  0.301946   \n",
       "credit_card         1.000000      -0.033787    0.036121 -0.130297   \n",
       "last_activity      -0.033787       1.000000    0.002171  0.169729   \n",
       "est_salary          0.036121       0.002171    1.000000  0.001580   \n",
       "churn              -0.130297       0.169729    0.001580  1.000000   \n",
       "balance_missing     0.158070       0.028184    0.307381 -0.249674   \n",
       "gender_Ж           -0.125971       0.013306   -0.081191 -0.141854   \n",
       "gender_М            0.125971      -0.013306    0.081191  0.141854   \n",
       "city_Ростов        -0.098169       0.006820   -0.106493  0.004151   \n",
       "city_Рыбинск       -0.050833       0.049848   -0.055320 -0.029465   \n",
       "city_Ярославль      0.115553      -0.049705    0.125509  0.023562   \n",
       "\n",
       "                 balance_missing  gender_Ж  gender_М  city_Ростов  \\\n",
       "user_id                 0.003975 -0.029941  0.029941    -0.032635   \n",
       "score                   0.137600 -0.010727  0.010727    -0.037924   \n",
       "age                    -0.027471  0.212132 -0.212132     0.047468   \n",
       "equity                 -0.708761  0.020877 -0.020877     0.034727   \n",
       "balance                      NaN -0.051447  0.051447    -0.035858   \n",
       "products               -0.485992  0.022059 -0.022059    -0.007081   \n",
       "credit_card             0.158070 -0.125971  0.125971    -0.098169   \n",
       "last_activity           0.028184  0.013306 -0.013306     0.006820   \n",
       "est_salary              0.307381 -0.081191  0.081191    -0.106493   \n",
       "churn                  -0.249674 -0.141854  0.141854     0.004151   \n",
       "balance_missing         1.000000 -0.063130  0.063130    -0.060025   \n",
       "gender_Ж               -0.063130  1.000000 -1.000000     0.015187   \n",
       "gender_М                0.063130 -1.000000  1.000000    -0.015187   \n",
       "city_Ростов            -0.060025  0.015187 -0.015187     1.000000   \n",
       "city_Рыбинск           -0.015728  0.011859 -0.011859    -0.246459   \n",
       "city_Ярославль          0.056838 -0.021471  0.021471    -0.489357   \n",
       "\n",
       "                 city_Рыбинск  city_Ярославль  \n",
       "user_id              0.013422        0.011130  \n",
       "score               -0.000648        0.027552  \n",
       "age                  0.027971       -0.058925  \n",
       "equity              -0.003369       -0.021663  \n",
       "balance             -0.034084        0.056836  \n",
       "products            -0.043626        0.044292  \n",
       "credit_card         -0.050833        0.115553  \n",
       "last_activity        0.049848       -0.049705  \n",
       "est_salary          -0.055320        0.125509  \n",
       "churn               -0.029465        0.023562  \n",
       "balance_missing     -0.015728        0.056838  \n",
       "gender_Ж             0.011859       -0.021471  \n",
       "gender_М            -0.011859        0.021471  \n",
       "city_Ростов         -0.246459       -0.489357  \n",
       "city_Рыбинск         1.000000       -0.724576  \n",
       "city_Ярославль      -0.724576        1.000000  "
      ]
     },
     "execution_count": 190,
     "metadata": {},
     "output_type": "execute_result"
    }
   ],
   "source": [
    "proect.corr()"
   ]
  },
  {
   "cell_type": "markdown",
   "metadata": {},
   "source": []
  },
  {
   "cell_type": "code",
   "execution_count": 191,
   "metadata": {
    "scrolled": false
   },
   "outputs": [
    {
     "data": {
      "image/png": "[encoded data removed]",
      "text/plain": [
       "<Figure size 720x576 with 2 Axes>"
      ]
     },
     "metadata": {
      "needs_background": "light"
     },
     "output_type": "display_data"
    }
   ],
   "source": [
    "# Укажите непрерывные признаки для анализа\n",
    "interval_cols = ['score', 'age', 'balance', 'est_salary']\n",
    "\n",
    "# Вычисление матрицы корреляций с использованием phik\n",
    "corr_matrix = phik_matrix(proect[interval_cols + ['churn']], interval_cols=interval_cols)\n",
    "\n",
    "# Визуализация матрицы корреляций\n",
    "plt.figure(figsize=(10, 8))\n",
    "sns.heatmap(corr_matrix, annot=True, cmap='coolwarm', center=0)\n",
    "plt.title('Матрица корреляций признаков')\n",
    "plt.show()"
   ]
  },
  {
   "cell_type": "markdown",
   "metadata": {},
   "source": [
    "<div class=\"alert alert-block alert-danger\">✍\n",
    "    \n",
    "\n",
    "__Комментарий от тимлида №1__\n",
    "\n",
    "Признаки equity и last_activity являются дискретными и их не нужно передавать в параметр interval_cols"
   ]
  },
  {
   "cell_type": "markdown",
   "metadata": {},
   "source": [
    "<div class=\"alert alert-info\"> <b>Комментарии студента №1 :</b> Упс, исправил, выводы отредактировал</div>"
   ]
  },
  {
   "cell_type": "markdown",
   "metadata": {},
   "source": [
    "относительно непрерывных признаков,видим, что самая большая зависимость у оттока с оценкой и возрастом"
   ]
  },
  {
   "cell_type": "code",
   "execution_count": 192,
   "metadata": {
    "scrolled": false
   },
   "outputs": [
    {
     "name": "stdout",
     "output_type": "stream",
     "text": [
      "                            OLS Regression Results                            \n",
      "==============================================================================\n",
      "Dep. Variable:                  churn   R-squared:                       0.139\n",
      "Model:                            OLS   Adj. R-squared:                  0.138\n",
      "Method:                 Least Squares   F-statistic:                     266.5\n",
      "Date:                Sun, 06 Oct 2024   Prob (F-statistic):          3.28e-317\n",
      "Time:                        10:47:00   Log-Likelihood:                -3914.2\n",
      "No. Observations:                9923   AIC:                             7842.\n",
      "Df Residuals:                    9916   BIC:                             7893.\n",
      "Df Model:                           6                                         \n",
      "Covariance Type:            nonrobust                                         \n",
      "==================================================================================\n",
      "                     coef    std err          t      P>|t|      [0.025      0.975]\n",
      "----------------------------------------------------------------------------------\n",
      "const             -0.0444      0.009     -5.051      0.000      -0.062      -0.027\n",
      "age               -0.0008      0.000     -2.792      0.005      -0.001      -0.000\n",
      "equity             0.0341      0.002     16.884      0.000       0.030       0.038\n",
      "products           0.1120      0.005     22.178      0.000       0.102       0.122\n",
      "gender_Ж          -0.0782      0.006    -12.557      0.000      -0.090      -0.066\n",
      "gender_М           0.0338      0.005      6.493      0.000       0.024       0.044\n",
      "city_Ростов       -0.0106      0.008     -1.340      0.180      -0.026       0.005\n",
      "city_Рыбинск      -0.0241      0.006     -3.740      0.000      -0.037      -0.011\n",
      "city_Ярославль    -0.0096      0.005     -1.775      0.076      -0.020       0.001\n",
      "==============================================================================\n",
      "Omnibus:                     1790.838   Durbin-Watson:                   1.993\n",
      "Prob(Omnibus):                  0.000   Jarque-Bera (JB):             2920.466\n",
      "Skew:                           1.302   Prob(JB):                         0.00\n",
      "Kurtosis:                       3.531   Cond. No.                     3.77e+17\n",
      "==============================================================================\n",
      "\n",
      "Notes:\n",
      "[1] Standard Errors assume that the covariance matrix of the errors is correctly specified.\n",
      "[2] The smallest eigenvalue is 1.39e-28. This might indicate that there are\n",
      "strong multicollinearity problems or that the design matrix is singular.\n"
     ]
    }
   ],
   "source": [
    "# Определяем переменные\n",
    "X = proect[['age', 'equity', 'products', 'gender_Ж', 'gender_М', 'city_Ростов', 'city_Рыбинск', 'city_Ярославль']]\n",
    "y = proect['churn']\n",
    "\n",
    "# Добавляем константу для модели\n",
    "X = sm.add_constant(X)\n",
    "\n",
    "# Создаем модель\n",
    "model = sm.OLS(y, X).fit()\n",
    "\n",
    "# Получаем результаты\n",
    "print(model.summary())"
   ]
  },
  {
   "cell_type": "markdown",
   "metadata": {},
   "source": [
    "**age (возраст):**\n",
    "\n",
    "Коэффициент: -0.0008. Это говорит о том, что с увеличением возраста на 1 год вероятность ухода клиента уменьшается на 0.0008 (статистически значимо с p-значением 0.005).\n",
    "\n",
    "**equity (капитал):**\n",
    "\n",
    "Коэффициент: 0.0341. Каждое увеличение капитала на единицу увеличивает вероятность ухода клиента на 0.0341 (статистически значимо с p-значением 0.000).\n",
    "\n",
    "**products (количество продуктов):**\n",
    "\n",
    "Коэффициент: 0.1120. Увеличение количества продуктов на 1 увеличивает вероятность ухода на 0.1120 (статистически значимо с p-значением 0.000).\n",
    "\n",
    "**gender:**\n",
    "\n",
    "Коэффициент: -0.0782. Женщины имеют меньшую вероятность ухода на 0.0782 по сравнению с мужчинами (значимо с p-значением 0.000).\n",
    "gender_М (мужской пол):\n",
    "\n",
    "Коэффициент: 0.0338. Мужчины имеют вероятность ухода больше на 0.0338 по сравнению с  категорией (женщины) (значимо с p-значением 0.000).\n",
    "\n",
    "\n",
    "**city_Ростов:**\n",
    "\n",
    "Коэффициент: -0.0106. Вероятность ухода клиентов из Ростова ниже на 0.0106 (ненастатистически значимо с p-значением 0.180).\n",
    "\n",
    "**city_Рыбинск:**\n",
    "\n",
    "Коэффициент: -0.0241 (значимо с p-значением 0.000), показывающий, что клиенты из Рыбинска имеют меньшую вероятность ухода.\n",
    "\n",
    "**city_Ярославль:**\n",
    "\n",
    "Коэффициент: -0.0096 (погранично значимо с p-значением 0.076)."
   ]
  },
  {
   "cell_type": "markdown",
   "metadata": {},
   "source": [
    "**Краткий вывод по 3 шагу**:\n",
    "\n",
    "**мужчины чаще подвержены оттоку**\n",
    "\n",
    "клиенты с двумя продуктами наиболее подвержены оттоку, клиенты с 1 продуктом покидают банк реже всего\n",
    "\n",
    "клиенты с кредиткой чаще уходят из банка\n",
    "\n",
    "активные клиенты уходят чаще \"спящих\"\n",
    "\n",
    "**клиенты, у которых указано 5 баллов собственности чаще всего уходят из банка**\n",
    "\n"
   ]
  },
  {
   "cell_type": "markdown",
   "metadata": {},
   "source": [
    "на основе полученных выводов проведем проверку гипотез"
   ]
  },
  {
   "cell_type": "markdown",
   "metadata": {},
   "source": [
    "<div class=\"alert alert-block alert-danger\">✍\n",
    "    \n",
    "\n",
    "__Комментарий от тимлида №1__\n",
    "\n",
    "Не опираешься на шкалу Чеддока, не определил границу между наличием влияния и отсутствием признаков такого влияния (обычно по 10% берём в данном проекте)."
   ]
  },
  {
   "cell_type": "markdown",
   "metadata": {},
   "source": [
    "<div class=\"alert alert-info\"> <b>Комментарии студента №1 :</b> По поводу шкалы Чеддока, если честно, вообще не понимаю как ее применить тут, поискал примеры, но чаще пишут про Эванса, что-то запутался.</div>"
   ]
  },
  {
   "cell_type": "markdown",
   "metadata": {},
   "source": [
    "<div class=\"alert alert-block alert-success\">✔️\n",
    "    \n",
    "\n",
    "__Комментарий от тимлида №2__\n",
    "\n",
    "Например 0-0.2 - корреляция отсутствует, 0.2-0.4 очень слабая и т.д."
   ]
  },
  {
   "cell_type": "markdown",
   "metadata": {},
   "source": [
    "##  Проверка статистических гипотез"
   ]
  },
  {
   "cell_type": "markdown",
   "metadata": {},
   "source": [
    "Руководствуясь рекомендациями тимлида, логика моих действий в данной главе следующая:\n",
    "\n",
    "Шаги анализа:\n",
    "\n",
    "**Тест Шапиро-Уилка:**\n",
    "Мы проводим тест Шапиро-Уилка для обеих групп, чтобы проверить, нормально ли распределены данные в каждой из них.\n",
    "Нулевая гипотеза теста: данные имеют нормальное распределение.\n",
    "Если значение p-value (доверительный уровень) больше 0.05, это означает, что мы не можем отклонить нулевую гипотезу и считаем, что данные распределены нормально.\n",
    "\n",
    "**Проверка нормальности:**\n",
    "Если обе группы имеют нормальное распределение (p-value > 0.05), мы переходим к следующему тесту.\n",
    "\n",
    "**Тест Левене:**\n",
    "Проводим тест Левене, чтобы проверить равенство дисперсий между группами.\n",
    "Нулевая гипотеза: дисперсии равны.\n",
    "Если p-value теста Левене также больше 0.05, значит мы можем считать дисперсии равными.\n",
    "\n",
    "**t-тест:**\n",
    "Если данные нормально распределены и дисперсии равны, проводим t-тест для независимых выборок.\n",
    "Нулевая гипотеза: средние значения equity для двух групп равны.\n",
    "Если p-value t-теста меньше 0.05, это свидетельствует о значительных различиях между средними.\n",
    "\n",
    "**Тест Манна-Уитни:**\n",
    "Если хотя бы одна из групп не имеет нормального распределения, мы используем непараметрический тест Манна-Уитни, который не требует выполнения предпосылок нормальности или равенства дисперсий.\n",
    "Нулевая гипотеза: распределения equity для двух групп равны.\n",
    "Аналогично, если p-value меньше 0.05, мы отклоняем нулевую гипотезу."
   ]
  },
  {
   "cell_type": "markdown",
   "metadata": {},
   "source": [
    "### **Гипотеза о наличии собственности у ушедших и оставшихся клиентов**"
   ]
  },
  {
   "cell_type": "markdown",
   "metadata": {},
   "source": [
    "H₀:  кол-во баллов собственности оставшихся и ушедших клиентов равны\n",
    "\n",
    "H₁:  кол-во баллов собственности оставшихся и ушедших клиентов не равны\n"
   ]
  },
  {
   "cell_type": "markdown",
   "metadata": {},
   "source": [
    "<div class=\"alert alert-block alert-success\">✔️\n",
    "    \n",
    "\n",
    "__Комментарий от тимлида №1__\n",
    "\n",
    "Верная интерпритация нулевой и альтернативной гипотез\n",
    "</div>"
   ]
  },
  {
   "cell_type": "code",
   "execution_count": 193,
   "metadata": {},
   "outputs": [
    {
     "name": "stdout",
     "output_type": "stream",
     "text": [
      "p-value для нормальности (оставшиеся клиенты): 0.0\n",
      "p-value для нормальности (отточенные клиенты): 5.356880853081415e-30\n",
      "p-value для теста Манна-Уитни: 1.4291024270306944e-156\n",
      "Мы отклоняем нулевую гипотезу о равенстве распределений.\n"
     ]
    },
    {
     "name": "stderr",
     "output_type": "stream",
     "text": [
      "/opt/conda/lib/python3.9/site-packages/scipy/stats/_morestats.py:1800: UserWarning: p-value may not be accurate for N > 5000.\n",
      "  warnings.warn(\"p-value may not be accurate for N > 5000.\")\n"
     ]
    }
   ],
   "source": [
    "# Проверка нормальности распределения с помощью теста Шапиро-Уилка\n",
    "normality_test_0 = st.shapiro(proect[proect['churn'] == 0]['equity'])\n",
    "normality_test_1 = st.shapiro(proect[proect['churn'] == 1]['equity'])\n",
    "\n",
    "print(f\"p-value для нормальности (оставшиеся клиенты): {normality_test_0.pvalue}\")\n",
    "print(f\"p-value для нормальности (отточенные клиенты): {normality_test_1.pvalue}\")\n",
    "\n",
    "# Предположение о нормальности: p-value > 0.05\n",
    "normality_0 = normality_test_0.pvalue > 0.05\n",
    "normality_1 = normality_test_1.pvalue > 0.05\n",
    "\n",
    "if normality_0 and normality_1:\n",
    "    # Проверяем равенство дисперсий с помощью теста Левене\n",
    "    levene_test = st.levene(proect[proect['churn'] == 0]['equity'],\n",
    "                             proect[proect['churn'] == 1]['equity'])\n",
    "    \n",
    "    print(f\"p-value для теста Левене: {levene_test.pvalue}\")\n",
    "\n",
    "    # Предположение о равенстве дисперсий: p-value > 0.05\n",
    "    equal_var = levene_test.pvalue > 0.05\n",
    "    \n",
    "    # Выполняем t-тест\n",
    "    results = st.ttest_ind(proect[proect['churn'] == 0]['equity'],\n",
    "                            proect[proect['churn'] == 1]['equity'],\n",
    "                            equal_var=equal_var)\n",
    "    \n",
    "    print(f\"p-value для t-теста: {results.pvalue}\")\n",
    "    alpha = 0.05  # Уровень значимости\n",
    "    if results.pvalue < alpha:\n",
    "        print(\"Мы отклоняем нулевую гипотезу о равенстве средних.\")\n",
    "    else:\n",
    "        print(\"У нас недостаточно доказательств для отклонения нулевой гипотезы.\")\n",
    "else:\n",
    "    # Если данные не нормально распределены, используем тест Манна-Уитни\n",
    "    mannwhitney_results = st.mannwhitneyu(proect[proect['churn'] == 0]['equity'],\n",
    "                                           proect[proect['churn'] == 1]['equity'],\n",
    "                                           alternative='two-sided')\n",
    "    \n",
    "    print(f\"p-value для теста Манна-Уитни: {mannwhitney_results.pvalue}\")\n",
    "    alpha = 0.05  # Уровень значимости\n",
    "    if mannwhitney_results.pvalue < alpha:\n",
    "        print(\"Мы отклоняем нулевую гипотезу о равенстве распределений.\")\n",
    "    else:\n",
    "        print(\"У нас недостаточно доказательств для отклонения нулевой гипотезы.\")"
   ]
  },
  {
   "cell_type": "markdown",
   "metadata": {},
   "source": [
    "Т.к. нулевая гипотеза отклонена, мы можем утверждать,что кол-во собственности ушедших и оставшихся клиентов не одинаково"
   ]
  },
  {
   "cell_type": "code",
   "execution_count": 194,
   "metadata": {
    "scrolled": false
   },
   "outputs": [
    {
     "data": {
      "image/png": "[encoded data removed]",
      "text/plain": [
       "<Figure size 864x432 with 1 Axes>"
      ]
     },
     "metadata": {
      "needs_background": "light"
     },
     "output_type": "display_data"
    },
    {
     "data": {
      "image/png": "[encoded data removed]",
      "text/plain": [
       "<Figure size 576x432 with 1 Axes>"
      ]
     },
     "metadata": {
      "needs_background": "light"
     },
     "output_type": "display_data"
    }
   ],
   "source": [
    "# Визуализация: Гистограммы\n",
    "plt.figure(figsize=(12, 6))\n",
    "sns.histplot(data=proect, x='equity', hue='churn', element='step', stat='density', common_norm=False, bins=30)\n",
    "plt.title('Гистограммы распределения капитала по группам')\n",
    "plt.xlabel('Кол-во собственности')\n",
    "plt.ylabel('Плотность')\n",
    "plt.legend(title='Отток клиентов', labels=['Оставшиеся', 'Ушедшие'])\n",
    "plt.grid()\n",
    "plt.show()\n",
    "\n",
    "# Визуализация: Боксплот\n",
    "plt.figure(figsize=(8, 6))\n",
    "sns.boxplot(data=proect, x='churn', y='equity', palette='Set2')\n",
    "plt.title('Боксплот распределения капитала по группам')\n",
    "plt.ylabel('Кол-во собственности')\n",
    "plt.xlabel('Отток клиентов')\n",
    "plt.xticks([0, 1], ['Оставшиеся', 'Ушедшие'])\n",
    "plt.grid()\n",
    "plt.show()"
   ]
  },
  {
   "cell_type": "markdown",
   "metadata": {},
   "source": [
    "Так же для наглядности привел иллюстрацию еще раз,где мы видим распределение ушедших и оставшихся клиентов по собственности"
   ]
  },
  {
   "cell_type": "markdown",
   "metadata": {},
   "source": [
    "### **Гипотеза о кол-ве банковских  продуктов у ушедших и осташихся клиентов**"
   ]
  },
  {
   "cell_type": "markdown",
   "metadata": {},
   "source": [
    "H₀: кол-во банковских продуктов у  оставшихся и ушедших клиентов равны\n",
    "\n",
    "H₁: кол-во банковских продуктов у  оставшихся и ушедших клиентов не равны"
   ]
  },
  {
   "cell_type": "code",
   "execution_count": 195,
   "metadata": {
    "scrolled": true
   },
   "outputs": [
    {
     "name": "stdout",
     "output_type": "stream",
     "text": [
      "p-value для нормальности (оставшиеся клиенты): 0.0\n",
      "p-value для нормальности (отточенные клиенты): 2.4491334040083423e-40\n",
      "p-value для теста Манна-Уитни: 7.674130300677304e-162\n",
      "Мы отклоняем нулевую гипотезу о равенстве распределений.\n"
     ]
    },
    {
     "name": "stderr",
     "output_type": "stream",
     "text": [
      "/opt/conda/lib/python3.9/site-packages/scipy/stats/_morestats.py:1800: UserWarning: p-value may not be accurate for N > 5000.\n",
      "  warnings.warn(\"p-value may not be accurate for N > 5000.\")\n"
     ]
    }
   ],
   "source": [
    "# Проверка нормальности распределения с помощью теста Шапиро-Уилка\n",
    "normality_test_0 = st.shapiro(proect[proect['churn'] == 0]['products'])\n",
    "normality_test_1 = st.shapiro(proect[proect['churn'] == 1]['products'])\n",
    "\n",
    "print(f\"p-value для нормальности (оставшиеся клиенты): {normality_test_0.pvalue}\")\n",
    "print(f\"p-value для нормальности (отточенные клиенты): {normality_test_1.pvalue}\")\n",
    "\n",
    "# Предположение о нормальности: p-value > 0.05\n",
    "normality_0 = normality_test_0.pvalue > 0.05\n",
    "normality_1 = normality_test_1.pvalue > 0.05\n",
    "\n",
    "if normality_0 and normality_1:\n",
    "    # Проверяем равенство дисперсий с помощью теста Левене\n",
    "    levene_test = st.levene(proect[proect['churn'] == 0]['products'],\n",
    "                             proect[proect['churn'] == 1]['products'])\n",
    "    \n",
    "    print(f\"p-value для теста Левене: {levene_test.pvalue}\")\n",
    "\n",
    "    # Предположение о равенстве дисперсий: p-value > 0.05\n",
    "    equal_var = levene_test.pvalue > 0.05\n",
    "    \n",
    "    # Выполняем t-тест\n",
    "    results = st.ttest_ind(proect[proect['churn'] == 0]['products'],\n",
    "                            proect[proect['churn'] == 1]['products'],\n",
    "                            equal_var=equal_var)\n",
    "    \n",
    "    print(f\"p-value для t-теста: {results.pvalue}\")\n",
    "    alpha = 0.05  # Уровень значимости\n",
    "    if results.pvalue < alpha:\n",
    "        print(\"Мы отклоняем нулевую гипотезу о равенстве средних.\")\n",
    "    else:\n",
    "        print(\"У нас недостаточно доказательств для отклонения нулевой гипотезы.\")\n",
    "else:\n",
    "    # Если данные не нормально распределены, используем тест Манна-Уитни\n",
    "    mannwhitney_results = st.mannwhitneyu(proect[proect['churn'] == 0]['products'],\n",
    "                                           proect[proect['churn'] == 1]['products'],\n",
    "                                           alternative='two-sided')\n",
    "    \n",
    "    print(f\"p-value для теста Манна-Уитни: {mannwhitney_results.pvalue}\")\n",
    "    alpha = 0.05  # Уровень значимости\n",
    "    if mannwhitney_results.pvalue < alpha:\n",
    "        print(\"Мы отклоняем нулевую гипотезу о равенстве распределений.\")\n",
    "    else:\n",
    "        print(\"У нас недостаточно доказательств для отклонения нулевой гипотезы.\")"
   ]
  },
  {
   "cell_type": "markdown",
   "metadata": {},
   "source": [
    "нулевая гипотеза отклонена,а значит, кол-во банковских продуктов между двух исследуемых групп не равно"
   ]
  },
  {
   "cell_type": "code",
   "execution_count": 196,
   "metadata": {
    "scrolled": false
   },
   "outputs": [
    {
     "data": {
      "image/png": "[encoded data removed]",
      "text/plain": [
       "<Figure size 864x432 with 1 Axes>"
      ]
     },
     "metadata": {
      "needs_background": "light"
     },
     "output_type": "display_data"
    },
    {
     "data": {
      "image/png": "[encoded data removed]",
      "text/plain": [
       "<Figure size 576x432 with 1 Axes>"
      ]
     },
     "metadata": {
      "needs_background": "light"
     },
     "output_type": "display_data"
    }
   ],
   "source": [
    "\n",
    "# Диаграмма распределения\n",
    "plt.figure(figsize=(12, 6))\n",
    "\n",
    "# Создаем диаграмму распределения для оставшихся клиентов\n",
    "sns.kdeplot(proect[proect['churn'] == 0]['products'], \n",
    "             label='Оставшиеся клиенты', \n",
    "             fill=True, \n",
    "             color='blue', \n",
    "             alpha=0.5)\n",
    "\n",
    "# Создаем диаграмму распределения для отточенных клиентов\n",
    "sns.kdeplot(proect[proect['churn'] == 1]['products'], \n",
    "             label='Ушедшие клиенты', \n",
    "             fill=True, \n",
    "             color='orange', \n",
    "             alpha=0.5)\n",
    "\n",
    "plt.title('Диаграмма распределения продуктов для двух групп')\n",
    "plt.xlabel('Количество продуктов')\n",
    "plt.ylabel('Плотность вероятности')\n",
    "plt.legend()\n",
    "plt.show()\n",
    "\n",
    "# Бокс-плот\n",
    "plt.figure(figsize=(8, 6))\n",
    "sns.boxplot(x='churn', y='products', data=proect, palette='Set2')\n",
    "plt.title('Боксплот распределения продуктов по группам')\n",
    "plt.xlabel('Churn (0 - Остались, 1 - Ушли)')\n",
    "plt.ylabel('Количество продуктов')\n",
    "plt.xticks([0, 1], ['Остались', 'Ушли'])\n",
    "plt.show()"
   ]
  },
  {
   "cell_type": "markdown",
   "metadata": {},
   "source": [
    "Еще раз вернемся к иллюстрации кол-во продуктов у клиентов двух групп"
   ]
  },
  {
   "cell_type": "markdown",
   "metadata": {},
   "source": [
    "<div class=\"alert alert-block alert-success\">✔️\n",
    "    \n",
    "\n",
    "__Комментарий от тимлида №1__\n",
    "\n",
    "Методологически проверка гипотез проведена верно и наглядный вывод результатов. Так держать!\n",
    "</div>"
   ]
  },
  {
   "cell_type": "markdown",
   "metadata": {},
   "source": [
    "## Подведение промежуточных итогов: выводы по результатам EDA, корреляционного анализа и гипотез."
   ]
  },
  {
   "cell_type": "markdown",
   "metadata": {},
   "source": [
    "На основе проведенных анализов и проверки гипотез:\n",
    "\n",
    "Следует обратить внимание на отток клиентов , с точки зрения их кол-ва продуктов, кол-ва очков собственности и пола, как мы увидели в 3 главе исследования, есть несколько категорий с повышенным риском ухода:\n",
    "\n",
    "1) мужчины\n",
    "\n",
    "2) клиенты из ярославля\n",
    "\n",
    "3) клиенты, чьи баллы собственности более 3 ( чем выше баллы,тем больше риск ухода)\n",
    "\n",
    "4) клиенты, которые пользуются 3-4 продуктами банков\n",
    "\n",
    "\n",
    "На основе гипотез и анализа следующим шагом мы создаим сегментацию ушедших клиентов, для дальнейшей проработки\n"
   ]
  },
  {
   "cell_type": "markdown",
   "metadata": {},
   "source": [
    "## Сегментация: анализ узких сегментов (менее 500 клиентов и их отток)."
   ]
  },
  {
   "cell_type": "code",
   "execution_count": 197,
   "metadata": {},
   "outputs": [
    {
     "name": "stdout",
     "output_type": "stream",
     "text": [
      "Средний уровень оттока: 18.32%\n"
     ]
    }
   ],
   "source": [
    "# Общее количество клиентов\n",
    "total_clients = proect.shape[0]\n",
    "\n",
    "# Количество клиентов, которые ушли\n",
    "churned_clients = proect[proect['churn'] == 1].shape[0]\n",
    "\n",
    "# Рассчитываем средний уровень оттока\n",
    "average_churn_rate = (churned_clients / total_clients) * 100 if total_clients > 0 else 0\n",
    "\n",
    "print(f\"Средний уровень оттока: {average_churn_rate:.2f}%\")"
   ]
  },
  {
   "cell_type": "code",
   "execution_count": 198,
   "metadata": {},
   "outputs": [],
   "source": [
    "def analyze_churn_segments(df, features):\n",
    "    \"\"\"\n",
    "    Анализ сегментов оттока клиентов.\n",
    "\n",
    "    Параметры:\n",
    "    df: DataFrame с данными клиентов.\n",
    "    features: список признаков для группировки.\n",
    "\n",
    "    Возвращает:\n",
    "    DataFrame с сводными данными о количестве клиентов, количестве ушедших и уровне оттока.\n",
    "    \"\"\"\n",
    "    if 'churn' not in df.columns:\n",
    "        raise ValueError(\"DataFrame must contain a 'churn' column.\")\n",
    "\n",
    "    # Группировка по заданным признакам\n",
    "    grouped = df.groupby(features)\n",
    "\n",
    "    # Подсчёт клиентов\n",
    "    churn_summary = grouped.agg(\n",
    "        total_clients=('churn', 'count'),\n",
    "        churned_clients=('churn', 'sum'),\n",
    "        churn_rate=('churn', 'mean')  # Средний уровень оттока\n",
    "    ).reset_index()\n",
    "\n",
    "    return churn_summary"
   ]
  },
  {
   "cell_type": "markdown",
   "metadata": {},
   "source": [
    "<div class=\"alert alert-info\"> <b>Комментарии студента:</b> мало опыта, что бы сделать \"чистую\" функцию, что я хотел:\n",
    "    что бы функция сама смоделировала несколько сегментов и по заданным критериям (не менее 500 человек и уровень оттока выше 18%) дала разные варианты, искал в инете, но так и не понял как это сделать.</div>"
   ]
  },
  {
   "cell_type": "markdown",
   "metadata": {},
   "source": [
    "<div class=\"alert alert-block alert-danger\">✍\n",
    "    \n",
    "\n",
    "__Комментарий от тимлида №1__\n",
    "\n",
    "В данном проекте, если честно, то не представляю, как можно реализовать функцией. Единственный вариант - это машинное обучение и с помощью ML совершать кластеризацию. Предлагаю выбрать вручную"
   ]
  },
  {
   "cell_type": "markdown",
   "metadata": {},
   "source": [
    "<div class=\"alert alert-info\"> <b>Комментарии студента №1 :</b> В итоге, по сути и выбирал в ручную, применяя требования по 500 человек минимум и наличии оттока выше среднебанковского, исправь , пожалуйста,если я не прав </div>"
   ]
  },
  {
   "cell_type": "code",
   "execution_count": 199,
   "metadata": {},
   "outputs": [
    {
     "name": "stdout",
     "output_type": "stream",
     "text": [
      "         city gender  credit_card  total_clients  churned_clients  churn_rate\n",
      "0      Ростов      Ж            0            360               56    0.155556\n",
      "1      Ростов      Ж            1            373               34    0.091153\n",
      "2      Ростов      М            0            252               77    0.305556\n",
      "3      Ростов      М            1            431               98    0.227378\n",
      "4     Рыбинск      Ж            0            541               88    0.162662\n",
      "5     Рыбинск      Ж            1            809               50    0.061805\n",
      "6     Рыбинск      М            0            412              125    0.303398\n",
      "7     Рыбинск      М            1            891              173    0.194164\n",
      "8   Ярославль      Ж            0            975              214    0.219487\n",
      "9   Ярославль      Ж            1           1894              193    0.101901\n",
      "10  Ярославль      М            0            635              255    0.401575\n",
      "11  Ярославль      М            1           2350              455    0.193617\n"
     ]
    }
   ],
   "source": [
    "# Применяем функцию к DataFrame\n",
    "features_to_analyze = ['city', 'gender', 'credit_card']\n",
    "result = analyze_churn_segments(proect, features_to_analyze)\n",
    "\n",
    "# Выводим результат\n",
    "print(result)"
   ]
  },
  {
   "cell_type": "code",
   "execution_count": 200,
   "metadata": {},
   "outputs": [
    {
     "name": "stdout",
     "output_type": "stream",
     "text": [
      "   products  credit_card  total_clients  churned_clients  churn_rate\n",
      "0         1            0            450               23    0.051111\n",
      "1         1            1           2856              212    0.074230\n",
      "2         2            0           1907              527    0.276350\n",
      "3         2            1           3188              451    0.141468\n",
      "4         3            0            667              201    0.301349\n",
      "5         3            1            362               96    0.265193\n",
      "6         4            0            151               64    0.423841\n",
      "7         4            1            323              236    0.730650\n",
      "8         5            1             19                8    0.421053\n"
     ]
    }
   ],
   "source": [
    "# Применяем функцию к DataFrame\n",
    "features_to_analyze = ['products', 'credit_card']\n",
    "result = analyze_churn_segments(proect, features_to_analyze)\n",
    "\n",
    "# Выводим результат\n",
    "print(result)"
   ]
  },
  {
   "cell_type": "code",
   "execution_count": 201,
   "metadata": {},
   "outputs": [
    {
     "name": "stdout",
     "output_type": "stream",
     "text": [
      "    equity gender  total_clients  churned_clients  churn_rate\n",
      "0        0      Ж           1177               39    0.033135\n",
      "1        0      М           1377               51    0.037037\n",
      "2        1      Ж            394               29    0.073604\n",
      "3        1      М            377               64    0.169761\n",
      "4        2      Ж            549               65    0.118397\n",
      "5        2      М            497              101    0.203219\n",
      "6        3      Ж            819              117    0.142857\n",
      "7        3      М            712              204    0.286517\n",
      "8        4      Ж            953              165    0.173137\n",
      "9        4      М            888              299    0.336712\n",
      "10       5      Ж            940              187    0.198936\n",
      "11       5      М            970              389    0.401031\n",
      "12       6      Ж             70               17    0.242857\n",
      "13       6      М             91               41    0.450549\n",
      "14       7      Ж             36               12    0.333333\n",
      "15       7      М             43               25    0.581395\n",
      "16       8      Ж              8                1    0.125000\n",
      "17       8      М              9                5    0.555556\n",
      "18       9      Ж              6                3    0.500000\n",
      "19       9      М              7                4    0.571429\n"
     ]
    }
   ],
   "source": [
    "# Применяем функцию к DataFrame\n",
    "features_to_analyze = ['equity', 'gender']\n",
    "result = analyze_churn_segments(proect, features_to_analyze)\n",
    "\n",
    "# Выводим результат\n",
    "print(result)"
   ]
  },
  {
   "cell_type": "markdown",
   "metadata": {},
   "source": []
  },
  {
   "cell_type": "markdown",
   "metadata": {},
   "source": [
    "На основе проведенных наблюдений,мы можем выделить три фокус группы:\n",
    "\n",
    "**1) Мужчины из Ярославля без кредитных карт - всего 635 клиентов, с оттоком 40% , 255 из них ушли**\n",
    "\n",
    "**2) Клиенты с 3 продуктами, без кредитных карт, таких клиентов 667, с оттоком в 30%, 201 клиент из данной группы покинул банк**\n",
    "\n",
    "**3) Мужчины с 5 баллами собственности ,всего их 886,отток составил 40%, 359 из них ушли**"
   ]
  },
  {
   "cell_type": "markdown",
   "metadata": {},
   "source": [
    "<div class=\"alert alert-block alert-success\">✔️\n",
    "    \n",
    "\n",
    "__Комментарий от тимлида №2__\n",
    "\n",
    "Отличная сегментация и с логикой приоритизации согласен"
   ]
  },
  {
   "cell_type": "markdown",
   "metadata": {},
   "source": [
    "## Приоритизация сегментов"
   ]
  },
  {
   "cell_type": "markdown",
   "metadata": {},
   "source": [
    "**Сегмент 1: Мужчины из Ярославля без кредитных карт**\n",
    "Потенциал дохода (3)\n",
    "Текущая вовлеченность (2)\n",
    "Легкость охвата (4)\n",
    "Общие риски (3)\n",
    "Общий балл: 3 + 2 + 4 + 3 = 12\n",
    "\n",
    "\n",
    "**Сегмент 2: Клиенты с 3 продуктами, без кредитных карт**\n",
    "Потенциал дохода (4)\n",
    "Текущая вовлеченность (5)\n",
    "Легкость охвата (3)\n",
    "Общие риски (2)\n",
    "Общий балл: 4 + 5 + 3 + 2 = 14\n",
    "\n",
    "\n",
    "**Сегмент 3: Мужчины с 5 баллами собственности**\n",
    "Потенциал дохода (5)\n",
    "Текущая вовлеченность (3)\n",
    "Легкость охвата (2)\n",
    "Общие риски (1)\n",
    "Общий балл: 5 + 3 + 2 + 1 = 11\n",
    "Итоговая приоритизация сегментов\n",
    "На основании вышеупомянутых баллов можно определить порядок приоритета:\n",
    "\n",
    "Клиенты с 3 продуктами, без кредитных карт: **14 баллов**\n",
    "\n",
    "Мужчины из Ярославля без кредитных карт: **12 баллов**\n",
    "\n",
    "Мужчины с 5 баллами собственности: **11 баллов**\n",
    "\n"
   ]
  },
  {
   "cell_type": "markdown",
   "metadata": {},
   "source": [
    "## Формирование рекомендаций для работы с сегментами"
   ]
  },
  {
   "cell_type": "markdown",
   "metadata": {},
   "source": [
    "На основе исследования рекомендуется:\n",
    "\n",
    "1) в приоритете обратить внимание на мужчин из ярославля без кредитных карт, вероятно, данные клиенты пользуются продуктами сторонних банков, как минимум кредитных, высокая вероятность их ухода из банка, является ковенант в другом банке при взятии кредитной карты (вероятно. с большим балансом) в следствии чего, предлагаю обзвонить данную группу людей с целью привлечения на кредитное обслуживание\n",
    "\n",
    "2) Так же обратить внимание на кредитную линию, клиентам, которые пользуются 3 продуктами банка, так же в обязательном порядке произвести качество чек колл, т.е. узнать лояльность клиента , доволен ли он обслуживанием и нынешними продуктами, высока вероятность, что есть проблемы с теми 3 продуктами, которые есть у клиентов\n",
    "\n",
    "3) Вынести на обсуждение создание вип обслуживания в банке, 886 клиентов (мужчины с 5 баллами собственности) зачастую, относятся к сегменту премиум клиентов , необходимо для удержания серьезно проработать вип подход к данной группе, что является 8.86% от всей нашей клиентской базы, при этом, данные клиенты имеют повышенной потенциал дохода для банка"
   ]
  },
  {
   "cell_type": "markdown",
   "metadata": {},
   "source": [
    "<div class=\"alert alert-block alert-warning\">📝\n",
    "    \n",
    "\n",
    "__Комментарий от тимлида №1__\n",
    "\n",
    "\n",
    "Поправь, пожалуйста, выводы после корректировки"
   ]
  },
  {
   "cell_type": "markdown",
   "metadata": {},
   "source": []
  },
  {
   "cell_type": "markdown",
   "metadata": {},
   "source": []
  },
  {
   "cell_type": "markdown",
   "metadata": {},
   "source": [
    "<div class=\"alert alert-block alert-warning\">📝\n",
    "Комментарий от тимлида №1 </b>\n",
    "\n",
    "\n",
    "\n",
    "Итог ревью - ты проделал хорошую работу! Многие расчеты корректные, грамотная интерпретация полученных результатов! У тебя есть понимание данного процесса. Но есть некоторые моменты которые тебе предстоит доработать, чтобы я смог принять твой проект. Если возникнут вопросы - обязательно задавай. Буду ждать!\n",
    "\n",
    "---\n",
    "\n",
    "Нужно поправить:\n",
    "\n",
    "1) Оформление кода\n",
    "\n",
    "2) Анализ распределения признаков\n",
    "\n",
    "3) Корреляция\n",
    "\n",
    "3) Сегментация\n",
    "\n",
    "4) Подправить выводы, после изменений\n",
    "\n",
    "----\n",
    "\n",
    "\n",
    "Если у тебя будут какие-то вопросы по моим комментариям - обязательно пиши! Буду ждать работу на повторное ревью :)</div>"
   ]
  },
  {
   "cell_type": "markdown",
   "metadata": {},
   "source": [
    "<div class=\"alert alert-block alert-success\">✔️\n",
    "    \n",
    "\n",
    "__Комментарий от тимлида №2__\n",
    "    \n",
    "ЗЫ. Презентацию присылай в пачке в ЛС    \n",
    "    \n",
    "\n",
    "От себя хочу порекомендовать тебе отличную книгу про язык Python. Она очень классная (можно купить как новую, так и на Авито попадается. Вот ссылка на pdf этой книги)\n",
    "    \n",
    "https://monster-book.com/avtomatizaciya-zadach-s-python\n",
    "    \n",
    "---\n",
    "    \n",
    "\n",
    "\n",
    "Все замечания учтены. Успехов на SQL!\n",
    "</div>"
   ]
  }
 ],
 "metadata": {
  "ExecuteTimeLog": [
   {
    "duration": 1311,
    "start_time": "2024-10-02T17:12:17.489Z"
   },
   {
    "duration": 158,
    "start_time": "2024-10-02T17:13:46.974Z"
   },
   {
    "duration": 16,
    "start_time": "2024-10-02T17:13:53.995Z"
   },
   {
    "duration": 12,
    "start_time": "2024-10-02T17:14:08.663Z"
   },
   {
    "duration": 14,
    "start_time": "2024-10-02T17:17:05.787Z"
   },
   {
    "duration": 14,
    "start_time": "2024-10-02T17:20:48.032Z"
   },
   {
    "duration": 7,
    "start_time": "2024-10-02T17:22:15.960Z"
   },
   {
    "duration": 36,
    "start_time": "2024-10-02T17:23:50.463Z"
   },
   {
    "duration": 107,
    "start_time": "2024-10-02T17:29:42.987Z"
   },
   {
    "duration": 8,
    "start_time": "2024-10-02T17:29:48.112Z"
   },
   {
    "duration": 20,
    "start_time": "2024-10-02T17:29:51.779Z"
   },
   {
    "duration": 8,
    "start_time": "2024-10-02T17:32:11.386Z"
   },
   {
    "duration": 6,
    "start_time": "2024-10-02T17:32:23.815Z"
   },
   {
    "duration": 9,
    "start_time": "2024-10-02T17:32:29.156Z"
   },
   {
    "duration": 35,
    "start_time": "2024-10-02T17:34:30.121Z"
   },
   {
    "duration": 82,
    "start_time": "2024-10-02T17:36:42.597Z"
   },
   {
    "duration": 9,
    "start_time": "2024-10-02T17:36:47.424Z"
   },
   {
    "duration": 8,
    "start_time": "2024-10-02T17:36:55.884Z"
   },
   {
    "duration": 4,
    "start_time": "2024-10-02T17:39:08.857Z"
   },
   {
    "duration": 3,
    "start_time": "2024-10-02T17:39:14.807Z"
   },
   {
    "duration": 41,
    "start_time": "2024-10-02T17:39:14.812Z"
   },
   {
    "duration": 12,
    "start_time": "2024-10-02T17:39:14.854Z"
   },
   {
    "duration": 75,
    "start_time": "2024-10-02T17:39:14.867Z"
   },
   {
    "duration": 14,
    "start_time": "2024-10-02T17:39:14.944Z"
   },
   {
    "duration": 12,
    "start_time": "2024-10-02T17:39:14.959Z"
   },
   {
    "duration": 6,
    "start_time": "2024-10-02T17:39:14.973Z"
   },
   {
    "duration": 31,
    "start_time": "2024-10-02T17:39:14.980Z"
   },
   {
    "duration": 42,
    "start_time": "2024-10-02T17:39:15.012Z"
   },
   {
    "duration": 14,
    "start_time": "2024-10-02T17:39:15.056Z"
   },
   {
    "duration": 99,
    "start_time": "2024-10-02T17:39:15.072Z"
   },
   {
    "duration": 36,
    "start_time": "2024-10-02T17:39:15.172Z"
   },
   {
    "duration": 8,
    "start_time": "2024-10-02T17:39:15.209Z"
   },
   {
    "duration": 6,
    "start_time": "2024-10-02T17:41:24.629Z"
   },
   {
    "duration": 7,
    "start_time": "2024-10-02T17:42:10.189Z"
   },
   {
    "duration": 7,
    "start_time": "2024-10-02T17:42:49.968Z"
   },
   {
    "duration": 7,
    "start_time": "2024-10-02T17:43:02.188Z"
   },
   {
    "duration": 6,
    "start_time": "2024-10-02T17:43:52.984Z"
   },
   {
    "duration": 9,
    "start_time": "2024-10-02T17:45:29.428Z"
   },
   {
    "duration": 8,
    "start_time": "2024-10-02T17:46:45.350Z"
   },
   {
    "duration": 7,
    "start_time": "2024-10-02T17:49:10.681Z"
   },
   {
    "duration": 1062,
    "start_time": "2024-10-02T17:49:34.964Z"
   },
   {
    "duration": 4,
    "start_time": "2024-10-02T17:49:41.646Z"
   },
   {
    "duration": 67,
    "start_time": "2024-10-02T17:50:32.604Z"
   },
   {
    "duration": 10,
    "start_time": "2024-10-02T17:50:37.363Z"
   },
   {
    "duration": 16,
    "start_time": "2024-10-02T17:50:42.442Z"
   },
   {
    "duration": 31,
    "start_time": "2024-10-02T17:50:56.551Z"
   },
   {
    "duration": 18,
    "start_time": "2024-10-02T17:51:28.028Z"
   },
   {
    "duration": 168,
    "start_time": "2024-10-02T17:51:39.951Z"
   },
   {
    "duration": 283,
    "start_time": "2024-10-02T17:53:02.819Z"
   },
   {
    "duration": 153,
    "start_time": "2024-10-02T17:53:52.564Z"
   },
   {
    "duration": 142,
    "start_time": "2024-10-02T17:54:11.047Z"
   },
   {
    "duration": 16,
    "start_time": "2024-10-02T18:14:14.797Z"
   },
   {
    "duration": 10,
    "start_time": "2024-10-02T18:14:52.858Z"
   },
   {
    "duration": 11,
    "start_time": "2024-10-02T18:15:04.151Z"
   },
   {
    "duration": 11,
    "start_time": "2024-10-02T18:15:27.733Z"
   },
   {
    "duration": 4,
    "start_time": "2024-10-02T18:16:00.732Z"
   },
   {
    "duration": 9,
    "start_time": "2024-10-02T18:16:22.288Z"
   },
   {
    "duration": 6,
    "start_time": "2024-10-02T18:16:31.054Z"
   },
   {
    "duration": 13,
    "start_time": "2024-10-02T18:17:07.685Z"
   },
   {
    "duration": 14,
    "start_time": "2024-10-02T18:17:28.857Z"
   },
   {
    "duration": 9,
    "start_time": "2024-10-02T18:18:29.702Z"
   },
   {
    "duration": 14,
    "start_time": "2024-10-02T18:20:48.091Z"
   },
   {
    "duration": 12,
    "start_time": "2024-10-02T18:21:43.041Z"
   },
   {
    "duration": 14,
    "start_time": "2024-10-02T18:22:19.969Z"
   },
   {
    "duration": 13,
    "start_time": "2024-10-02T18:22:37.833Z"
   },
   {
    "duration": 5,
    "start_time": "2024-10-02T18:30:32.480Z"
   },
   {
    "duration": 4,
    "start_time": "2024-10-02T18:30:39.189Z"
   },
   {
    "duration": 7,
    "start_time": "2024-10-02T18:31:21.945Z"
   },
   {
    "duration": 6,
    "start_time": "2024-10-02T18:31:28.534Z"
   },
   {
    "duration": 4,
    "start_time": "2024-10-02T18:31:34.697Z"
   },
   {
    "duration": 3,
    "start_time": "2024-10-02T18:31:36.122Z"
   },
   {
    "duration": 89,
    "start_time": "2024-10-02T18:31:36.126Z"
   },
   {
    "duration": 11,
    "start_time": "2024-10-02T18:31:36.217Z"
   },
   {
    "duration": 14,
    "start_time": "2024-10-02T18:31:36.230Z"
   },
   {
    "duration": 14,
    "start_time": "2024-10-02T18:31:36.246Z"
   },
   {
    "duration": 27,
    "start_time": "2024-10-02T18:31:36.261Z"
   },
   {
    "duration": 29,
    "start_time": "2024-10-02T18:31:36.290Z"
   },
   {
    "duration": 52,
    "start_time": "2024-10-02T18:31:36.320Z"
   },
   {
    "duration": 18,
    "start_time": "2024-10-02T18:31:36.374Z"
   },
   {
    "duration": 10,
    "start_time": "2024-10-02T18:31:36.393Z"
   },
   {
    "duration": 7,
    "start_time": "2024-10-02T18:31:36.405Z"
   },
   {
    "duration": 53,
    "start_time": "2024-10-02T18:31:36.413Z"
   },
   {
    "duration": 8,
    "start_time": "2024-10-02T18:31:36.468Z"
   },
   {
    "duration": 6,
    "start_time": "2024-10-02T18:31:36.478Z"
   },
   {
    "duration": 18,
    "start_time": "2024-10-02T18:31:36.486Z"
   },
   {
    "duration": 5,
    "start_time": "2024-10-02T18:31:36.506Z"
   },
   {
    "duration": 6,
    "start_time": "2024-10-02T18:31:36.513Z"
   },
   {
    "duration": 34,
    "start_time": "2024-10-02T18:31:36.520Z"
   },
   {
    "duration": 7,
    "start_time": "2024-10-02T18:31:36.555Z"
   },
   {
    "duration": 9,
    "start_time": "2024-10-02T18:31:36.563Z"
   },
   {
    "duration": 26,
    "start_time": "2024-10-02T18:31:36.573Z"
   },
   {
    "duration": 160,
    "start_time": "2024-10-02T18:31:36.600Z"
   },
   {
    "duration": 174,
    "start_time": "2024-10-02T18:31:36.762Z"
   },
   {
    "duration": 25,
    "start_time": "2024-10-02T18:31:36.938Z"
   },
   {
    "duration": 17,
    "start_time": "2024-10-02T18:31:36.964Z"
   },
   {
    "duration": 31,
    "start_time": "2024-10-02T18:31:36.982Z"
   },
   {
    "duration": 72,
    "start_time": "2024-10-02T18:31:37.015Z"
   },
   {
    "duration": 44,
    "start_time": "2024-10-02T18:31:37.088Z"
   },
   {
    "duration": 23,
    "start_time": "2024-10-02T18:31:37.133Z"
   },
   {
    "duration": 20,
    "start_time": "2024-10-02T18:31:37.157Z"
   },
   {
    "duration": 3,
    "start_time": "2024-10-02T18:31:51.259Z"
   },
   {
    "duration": 80,
    "start_time": "2024-10-02T18:31:51.263Z"
   },
   {
    "duration": 11,
    "start_time": "2024-10-02T18:31:51.344Z"
   },
   {
    "duration": 7,
    "start_time": "2024-10-02T18:31:51.357Z"
   },
   {
    "duration": 13,
    "start_time": "2024-10-02T18:31:51.365Z"
   },
   {
    "duration": 16,
    "start_time": "2024-10-02T18:31:51.380Z"
   },
   {
    "duration": 16,
    "start_time": "2024-10-02T18:31:51.398Z"
   },
   {
    "duration": 46,
    "start_time": "2024-10-02T18:31:51.416Z"
   },
   {
    "duration": 17,
    "start_time": "2024-10-02T18:31:51.463Z"
   },
   {
    "duration": 5,
    "start_time": "2024-10-02T18:31:51.482Z"
   },
   {
    "duration": 7,
    "start_time": "2024-10-02T18:31:51.489Z"
   },
   {
    "duration": 57,
    "start_time": "2024-10-02T18:31:51.497Z"
   },
   {
    "duration": 8,
    "start_time": "2024-10-02T18:31:51.555Z"
   },
   {
    "duration": 5,
    "start_time": "2024-10-02T18:31:51.566Z"
   },
   {
    "duration": 13,
    "start_time": "2024-10-02T18:31:51.572Z"
   },
   {
    "duration": 5,
    "start_time": "2024-10-02T18:31:51.587Z"
   },
   {
    "duration": 7,
    "start_time": "2024-10-02T18:31:51.594Z"
   },
   {
    "duration": 11,
    "start_time": "2024-10-02T18:31:51.602Z"
   },
   {
    "duration": 18,
    "start_time": "2024-10-02T18:31:51.614Z"
   },
   {
    "duration": 21,
    "start_time": "2024-10-02T18:31:51.633Z"
   },
   {
    "duration": 21,
    "start_time": "2024-10-02T18:31:51.655Z"
   },
   {
    "duration": 166,
    "start_time": "2024-10-02T18:31:51.677Z"
   },
   {
    "duration": 173,
    "start_time": "2024-10-02T18:31:51.844Z"
   },
   {
    "duration": 10,
    "start_time": "2024-10-02T18:31:52.019Z"
   },
   {
    "duration": 3,
    "start_time": "2024-10-02T18:31:52.030Z"
   },
   {
    "duration": 20,
    "start_time": "2024-10-02T18:31:52.035Z"
   },
   {
    "duration": 12,
    "start_time": "2024-10-02T18:31:52.056Z"
   },
   {
    "duration": 12,
    "start_time": "2024-10-02T18:31:52.069Z"
   },
   {
    "duration": 12,
    "start_time": "2024-10-02T18:31:52.082Z"
   },
   {
    "duration": 7,
    "start_time": "2024-10-02T18:31:52.095Z"
   },
   {
    "duration": 12,
    "start_time": "2024-10-02T18:31:59.963Z"
   },
   {
    "duration": 6,
    "start_time": "2024-10-02T18:33:38.012Z"
   },
   {
    "duration": 5,
    "start_time": "2024-10-02T18:33:52.723Z"
   },
   {
    "duration": 3,
    "start_time": "2024-10-02T18:34:02.484Z"
   },
   {
    "duration": 7,
    "start_time": "2024-10-02T18:34:04.976Z"
   },
   {
    "duration": 7,
    "start_time": "2024-10-02T18:34:16.326Z"
   },
   {
    "duration": 4,
    "start_time": "2024-10-02T18:34:21.692Z"
   },
   {
    "duration": 3,
    "start_time": "2024-10-02T18:34:26.538Z"
   },
   {
    "duration": 45,
    "start_time": "2024-10-02T18:34:26.543Z"
   },
   {
    "duration": 11,
    "start_time": "2024-10-02T18:34:26.590Z"
   },
   {
    "duration": 4,
    "start_time": "2024-10-02T18:34:26.603Z"
   },
   {
    "duration": 16,
    "start_time": "2024-10-02T18:34:26.608Z"
   },
   {
    "duration": 12,
    "start_time": "2024-10-02T18:34:26.625Z"
   },
   {
    "duration": 7,
    "start_time": "2024-10-02T18:34:26.638Z"
   },
   {
    "duration": 32,
    "start_time": "2024-10-02T18:34:26.652Z"
   },
   {
    "duration": 17,
    "start_time": "2024-10-02T18:34:26.686Z"
   },
   {
    "duration": 5,
    "start_time": "2024-10-02T18:34:26.706Z"
   },
   {
    "duration": 6,
    "start_time": "2024-10-02T18:34:26.712Z"
   },
   {
    "duration": 61,
    "start_time": "2024-10-02T18:34:26.720Z"
   },
   {
    "duration": 7,
    "start_time": "2024-10-02T18:34:26.783Z"
   },
   {
    "duration": 8,
    "start_time": "2024-10-02T18:34:26.792Z"
   },
   {
    "duration": 16,
    "start_time": "2024-10-02T18:34:26.802Z"
   },
   {
    "duration": 8,
    "start_time": "2024-10-02T18:34:26.820Z"
   },
   {
    "duration": 6,
    "start_time": "2024-10-02T18:34:26.854Z"
   },
   {
    "duration": 14,
    "start_time": "2024-10-02T18:34:26.862Z"
   },
   {
    "duration": 6,
    "start_time": "2024-10-02T18:34:26.878Z"
   },
   {
    "duration": 3,
    "start_time": "2024-10-02T18:34:26.886Z"
   },
   {
    "duration": 23,
    "start_time": "2024-10-02T18:34:26.891Z"
   },
   {
    "duration": 183,
    "start_time": "2024-10-02T18:34:26.915Z"
   },
   {
    "duration": 262,
    "start_time": "2024-10-02T18:34:27.099Z"
   },
   {
    "duration": 9,
    "start_time": "2024-10-02T18:34:27.363Z"
   },
   {
    "duration": 12,
    "start_time": "2024-10-02T18:34:27.373Z"
   },
   {
    "duration": 10,
    "start_time": "2024-10-02T18:34:27.386Z"
   },
   {
    "duration": 3,
    "start_time": "2024-10-02T18:34:27.397Z"
   },
   {
    "duration": 5,
    "start_time": "2024-10-02T18:34:27.403Z"
   },
   {
    "duration": 45,
    "start_time": "2024-10-02T18:34:27.409Z"
   },
   {
    "duration": 17,
    "start_time": "2024-10-02T18:34:27.456Z"
   },
   {
    "duration": 12,
    "start_time": "2024-10-02T18:34:27.474Z"
   },
   {
    "duration": 6,
    "start_time": "2024-10-02T18:34:27.487Z"
   },
   {
    "duration": 12,
    "start_time": "2024-10-02T18:34:27.495Z"
   },
   {
    "duration": 16,
    "start_time": "2024-10-02T18:35:03.116Z"
   },
   {
    "duration": 4,
    "start_time": "2024-10-02T18:35:19.141Z"
   },
   {
    "duration": 42,
    "start_time": "2024-10-02T18:35:19.146Z"
   },
   {
    "duration": 11,
    "start_time": "2024-10-02T18:35:19.189Z"
   },
   {
    "duration": 12,
    "start_time": "2024-10-02T18:35:19.201Z"
   },
   {
    "duration": 15,
    "start_time": "2024-10-02T18:35:19.215Z"
   },
   {
    "duration": 16,
    "start_time": "2024-10-02T18:35:19.231Z"
   },
   {
    "duration": 6,
    "start_time": "2024-10-02T18:35:19.249Z"
   },
   {
    "duration": 68,
    "start_time": "2024-10-02T18:35:19.256Z"
   },
   {
    "duration": 17,
    "start_time": "2024-10-02T18:35:19.325Z"
   },
   {
    "duration": 12,
    "start_time": "2024-10-02T18:35:19.344Z"
   },
   {
    "duration": 14,
    "start_time": "2024-10-02T18:35:19.357Z"
   },
   {
    "duration": 53,
    "start_time": "2024-10-02T18:35:19.372Z"
   },
   {
    "duration": 7,
    "start_time": "2024-10-02T18:35:19.426Z"
   },
   {
    "duration": 7,
    "start_time": "2024-10-02T18:35:19.435Z"
   },
   {
    "duration": 15,
    "start_time": "2024-10-02T18:35:19.443Z"
   },
   {
    "duration": 6,
    "start_time": "2024-10-02T18:35:19.459Z"
   },
   {
    "duration": 23,
    "start_time": "2024-10-02T18:35:19.466Z"
   },
   {
    "duration": 6,
    "start_time": "2024-10-02T18:35:19.491Z"
   },
   {
    "duration": 6,
    "start_time": "2024-10-02T18:35:19.499Z"
   },
   {
    "duration": 3,
    "start_time": "2024-10-02T18:35:19.506Z"
   },
   {
    "duration": 24,
    "start_time": "2024-10-02T18:35:19.511Z"
   },
   {
    "duration": 171,
    "start_time": "2024-10-02T18:35:19.537Z"
   },
   {
    "duration": 154,
    "start_time": "2024-10-02T18:35:19.710Z"
   },
   {
    "duration": 10,
    "start_time": "2024-10-02T18:35:19.866Z"
   },
   {
    "duration": 10,
    "start_time": "2024-10-02T18:35:19.877Z"
   },
   {
    "duration": 32,
    "start_time": "2024-10-02T18:35:19.888Z"
   },
   {
    "duration": 27,
    "start_time": "2024-10-02T18:35:19.922Z"
   },
   {
    "duration": 31,
    "start_time": "2024-10-02T18:35:19.950Z"
   },
   {
    "duration": 31,
    "start_time": "2024-10-02T18:35:19.983Z"
   },
   {
    "duration": 47,
    "start_time": "2024-10-02T18:35:20.016Z"
   },
   {
    "duration": 17,
    "start_time": "2024-10-02T18:35:20.065Z"
   },
   {
    "duration": 15,
    "start_time": "2024-10-02T18:36:48.864Z"
   },
   {
    "duration": 13,
    "start_time": "2024-10-02T18:36:59.205Z"
   },
   {
    "duration": 12,
    "start_time": "2024-10-02T18:39:12.967Z"
   },
   {
    "duration": 14,
    "start_time": "2024-10-02T18:51:11.617Z"
   },
   {
    "duration": 13,
    "start_time": "2024-10-02T18:51:44.039Z"
   },
   {
    "duration": 17,
    "start_time": "2024-10-02T18:52:00.048Z"
   },
   {
    "duration": 22,
    "start_time": "2024-10-02T18:52:38.487Z"
   },
   {
    "duration": 3,
    "start_time": "2024-10-02T18:52:44.806Z"
   },
   {
    "duration": 41,
    "start_time": "2024-10-02T18:52:44.811Z"
   },
   {
    "duration": 13,
    "start_time": "2024-10-02T18:52:44.853Z"
   },
   {
    "duration": 6,
    "start_time": "2024-10-02T18:52:44.867Z"
   },
   {
    "duration": 15,
    "start_time": "2024-10-02T18:52:44.875Z"
   },
   {
    "duration": 16,
    "start_time": "2024-10-02T18:52:44.892Z"
   },
   {
    "duration": 11,
    "start_time": "2024-10-02T18:52:44.910Z"
   },
   {
    "duration": 71,
    "start_time": "2024-10-02T18:52:44.923Z"
   },
   {
    "duration": 20,
    "start_time": "2024-10-02T18:52:44.996Z"
   },
   {
    "duration": 60,
    "start_time": "2024-10-02T18:52:45.017Z"
   },
   {
    "duration": 91,
    "start_time": "2024-10-02T18:52:45.079Z"
   },
   {
    "duration": 43,
    "start_time": "2024-10-02T18:52:45.172Z"
   },
   {
    "duration": 8,
    "start_time": "2024-10-02T18:52:45.217Z"
   },
   {
    "duration": 18,
    "start_time": "2024-10-02T18:52:45.228Z"
   },
   {
    "duration": 7,
    "start_time": "2024-10-02T18:52:45.247Z"
   },
   {
    "duration": 17,
    "start_time": "2024-10-02T18:52:45.256Z"
   },
   {
    "duration": 5,
    "start_time": "2024-10-02T18:52:45.275Z"
   },
   {
    "duration": 14,
    "start_time": "2024-10-02T18:52:45.282Z"
   },
   {
    "duration": 88,
    "start_time": "2024-10-02T18:52:45.298Z"
   },
   {
    "duration": 5,
    "start_time": "2024-10-02T18:52:45.387Z"
   },
   {
    "duration": 25,
    "start_time": "2024-10-02T18:52:45.393Z"
   },
   {
    "duration": 158,
    "start_time": "2024-10-02T18:52:45.420Z"
   },
   {
    "duration": 150,
    "start_time": "2024-10-02T18:52:45.580Z"
   },
   {
    "duration": 9,
    "start_time": "2024-10-02T18:52:45.731Z"
   },
   {
    "duration": 14,
    "start_time": "2024-10-02T18:52:45.741Z"
   },
   {
    "duration": 6,
    "start_time": "2024-10-02T18:52:45.756Z"
   },
   {
    "duration": 11,
    "start_time": "2024-10-02T18:52:45.764Z"
   },
   {
    "duration": 15,
    "start_time": "2024-10-02T18:52:45.776Z"
   },
   {
    "duration": 12,
    "start_time": "2024-10-02T18:52:45.792Z"
   },
   {
    "duration": 5,
    "start_time": "2024-10-02T18:52:45.806Z"
   },
   {
    "duration": 49,
    "start_time": "2024-10-02T18:52:45.813Z"
   },
   {
    "duration": 15,
    "start_time": "2024-10-02T18:52:45.864Z"
   },
   {
    "duration": 18,
    "start_time": "2024-10-02T18:52:45.881Z"
   },
   {
    "duration": 20,
    "start_time": "2024-10-02T18:52:45.900Z"
   },
   {
    "duration": 2017,
    "start_time": "2024-10-02T18:52:53.592Z"
   },
   {
    "duration": 1927,
    "start_time": "2024-10-02T18:54:44.859Z"
   },
   {
    "duration": 127,
    "start_time": "2024-10-02T19:00:36.382Z"
   },
   {
    "duration": 915,
    "start_time": "2024-10-02T19:01:12.712Z"
   },
   {
    "duration": 914,
    "start_time": "2024-10-02T19:01:54.944Z"
   },
   {
    "duration": 3,
    "start_time": "2024-10-02T19:02:46.073Z"
   },
   {
    "duration": 42,
    "start_time": "2024-10-02T19:02:46.078Z"
   },
   {
    "duration": 12,
    "start_time": "2024-10-02T19:02:46.122Z"
   },
   {
    "duration": 6,
    "start_time": "2024-10-02T19:02:46.136Z"
   },
   {
    "duration": 19,
    "start_time": "2024-10-02T19:02:46.144Z"
   },
   {
    "duration": 35,
    "start_time": "2024-10-02T19:02:46.165Z"
   },
   {
    "duration": 8,
    "start_time": "2024-10-02T19:02:46.202Z"
   },
   {
    "duration": 34,
    "start_time": "2024-10-02T19:02:46.211Z"
   },
   {
    "duration": 20,
    "start_time": "2024-10-02T19:02:46.246Z"
   },
   {
    "duration": 68,
    "start_time": "2024-10-02T19:02:46.268Z"
   },
   {
    "duration": 14,
    "start_time": "2024-10-02T19:02:46.338Z"
   },
   {
    "duration": 44,
    "start_time": "2024-10-02T19:02:46.354Z"
   },
   {
    "duration": 7,
    "start_time": "2024-10-02T19:02:46.399Z"
   },
   {
    "duration": 6,
    "start_time": "2024-10-02T19:02:46.409Z"
   },
   {
    "duration": 6,
    "start_time": "2024-10-02T19:02:46.416Z"
   },
   {
    "duration": 32,
    "start_time": "2024-10-02T19:02:46.423Z"
   },
   {
    "duration": 6,
    "start_time": "2024-10-02T19:02:46.456Z"
   },
   {
    "duration": 6,
    "start_time": "2024-10-02T19:02:46.463Z"
   },
   {
    "duration": 6,
    "start_time": "2024-10-02T19:02:46.470Z"
   },
   {
    "duration": 4,
    "start_time": "2024-10-02T19:02:46.477Z"
   },
   {
    "duration": 23,
    "start_time": "2024-10-02T19:02:46.482Z"
   },
   {
    "duration": 184,
    "start_time": "2024-10-02T19:02:46.507Z"
   },
   {
    "duration": 171,
    "start_time": "2024-10-02T19:02:46.693Z"
   },
   {
    "duration": 10,
    "start_time": "2024-10-02T19:02:46.865Z"
   },
   {
    "duration": 4,
    "start_time": "2024-10-02T19:02:46.876Z"
   },
   {
    "duration": 8,
    "start_time": "2024-10-02T19:02:46.882Z"
   },
   {
    "duration": 20,
    "start_time": "2024-10-02T19:02:46.892Z"
   },
   {
    "duration": 41,
    "start_time": "2024-10-02T19:02:46.914Z"
   },
   {
    "duration": 18,
    "start_time": "2024-10-02T19:02:46.957Z"
   },
   {
    "duration": 9,
    "start_time": "2024-10-02T19:02:46.977Z"
   },
   {
    "duration": 21,
    "start_time": "2024-10-02T19:02:46.988Z"
   },
   {
    "duration": 46,
    "start_time": "2024-10-02T19:02:47.012Z"
   },
   {
    "duration": 25,
    "start_time": "2024-10-02T19:02:47.059Z"
   },
   {
    "duration": 1345,
    "start_time": "2024-10-02T19:02:47.086Z"
   },
   {
    "duration": 1660,
    "start_time": "2024-10-02T19:03:02.685Z"
   },
   {
    "duration": 1638,
    "start_time": "2024-10-02T19:05:06.388Z"
   },
   {
    "duration": 1448,
    "start_time": "2024-10-02T19:05:19.526Z"
   },
   {
    "duration": 1001,
    "start_time": "2024-10-02T19:09:11.696Z"
   },
   {
    "duration": 11,
    "start_time": "2024-10-02T19:12:33.187Z"
   },
   {
    "duration": 1034,
    "start_time": "2024-10-02T19:12:43.123Z"
   },
   {
    "duration": 9,
    "start_time": "2024-10-02T19:12:56.566Z"
   },
   {
    "duration": 53,
    "start_time": "2024-10-03T21:11:53.505Z"
   },
   {
    "duration": 12,
    "start_time": "2024-10-03T21:12:11.187Z"
   },
   {
    "duration": 1236,
    "start_time": "2024-10-03T21:12:14.853Z"
   },
   {
    "duration": 107,
    "start_time": "2024-10-03T21:12:16.091Z"
   },
   {
    "duration": 14,
    "start_time": "2024-10-03T21:12:16.199Z"
   },
   {
    "duration": 9,
    "start_time": "2024-10-03T21:12:16.214Z"
   },
   {
    "duration": 14,
    "start_time": "2024-10-03T21:12:16.224Z"
   },
   {
    "duration": 12,
    "start_time": "2024-10-03T21:12:16.240Z"
   },
   {
    "duration": 16,
    "start_time": "2024-10-03T21:12:16.254Z"
   },
   {
    "duration": 38,
    "start_time": "2024-10-03T21:12:16.272Z"
   },
   {
    "duration": 17,
    "start_time": "2024-10-03T21:12:16.312Z"
   },
   {
    "duration": 7,
    "start_time": "2024-10-03T21:12:16.331Z"
   },
   {
    "duration": 7,
    "start_time": "2024-10-03T21:12:16.339Z"
   },
   {
    "duration": 59,
    "start_time": "2024-10-03T21:12:16.347Z"
   },
   {
    "duration": 7,
    "start_time": "2024-10-03T21:12:16.407Z"
   },
   {
    "duration": 6,
    "start_time": "2024-10-03T21:12:16.417Z"
   },
   {
    "duration": 5,
    "start_time": "2024-10-03T21:12:16.424Z"
   },
   {
    "duration": 5,
    "start_time": "2024-10-03T21:12:16.431Z"
   },
   {
    "duration": 6,
    "start_time": "2024-10-03T21:12:16.437Z"
   },
   {
    "duration": 6,
    "start_time": "2024-10-03T21:12:16.444Z"
   },
   {
    "duration": 40,
    "start_time": "2024-10-03T21:12:16.452Z"
   },
   {
    "duration": 3,
    "start_time": "2024-10-03T21:12:16.494Z"
   },
   {
    "duration": 21,
    "start_time": "2024-10-03T21:12:16.499Z"
   },
   {
    "duration": 169,
    "start_time": "2024-10-03T21:12:16.521Z"
   },
   {
    "duration": 153,
    "start_time": "2024-10-03T21:12:16.691Z"
   },
   {
    "duration": 9,
    "start_time": "2024-10-03T21:12:16.846Z"
   },
   {
    "duration": 4,
    "start_time": "2024-10-03T21:12:16.856Z"
   },
   {
    "duration": 11,
    "start_time": "2024-10-03T21:12:16.861Z"
   },
   {
    "duration": 24,
    "start_time": "2024-10-03T21:12:16.874Z"
   },
   {
    "duration": 11,
    "start_time": "2024-10-03T21:12:16.900Z"
   },
   {
    "duration": 19,
    "start_time": "2024-10-03T21:12:16.912Z"
   },
   {
    "duration": 61,
    "start_time": "2024-10-03T21:12:16.932Z"
   },
   {
    "duration": 11,
    "start_time": "2024-10-03T21:12:16.995Z"
   },
   {
    "duration": 12,
    "start_time": "2024-10-03T21:12:17.007Z"
   },
   {
    "duration": 13,
    "start_time": "2024-10-03T21:12:17.021Z"
   },
   {
    "duration": 1035,
    "start_time": "2024-10-03T21:12:17.035Z"
   },
   {
    "duration": 1466,
    "start_time": "2024-10-03T21:12:18.071Z"
   },
   {
    "duration": 893,
    "start_time": "2024-10-03T21:12:19.539Z"
   },
   {
    "duration": 20,
    "start_time": "2024-10-03T21:12:28.686Z"
   },
   {
    "duration": 20,
    "start_time": "2024-10-03T21:13:49.740Z"
   },
   {
    "duration": 20,
    "start_time": "2024-10-03T21:25:22.568Z"
   },
   {
    "duration": 11,
    "start_time": "2024-10-03T21:33:21.714Z"
   },
   {
    "duration": 10,
    "start_time": "2024-10-03T21:34:55.103Z"
   },
   {
    "duration": 17,
    "start_time": "2024-10-03T21:35:13.917Z"
   },
   {
    "duration": 17,
    "start_time": "2024-10-03T21:36:34.351Z"
   },
   {
    "duration": 16,
    "start_time": "2024-10-03T21:37:32.112Z"
   },
   {
    "duration": 10,
    "start_time": "2024-10-03T21:41:34.084Z"
   },
   {
    "duration": 14,
    "start_time": "2024-10-03T21:41:55.803Z"
   },
   {
    "duration": 0,
    "start_time": "2024-10-03T21:41:55.821Z"
   },
   {
    "duration": 0,
    "start_time": "2024-10-03T21:41:55.822Z"
   },
   {
    "duration": 0,
    "start_time": "2024-10-03T21:41:55.823Z"
   },
   {
    "duration": 0,
    "start_time": "2024-10-03T21:41:55.824Z"
   },
   {
    "duration": 0,
    "start_time": "2024-10-03T21:41:55.825Z"
   },
   {
    "duration": 0,
    "start_time": "2024-10-03T21:41:55.826Z"
   },
   {
    "duration": 0,
    "start_time": "2024-10-03T21:41:55.827Z"
   },
   {
    "duration": 0,
    "start_time": "2024-10-03T21:41:55.828Z"
   },
   {
    "duration": 0,
    "start_time": "2024-10-03T21:41:55.829Z"
   },
   {
    "duration": 0,
    "start_time": "2024-10-03T21:41:55.830Z"
   },
   {
    "duration": 0,
    "start_time": "2024-10-03T21:41:55.831Z"
   },
   {
    "duration": 0,
    "start_time": "2024-10-03T21:41:55.832Z"
   },
   {
    "duration": 0,
    "start_time": "2024-10-03T21:41:55.833Z"
   },
   {
    "duration": 0,
    "start_time": "2024-10-03T21:41:55.834Z"
   },
   {
    "duration": 0,
    "start_time": "2024-10-03T21:41:55.835Z"
   },
   {
    "duration": 0,
    "start_time": "2024-10-03T21:41:55.836Z"
   },
   {
    "duration": 0,
    "start_time": "2024-10-03T21:41:55.837Z"
   },
   {
    "duration": 0,
    "start_time": "2024-10-03T21:41:55.838Z"
   },
   {
    "duration": 0,
    "start_time": "2024-10-03T21:41:55.839Z"
   },
   {
    "duration": 0,
    "start_time": "2024-10-03T21:41:55.840Z"
   },
   {
    "duration": 0,
    "start_time": "2024-10-03T21:41:55.841Z"
   },
   {
    "duration": 0,
    "start_time": "2024-10-03T21:41:55.842Z"
   },
   {
    "duration": 0,
    "start_time": "2024-10-03T21:41:55.843Z"
   },
   {
    "duration": 0,
    "start_time": "2024-10-03T21:41:55.844Z"
   },
   {
    "duration": 0,
    "start_time": "2024-10-03T21:41:55.845Z"
   },
   {
    "duration": 0,
    "start_time": "2024-10-03T21:41:55.890Z"
   },
   {
    "duration": 1,
    "start_time": "2024-10-03T21:41:55.890Z"
   },
   {
    "duration": 0,
    "start_time": "2024-10-03T21:41:55.891Z"
   },
   {
    "duration": 0,
    "start_time": "2024-10-03T21:41:55.892Z"
   },
   {
    "duration": 0,
    "start_time": "2024-10-03T21:41:55.893Z"
   },
   {
    "duration": 0,
    "start_time": "2024-10-03T21:41:55.894Z"
   },
   {
    "duration": 0,
    "start_time": "2024-10-03T21:41:55.895Z"
   },
   {
    "duration": 0,
    "start_time": "2024-10-03T21:41:55.896Z"
   },
   {
    "duration": 0,
    "start_time": "2024-10-03T21:41:55.897Z"
   },
   {
    "duration": 0,
    "start_time": "2024-10-03T21:41:55.898Z"
   },
   {
    "duration": 0,
    "start_time": "2024-10-03T21:41:55.899Z"
   },
   {
    "duration": 0,
    "start_time": "2024-10-03T21:41:55.900Z"
   },
   {
    "duration": 0,
    "start_time": "2024-10-03T21:41:55.901Z"
   },
   {
    "duration": 3192,
    "start_time": "2024-10-03T21:42:57.725Z"
   },
   {
    "duration": 96,
    "start_time": "2024-10-03T21:43:05.878Z"
   },
   {
    "duration": 4,
    "start_time": "2024-10-03T21:43:09.838Z"
   },
   {
    "duration": 2334,
    "start_time": "2024-10-03T21:43:09.844Z"
   },
   {
    "duration": 48,
    "start_time": "2024-10-03T21:43:12.179Z"
   },
   {
    "duration": 12,
    "start_time": "2024-10-03T21:43:12.229Z"
   },
   {
    "duration": 53,
    "start_time": "2024-10-03T21:43:12.243Z"
   },
   {
    "duration": 16,
    "start_time": "2024-10-03T21:43:12.297Z"
   },
   {
    "duration": 32,
    "start_time": "2024-10-03T21:43:12.314Z"
   },
   {
    "duration": 6,
    "start_time": "2024-10-03T21:43:12.348Z"
   },
   {
    "duration": 35,
    "start_time": "2024-10-03T21:43:12.356Z"
   },
   {
    "duration": 17,
    "start_time": "2024-10-03T21:43:12.393Z"
   },
   {
    "duration": 11,
    "start_time": "2024-10-03T21:43:12.411Z"
   },
   {
    "duration": 10,
    "start_time": "2024-10-03T21:43:12.424Z"
   },
   {
    "duration": 56,
    "start_time": "2024-10-03T21:43:12.435Z"
   },
   {
    "duration": 8,
    "start_time": "2024-10-03T21:43:12.493Z"
   },
   {
    "duration": 6,
    "start_time": "2024-10-03T21:43:12.502Z"
   },
   {
    "duration": 6,
    "start_time": "2024-10-03T21:43:12.509Z"
   },
   {
    "duration": 6,
    "start_time": "2024-10-03T21:43:12.516Z"
   },
   {
    "duration": 7,
    "start_time": "2024-10-03T21:43:12.523Z"
   },
   {
    "duration": 18,
    "start_time": "2024-10-03T21:43:12.532Z"
   },
   {
    "duration": 44,
    "start_time": "2024-10-03T21:43:12.552Z"
   },
   {
    "duration": 5,
    "start_time": "2024-10-03T21:43:12.598Z"
   },
   {
    "duration": 29,
    "start_time": "2024-10-03T21:43:12.604Z"
   },
   {
    "duration": 173,
    "start_time": "2024-10-03T21:43:12.635Z"
   },
   {
    "duration": 151,
    "start_time": "2024-10-03T21:43:12.810Z"
   },
   {
    "duration": 10,
    "start_time": "2024-10-03T21:43:12.963Z"
   },
   {
    "duration": 16,
    "start_time": "2024-10-03T21:43:12.975Z"
   },
   {
    "duration": 23,
    "start_time": "2024-10-03T21:43:12.993Z"
   },
   {
    "duration": 13,
    "start_time": "2024-10-03T21:43:13.018Z"
   },
   {
    "duration": 11,
    "start_time": "2024-10-03T21:43:13.033Z"
   },
   {
    "duration": 11,
    "start_time": "2024-10-03T21:43:13.046Z"
   },
   {
    "duration": 76,
    "start_time": "2024-10-03T21:43:13.059Z"
   },
   {
    "duration": 11,
    "start_time": "2024-10-03T21:43:13.137Z"
   },
   {
    "duration": 14,
    "start_time": "2024-10-03T21:43:13.150Z"
   },
   {
    "duration": 22,
    "start_time": "2024-10-03T21:43:13.165Z"
   },
   {
    "duration": 1031,
    "start_time": "2024-10-03T21:43:13.188Z"
   },
   {
    "duration": 1611,
    "start_time": "2024-10-03T21:43:14.221Z"
   },
   {
    "duration": 19,
    "start_time": "2024-10-03T21:43:15.834Z"
   },
   {
    "duration": 36,
    "start_time": "2024-10-03T21:43:15.855Z"
   },
   {
    "duration": 67,
    "start_time": "2024-10-03T21:43:15.892Z"
   },
   {
    "duration": 24,
    "start_time": "2024-10-03T21:43:15.961Z"
   },
   {
    "duration": 918,
    "start_time": "2024-10-03T21:43:42.642Z"
   },
   {
    "duration": 13,
    "start_time": "2024-10-03T21:46:55.512Z"
   },
   {
    "duration": 395,
    "start_time": "2024-10-03T21:47:06.683Z"
   },
   {
    "duration": 1030,
    "start_time": "2024-10-03T21:48:04.380Z"
   },
   {
    "duration": 1292,
    "start_time": "2024-10-03T21:49:20.193Z"
   },
   {
    "duration": 366,
    "start_time": "2024-10-03T21:58:53.782Z"
   },
   {
    "duration": 4,
    "start_time": "2024-10-03T22:00:47.041Z"
   },
   {
    "duration": 8,
    "start_time": "2024-10-03T22:01:18.615Z"
   },
   {
    "duration": 9,
    "start_time": "2024-10-03T22:01:52.142Z"
   },
   {
    "duration": 888,
    "start_time": "2024-10-03T22:22:59.308Z"
   },
   {
    "duration": 49,
    "start_time": "2024-10-04T07:51:38.015Z"
   },
   {
    "duration": 1519,
    "start_time": "2024-10-04T07:51:40.636Z"
   },
   {
    "duration": 0,
    "start_time": "2024-10-04T07:51:42.158Z"
   },
   {
    "duration": 0,
    "start_time": "2024-10-04T07:51:42.160Z"
   },
   {
    "duration": 0,
    "start_time": "2024-10-04T07:51:42.161Z"
   },
   {
    "duration": 0,
    "start_time": "2024-10-04T07:51:42.162Z"
   },
   {
    "duration": 0,
    "start_time": "2024-10-04T07:51:42.163Z"
   },
   {
    "duration": 0,
    "start_time": "2024-10-04T07:51:42.164Z"
   },
   {
    "duration": 0,
    "start_time": "2024-10-04T07:51:42.165Z"
   },
   {
    "duration": 0,
    "start_time": "2024-10-04T07:51:42.167Z"
   },
   {
    "duration": 0,
    "start_time": "2024-10-04T07:51:42.168Z"
   },
   {
    "duration": 0,
    "start_time": "2024-10-04T07:51:42.169Z"
   },
   {
    "duration": 0,
    "start_time": "2024-10-04T07:51:42.170Z"
   },
   {
    "duration": 0,
    "start_time": "2024-10-04T07:51:42.171Z"
   },
   {
    "duration": 0,
    "start_time": "2024-10-04T07:51:42.172Z"
   },
   {
    "duration": 0,
    "start_time": "2024-10-04T07:51:42.173Z"
   },
   {
    "duration": 0,
    "start_time": "2024-10-04T07:51:42.175Z"
   },
   {
    "duration": 0,
    "start_time": "2024-10-04T07:51:42.175Z"
   },
   {
    "duration": 0,
    "start_time": "2024-10-04T07:51:42.176Z"
   },
   {
    "duration": 0,
    "start_time": "2024-10-04T07:51:42.178Z"
   },
   {
    "duration": 0,
    "start_time": "2024-10-04T07:51:42.179Z"
   },
   {
    "duration": 0,
    "start_time": "2024-10-04T07:51:42.180Z"
   },
   {
    "duration": 0,
    "start_time": "2024-10-04T07:51:42.181Z"
   },
   {
    "duration": 0,
    "start_time": "2024-10-04T07:51:42.220Z"
   },
   {
    "duration": 1,
    "start_time": "2024-10-04T07:51:42.222Z"
   },
   {
    "duration": 0,
    "start_time": "2024-10-04T07:51:42.224Z"
   },
   {
    "duration": 0,
    "start_time": "2024-10-04T07:51:42.225Z"
   },
   {
    "duration": 0,
    "start_time": "2024-10-04T07:51:42.226Z"
   },
   {
    "duration": 0,
    "start_time": "2024-10-04T07:51:42.227Z"
   },
   {
    "duration": 0,
    "start_time": "2024-10-04T07:51:42.228Z"
   },
   {
    "duration": 0,
    "start_time": "2024-10-04T07:51:42.230Z"
   },
   {
    "duration": 0,
    "start_time": "2024-10-04T07:51:42.231Z"
   },
   {
    "duration": 0,
    "start_time": "2024-10-04T07:51:42.235Z"
   },
   {
    "duration": 0,
    "start_time": "2024-10-04T07:51:42.237Z"
   },
   {
    "duration": 0,
    "start_time": "2024-10-04T07:51:42.238Z"
   },
   {
    "duration": 0,
    "start_time": "2024-10-04T07:51:42.239Z"
   },
   {
    "duration": 0,
    "start_time": "2024-10-04T07:51:42.240Z"
   },
   {
    "duration": 0,
    "start_time": "2024-10-04T07:51:42.242Z"
   },
   {
    "duration": 0,
    "start_time": "2024-10-04T07:51:42.244Z"
   },
   {
    "duration": 0,
    "start_time": "2024-10-04T07:51:42.245Z"
   },
   {
    "duration": 0,
    "start_time": "2024-10-04T07:51:42.247Z"
   },
   {
    "duration": 0,
    "start_time": "2024-10-04T07:51:42.248Z"
   },
   {
    "duration": 3503,
    "start_time": "2024-10-04T08:06:25.859Z"
   },
   {
    "duration": 368,
    "start_time": "2024-10-04T08:06:29.365Z"
   },
   {
    "duration": 161,
    "start_time": "2024-10-04T08:06:29.735Z"
   },
   {
    "duration": 18,
    "start_time": "2024-10-04T08:06:29.897Z"
   },
   {
    "duration": 3,
    "start_time": "2024-10-04T08:06:29.918Z"
   },
   {
    "duration": 22,
    "start_time": "2024-10-04T08:06:29.923Z"
   },
   {
    "duration": 18,
    "start_time": "2024-10-04T08:06:29.947Z"
   },
   {
    "duration": 9,
    "start_time": "2024-10-04T08:06:29.967Z"
   },
   {
    "duration": 50,
    "start_time": "2024-10-04T08:06:29.978Z"
   },
   {
    "duration": 38,
    "start_time": "2024-10-04T08:06:30.030Z"
   },
   {
    "duration": 62,
    "start_time": "2024-10-04T08:06:30.070Z"
   },
   {
    "duration": 26,
    "start_time": "2024-10-04T08:06:30.134Z"
   },
   {
    "duration": 75,
    "start_time": "2024-10-04T08:06:30.162Z"
   },
   {
    "duration": 37,
    "start_time": "2024-10-04T08:06:30.241Z"
   },
   {
    "duration": 56,
    "start_time": "2024-10-04T08:06:30.280Z"
   },
   {
    "duration": 32,
    "start_time": "2024-10-04T08:06:30.338Z"
   },
   {
    "duration": 71,
    "start_time": "2024-10-04T08:06:30.372Z"
   },
   {
    "duration": 55,
    "start_time": "2024-10-04T08:06:30.445Z"
   },
   {
    "duration": 36,
    "start_time": "2024-10-04T08:06:30.502Z"
   },
   {
    "duration": 33,
    "start_time": "2024-10-04T08:06:30.540Z"
   },
   {
    "duration": 13,
    "start_time": "2024-10-04T08:06:30.575Z"
   },
   {
    "duration": 97,
    "start_time": "2024-10-04T08:06:30.590Z"
   },
   {
    "duration": 265,
    "start_time": "2024-10-04T08:06:30.689Z"
   },
   {
    "duration": 175,
    "start_time": "2024-10-04T08:06:30.956Z"
   },
   {
    "duration": 10,
    "start_time": "2024-10-04T08:06:31.133Z"
   },
   {
    "duration": 4,
    "start_time": "2024-10-04T08:06:31.145Z"
   },
   {
    "duration": 31,
    "start_time": "2024-10-04T08:06:31.151Z"
   },
   {
    "duration": 14,
    "start_time": "2024-10-04T08:06:31.184Z"
   },
   {
    "duration": 43,
    "start_time": "2024-10-04T08:06:31.200Z"
   },
   {
    "duration": 15,
    "start_time": "2024-10-04T08:06:31.245Z"
   },
   {
    "duration": 43,
    "start_time": "2024-10-04T08:06:31.261Z"
   },
   {
    "duration": 40,
    "start_time": "2024-10-04T08:06:31.306Z"
   },
   {
    "duration": 32,
    "start_time": "2024-10-04T08:06:31.348Z"
   },
   {
    "duration": 19,
    "start_time": "2024-10-04T08:06:31.382Z"
   },
   {
    "duration": 1227,
    "start_time": "2024-10-04T08:06:31.403Z"
   },
   {
    "duration": 1593,
    "start_time": "2024-10-04T08:06:32.632Z"
   },
   {
    "duration": 20,
    "start_time": "2024-10-04T08:06:34.227Z"
   },
   {
    "duration": 15,
    "start_time": "2024-10-04T08:06:34.249Z"
   },
   {
    "duration": 34,
    "start_time": "2024-10-04T08:06:34.266Z"
   },
   {
    "duration": 43,
    "start_time": "2024-10-04T08:06:34.302Z"
   },
   {
    "duration": 0,
    "start_time": "2024-10-04T08:06:34.347Z"
   },
   {
    "duration": 32,
    "start_time": "2024-10-04T08:38:41.323Z"
   },
   {
    "duration": 31,
    "start_time": "2024-10-04T08:43:33.941Z"
   },
   {
    "duration": 1051,
    "start_time": "2024-10-04T08:43:34.132Z"
   },
   {
    "duration": 8,
    "start_time": "2024-10-04T08:45:57.554Z"
   },
   {
    "duration": 30,
    "start_time": "2024-10-04T08:48:16.484Z"
   },
   {
    "duration": 21,
    "start_time": "2024-10-04T08:49:01.558Z"
   },
   {
    "duration": 324,
    "start_time": "2024-10-04T08:52:43.308Z"
   },
   {
    "duration": 436,
    "start_time": "2024-10-04T08:53:11.052Z"
   },
   {
    "duration": 22,
    "start_time": "2024-10-04T09:28:17.653Z"
   },
   {
    "duration": 19,
    "start_time": "2024-10-04T09:42:17.560Z"
   },
   {
    "duration": 20,
    "start_time": "2024-10-04T09:42:49.124Z"
   },
   {
    "duration": 430,
    "start_time": "2024-10-04T09:47:08.423Z"
   },
   {
    "duration": 16,
    "start_time": "2024-10-04T09:50:41.965Z"
   },
   {
    "duration": 39,
    "start_time": "2024-10-04T09:51:03.712Z"
   },
   {
    "duration": 36,
    "start_time": "2024-10-04T09:51:56.356Z"
   },
   {
    "duration": 49,
    "start_time": "2024-10-04T09:52:20.857Z"
   },
   {
    "duration": 29,
    "start_time": "2024-10-04T09:52:36.914Z"
   },
   {
    "duration": 72,
    "start_time": "2024-10-04T09:54:06.804Z"
   },
   {
    "duration": 16,
    "start_time": "2024-10-04T10:07:35.237Z"
   },
   {
    "duration": 39,
    "start_time": "2024-10-04T10:08:20.803Z"
   },
   {
    "duration": 31,
    "start_time": "2024-10-04T10:08:38.211Z"
   },
   {
    "duration": 29,
    "start_time": "2024-10-04T10:09:11.566Z"
   },
   {
    "duration": 39,
    "start_time": "2024-10-04T10:09:38.519Z"
   },
   {
    "duration": 7,
    "start_time": "2024-10-04T10:11:26.494Z"
   },
   {
    "duration": 7,
    "start_time": "2024-10-04T10:11:37.473Z"
   },
   {
    "duration": 11,
    "start_time": "2024-10-04T10:11:52.008Z"
   },
   {
    "duration": 8,
    "start_time": "2024-10-04T10:12:06.736Z"
   },
   {
    "duration": 5,
    "start_time": "2024-10-04T10:12:07.597Z"
   },
   {
    "duration": 2,
    "start_time": "2024-10-04T10:12:14.414Z"
   },
   {
    "duration": 8,
    "start_time": "2024-10-04T10:12:48.527Z"
   },
   {
    "duration": 5,
    "start_time": "2024-10-04T10:12:48.828Z"
   },
   {
    "duration": 3,
    "start_time": "2024-10-04T10:12:49.049Z"
   },
   {
    "duration": 8,
    "start_time": "2024-10-04T10:12:49.319Z"
   },
   {
    "duration": 8,
    "start_time": "2024-10-04T10:12:49.610Z"
   },
   {
    "duration": 19,
    "start_time": "2024-10-04T10:13:39.579Z"
   },
   {
    "duration": 7,
    "start_time": "2024-10-04T10:14:24.873Z"
   },
   {
    "duration": 5,
    "start_time": "2024-10-04T10:28:23.620Z"
   },
   {
    "duration": 23,
    "start_time": "2024-10-04T10:28:48.855Z"
   },
   {
    "duration": 5,
    "start_time": "2024-10-04T10:29:09.131Z"
   },
   {
    "duration": 19,
    "start_time": "2024-10-04T10:29:13.528Z"
   },
   {
    "duration": 22,
    "start_time": "2024-10-04T10:29:44.204Z"
   },
   {
    "duration": 19,
    "start_time": "2024-10-04T10:30:23.522Z"
   },
   {
    "duration": 10,
    "start_time": "2024-10-04T10:31:06.232Z"
   },
   {
    "duration": 23,
    "start_time": "2024-10-04T10:31:15.939Z"
   },
   {
    "duration": 21,
    "start_time": "2024-10-04T10:32:10.081Z"
   },
   {
    "duration": 20,
    "start_time": "2024-10-04T10:32:45.372Z"
   },
   {
    "duration": 19,
    "start_time": "2024-10-04T10:32:57.540Z"
   },
   {
    "duration": 4,
    "start_time": "2024-10-04T10:33:30.224Z"
   },
   {
    "duration": 18,
    "start_time": "2024-10-04T10:33:30.573Z"
   },
   {
    "duration": 2812,
    "start_time": "2024-10-04T10:33:42.182Z"
   },
   {
    "duration": 4,
    "start_time": "2024-10-04T10:33:44.996Z"
   },
   {
    "duration": 97,
    "start_time": "2024-10-04T10:33:45.002Z"
   },
   {
    "duration": 90,
    "start_time": "2024-10-04T10:33:45.101Z"
   },
   {
    "duration": 109,
    "start_time": "2024-10-04T10:33:45.193Z"
   },
   {
    "duration": 97,
    "start_time": "2024-10-04T10:33:45.304Z"
   },
   {
    "duration": 86,
    "start_time": "2024-10-04T10:33:45.403Z"
   },
   {
    "duration": 26,
    "start_time": "2024-10-04T10:33:45.491Z"
   },
   {
    "duration": 62,
    "start_time": "2024-10-04T10:33:45.519Z"
   },
   {
    "duration": 44,
    "start_time": "2024-10-04T10:33:45.583Z"
   },
   {
    "duration": 64,
    "start_time": "2024-10-04T10:33:45.639Z"
   },
   {
    "duration": 50,
    "start_time": "2024-10-04T10:33:45.705Z"
   },
   {
    "duration": 53,
    "start_time": "2024-10-04T10:33:45.757Z"
   },
   {
    "duration": 16,
    "start_time": "2024-10-04T10:33:45.815Z"
   },
   {
    "duration": 7,
    "start_time": "2024-10-04T10:33:45.833Z"
   },
   {
    "duration": 15,
    "start_time": "2024-10-04T10:33:45.842Z"
   },
   {
    "duration": 21,
    "start_time": "2024-10-04T10:33:45.859Z"
   },
   {
    "duration": 6,
    "start_time": "2024-10-04T10:33:45.882Z"
   },
   {
    "duration": 27,
    "start_time": "2024-10-04T10:33:45.890Z"
   },
   {
    "duration": 34,
    "start_time": "2024-10-04T10:33:45.918Z"
   },
   {
    "duration": 4,
    "start_time": "2024-10-04T10:33:45.954Z"
   },
   {
    "duration": 44,
    "start_time": "2024-10-04T10:33:45.960Z"
   },
   {
    "duration": 194,
    "start_time": "2024-10-04T10:33:46.006Z"
   },
   {
    "duration": 210,
    "start_time": "2024-10-04T10:33:46.202Z"
   },
   {
    "duration": 14,
    "start_time": "2024-10-04T10:33:46.414Z"
   },
   {
    "duration": 4,
    "start_time": "2024-10-04T10:33:46.438Z"
   },
   {
    "duration": 11,
    "start_time": "2024-10-04T10:33:46.444Z"
   },
   {
    "duration": 21,
    "start_time": "2024-10-04T10:33:46.456Z"
   },
   {
    "duration": 57,
    "start_time": "2024-10-04T10:33:46.478Z"
   },
   {
    "duration": 17,
    "start_time": "2024-10-04T10:33:46.536Z"
   },
   {
    "duration": 5,
    "start_time": "2024-10-04T10:33:46.555Z"
   },
   {
    "duration": 14,
    "start_time": "2024-10-04T10:33:46.562Z"
   },
   {
    "duration": 19,
    "start_time": "2024-10-04T10:33:46.578Z"
   },
   {
    "duration": 33,
    "start_time": "2024-10-04T10:33:46.599Z"
   },
   {
    "duration": 1276,
    "start_time": "2024-10-04T10:33:46.635Z"
   },
   {
    "duration": 1938,
    "start_time": "2024-10-04T10:33:47.912Z"
   },
   {
    "duration": 18,
    "start_time": "2024-10-04T10:33:49.852Z"
   },
   {
    "duration": 13,
    "start_time": "2024-10-04T10:33:49.872Z"
   },
   {
    "duration": 48,
    "start_time": "2024-10-04T10:33:49.886Z"
   },
   {
    "duration": 31,
    "start_time": "2024-10-04T10:33:49.936Z"
   },
   {
    "duration": 1048,
    "start_time": "2024-10-04T10:33:49.971Z"
   },
   {
    "duration": 27,
    "start_time": "2024-10-04T10:33:51.021Z"
   },
   {
    "duration": 399,
    "start_time": "2024-10-04T10:33:51.049Z"
   },
   {
    "duration": 21,
    "start_time": "2024-10-04T10:33:51.450Z"
   },
   {
    "duration": 461,
    "start_time": "2024-10-04T10:33:51.473Z"
   },
   {
    "duration": 7,
    "start_time": "2024-10-04T10:33:51.936Z"
   },
   {
    "duration": 20,
    "start_time": "2024-10-04T10:33:51.945Z"
   },
   {
    "duration": 5,
    "start_time": "2024-10-04T10:33:51.967Z"
   },
   {
    "duration": 19,
    "start_time": "2024-10-04T10:33:51.973Z"
   },
   {
    "duration": 47,
    "start_time": "2024-10-04T10:33:51.994Z"
   },
   {
    "duration": 16,
    "start_time": "2024-10-04T10:34:44.999Z"
   },
   {
    "duration": 18,
    "start_time": "2024-10-04T10:52:40.657Z"
   },
   {
    "duration": 2599,
    "start_time": "2024-10-04T10:53:37.908Z"
   },
   {
    "duration": 4,
    "start_time": "2024-10-04T10:53:40.510Z"
   },
   {
    "duration": 68,
    "start_time": "2024-10-04T10:53:40.515Z"
   },
   {
    "duration": 14,
    "start_time": "2024-10-04T10:53:40.585Z"
   },
   {
    "duration": 4,
    "start_time": "2024-10-04T10:53:40.601Z"
   },
   {
    "duration": 39,
    "start_time": "2024-10-04T10:53:40.606Z"
   },
   {
    "duration": 15,
    "start_time": "2024-10-04T10:53:40.646Z"
   },
   {
    "duration": 42,
    "start_time": "2024-10-04T10:53:40.663Z"
   },
   {
    "duration": 36,
    "start_time": "2024-10-04T10:53:40.707Z"
   },
   {
    "duration": 23,
    "start_time": "2024-10-04T10:53:40.746Z"
   },
   {
    "duration": 38,
    "start_time": "2024-10-04T10:53:40.771Z"
   },
   {
    "duration": 7,
    "start_time": "2024-10-04T10:53:40.811Z"
   },
   {
    "duration": 38,
    "start_time": "2024-10-04T10:53:40.820Z"
   },
   {
    "duration": 8,
    "start_time": "2024-10-04T10:53:40.859Z"
   },
   {
    "duration": 16,
    "start_time": "2024-10-04T10:53:40.869Z"
   },
   {
    "duration": 21,
    "start_time": "2024-10-04T10:53:40.887Z"
   },
   {
    "duration": 14,
    "start_time": "2024-10-04T10:53:40.910Z"
   },
   {
    "duration": 8,
    "start_time": "2024-10-04T10:53:40.926Z"
   },
   {
    "duration": 8,
    "start_time": "2024-10-04T10:53:40.936Z"
   },
   {
    "duration": 13,
    "start_time": "2024-10-04T10:53:40.946Z"
   },
   {
    "duration": 5,
    "start_time": "2024-10-04T10:53:40.961Z"
   },
   {
    "duration": 58,
    "start_time": "2024-10-04T10:53:40.968Z"
   },
   {
    "duration": 184,
    "start_time": "2024-10-04T10:53:41.028Z"
   },
   {
    "duration": 193,
    "start_time": "2024-10-04T10:53:41.214Z"
   },
   {
    "duration": 12,
    "start_time": "2024-10-04T10:53:41.410Z"
   },
   {
    "duration": 5,
    "start_time": "2024-10-04T10:53:41.424Z"
   },
   {
    "duration": 27,
    "start_time": "2024-10-04T10:53:41.431Z"
   },
   {
    "duration": 14,
    "start_time": "2024-10-04T10:53:41.466Z"
   },
   {
    "duration": 25,
    "start_time": "2024-10-04T10:53:41.482Z"
   },
   {
    "duration": 22,
    "start_time": "2024-10-04T10:53:41.509Z"
   },
   {
    "duration": 9,
    "start_time": "2024-10-04T10:53:41.532Z"
   },
   {
    "duration": 13,
    "start_time": "2024-10-04T10:53:41.542Z"
   },
   {
    "duration": 15,
    "start_time": "2024-10-04T10:53:41.557Z"
   },
   {
    "duration": 18,
    "start_time": "2024-10-04T10:53:41.573Z"
   },
   {
    "duration": 1408,
    "start_time": "2024-10-04T10:53:41.593Z"
   },
   {
    "duration": 1724,
    "start_time": "2024-10-04T10:53:43.003Z"
   },
   {
    "duration": 19,
    "start_time": "2024-10-04T10:53:44.728Z"
   },
   {
    "duration": 22,
    "start_time": "2024-10-04T10:53:44.748Z"
   },
   {
    "duration": 29,
    "start_time": "2024-10-04T10:53:44.772Z"
   },
   {
    "duration": 57,
    "start_time": "2024-10-04T10:53:44.803Z"
   },
   {
    "duration": 1082,
    "start_time": "2024-10-04T10:53:44.861Z"
   },
   {
    "duration": 26,
    "start_time": "2024-10-04T10:53:45.944Z"
   },
   {
    "duration": 486,
    "start_time": "2024-10-04T10:53:45.972Z"
   },
   {
    "duration": 21,
    "start_time": "2024-10-04T10:53:46.460Z"
   },
   {
    "duration": 440,
    "start_time": "2024-10-04T10:53:46.483Z"
   },
   {
    "duration": 5,
    "start_time": "2024-10-04T10:53:46.925Z"
   },
   {
    "duration": 19,
    "start_time": "2024-10-04T10:53:46.932Z"
   },
   {
    "duration": 25,
    "start_time": "2024-10-04T10:53:46.952Z"
   },
   {
    "duration": 15,
    "start_time": "2024-10-04T10:53:46.979Z"
   },
   {
    "duration": 28,
    "start_time": "2024-10-04T10:53:46.995Z"
   },
   {
    "duration": 18,
    "start_time": "2024-10-04T10:55:41.531Z"
   },
   {
    "duration": 183,
    "start_time": "2024-10-04T18:58:30.180Z"
   },
   {
    "duration": 2639,
    "start_time": "2024-10-04T18:59:44.570Z"
   },
   {
    "duration": 4,
    "start_time": "2024-10-04T18:59:47.212Z"
   },
   {
    "duration": 67,
    "start_time": "2024-10-04T18:59:47.218Z"
   },
   {
    "duration": 14,
    "start_time": "2024-10-04T18:59:47.287Z"
   },
   {
    "duration": 15,
    "start_time": "2024-10-04T18:59:47.303Z"
   },
   {
    "duration": 21,
    "start_time": "2024-10-04T18:59:47.319Z"
   },
   {
    "duration": 41,
    "start_time": "2024-10-04T18:59:47.342Z"
   },
   {
    "duration": 8,
    "start_time": "2024-10-04T18:59:47.385Z"
   },
   {
    "duration": 54,
    "start_time": "2024-10-04T18:59:47.395Z"
   },
   {
    "duration": 22,
    "start_time": "2024-10-04T18:59:47.451Z"
   },
   {
    "duration": 7,
    "start_time": "2024-10-04T18:59:47.475Z"
   },
   {
    "duration": 29,
    "start_time": "2024-10-04T18:59:47.484Z"
   },
   {
    "duration": 52,
    "start_time": "2024-10-04T18:59:47.520Z"
   },
   {
    "duration": 9,
    "start_time": "2024-10-04T18:59:47.575Z"
   },
   {
    "duration": 20,
    "start_time": "2024-10-04T18:59:47.586Z"
   },
   {
    "duration": 24,
    "start_time": "2024-10-04T18:59:47.608Z"
   },
   {
    "duration": 27,
    "start_time": "2024-10-04T18:59:47.634Z"
   },
   {
    "duration": 11,
    "start_time": "2024-10-04T18:59:47.663Z"
   },
   {
    "duration": 19,
    "start_time": "2024-10-04T18:59:47.676Z"
   },
   {
    "duration": 18,
    "start_time": "2024-10-04T18:59:47.697Z"
   },
   {
    "duration": 37,
    "start_time": "2024-10-04T18:59:47.717Z"
   },
   {
    "duration": 185,
    "start_time": "2024-10-04T18:59:47.756Z"
   },
   {
    "duration": 187,
    "start_time": "2024-10-04T18:59:47.942Z"
   },
   {
    "duration": 11,
    "start_time": "2024-10-04T18:59:48.131Z"
   },
   {
    "duration": 22,
    "start_time": "2024-10-04T18:59:48.143Z"
   },
   {
    "duration": 24,
    "start_time": "2024-10-04T18:59:48.167Z"
   },
   {
    "duration": 32,
    "start_time": "2024-10-04T18:59:48.193Z"
   },
   {
    "duration": 32,
    "start_time": "2024-10-04T18:59:48.227Z"
   },
   {
    "duration": 28,
    "start_time": "2024-10-04T18:59:48.261Z"
   },
   {
    "duration": 22,
    "start_time": "2024-10-04T18:59:48.291Z"
   },
   {
    "duration": 14,
    "start_time": "2024-10-04T18:59:48.315Z"
   },
   {
    "duration": 30,
    "start_time": "2024-10-04T18:59:48.331Z"
   },
   {
    "duration": 17,
    "start_time": "2024-10-04T18:59:48.363Z"
   },
   {
    "duration": 1209,
    "start_time": "2024-10-04T18:59:48.382Z"
   },
   {
    "duration": 1941,
    "start_time": "2024-10-04T18:59:49.592Z"
   },
   {
    "duration": 22,
    "start_time": "2024-10-04T18:59:51.535Z"
   },
   {
    "duration": 16,
    "start_time": "2024-10-04T18:59:51.559Z"
   },
   {
    "duration": 51,
    "start_time": "2024-10-04T18:59:51.577Z"
   },
   {
    "duration": 55,
    "start_time": "2024-10-04T18:59:51.629Z"
   },
   {
    "duration": 1008,
    "start_time": "2024-10-04T18:59:51.686Z"
   },
   {
    "duration": 34,
    "start_time": "2024-10-04T18:59:52.698Z"
   },
   {
    "duration": 359,
    "start_time": "2024-10-04T18:59:52.734Z"
   },
   {
    "duration": 26,
    "start_time": "2024-10-04T18:59:53.095Z"
   },
   {
    "duration": 410,
    "start_time": "2024-10-04T18:59:53.123Z"
   },
   {
    "duration": 6,
    "start_time": "2024-10-04T18:59:53.536Z"
   },
   {
    "duration": 9,
    "start_time": "2024-10-04T18:59:53.544Z"
   },
   {
    "duration": 24,
    "start_time": "2024-10-04T18:59:53.555Z"
   },
   {
    "duration": 40,
    "start_time": "2024-10-04T18:59:53.581Z"
   },
   {
    "duration": 17,
    "start_time": "2024-10-04T18:59:53.623Z"
   },
   {
    "duration": 19,
    "start_time": "2024-10-04T18:59:53.642Z"
   },
   {
    "duration": 1451,
    "start_time": "2024-10-04T19:11:28.465Z"
   },
   {
    "duration": 409,
    "start_time": "2024-10-04T19:17:09.536Z"
   },
   {
    "duration": 421,
    "start_time": "2024-10-04T19:17:34.460Z"
   },
   {
    "duration": 902,
    "start_time": "2024-10-04T19:22:43.207Z"
   },
   {
    "duration": 371,
    "start_time": "2024-10-04T19:37:01.298Z"
   },
   {
    "duration": 360,
    "start_time": "2024-10-04T19:37:13.247Z"
   },
   {
    "duration": 17,
    "start_time": "2024-10-04T19:47:38.914Z"
   },
   {
    "duration": 17,
    "start_time": "2024-10-04T19:47:47.129Z"
   },
   {
    "duration": 585,
    "start_time": "2024-10-04T20:01:35.414Z"
   },
   {
    "duration": 2581,
    "start_time": "2024-10-04T21:23:41.411Z"
   },
   {
    "duration": 6626,
    "start_time": "2024-10-04T21:23:43.995Z"
   },
   {
    "duration": 44,
    "start_time": "2024-10-04T21:23:50.623Z"
   },
   {
    "duration": 18,
    "start_time": "2024-10-04T21:23:50.669Z"
   },
   {
    "duration": 4,
    "start_time": "2024-10-04T21:23:50.690Z"
   },
   {
    "duration": 19,
    "start_time": "2024-10-04T21:23:50.696Z"
   },
   {
    "duration": 30,
    "start_time": "2024-10-04T21:23:50.717Z"
   },
   {
    "duration": 12,
    "start_time": "2024-10-04T21:23:50.749Z"
   },
   {
    "duration": 36,
    "start_time": "2024-10-04T21:23:50.763Z"
   },
   {
    "duration": 45,
    "start_time": "2024-10-04T21:23:50.801Z"
   },
   {
    "duration": 11,
    "start_time": "2024-10-04T21:23:50.848Z"
   },
   {
    "duration": 10,
    "start_time": "2024-10-04T21:23:50.861Z"
   },
   {
    "duration": 57,
    "start_time": "2024-10-04T21:23:50.873Z"
   },
   {
    "duration": 8,
    "start_time": "2024-10-04T21:23:50.933Z"
   },
   {
    "duration": 24,
    "start_time": "2024-10-04T21:23:50.946Z"
   },
   {
    "duration": 13,
    "start_time": "2024-10-04T21:23:50.972Z"
   },
   {
    "duration": 32,
    "start_time": "2024-10-04T21:23:50.987Z"
   },
   {
    "duration": 8,
    "start_time": "2024-10-04T21:23:51.021Z"
   },
   {
    "duration": 8,
    "start_time": "2024-10-04T21:23:51.030Z"
   },
   {
    "duration": 4,
    "start_time": "2024-10-04T21:23:51.039Z"
   },
   {
    "duration": 31,
    "start_time": "2024-10-04T21:23:51.045Z"
   },
   {
    "duration": 187,
    "start_time": "2024-10-04T21:23:51.077Z"
   },
   {
    "duration": 169,
    "start_time": "2024-10-04T21:23:51.266Z"
   },
   {
    "duration": 10,
    "start_time": "2024-10-04T21:23:51.446Z"
   },
   {
    "duration": 29,
    "start_time": "2024-10-04T21:23:51.458Z"
   },
   {
    "duration": 7,
    "start_time": "2024-10-04T21:23:51.488Z"
   },
   {
    "duration": 11,
    "start_time": "2024-10-04T21:23:51.497Z"
   },
   {
    "duration": 13,
    "start_time": "2024-10-04T21:23:51.510Z"
   },
   {
    "duration": 22,
    "start_time": "2024-10-04T21:23:51.524Z"
   },
   {
    "duration": 7,
    "start_time": "2024-10-04T21:23:51.547Z"
   },
   {
    "duration": 13,
    "start_time": "2024-10-04T21:23:51.555Z"
   },
   {
    "duration": 15,
    "start_time": "2024-10-04T21:23:51.569Z"
   },
   {
    "duration": 13,
    "start_time": "2024-10-04T21:23:51.586Z"
   },
   {
    "duration": 1179,
    "start_time": "2024-10-04T21:23:51.601Z"
   },
   {
    "duration": 1250,
    "start_time": "2024-10-04T21:23:52.782Z"
   },
   {
    "duration": 21,
    "start_time": "2024-10-04T21:23:54.034Z"
   },
   {
    "duration": 15,
    "start_time": "2024-10-04T21:23:54.056Z"
   },
   {
    "duration": 22,
    "start_time": "2024-10-04T21:23:54.073Z"
   },
   {
    "duration": 60,
    "start_time": "2024-10-04T21:23:54.097Z"
   },
   {
    "duration": 817,
    "start_time": "2024-10-04T21:23:54.159Z"
   },
   {
    "duration": 23,
    "start_time": "2024-10-04T21:23:54.981Z"
   },
   {
    "duration": 367,
    "start_time": "2024-10-04T21:23:55.006Z"
   },
   {
    "duration": 22,
    "start_time": "2024-10-04T21:23:55.375Z"
   },
   {
    "duration": 392,
    "start_time": "2024-10-04T21:23:55.398Z"
   },
   {
    "duration": 6,
    "start_time": "2024-10-04T21:23:55.793Z"
   },
   {
    "duration": 5,
    "start_time": "2024-10-04T21:23:55.801Z"
   },
   {
    "duration": 41,
    "start_time": "2024-10-04T21:23:55.808Z"
   },
   {
    "duration": 16,
    "start_time": "2024-10-04T21:23:55.851Z"
   },
   {
    "duration": 15,
    "start_time": "2024-10-04T21:23:55.868Z"
   },
   {
    "duration": 139,
    "start_time": "2024-10-04T21:23:55.885Z"
   },
   {
    "duration": 2715,
    "start_time": "2024-10-04T22:57:56.569Z"
   },
   {
    "duration": 6625,
    "start_time": "2024-10-04T22:57:59.286Z"
   },
   {
    "duration": 54,
    "start_time": "2024-10-04T22:58:05.913Z"
   },
   {
    "duration": 38,
    "start_time": "2024-10-04T22:58:05.969Z"
   },
   {
    "duration": 9,
    "start_time": "2024-10-04T22:58:06.010Z"
   },
   {
    "duration": 122,
    "start_time": "2024-10-04T22:58:06.021Z"
   },
   {
    "duration": 122,
    "start_time": "2024-10-04T22:58:06.145Z"
   },
   {
    "duration": 17,
    "start_time": "2024-10-04T22:58:06.269Z"
   },
   {
    "duration": 43,
    "start_time": "2024-10-04T22:58:06.288Z"
   },
   {
    "duration": 38,
    "start_time": "2024-10-04T22:58:06.333Z"
   },
   {
    "duration": 27,
    "start_time": "2024-10-04T22:58:06.373Z"
   },
   {
    "duration": 31,
    "start_time": "2024-10-04T22:58:06.402Z"
   },
   {
    "duration": 50,
    "start_time": "2024-10-04T22:58:06.435Z"
   },
   {
    "duration": 9,
    "start_time": "2024-10-04T22:58:06.489Z"
   },
   {
    "duration": 36,
    "start_time": "2024-10-04T22:58:06.500Z"
   },
   {
    "duration": 17,
    "start_time": "2024-10-04T22:58:06.537Z"
   },
   {
    "duration": 9,
    "start_time": "2024-10-04T22:58:06.556Z"
   },
   {
    "duration": 14,
    "start_time": "2024-10-04T22:58:06.567Z"
   },
   {
    "duration": 15,
    "start_time": "2024-10-04T22:58:06.583Z"
   },
   {
    "duration": 34,
    "start_time": "2024-10-04T22:58:06.599Z"
   },
   {
    "duration": 32,
    "start_time": "2024-10-04T22:58:06.635Z"
   },
   {
    "duration": 207,
    "start_time": "2024-10-04T22:58:06.670Z"
   },
   {
    "duration": 172,
    "start_time": "2024-10-04T22:58:06.879Z"
   },
   {
    "duration": 10,
    "start_time": "2024-10-04T22:58:07.053Z"
   },
   {
    "duration": 21,
    "start_time": "2024-10-04T22:58:07.064Z"
   },
   {
    "duration": 11,
    "start_time": "2024-10-04T22:58:07.087Z"
   },
   {
    "duration": 13,
    "start_time": "2024-10-04T22:58:07.100Z"
   },
   {
    "duration": 14,
    "start_time": "2024-10-04T22:58:07.115Z"
   },
   {
    "duration": 13,
    "start_time": "2024-10-04T22:58:07.147Z"
   },
   {
    "duration": 18,
    "start_time": "2024-10-04T22:58:07.162Z"
   },
   {
    "duration": 29,
    "start_time": "2024-10-04T22:58:07.182Z"
   },
   {
    "duration": 25,
    "start_time": "2024-10-04T22:58:07.212Z"
   },
   {
    "duration": 15,
    "start_time": "2024-10-04T22:58:07.239Z"
   },
   {
    "duration": 1143,
    "start_time": "2024-10-04T22:58:07.255Z"
   },
   {
    "duration": 1329,
    "start_time": "2024-10-04T22:58:08.400Z"
   },
   {
    "duration": 30,
    "start_time": "2024-10-04T22:58:09.731Z"
   },
   {
    "duration": 19,
    "start_time": "2024-10-04T22:58:09.763Z"
   },
   {
    "duration": 28,
    "start_time": "2024-10-04T22:58:09.784Z"
   },
   {
    "duration": 54,
    "start_time": "2024-10-04T22:58:09.813Z"
   },
   {
    "duration": 883,
    "start_time": "2024-10-04T22:58:09.868Z"
   },
   {
    "duration": 21,
    "start_time": "2024-10-04T22:58:10.755Z"
   },
   {
    "duration": 336,
    "start_time": "2024-10-04T22:58:10.777Z"
   },
   {
    "duration": 20,
    "start_time": "2024-10-04T22:58:11.114Z"
   },
   {
    "duration": 375,
    "start_time": "2024-10-04T22:58:11.146Z"
   },
   {
    "duration": 6,
    "start_time": "2024-10-04T22:58:11.523Z"
   },
   {
    "duration": 21,
    "start_time": "2024-10-04T22:58:11.531Z"
   },
   {
    "duration": 23,
    "start_time": "2024-10-04T22:58:11.554Z"
   },
   {
    "duration": 15,
    "start_time": "2024-10-04T22:58:11.579Z"
   },
   {
    "duration": 16,
    "start_time": "2024-10-04T22:58:11.596Z"
   },
   {
    "duration": 138,
    "start_time": "2024-10-04T22:58:11.614Z"
   },
   {
    "duration": 58,
    "start_time": "2024-10-06T09:09:44.704Z"
   },
   {
    "duration": 3949,
    "start_time": "2024-10-06T09:09:47.661Z"
   },
   {
    "duration": 1751,
    "start_time": "2024-10-06T09:09:51.612Z"
   },
   {
    "duration": 156,
    "start_time": "2024-10-06T09:09:53.365Z"
   },
   {
    "duration": 17,
    "start_time": "2024-10-06T09:09:53.523Z"
   },
   {
    "duration": 13,
    "start_time": "2024-10-06T09:09:53.543Z"
   },
   {
    "duration": 33,
    "start_time": "2024-10-06T09:09:53.557Z"
   },
   {
    "duration": 31,
    "start_time": "2024-10-06T09:09:53.591Z"
   },
   {
    "duration": 10,
    "start_time": "2024-10-06T09:09:53.624Z"
   },
   {
    "duration": 60,
    "start_time": "2024-10-06T09:09:53.636Z"
   },
   {
    "duration": 20,
    "start_time": "2024-10-06T09:09:53.698Z"
   },
   {
    "duration": 20,
    "start_time": "2024-10-06T09:09:53.720Z"
   },
   {
    "duration": 7,
    "start_time": "2024-10-06T09:09:53.742Z"
   },
   {
    "duration": 38,
    "start_time": "2024-10-06T09:09:53.750Z"
   },
   {
    "duration": 23,
    "start_time": "2024-10-06T09:09:53.792Z"
   },
   {
    "duration": 11,
    "start_time": "2024-10-06T09:09:53.817Z"
   },
   {
    "duration": 12,
    "start_time": "2024-10-06T09:09:53.830Z"
   },
   {
    "duration": 12,
    "start_time": "2024-10-06T09:09:53.843Z"
   },
   {
    "duration": 14,
    "start_time": "2024-10-06T09:09:53.856Z"
   },
   {
    "duration": 12,
    "start_time": "2024-10-06T09:09:53.872Z"
   },
   {
    "duration": 30,
    "start_time": "2024-10-06T09:09:53.886Z"
   },
   {
    "duration": 33,
    "start_time": "2024-10-06T09:09:53.918Z"
   },
   {
    "duration": 173,
    "start_time": "2024-10-06T09:09:53.953Z"
   },
   {
    "duration": 160,
    "start_time": "2024-10-06T09:09:54.128Z"
   },
   {
    "duration": 19,
    "start_time": "2024-10-06T09:09:54.290Z"
   },
   {
    "duration": 4,
    "start_time": "2024-10-06T09:09:54.311Z"
   },
   {
    "duration": 15,
    "start_time": "2024-10-06T09:09:54.317Z"
   },
   {
    "duration": 17,
    "start_time": "2024-10-06T09:09:54.334Z"
   },
   {
    "duration": 40,
    "start_time": "2024-10-06T09:09:54.353Z"
   },
   {
    "duration": 36,
    "start_time": "2024-10-06T09:09:54.395Z"
   },
   {
    "duration": 21,
    "start_time": "2024-10-06T09:09:54.432Z"
   },
   {
    "duration": 35,
    "start_time": "2024-10-06T09:09:54.455Z"
   },
   {
    "duration": 27,
    "start_time": "2024-10-06T09:09:54.492Z"
   },
   {
    "duration": 17,
    "start_time": "2024-10-06T09:09:54.521Z"
   },
   {
    "duration": 1264,
    "start_time": "2024-10-06T09:09:54.540Z"
   },
   {
    "duration": 1276,
    "start_time": "2024-10-06T09:09:55.806Z"
   },
   {
    "duration": 31,
    "start_time": "2024-10-06T09:09:57.084Z"
   },
   {
    "duration": 20,
    "start_time": "2024-10-06T09:09:57.117Z"
   },
   {
    "duration": 22,
    "start_time": "2024-10-06T09:09:57.139Z"
   },
   {
    "duration": 62,
    "start_time": "2024-10-06T09:09:57.163Z"
   },
   {
    "duration": 862,
    "start_time": "2024-10-06T09:09:57.227Z"
   },
   {
    "duration": 26,
    "start_time": "2024-10-06T09:09:58.092Z"
   },
   {
    "duration": 328,
    "start_time": "2024-10-06T09:09:58.119Z"
   },
   {
    "duration": 21,
    "start_time": "2024-10-06T09:09:58.448Z"
   },
   {
    "duration": 403,
    "start_time": "2024-10-06T09:09:58.471Z"
   },
   {
    "duration": 6,
    "start_time": "2024-10-06T09:09:58.875Z"
   },
   {
    "duration": 13,
    "start_time": "2024-10-06T09:09:58.883Z"
   },
   {
    "duration": 23,
    "start_time": "2024-10-06T09:09:58.897Z"
   },
   {
    "duration": 15,
    "start_time": "2024-10-06T09:09:58.922Z"
   },
   {
    "duration": 17,
    "start_time": "2024-10-06T09:09:58.939Z"
   },
   {
    "duration": 8,
    "start_time": "2024-10-06T09:11:27.322Z"
   },
   {
    "duration": 6,
    "start_time": "2024-10-06T09:11:43.179Z"
   },
   {
    "duration": 6,
    "start_time": "2024-10-06T09:11:53.823Z"
   },
   {
    "duration": 4,
    "start_time": "2024-10-06T09:11:56.185Z"
   },
   {
    "duration": 2648,
    "start_time": "2024-10-06T09:11:58.731Z"
   },
   {
    "duration": 4,
    "start_time": "2024-10-06T09:12:01.382Z"
   },
   {
    "duration": 61,
    "start_time": "2024-10-06T09:12:01.388Z"
   },
   {
    "duration": 14,
    "start_time": "2024-10-06T09:12:01.451Z"
   },
   {
    "duration": 90,
    "start_time": "2024-10-06T09:12:01.468Z"
   },
   {
    "duration": 36,
    "start_time": "2024-10-06T09:12:01.560Z"
   },
   {
    "duration": 14,
    "start_time": "2024-10-06T09:12:01.598Z"
   },
   {
    "duration": 13,
    "start_time": "2024-10-06T09:12:01.614Z"
   },
   {
    "duration": 178,
    "start_time": "2024-10-06T09:12:01.629Z"
   },
   {
    "duration": 20,
    "start_time": "2024-10-06T09:12:01.809Z"
   },
   {
    "duration": 22,
    "start_time": "2024-10-06T09:12:01.831Z"
   },
   {
    "duration": 46,
    "start_time": "2024-10-06T09:12:01.854Z"
   },
   {
    "duration": 38,
    "start_time": "2024-10-06T09:12:01.902Z"
   },
   {
    "duration": 9,
    "start_time": "2024-10-06T09:12:01.944Z"
   },
   {
    "duration": 25,
    "start_time": "2024-10-06T09:12:01.955Z"
   },
   {
    "duration": 21,
    "start_time": "2024-10-06T09:12:01.982Z"
   },
   {
    "duration": 8,
    "start_time": "2024-10-06T09:12:02.005Z"
   },
   {
    "duration": 7,
    "start_time": "2024-10-06T09:12:02.015Z"
   },
   {
    "duration": 17,
    "start_time": "2024-10-06T09:12:02.024Z"
   },
   {
    "duration": 7,
    "start_time": "2024-10-06T09:12:02.043Z"
   },
   {
    "duration": 55,
    "start_time": "2024-10-06T09:12:02.052Z"
   },
   {
    "duration": 167,
    "start_time": "2024-10-06T09:12:02.108Z"
   },
   {
    "duration": 173,
    "start_time": "2024-10-06T09:12:02.277Z"
   },
   {
    "duration": 11,
    "start_time": "2024-10-06T09:12:02.452Z"
   },
   {
    "duration": 28,
    "start_time": "2024-10-06T09:12:02.464Z"
   },
   {
    "duration": 18,
    "start_time": "2024-10-06T09:12:02.494Z"
   },
   {
    "duration": 14,
    "start_time": "2024-10-06T09:12:02.513Z"
   },
   {
    "duration": 53,
    "start_time": "2024-10-06T09:12:02.528Z"
   },
   {
    "duration": 34,
    "start_time": "2024-10-06T09:12:02.584Z"
   },
   {
    "duration": 48,
    "start_time": "2024-10-06T09:12:02.620Z"
   },
   {
    "duration": 26,
    "start_time": "2024-10-06T09:12:02.669Z"
   },
   {
    "duration": 39,
    "start_time": "2024-10-06T09:12:02.697Z"
   },
   {
    "duration": 29,
    "start_time": "2024-10-06T09:12:02.738Z"
   },
   {
    "duration": 1107,
    "start_time": "2024-10-06T09:12:02.769Z"
   },
   {
    "duration": 1252,
    "start_time": "2024-10-06T09:12:03.878Z"
   },
   {
    "duration": 19,
    "start_time": "2024-10-06T09:12:05.132Z"
   },
   {
    "duration": 16,
    "start_time": "2024-10-06T09:12:05.152Z"
   },
   {
    "duration": 39,
    "start_time": "2024-10-06T09:12:05.170Z"
   },
   {
    "duration": 28,
    "start_time": "2024-10-06T09:12:05.211Z"
   },
   {
    "duration": 866,
    "start_time": "2024-10-06T09:12:05.240Z"
   },
   {
    "duration": 21,
    "start_time": "2024-10-06T09:12:06.109Z"
   },
   {
    "duration": 515,
    "start_time": "2024-10-06T09:12:06.131Z"
   },
   {
    "duration": 21,
    "start_time": "2024-10-06T09:12:06.648Z"
   },
   {
    "duration": 392,
    "start_time": "2024-10-06T09:12:06.671Z"
   },
   {
    "duration": 6,
    "start_time": "2024-10-06T09:12:07.064Z"
   },
   {
    "duration": 21,
    "start_time": "2024-10-06T09:12:07.072Z"
   },
   {
    "duration": 99,
    "start_time": "2024-10-06T09:12:07.095Z"
   },
   {
    "duration": 15,
    "start_time": "2024-10-06T09:12:07.196Z"
   },
   {
    "duration": 18,
    "start_time": "2024-10-06T09:12:07.212Z"
   },
   {
    "duration": 99,
    "start_time": "2024-10-06T09:13:35.938Z"
   },
   {
    "duration": 6,
    "start_time": "2024-10-06T09:13:43.091Z"
   },
   {
    "duration": 10,
    "start_time": "2024-10-06T09:14:33.319Z"
   },
   {
    "duration": 9,
    "start_time": "2024-10-06T09:14:38.269Z"
   },
   {
    "duration": 5,
    "start_time": "2024-10-06T09:14:44.648Z"
   },
   {
    "duration": 1143,
    "start_time": "2024-10-06T09:14:46.774Z"
   },
   {
    "duration": 2543,
    "start_time": "2024-10-06T09:16:37.212Z"
   },
   {
    "duration": 4,
    "start_time": "2024-10-06T09:16:39.758Z"
   },
   {
    "duration": 54,
    "start_time": "2024-10-06T09:16:39.764Z"
   },
   {
    "duration": 15,
    "start_time": "2024-10-06T09:16:39.820Z"
   },
   {
    "duration": 11,
    "start_time": "2024-10-06T09:16:39.836Z"
   },
   {
    "duration": 20,
    "start_time": "2024-10-06T09:16:39.849Z"
   },
   {
    "duration": 21,
    "start_time": "2024-10-06T09:16:39.870Z"
   },
   {
    "duration": 13,
    "start_time": "2024-10-06T09:16:39.893Z"
   },
   {
    "duration": 37,
    "start_time": "2024-10-06T09:16:39.907Z"
   },
   {
    "duration": 27,
    "start_time": "2024-10-06T09:16:39.947Z"
   },
   {
    "duration": 30,
    "start_time": "2024-10-06T09:16:39.975Z"
   },
   {
    "duration": 11,
    "start_time": "2024-10-06T09:16:40.007Z"
   },
   {
    "duration": 57,
    "start_time": "2024-10-06T09:16:40.020Z"
   },
   {
    "duration": 25,
    "start_time": "2024-10-06T09:16:40.079Z"
   },
   {
    "duration": 34,
    "start_time": "2024-10-06T09:16:40.105Z"
   },
   {
    "duration": 31,
    "start_time": "2024-10-06T09:16:40.141Z"
   },
   {
    "duration": 81,
    "start_time": "2024-10-06T09:16:40.174Z"
   },
   {
    "duration": 14,
    "start_time": "2024-10-06T09:16:40.257Z"
   },
   {
    "duration": 22,
    "start_time": "2024-10-06T09:16:40.272Z"
   },
   {
    "duration": 39,
    "start_time": "2024-10-06T09:16:40.296Z"
   },
   {
    "duration": 34,
    "start_time": "2024-10-06T09:16:40.337Z"
   },
   {
    "duration": 166,
    "start_time": "2024-10-06T09:16:40.373Z"
   },
   {
    "duration": 161,
    "start_time": "2024-10-06T09:16:40.541Z"
   },
   {
    "duration": 10,
    "start_time": "2024-10-06T09:16:40.704Z"
   },
   {
    "duration": 12,
    "start_time": "2024-10-06T09:16:40.715Z"
   },
   {
    "duration": 9,
    "start_time": "2024-10-06T09:16:40.728Z"
   },
   {
    "duration": 12,
    "start_time": "2024-10-06T09:16:40.738Z"
   },
   {
    "duration": 12,
    "start_time": "2024-10-06T09:16:40.754Z"
   },
   {
    "duration": 40,
    "start_time": "2024-10-06T09:16:40.768Z"
   },
   {
    "duration": 8,
    "start_time": "2024-10-06T09:16:40.810Z"
   },
   {
    "duration": 18,
    "start_time": "2024-10-06T09:16:40.820Z"
   },
   {
    "duration": 20,
    "start_time": "2024-10-06T09:16:40.839Z"
   },
   {
    "duration": 14,
    "start_time": "2024-10-06T09:16:40.861Z"
   },
   {
    "duration": 29,
    "start_time": "2024-10-06T09:16:40.876Z"
   },
   {
    "duration": 1220,
    "start_time": "2024-10-06T09:16:40.907Z"
   },
   {
    "duration": 1248,
    "start_time": "2024-10-06T09:16:42.129Z"
   },
   {
    "duration": 27,
    "start_time": "2024-10-06T09:16:43.379Z"
   },
   {
    "duration": 16,
    "start_time": "2024-10-06T09:16:43.408Z"
   },
   {
    "duration": 24,
    "start_time": "2024-10-06T09:16:43.426Z"
   },
   {
    "duration": 54,
    "start_time": "2024-10-06T09:16:43.452Z"
   },
   {
    "duration": 808,
    "start_time": "2024-10-06T09:16:43.507Z"
   },
   {
    "duration": 23,
    "start_time": "2024-10-06T09:16:44.317Z"
   },
   {
    "duration": 335,
    "start_time": "2024-10-06T09:16:44.341Z"
   },
   {
    "duration": 34,
    "start_time": "2024-10-06T09:16:44.678Z"
   },
   {
    "duration": 396,
    "start_time": "2024-10-06T09:16:44.713Z"
   },
   {
    "duration": 6,
    "start_time": "2024-10-06T09:16:45.110Z"
   },
   {
    "duration": 15,
    "start_time": "2024-10-06T09:16:45.118Z"
   },
   {
    "duration": 77,
    "start_time": "2024-10-06T09:16:45.134Z"
   },
   {
    "duration": 31,
    "start_time": "2024-10-06T09:16:45.213Z"
   },
   {
    "duration": 63,
    "start_time": "2024-10-06T09:16:45.245Z"
   },
   {
    "duration": 1755,
    "start_time": "2024-10-06T09:23:20.893Z"
   },
   {
    "duration": 329,
    "start_time": "2024-10-06T09:24:24.448Z"
   },
   {
    "duration": 1612,
    "start_time": "2024-10-06T09:27:34.105Z"
   },
   {
    "duration": 1382,
    "start_time": "2024-10-06T09:28:29.963Z"
   },
   {
    "duration": 1370,
    "start_time": "2024-10-06T09:28:56.368Z"
   },
   {
    "duration": 1602,
    "start_time": "2024-10-06T09:31:17.136Z"
   },
   {
    "duration": 1677,
    "start_time": "2024-10-06T09:31:34.455Z"
   },
   {
    "duration": 1424,
    "start_time": "2024-10-06T09:31:50.477Z"
   },
   {
    "duration": 1902,
    "start_time": "2024-10-06T09:31:58.884Z"
   },
   {
    "duration": 1930,
    "start_time": "2024-10-06T09:32:31.674Z"
   },
   {
    "duration": 2203,
    "start_time": "2024-10-06T09:33:03.967Z"
   },
   {
    "duration": 2269,
    "start_time": "2024-10-06T09:34:19.415Z"
   },
   {
    "duration": 2078,
    "start_time": "2024-10-06T09:34:30.979Z"
   },
   {
    "duration": 2066,
    "start_time": "2024-10-06T09:34:47.315Z"
   },
   {
    "duration": 2308,
    "start_time": "2024-10-06T09:35:28.207Z"
   },
   {
    "duration": 1889,
    "start_time": "2024-10-06T09:37:12.583Z"
   },
   {
    "duration": 3476,
    "start_time": "2024-10-06T09:38:24.409Z"
   },
   {
    "duration": 57,
    "start_time": "2024-10-06T09:40:12.681Z"
   },
   {
    "duration": 2690,
    "start_time": "2024-10-06T09:40:15.900Z"
   },
   {
    "duration": 1646,
    "start_time": "2024-10-06T09:40:18.592Z"
   },
   {
    "duration": 157,
    "start_time": "2024-10-06T09:40:20.240Z"
   },
   {
    "duration": 22,
    "start_time": "2024-10-06T09:40:20.399Z"
   },
   {
    "duration": 3,
    "start_time": "2024-10-06T09:40:20.424Z"
   },
   {
    "duration": 20,
    "start_time": "2024-10-06T09:40:20.429Z"
   },
   {
    "duration": 31,
    "start_time": "2024-10-06T09:40:20.450Z"
   },
   {
    "duration": 13,
    "start_time": "2024-10-06T09:40:20.482Z"
   },
   {
    "duration": 44,
    "start_time": "2024-10-06T09:40:20.497Z"
   },
   {
    "duration": 22,
    "start_time": "2024-10-06T09:40:20.543Z"
   },
   {
    "duration": 20,
    "start_time": "2024-10-06T09:40:20.567Z"
   },
   {
    "duration": 21,
    "start_time": "2024-10-06T09:40:20.589Z"
   },
   {
    "duration": 52,
    "start_time": "2024-10-06T09:40:20.612Z"
   },
   {
    "duration": 8,
    "start_time": "2024-10-06T09:40:20.669Z"
   },
   {
    "duration": 32,
    "start_time": "2024-10-06T09:40:20.679Z"
   },
   {
    "duration": 19,
    "start_time": "2024-10-06T09:40:20.713Z"
   },
   {
    "duration": 7,
    "start_time": "2024-10-06T09:40:20.735Z"
   },
   {
    "duration": 26,
    "start_time": "2024-10-06T09:40:20.744Z"
   },
   {
    "duration": 18,
    "start_time": "2024-10-06T09:40:20.772Z"
   },
   {
    "duration": 16,
    "start_time": "2024-10-06T09:40:20.792Z"
   },
   {
    "duration": 30,
    "start_time": "2024-10-06T09:40:20.811Z"
   },
   {
    "duration": 216,
    "start_time": "2024-10-06T09:40:20.843Z"
   },
   {
    "duration": 201,
    "start_time": "2024-10-06T09:40:21.061Z"
   },
   {
    "duration": 11,
    "start_time": "2024-10-06T09:40:21.264Z"
   },
   {
    "duration": 18,
    "start_time": "2024-10-06T09:40:21.277Z"
   },
   {
    "duration": 60,
    "start_time": "2024-10-06T09:40:21.297Z"
   },
   {
    "duration": 37,
    "start_time": "2024-10-06T09:40:21.359Z"
   },
   {
    "duration": 17,
    "start_time": "2024-10-06T09:40:21.398Z"
   },
   {
    "duration": 15,
    "start_time": "2024-10-06T09:40:21.417Z"
   },
   {
    "duration": 6,
    "start_time": "2024-10-06T09:40:21.434Z"
   },
   {
    "duration": 25,
    "start_time": "2024-10-06T09:40:21.442Z"
   },
   {
    "duration": 44,
    "start_time": "2024-10-06T09:40:21.469Z"
   },
   {
    "duration": 21,
    "start_time": "2024-10-06T09:40:21.515Z"
   },
   {
    "duration": 6,
    "start_time": "2024-10-06T09:40:21.538Z"
   },
   {
    "duration": 1813,
    "start_time": "2024-10-06T09:40:21.546Z"
   },
   {
    "duration": 1303,
    "start_time": "2024-10-06T09:40:23.361Z"
   },
   {
    "duration": 2513,
    "start_time": "2024-10-06T09:40:24.665Z"
   },
   {
    "duration": 32,
    "start_time": "2024-10-06T09:40:27.180Z"
   },
   {
    "duration": 19,
    "start_time": "2024-10-06T09:40:27.213Z"
   },
   {
    "duration": 25,
    "start_time": "2024-10-06T09:40:27.233Z"
   },
   {
    "duration": 55,
    "start_time": "2024-10-06T09:40:27.261Z"
   },
   {
    "duration": 889,
    "start_time": "2024-10-06T09:40:27.318Z"
   },
   {
    "duration": 21,
    "start_time": "2024-10-06T09:40:28.209Z"
   },
   {
    "duration": 337,
    "start_time": "2024-10-06T09:40:28.231Z"
   },
   {
    "duration": 21,
    "start_time": "2024-10-06T09:40:28.571Z"
   },
   {
    "duration": 371,
    "start_time": "2024-10-06T09:40:28.605Z"
   },
   {
    "duration": 8,
    "start_time": "2024-10-06T09:40:28.978Z"
   },
   {
    "duration": 17,
    "start_time": "2024-10-06T09:40:28.988Z"
   },
   {
    "duration": 27,
    "start_time": "2024-10-06T09:40:29.008Z"
   },
   {
    "duration": 15,
    "start_time": "2024-10-06T09:40:29.036Z"
   },
   {
    "duration": 16,
    "start_time": "2024-10-06T09:40:29.052Z"
   },
   {
    "duration": 2388,
    "start_time": "2024-10-06T09:41:37.016Z"
   },
   {
    "duration": 2389,
    "start_time": "2024-10-06T09:43:38.376Z"
   },
   {
    "duration": 84,
    "start_time": "2024-10-06T09:45:02.417Z"
   },
   {
    "duration": 900,
    "start_time": "2024-10-06T09:45:39.986Z"
   },
   {
    "duration": 2131,
    "start_time": "2024-10-06T09:46:27.895Z"
   },
   {
    "duration": 8,
    "start_time": "2024-10-06T09:46:59.284Z"
   },
   {
    "duration": 1509,
    "start_time": "2024-10-06T09:48:56.541Z"
   },
   {
    "duration": 181,
    "start_time": "2024-10-06T09:50:13.461Z"
   },
   {
    "duration": 105,
    "start_time": "2024-10-06T09:50:19.019Z"
   },
   {
    "duration": 764,
    "start_time": "2024-10-06T09:50:26.457Z"
   },
   {
    "duration": 2031,
    "start_time": "2024-10-06T09:50:38.657Z"
   },
   {
    "duration": 1900,
    "start_time": "2024-10-06T09:51:22.684Z"
   },
   {
    "duration": 1926,
    "start_time": "2024-10-06T09:51:33.174Z"
   },
   {
    "duration": 2207,
    "start_time": "2024-10-06T09:51:42.790Z"
   },
   {
    "duration": 1381,
    "start_time": "2024-10-06T09:51:53.165Z"
   },
   {
    "duration": 2041,
    "start_time": "2024-10-06T09:52:06.667Z"
   },
   {
    "duration": 77,
    "start_time": "2024-10-06T09:57:41.447Z"
   },
   {
    "duration": 31,
    "start_time": "2024-10-06T09:57:51.942Z"
   },
   {
    "duration": 21,
    "start_time": "2024-10-06T09:58:15.786Z"
   },
   {
    "duration": 302,
    "start_time": "2024-10-06T09:59:08.044Z"
   },
   {
    "duration": 534,
    "start_time": "2024-10-06T09:59:17.344Z"
   },
   {
    "duration": 287,
    "start_time": "2024-10-06T09:59:21.751Z"
   },
   {
    "duration": 487,
    "start_time": "2024-10-06T10:00:18.416Z"
   },
   {
    "duration": 412,
    "start_time": "2024-10-06T10:00:28.329Z"
   },
   {
    "duration": 712,
    "start_time": "2024-10-06T10:00:33.889Z"
   },
   {
    "duration": 523,
    "start_time": "2024-10-06T10:00:40.337Z"
   },
   {
    "duration": 532,
    "start_time": "2024-10-06T10:00:57.688Z"
   },
   {
    "duration": 653,
    "start_time": "2024-10-06T10:01:04.692Z"
   },
   {
    "duration": 769,
    "start_time": "2024-10-06T10:01:11.051Z"
   },
   {
    "duration": 526,
    "start_time": "2024-10-06T10:01:26.617Z"
   },
   {
    "duration": 787,
    "start_time": "2024-10-06T10:01:32.009Z"
   },
   {
    "duration": 1018,
    "start_time": "2024-10-06T10:01:38.436Z"
   },
   {
    "duration": 901,
    "start_time": "2024-10-06T10:01:44.516Z"
   },
   {
    "duration": 440,
    "start_time": "2024-10-06T10:03:30.049Z"
   },
   {
    "duration": 533,
    "start_time": "2024-10-06T10:05:03.697Z"
   },
   {
    "duration": 7,
    "start_time": "2024-10-06T10:05:21.482Z"
   },
   {
    "duration": 13,
    "start_time": "2024-10-06T10:05:26.644Z"
   },
   {
    "duration": 6,
    "start_time": "2024-10-06T10:05:37.201Z"
   },
   {
    "duration": 5,
    "start_time": "2024-10-06T10:05:43.508Z"
   },
   {
    "duration": 11,
    "start_time": "2024-10-06T10:06:04.367Z"
   },
   {
    "duration": 1966,
    "start_time": "2024-10-06T10:07:08.402Z"
   },
   {
    "duration": 2274,
    "start_time": "2024-10-06T10:08:22.563Z"
   },
   {
    "duration": 2328,
    "start_time": "2024-10-06T10:08:43.829Z"
   },
   {
    "duration": 1998,
    "start_time": "2024-10-06T10:08:52.876Z"
   },
   {
    "duration": 675,
    "start_time": "2024-10-06T10:12:47.987Z"
   },
   {
    "duration": 14,
    "start_time": "2024-10-06T10:18:00.102Z"
   },
   {
    "duration": 15,
    "start_time": "2024-10-06T10:25:26.892Z"
   },
   {
    "duration": 248,
    "start_time": "2024-10-06T10:25:46.387Z"
   },
   {
    "duration": 2586,
    "start_time": "2024-10-06T10:25:48.805Z"
   },
   {
    "duration": 4,
    "start_time": "2024-10-06T10:25:51.394Z"
   },
   {
    "duration": 116,
    "start_time": "2024-10-06T10:25:51.400Z"
   },
   {
    "duration": 14,
    "start_time": "2024-10-06T10:25:51.518Z"
   },
   {
    "duration": 4,
    "start_time": "2024-10-06T10:25:51.535Z"
   },
   {
    "duration": 18,
    "start_time": "2024-10-06T10:25:51.541Z"
   },
   {
    "duration": 21,
    "start_time": "2024-10-06T10:25:51.561Z"
   },
   {
    "duration": 11,
    "start_time": "2024-10-06T10:25:51.605Z"
   },
   {
    "duration": 56,
    "start_time": "2024-10-06T10:25:51.618Z"
   },
   {
    "duration": 41,
    "start_time": "2024-10-06T10:25:51.676Z"
   },
   {
    "duration": 7,
    "start_time": "2024-10-06T10:25:51.719Z"
   },
   {
    "duration": 99,
    "start_time": "2024-10-06T10:25:51.728Z"
   },
   {
    "duration": 47,
    "start_time": "2024-10-06T10:25:51.830Z"
   },
   {
    "duration": 9,
    "start_time": "2024-10-06T10:25:51.880Z"
   },
   {
    "duration": 6,
    "start_time": "2024-10-06T10:25:51.891Z"
   },
   {
    "duration": 7,
    "start_time": "2024-10-06T10:25:51.899Z"
   },
   {
    "duration": 8,
    "start_time": "2024-10-06T10:25:51.907Z"
   },
   {
    "duration": 8,
    "start_time": "2024-10-06T10:25:51.916Z"
   },
   {
    "duration": 28,
    "start_time": "2024-10-06T10:25:51.925Z"
   },
   {
    "duration": 7,
    "start_time": "2024-10-06T10:25:51.955Z"
   },
   {
    "duration": 43,
    "start_time": "2024-10-06T10:25:51.963Z"
   },
   {
    "duration": 201,
    "start_time": "2024-10-06T10:25:52.008Z"
   },
   {
    "duration": 163,
    "start_time": "2024-10-06T10:25:52.211Z"
   },
   {
    "duration": 11,
    "start_time": "2024-10-06T10:25:52.376Z"
   },
   {
    "duration": 18,
    "start_time": "2024-10-06T10:25:52.389Z"
   },
   {
    "duration": 8,
    "start_time": "2024-10-06T10:25:52.409Z"
   },
   {
    "duration": 14,
    "start_time": "2024-10-06T10:25:52.419Z"
   },
   {
    "duration": 13,
    "start_time": "2024-10-06T10:25:52.435Z"
   },
   {
    "duration": 94,
    "start_time": "2024-10-06T10:25:52.450Z"
   },
   {
    "duration": 8,
    "start_time": "2024-10-06T10:25:52.545Z"
   },
   {
    "duration": 12,
    "start_time": "2024-10-06T10:25:52.556Z"
   },
   {
    "duration": 30,
    "start_time": "2024-10-06T10:25:52.570Z"
   },
   {
    "duration": 16,
    "start_time": "2024-10-06T10:25:52.602Z"
   },
   {
    "duration": 15,
    "start_time": "2024-10-06T10:25:52.620Z"
   },
   {
    "duration": 1805,
    "start_time": "2024-10-06T10:25:52.637Z"
   },
   {
    "duration": 2139,
    "start_time": "2024-10-06T10:25:54.443Z"
   },
   {
    "duration": 9,
    "start_time": "2024-10-06T10:25:56.584Z"
   },
   {
    "duration": 38,
    "start_time": "2024-10-06T10:25:56.595Z"
   },
   {
    "duration": 19,
    "start_time": "2024-10-06T10:25:56.635Z"
   },
   {
    "duration": 164,
    "start_time": "2024-10-06T10:25:56.655Z"
   },
   {
    "duration": 28,
    "start_time": "2024-10-06T10:25:56.823Z"
   },
   {
    "duration": 529,
    "start_time": "2024-10-06T10:25:56.854Z"
   },
   {
    "duration": 62,
    "start_time": "2024-10-06T10:25:57.385Z"
   },
   {
    "duration": 0,
    "start_time": "2024-10-06T10:25:57.449Z"
   },
   {
    "duration": 0,
    "start_time": "2024-10-06T10:25:57.451Z"
   },
   {
    "duration": 0,
    "start_time": "2024-10-06T10:25:57.452Z"
   },
   {
    "duration": 0,
    "start_time": "2024-10-06T10:25:57.453Z"
   },
   {
    "duration": 0,
    "start_time": "2024-10-06T10:25:57.455Z"
   },
   {
    "duration": 0,
    "start_time": "2024-10-06T10:25:57.456Z"
   },
   {
    "duration": 0,
    "start_time": "2024-10-06T10:25:57.457Z"
   },
   {
    "duration": 0,
    "start_time": "2024-10-06T10:25:57.458Z"
   },
   {
    "duration": 0,
    "start_time": "2024-10-06T10:25:57.459Z"
   },
   {
    "duration": 213,
    "start_time": "2024-10-06T10:26:35.997Z"
   },
   {
    "duration": 205,
    "start_time": "2024-10-06T10:35:04.038Z"
   },
   {
    "duration": 229,
    "start_time": "2024-10-06T10:35:12.935Z"
   },
   {
    "duration": 198,
    "start_time": "2024-10-06T10:35:40.716Z"
   },
   {
    "duration": 11,
    "start_time": "2024-10-06T10:39:54.180Z"
   },
   {
    "duration": 9,
    "start_time": "2024-10-06T10:41:01.015Z"
   },
   {
    "duration": 2725,
    "start_time": "2024-10-06T10:46:52.320Z"
   },
   {
    "duration": 4,
    "start_time": "2024-10-06T10:46:55.048Z"
   },
   {
    "duration": 58,
    "start_time": "2024-10-06T10:46:55.054Z"
   },
   {
    "duration": 16,
    "start_time": "2024-10-06T10:46:55.113Z"
   },
   {
    "duration": 8,
    "start_time": "2024-10-06T10:46:55.131Z"
   },
   {
    "duration": 16,
    "start_time": "2024-10-06T10:46:55.141Z"
   },
   {
    "duration": 14,
    "start_time": "2024-10-06T10:46:55.159Z"
   },
   {
    "duration": 32,
    "start_time": "2024-10-06T10:46:55.175Z"
   },
   {
    "duration": 34,
    "start_time": "2024-10-06T10:46:55.209Z"
   },
   {
    "duration": 19,
    "start_time": "2024-10-06T10:46:55.245Z"
   },
   {
    "duration": 8,
    "start_time": "2024-10-06T10:46:55.266Z"
   },
   {
    "duration": 31,
    "start_time": "2024-10-06T10:46:55.276Z"
   },
   {
    "duration": 53,
    "start_time": "2024-10-06T10:46:55.309Z"
   },
   {
    "duration": 9,
    "start_time": "2024-10-06T10:46:55.365Z"
   },
   {
    "duration": 15,
    "start_time": "2024-10-06T10:46:55.375Z"
   },
   {
    "duration": 19,
    "start_time": "2024-10-06T10:46:55.392Z"
   },
   {
    "duration": 11,
    "start_time": "2024-10-06T10:46:55.413Z"
   },
   {
    "duration": 8,
    "start_time": "2024-10-06T10:46:55.426Z"
   },
   {
    "duration": 17,
    "start_time": "2024-10-06T10:46:55.436Z"
   },
   {
    "duration": 64,
    "start_time": "2024-10-06T10:46:55.455Z"
   },
   {
    "duration": 35,
    "start_time": "2024-10-06T10:46:55.521Z"
   },
   {
    "duration": 171,
    "start_time": "2024-10-06T10:46:55.558Z"
   },
   {
    "duration": 176,
    "start_time": "2024-10-06T10:46:55.731Z"
   },
   {
    "duration": 12,
    "start_time": "2024-10-06T10:46:55.910Z"
   },
   {
    "duration": 4,
    "start_time": "2024-10-06T10:46:55.923Z"
   },
   {
    "duration": 13,
    "start_time": "2024-10-06T10:46:55.929Z"
   },
   {
    "duration": 23,
    "start_time": "2024-10-06T10:46:55.945Z"
   },
   {
    "duration": 49,
    "start_time": "2024-10-06T10:46:55.970Z"
   },
   {
    "duration": 16,
    "start_time": "2024-10-06T10:46:56.021Z"
   },
   {
    "duration": 28,
    "start_time": "2024-10-06T10:46:56.039Z"
   },
   {
    "duration": 28,
    "start_time": "2024-10-06T10:46:56.073Z"
   },
   {
    "duration": 43,
    "start_time": "2024-10-06T10:46:56.103Z"
   },
   {
    "duration": 16,
    "start_time": "2024-10-06T10:46:56.148Z"
   },
   {
    "duration": 11,
    "start_time": "2024-10-06T10:46:56.166Z"
   },
   {
    "duration": 1533,
    "start_time": "2024-10-06T10:46:56.179Z"
   },
   {
    "duration": 2163,
    "start_time": "2024-10-06T10:46:57.714Z"
   },
   {
    "duration": 11,
    "start_time": "2024-10-06T10:46:59.879Z"
   },
   {
    "duration": 30,
    "start_time": "2024-10-06T10:46:59.892Z"
   },
   {
    "duration": 18,
    "start_time": "2024-10-06T10:46:59.923Z"
   },
   {
    "duration": 23,
    "start_time": "2024-10-06T10:46:59.943Z"
   },
   {
    "duration": 62,
    "start_time": "2024-10-06T10:46:59.971Z"
   },
   {
    "duration": 536,
    "start_time": "2024-10-06T10:47:00.035Z"
   },
   {
    "duration": 336,
    "start_time": "2024-10-06T10:47:00.573Z"
   },
   {
    "duration": 110,
    "start_time": "2024-10-06T10:47:00.911Z"
   },
   {
    "duration": 371,
    "start_time": "2024-10-06T10:47:01.023Z"
   },
   {
    "duration": 26,
    "start_time": "2024-10-06T10:47:01.396Z"
   },
   {
    "duration": 385,
    "start_time": "2024-10-06T10:47:01.423Z"
   },
   {
    "duration": 6,
    "start_time": "2024-10-06T10:47:01.810Z"
   },
   {
    "duration": 140,
    "start_time": "2024-10-06T10:47:01.818Z"
   },
   {
    "duration": 59,
    "start_time": "2024-10-06T10:47:01.960Z"
   },
   {
    "duration": 25,
    "start_time": "2024-10-06T10:47:02.021Z"
   },
   {
    "duration": 16,
    "start_time": "2024-10-06T10:47:02.048Z"
   }
  ],
  "kernelspec": {
   "display_name": "Python 3 (ipykernel)",
   "language": "python",
   "name": "python3"
  },
  "language_info": {
   "codemirror_mode": {
    "name": "ipython",
    "version": 3
   },
   "file_extension": ".py",
   "mimetype": "text/x-python",
   "name": "python",
   "nbconvert_exporter": "python",
   "pygments_lexer": "ipython3",
   "version": "3.9.5"
  },
  "toc": {
   "base_numbering": 1,
   "nav_menu": {},
   "number_sections": true,
   "sideBar": true,
   "skip_h1_title": true,
   "title_cell": "Table of Contents",
   "title_sidebar": "Contents",
   "toc_cell": false,
   "toc_position": {},
   "toc_section_display": true,
   "toc_window_display": true
  }
 },
 "nbformat": 4,
 "nbformat_minor": 2
}
